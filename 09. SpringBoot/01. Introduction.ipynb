{
 "cells": [
  {
   "cell_type": "markdown",
   "id": "25907552",
   "metadata": {},
   "source": [
    "<h1>Introduction to Springboot </h1>"
   ]
  },
  {
   "cell_type": "markdown",
   "id": "7c3d04bf",
   "metadata": {},
   "source": [
    "><p>Spring boot is a module of spring framework which is used to create stand-alone, production-grade Spring based Applications with minimum programmer’s efforts. It is developed on top of core spring framework. The main concept behind spring boot is to avoid lot of boilerplate code and configuration to improve development, unit test etc. As in case of creating a new spring application, we have write many XML configurations, server setting, adding dependencies etc. These configuration files are one of the example of boilerplate code. Spring boot avoids all these boilerplate codes.</p>"
   ]
  },
  {
   "cell_type": "markdown",
   "id": "11adf54c",
   "metadata": {},
   "source": [
    "<h2>Spring boot advantages</h2>"
   ]
  },
  {
   "cell_type": "markdown",
   "id": "90aca893",
   "metadata": {},
   "source": [
    "><ol><li>It helps to create stand-alone Spring applications</li><li>Embed Tomcat, Jetty or Undertow directly (no need to deploy WAR files)</li><li>It provide opinionated ‘starter’ POMs to simplify your Maven configuration</li><li>Automatically configure Spring whenever possible</li><li>It provide production-ready features such as metrics, health checks and externalized configuration</li><li>Absolutely&nbsp;no code generation and&nbsp;no requirement for XML configuration</li></ol>"
   ]
  }
 ],
 "metadata": {
  "kernelspec": {
   "display_name": "Java",
   "language": "java",
   "name": "java"
  },
  "language_info": {
   "codemirror_mode": "text/x-java",
   "file_extension": ".java",
   "mimetype": "",
   "name": "Java",
   "nbconverter_exporter": "",
   "version": "1.8.0_121"
  },
  "toc": {
   "base_numbering": 1,
   "nav_menu": {},
   "number_sections": false,
   "sideBar": false,
   "skip_h1_title": false,
   "title_cell": "Table of Contents",
   "title_sidebar": "Contents",
   "toc_cell": false,
   "toc_position": {},
   "toc_section_display": false,
   "toc_window_display": false
  }
 },
 "nbformat": 4,
 "nbformat_minor": 5
}
