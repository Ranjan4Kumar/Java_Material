{
 "cells": [
  {
   "cell_type": "markdown",
   "id": "dd346365",
   "metadata": {},
   "source": [
    "<h1>Spring Boot Change Default Tomcat Port</h1>"
   ]
  },
  {
   "cell_type": "markdown",
   "id": "ea3c7bbd",
   "metadata": {},
   "source": [
    "><p>Default HTTP port in spring boot application is 8080. We can change it by overriding the default port in the application.properties file.</p>"
   ]
  },
  {
   "cell_type": "markdown",
   "id": "47ca68d1",
   "metadata": {},
   "source": [
    "<pre class=\"java\" style=\"font-family:monospace;\">server.<span style=\"color: #006633;\">port</span><span style=\"color: #339933;\">=</span><span style=\"color: #cc66cc;\">7001</span></pre>"
   ]
  }
 ],
 "metadata": {
  "kernelspec": {
   "display_name": "Java",
   "language": "java",
   "name": "java"
  },
  "language_info": {
   "codemirror_mode": "text/x-java",
   "file_extension": ".java",
   "mimetype": "",
   "name": "Java",
   "nbconverter_exporter": "",
   "version": "1.8.0_121"
  },
  "toc": {
   "base_numbering": 1,
   "nav_menu": {},
   "number_sections": false,
   "sideBar": false,
   "skip_h1_title": false,
   "title_cell": "Table of Contents",
   "title_sidebar": "Contents",
   "toc_cell": false,
   "toc_position": {},
   "toc_section_display": false,
   "toc_window_display": false
  }
 },
 "nbformat": 4,
 "nbformat_minor": 5
}
