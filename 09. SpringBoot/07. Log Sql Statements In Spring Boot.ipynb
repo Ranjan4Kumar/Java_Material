{
 "cells": [
  {
   "cell_type": "markdown",
   "id": "34f3d2d2",
   "metadata": {},
   "source": [
    "<h1>Log Sql Statements In Spring Boot</h1>"
   ]
  },
  {
   "cell_type": "markdown",
   "id": "7a51ef97",
   "metadata": {},
   "source": [
    "><p>We can log sql statements in spring boot by using following properties in application.properties file.</p>"
   ]
  },
  {
   "cell_type": "markdown",
   "id": "7414d91e",
   "metadata": {},
   "source": [
    "<pre>//It will shows sql statement in the logs\n",
    "logging.level.org.hibernate.SQL=debug\n",
    " \n",
    "//It will shows sql values in the logs\n",
    "logging.level.org.hibernate.type.descriptor.sql=trace\n",
    "</pre>"
   ]
  }
 ],
 "metadata": {
  "kernelspec": {
   "display_name": "Java",
   "language": "java",
   "name": "java"
  },
  "language_info": {
   "codemirror_mode": "text/x-java",
   "file_extension": ".java",
   "mimetype": "",
   "name": "Java",
   "nbconverter_exporter": "",
   "version": "1.8.0_121"
  },
  "toc": {
   "base_numbering": 1,
   "nav_menu": {},
   "number_sections": false,
   "sideBar": false,
   "skip_h1_title": false,
   "title_cell": "Table of Contents",
   "title_sidebar": "Contents",
   "toc_cell": false,
   "toc_position": {},
   "toc_section_display": false,
   "toc_window_display": false
  }
 },
 "nbformat": 4,
 "nbformat_minor": 5
}
