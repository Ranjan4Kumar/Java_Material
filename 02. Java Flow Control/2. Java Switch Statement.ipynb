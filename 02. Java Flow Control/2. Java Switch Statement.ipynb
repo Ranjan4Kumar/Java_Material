{
 "cells": [
  {
   "cell_type": "markdown",
   "id": "02dd908a",
   "metadata": {},
   "source": [
    "<h1>Java switch Statement</h1>"
   ]
  },
  {
   "cell_type": "markdown",
   "id": "96eb3e2e",
   "metadata": {},
   "source": [
    "><p id=\"introduction\">The <code>switch</code> statement allows us to execute a block of code among many alternatives.</p>\n",
    "><p>The syntax of the <code>switch</code> statement in Java is:</p>\n",
    "> <pre>\n",
    "><code>switch (expression) {\n",
    "  case value1:\n",
    "    // code\n",
    "    break;\n",
    "  case value2:\n",
    "    // code\n",
    "    break;\n",
    "  ...\n",
    "  ...\n",
    "  default:\n",
    "    // default statements\n",
    "  }</code></pre>"
   ]
  },
  {
   "cell_type": "markdown",
   "id": "5c2fa7da",
   "metadata": {},
   "source": [
    "><p><strong>How does the switch-case statement work?</strong></p>\n",
    "><p>The <var>expression</var> is evaluated once and compared with the values of each case.</p>\n",
    "><ul><li>If <var>expression</var> matches with <var>value1</var>, the code of <code>case value1</code> are executed. Similarly, the code of <code>case value2</code> is executed if <var>expression</var> matches with <var>value2</var>.</li>\n",
    "\t<li>If there is no match, the code of the <strong>default case</strong> is executed.</li>\n",
    "    \n",
    "<b>Example: "
   ]
  },
  {
   "cell_type": "code",
   "execution_count": 1,
   "id": "0f890548",
   "metadata": {},
   "outputs": [
    {
     "data": {
      "text/plain": [
       "com.twosigma.beaker.javash.bkr559cdfca.Main"
      ]
     },
     "execution_count": 1,
     "metadata": {},
     "output_type": "execute_result"
    }
   ],
   "source": [
    "class Main {\n",
    "  public static void main(String[] args) {\n",
    "\n",
    "    int number = 44;\n",
    "    String size;\n",
    "\n",
    "    // switch statement to check size\n",
    "    switch (number) {\n",
    "\n",
    "      case 29:\n",
    "        size = \"Small\";\n",
    "        break;\n",
    "\n",
    "      case 42:\n",
    "        size = \"Medium\";\n",
    "        break;\n",
    "\n",
    "      // match the value of week\n",
    "      case 44:\n",
    "        size = \"Large\";\n",
    "        break;\n",
    "\n",
    "      case 48:\n",
    "        size = \"Extra Large\";\n",
    "        break;\n",
    "      \n",
    "      default:\n",
    "        size = \"Unknown\";\n",
    "        break;\n",
    "\n",
    "    }\n",
    "    System.out.println(\"Size: \" + size);\n",
    "  }\n",
    "}"
   ]
  },
  {
   "cell_type": "markdown",
   "id": "bebf3faf",
   "metadata": {},
   "source": [
    "><p><strong>Output</strong>:</p>\n",
    "><pre>\n",
    "<samp>Size: Large</samp></pre>"
   ]
  },
  {
   "cell_type": "markdown",
   "id": "eaf9a657",
   "metadata": {},
   "source": [
    "><p>In the above example, we have used the switch statement to find the size. Here, we have a variable <var>number</var>. The variable is compared with the value of each case statement.</p>\n",
    "><p>Since the value matches with <strong>44</strong>, the code of <code>case 44</code> is executed.</p>\n",
    "><pre>\n",
    "><code>size = \"Large\";\n",
    ">break;</code></pre>\n",
    "><p>Here, the <var>size</var> variable is assigned with the value <code>Large</code>.</p>"
   ]
  },
  {
   "cell_type": "markdown",
   "id": "4afb2d70",
   "metadata": {},
   "source": [
    "<h2>break statement in Java switch...case</h2>"
   ]
  },
  {
   "cell_type": "markdown",
   "id": "6e727ad3",
   "metadata": {},
   "source": [
    "><p>Notice that we have been using <code>break</code> in each case block.</p>\n",
    "><pre>\n",
    "><code> ...\n",
    "case 29:\n",
    "  size = \"Small\";\n",
    "  break;\n",
    "...</code></pre>\n",
    "><p>The <code>break</code> statement is used to terminate the <strong>switch-case</strong> statement. If <code>break</code> is not used, all the cases after the matching case are also executed. For example,</p>\n"
   ]
  },
  {
   "cell_type": "code",
   "execution_count": 7,
   "id": "b0ca508f",
   "metadata": {},
   "outputs": [
    {
     "data": {
      "text/plain": [
       "com.twosigma.beaker.javash.bkr559cdfca.Main"
      ]
     },
     "execution_count": 7,
     "metadata": {},
     "output_type": "execute_result"
    }
   ],
   "source": [
    "class Main {\n",
    "  public static void main(String[] args) {\n",
    "\n",
    "    int expression = 2;\n",
    "\n",
    "    // switch statement to check size\n",
    "    switch (expression) {\n",
    "      case 1:\n",
    "        System.out.println(\"Case 1\");\n",
    "\n",
    "        // matching case\n",
    "      case 2:\n",
    "        System.out.println(\"Case 2\");\n",
    "\n",
    "      case 3:\n",
    "        System.out.println(\"Case 3\");\n",
    "\n",
    "      default:\n",
    "        System.out.println(\"Default case\");\n",
    "    }\n",
    "  }\n",
    "}"
   ]
  },
  {
   "cell_type": "markdown",
   "id": "cf017a91",
   "metadata": {},
   "source": [
    "><p><strong>Output</strong>:</p>\n",
    "><pre>\n",
    "<samp>Case 2\n",
    "Case 3      \n",
    "Default case\n",
    "</samp></pre>"
   ]
  },
  {
   "cell_type": "markdown",
   "id": "a4fa5dd7",
   "metadata": {},
   "source": [
    "><p>In the above example, <var>expression</var> matches with <code>case 2</code>. Here, we haven't used the break statement after each case.</p>\n",
    "><p>Hence, all the cases after <code>case 2</code> are also executed.</p>\n",
    "><p>This is why the <code>break</code> statement is needed to terminate the <strong>switch-case</strong> statement after the matching case."
   ]
  },
  {
   "cell_type": "markdown",
   "id": "8677ad78",
   "metadata": {},
   "source": [
    "<hr><h2 id=\"default\">default case in Java switch-case</h2>\n",
    "\n",
    "><p>The switch statement also includes an <strong>optional default case</strong>. It is executed when the expression doesn't match any of the cases.</p>\n",
    "\n",
    "<b>Example:"
   ]
  },
  {
   "cell_type": "code",
   "execution_count": 9,
   "id": "544bde59",
   "metadata": {},
   "outputs": [
    {
     "data": {
      "text/plain": [
       "com.twosigma.beaker.javash.bkr559cdfca.Main"
      ]
     },
     "execution_count": 9,
     "metadata": {},
     "output_type": "execute_result"
    }
   ],
   "source": [
    "class Main {\n",
    "  public static void main(String[] args) {\n",
    "  \n",
    "    int expression = 9;\n",
    "    \n",
    "    switch(expression) {\n",
    "        \n",
    "      case 2:\n",
    "        System.out.println(\"Small Size\");\n",
    "        break;\n",
    "\n",
    "      case 3:\n",
    "        System.out.println(\"Large Size\");\n",
    "        break;\n",
    "            \n",
    "      // default case\n",
    "      default:\n",
    "        System.out.println(\"Unknown Size\");\n",
    "    }\n",
    "  }\n",
    "}"
   ]
  },
  {
   "cell_type": "markdown",
   "id": "0b78ca7a",
   "metadata": {},
   "source": [
    "><p><strong>Output</strong></p>\n",
    "><pre>\n",
    "<samp>Unknown Size</samp></pre>\n",
    "\n",
    "><p>In the above example, we have created a <strong>switch-case</strong> statement. Here, the value of <var>expression</var> doesn't match with any of the cases.</p>\n",
    "><p>Hence, the code inside the <strong>default case</strong> is executed.</p>"
   ]
  }
 ],
 "metadata": {
  "kernelspec": {
   "display_name": "Java",
   "language": "java",
   "name": "java"
  },
  "language_info": {
   "codemirror_mode": "text/x-java",
   "file_extension": ".java",
   "mimetype": "",
   "name": "Java",
   "nbconverter_exporter": "",
   "version": "1.8.0_121"
  },
  "toc": {
   "base_numbering": 1,
   "nav_menu": {},
   "number_sections": false,
   "sideBar": false,
   "skip_h1_title": false,
   "title_cell": "Table of Contents",
   "title_sidebar": "Contents",
   "toc_cell": false,
   "toc_position": {},
   "toc_section_display": false,
   "toc_window_display": false
  }
 },
 "nbformat": 4,
 "nbformat_minor": 5
}
