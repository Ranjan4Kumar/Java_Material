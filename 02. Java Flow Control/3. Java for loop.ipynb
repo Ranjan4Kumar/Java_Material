{
 "cells": [
  {
   "cell_type": "markdown",
   "id": "d566d32a",
   "metadata": {},
   "source": [
    "<h1>Java for Loop</h1>"
   ]
  },
  {
   "cell_type": "markdown",
   "id": "67bceeb7",
   "metadata": {},
   "source": [
    "><p id=\"introduction\">In computer programming, loops are used to repeat a block of code. For example, if you want to show a message 100 times, then rather than typing the same code 100 times, you can use a loop.</p>\n",
    "><p id=\"introduction\">In Java, there are three types of loops.</p>\n",
    "><ul><li id=\"introduction\">for loop</li>\n",
    "><li>while loop</li>\n",
    "><li>do...while loop</li>\n",
    "</ul>\n"
   ]
  },
  {
   "cell_type": "markdown",
   "id": "0984326c",
   "metadata": {},
   "source": [
    "<h2 id=\"for-loop\">Java for Loop</h2>\n",
    "\n",
    "><p>Java <code>for</code> loop is used to run a block of code for a certain number of times. The syntax of <code>for</code> loop is:</p>\n",
    "><pre>\n",
    "<code>for (initialExpression; testExpression; updateExpression) {\n",
    "    // body of the loop\n",
    "}</code></pre>\n",
    "><p>Here,</p>\n",
    "><ol><li>The <strong>initialExpression</strong> initializes and/or declares variables and executes only once.</li>\n",
    "\t<li>The <strong>condition</strong> is evaluated. If the <strong>condition</strong> is <code>true</code>, the body of the <code>for</code> loop is executed.</li>\n",
    "\t<li>The <strong>updateExpression</strong> updates the value of <strong>initialExpression</strong>.</li>\n",
    "\t<li>The <strong>condition</strong> is evaluated again. The process continues until the <strong>condition</strong> is <code>false</code>.</li>\n",
    "</ol>\n",
    "\n",
    "<b>Example:</b> <i>Display a Text Five Times"
   ]
  },
  {
   "cell_type": "code",
   "execution_count": 2,
   "id": "a9570c57",
   "metadata": {},
   "outputs": [
    {
     "name": "stdout",
     "output_type": "stream",
     "text": [
      "Java is fun\n",
      "Java is fun\n",
      "Java is fun\n",
      "Java is fun\n",
      "Java is fun\n"
     ]
    },
    {
     "data": {
      "text/plain": [
       "null"
      ]
     },
     "execution_count": 2,
     "metadata": {},
     "output_type": "execute_result"
    }
   ],
   "source": [
    "\n",
    "    int n = 5;\n",
    "    // for loop  \n",
    "    for (int i = 1; i <= n; ++i) {\n",
    "      System.out.println(\"Java is fun\");\n",
    "    }"
   ]
  },
  {
   "cell_type": "markdown",
   "id": "676e82a2",
   "metadata": {},
   "source": [
    "><p><strong>Output</strong></p>\n",
    "><pre>\n",
    "<samp>Java is fun\n",
    "Java is fun\n",
    "Java is fun\n",
    "Java is fun\n",
    "Java is fun</samp></pre>"
   ]
  },
  {
   "cell_type": "markdown",
   "id": "f3aad587",
   "metadata": {},
   "source": [
    "><p>Here is how this program works.</p>\n",
    "\n",
    "<div class=\"table-responsive\">\n",
    "\t<table align = \"left\"><tbody><tr><th>Iteration</th>\n",
    "\t\t\t\t<th>Variable</th>\n",
    "\t\t\t\t<th>Condition: i &lt;= n</th>\n",
    "\t\t\t\t<th>Action</th>\n",
    "\t\t\t</tr><tr><td>1st</td>\n",
    "\t\t\t\t<td><code>i = 1</code><br><code>n = 5</code></td>\n",
    "\t\t\t\t<td><code>true</code></td>\n",
    "\t\t\t\t<td><samp>Java is fun</samp> is printed.<br><var>i</var> is increased to <strong>2</strong>.</td>\n",
    "\t\t\t</tr><tr><td>2nd</td>\n",
    "\t\t\t\t<td><code>i = 2</code><br><code>n = 5</code></td>\n",
    "\t\t\t\t<td><code>true</code></td>\n",
    "\t\t\t\t<td><samp>Java is fun</samp> is printed.<br><var>i</var> is increased to <strong>3</strong>.</td>\n",
    "\t\t\t</tr><tr><td>3rd</td>\n",
    "\t\t\t\t<td><code>i = 3</code><br><code>n = 5</code></td>\n",
    "\t\t\t\t<td><code>true</code></td>\n",
    "\t\t\t\t<td><samp>Java is fun</samp> is printed.<br><var>i</var> is increased to <strong>4</strong>.</td>\n",
    "\t\t\t</tr><tr><td>4th</td>\n",
    "\t\t\t\t<td><code>i = 4</code><br><code>n = 5</code></td>\n",
    "\t\t\t\t<td><code>true</code></td>\n",
    "\t\t\t\t<td><samp>Java is fun</samp> is printed.<br><var>i</var> is increased to <strong>5</strong>.</td>\n",
    "\t\t\t</tr><tr><td>5th</td>\n",
    "\t\t\t\t<td><code>i = 5</code><br><code>n = 5</code></td>\n",
    "\t\t\t\t<td><code>true</code></td>\n",
    "\t\t\t\t<td><samp>Java is fun</samp> is printed.<br><var>i</var> is increased to <strong>6</strong>.</td>\n",
    "\t\t\t</tr><tr><td>6th</td>\n",
    "\t\t\t\t<td><code>i = 6</code><br><code>n = 5</code></td>\n",
    "\t\t\t\t<td><code>false</code></td>\n",
    "\t\t\t\t<td>The loop is terminated.</td>\n",
    "\t\t\t</tr></tbody></table></div>"
   ]
  },
  {
   "cell_type": "markdown",
   "id": "dfc2e216",
   "metadata": {},
   "source": [
    "<b>Example:</b> <i> Display numbers from 1 to 5"
   ]
  },
  {
   "cell_type": "code",
   "execution_count": 4,
   "id": "837de9df",
   "metadata": {},
   "outputs": [
    {
     "name": "stdout",
     "output_type": "stream",
     "text": [
      "1\n",
      "2\n",
      "3\n",
      "4\n",
      "5\n"
     ]
    },
    {
     "data": {
      "text/plain": [
       "null"
      ]
     },
     "execution_count": 4,
     "metadata": {},
     "output_type": "execute_result"
    }
   ],
   "source": [
    "    int n = 5;\n",
    "    // for loop  \n",
    "    for (int i = 1; i <= n; ++i) {\n",
    "      System.out.println(i);\n",
    "    }"
   ]
  },
  {
   "cell_type": "markdown",
   "id": "d586370f",
   "metadata": {},
   "source": [
    "><p><strong>Output</strong></p>\n",
    "><pre>\n",
    "<samp>1\n",
    "2\n",
    "3\n",
    "4\n",
    "5</samp></pre>"
   ]
  },
  {
   "cell_type": "markdown",
   "id": "248754d0",
   "metadata": {},
   "source": [
    "<h3 id=\"infinite\">Java Infinite for Loop</h3>\n",
    "\n",
    "> <p>If we set the <strong>test expression</strong> in such a way that it never evaluates to <code>false</code>, the <code>for</code> loop will run forever. This is called infinite for loop. For example,</p>\n"
   ]
  },
  {
   "cell_type": "code",
   "execution_count": 6,
   "id": "c756e265",
   "metadata": {},
   "outputs": [
    {
     "data": {
      "text/plain": [
       "com.twosigma.beaker.javash.bkrc6e409bd.Infinite"
      ]
     },
     "execution_count": 6,
     "metadata": {},
     "output_type": "execute_result"
    }
   ],
   "source": [
    "class Infinite {\n",
    "    public static void main(String[] args) {\n",
    "      \n",
    "        int sum = 0;\n",
    "\n",
    "        for (int i = 1; i <= 10; --i) {\n",
    "            System.out.println(\"Hello\");\n",
    "        }\n",
    "    }\n",
    "}"
   ]
  },
  {
   "cell_type": "markdown",
   "id": "459eb5e8",
   "metadata": {},
   "source": [
    "><p>Here, the test expression ,<code>i &lt;= 10</code>, is never <code>false</code> and <code>Hello</code> is printed repeatedly until the memory runs out.</p>"
   ]
  },
  {
   "cell_type": "markdown",
   "id": "cd762d55",
   "metadata": {},
   "source": [
    "<h2>Java for-each Loop</h2>\n",
    "\n",
    "><p>The Java for loop has an alternative syntax that makes it easy to iterate through <arrays and collections. For example,</p>\n"
   ]
  },
  {
   "cell_type": "code",
   "execution_count": 7,
   "id": "61e862b3",
   "metadata": {},
   "outputs": [
    {
     "name": "stdout",
     "output_type": "stream",
     "text": [
      "3\n",
      "7\n",
      "5\n",
      "-5\n"
     ]
    },
    {
     "data": {
      "text/plain": [
       "null"
      ]
     },
     "execution_count": 7,
     "metadata": {},
     "output_type": "execute_result"
    }
   ],
   "source": [
    "    // create an array\n",
    "    int[] numbers = {3, 7, 5, -5};\n",
    "    \n",
    "    // iterating through the array \n",
    "    for (int number: numbers) {\n",
    "       System.out.println(number);\n",
    "    }"
   ]
  },
  {
   "cell_type": "markdown",
   "id": "dc929fcd",
   "metadata": {},
   "source": [
    "><p><strong>Output</strong></p>\n",
    "><pre>\n",
    "<samp>3\n",
    "7\n",
    "5\n",
    "-5\n",
    "</samp></pre>"
   ]
  },
  {
   "cell_type": "markdown",
   "id": "313c9517",
   "metadata": {},
   "source": [
    "><p>Here, we have used the <strong>for-each loop</strong> to print each element of the <var>numbers</var> array one by one.</p>\n",
    "><p>In the first iteration of the loop, <var>number</var> will be 3, <var>number</var> will be 7 in second iteration and so on.</p>\n"
   ]
  }
 ],
 "metadata": {
  "kernelspec": {
   "display_name": "Java",
   "language": "java",
   "name": "java"
  },
  "language_info": {
   "codemirror_mode": "text/x-java",
   "file_extension": ".java",
   "mimetype": "",
   "name": "Java",
   "nbconverter_exporter": "",
   "version": "1.8.0_121"
  },
  "toc": {
   "base_numbering": 1,
   "nav_menu": {},
   "number_sections": false,
   "sideBar": false,
   "skip_h1_title": false,
   "title_cell": "Table of Contents",
   "title_sidebar": "Contents",
   "toc_cell": false,
   "toc_position": {},
   "toc_section_display": false,
   "toc_window_display": false
  }
 },
 "nbformat": 4,
 "nbformat_minor": 5
}
