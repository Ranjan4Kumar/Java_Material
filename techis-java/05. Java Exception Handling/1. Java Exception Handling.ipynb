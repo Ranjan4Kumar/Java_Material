{
 "cells": [
  {
   "cell_type": "markdown",
   "id": "cd76c220",
   "metadata": {},
   "source": [
    "<h1>Java Exception Handling</h1>"
   ]
  },
  {
   "cell_type": "markdown",
   "id": "0b076d09",
   "metadata": {},
   "source": [
    "><p>Here's a list of different approaches to handle exceptions in Java.</p>\n",
    "><ul><li>try...catch block</li>\n",
    "\t<li>finally block</li>\n",
    "\t<li>throw and throws keyword</li>\n",
    "</ul>\n",
    "\n",
    "<h2 id=\"try-catch\">1. Java try...catch block</h2>"
   ]
  },
  {
   "cell_type": "markdown",
   "id": "164f127d",
   "metadata": {},
   "source": [
    "><p>The try-catch block is used to handle exceptions in Java. Here's the syntax of <code>try...catch</code> block:</p>\n",
    "><pre>\n",
    "<code>try {\n",
    "  // code\n",
    "}\n",
    "catch(Exception e) {\n",
    "  // code\n",
    "}</code></pre>\n",
    "><p>Here, we have placed the code that might generate an exception inside the <code>try</code> block. Every <code>try</code> block is followed by a <code>catch</code> block.</p>\n",
    "><p>When an exception occurs, it is caught by the <code>catch</code> block. The <code>catch</code> block cannot be used without the <code>try</code> block.</p>\n"
   ]
  },
  {
   "cell_type": "markdown",
   "id": "2e895c5b",
   "metadata": {},
   "source": [
    "<h3>Example: Exception handling using try...catch</h3>\n"
   ]
  },
  {
   "cell_type": "code",
   "execution_count": 1,
   "id": "eee106db",
   "metadata": {},
   "outputs": [
    {
     "data": {
      "text/plain": [
       "com.twosigma.beaker.javash.bkr0dedaebe.Main"
      ]
     },
     "execution_count": 1,
     "metadata": {},
     "output_type": "execute_result"
    }
   ],
   "source": [
    "class Main {\n",
    "  public static void main(String[] args) {\n",
    "\n",
    "    try {\n",
    "\n",
    "      // code that generate exception\n",
    "      int divideByZero = 5 / 0;\n",
    "      System.out.println(\"Rest of code in try block\");\n",
    "    }\n",
    "    \n",
    "    catch (ArithmeticException e) {\n",
    "      System.out.println(\"ArithmeticException => \" + e.getMessage());\n",
    "    }\n",
    "  }\n",
    "}"
   ]
  },
  {
   "cell_type": "markdown",
   "id": "5379d2ec",
   "metadata": {},
   "source": [
    "><p><strong>Output</strong></p>\n",
    "><pre>\n",
    "<samp>ArithmeticException =&gt; / by zero</samp></pre>\n"
   ]
  },
  {
   "cell_type": "markdown",
   "id": "2047c340",
   "metadata": {},
   "source": [
    "><p>In the example, we are trying to divide a number by <code>0</code>. Here, this code generates an exception.</p>\n",
    "><p>To handle the exception, we have put the code, <code>5 / 0</code> inside the <code>try</code> block. Now when an exception occurs, the rest of the code inside the <code>try</code> block is skipped.</p>\n",
    "><p>The <code>catch</code> block catches the exception and statements inside the catch block is executed.</p>\n",
    "><p>If none of the statements in the <code>try</code> block generates an exception, the <code>catch</code> block is skipped.</p>\n"
   ]
  },
  {
   "cell_type": "markdown",
   "id": "04a5c8d0",
   "metadata": {},
   "source": [
    "<h2 id=\"finally\">2. Java finally block</h2>\n",
    "\n",
    "><p>In Java, the <code>finally</code> block is always executed no matter whether there is an exception or not.</p>\n",
    "><p>The <code>finally</code> block is optional. And, for each <code>try</code> block, there can be only one <code>finally</code> block.</p>\n",
    "><p>The basic syntax of <code>finally</code> block is:</p>"
   ]
  },
  {
   "cell_type": "markdown",
   "id": "a7a28a67",
   "metadata": {},
   "source": [
    "><pre>\n",
    "<code>try {\n",
    "  //code\n",
    "}\n",
    "catch (ExceptionType1 e1) { \n",
    "  // catch block\n",
    "}\n",
    "finally {\n",
    "  // finally block always executes\n",
    "}</code></pre>\n",
    "\n",
    "><p>If an exception occurs, the <code>finally</code> block is executed after the <code>try...catch</code> block. Otherwise, it is executed after the try block. For each <code>try</code> block, there can be only one <code>finally</code> block.</p>\n"
   ]
  },
  {
   "cell_type": "markdown",
   "id": "64e27108",
   "metadata": {},
   "source": [
    "<h3>Example: Java Exception Handling using finally block</h3>\n"
   ]
  },
  {
   "cell_type": "code",
   "execution_count": 2,
   "id": "857f2d3f",
   "metadata": {},
   "outputs": [
    {
     "data": {
      "text/plain": [
       "com.twosigma.beaker.javash.bkr0dedaebe.Main"
      ]
     },
     "execution_count": 2,
     "metadata": {},
     "output_type": "execute_result"
    }
   ],
   "source": [
    "class Main {\n",
    "  public static void main(String[] args) {\n",
    "    try {\n",
    "      // code that generates exception\n",
    "      int divideByZero = 5 / 0;\n",
    "    }\n",
    "\n",
    "    catch (ArithmeticException e) {\n",
    "      System.out.println(\"ArithmeticException => \" + e.getMessage());\n",
    "    }\n",
    "    \n",
    "    finally {\n",
    "      System.out.println(\"This is the finally block\");\n",
    "    }\n",
    "  }\n",
    "}"
   ]
  },
  {
   "cell_type": "markdown",
   "id": "0e19caa4",
   "metadata": {},
   "source": [
    "><p><strong>Output</strong></p>\n",
    "><pre>\n",
    "<samp>ArithmeticException =&gt; / by zero\n",
    "This is the finally block</samp></pre>"
   ]
  },
  {
   "cell_type": "markdown",
   "id": "2520c8cf",
   "metadata": {},
   "source": [
    "><p>In the above example, we are dividing a number by <strong>0</strong> inside the <code>try</code> block. Here, this code generates an <code>ArithmeticException</code>.</p>\n",
    "><p>The exception is caught by the <code>catch</code> block. And, then the <code>finally</code> block is executed.</p>\n"
   ]
  },
  {
   "cell_type": "markdown",
   "id": "d8eb58fb",
   "metadata": {},
   "source": [
    "<h2 id=\"throw-throws\">3. Java throw and throws keyword</h2>\n",
    "\n",
    "><p>The Java <code>throw</code> keyword is used to explicitly throw a single exception.</p>\n",
    "><p>When we <code>throw</code> an exception, the flow of the program moves from the <code>try</code> block to the <code>catch</code> block.</p>\n",
    "\n",
    "<h3>Example: Exception handling using Java throw</h3>\n"
   ]
  },
  {
   "cell_type": "code",
   "execution_count": 3,
   "id": "4f4fe66a",
   "metadata": {},
   "outputs": [
    {
     "data": {
      "text/plain": [
       "com.twosigma.beaker.javash.bkr0dedaebe.Main"
      ]
     },
     "execution_count": 3,
     "metadata": {},
     "output_type": "execute_result"
    }
   ],
   "source": [
    "class Main {\n",
    "  public static void divideByZero() {\n",
    "\n",
    "    // throw an exception\n",
    "    throw new ArithmeticException(\"Trying to divide by 0\");\n",
    "  }\n",
    "\n",
    "  public static void main(String[] args) {\n",
    "    divideByZero();\n",
    "  }\n",
    "}"
   ]
  },
  {
   "cell_type": "markdown",
   "id": "5b94b548",
   "metadata": {},
   "source": [
    "><p><strong>Output</strong></p>\n",
    "><pre>\n",
    "<samp>Exception in thread \"main\" java.lang.ArithmeticException: Trying to divide by 0\n",
    "        at Main.divideByZero(Main.java:5)\n",
    "        at Main.main(Main.java:9)</samp></pre>"
   ]
  },
  {
   "cell_type": "markdown",
   "id": "c08e00fb",
   "metadata": {},
   "source": [
    "><p>In the above example, we are explicitly throwing the <code>ArithmeticException</code> using the <code>throw</code> keyword.</p>\n",
    "><p>Similarly, the <code>throws</code> keyword is used to declare the type of exceptions that might occur within the method. It is used in the method declaration.</p>\n"
   ]
  },
  {
   "cell_type": "markdown",
   "id": "c61f82d1",
   "metadata": {},
   "source": [
    "<h3>Example: Java throws keyword</h3>"
   ]
  },
  {
   "cell_type": "code",
   "execution_count": 4,
   "id": "477162b2",
   "metadata": {},
   "outputs": [
    {
     "data": {
      "text/plain": [
       "com.twosigma.beaker.javash.bkr0dedaebe.Main"
      ]
     },
     "execution_count": 4,
     "metadata": {},
     "output_type": "execute_result"
    }
   ],
   "source": [
    "import java.io.*;\n",
    "\n",
    "class Main {\n",
    "  // declareing the type of exception\n",
    "  public static void findFile() throws IOException {\n",
    "\n",
    "    // code that may generate IOException\n",
    "    File newFile = new File(\"test.txt\");\n",
    "    FileInputStream stream = new FileInputStream(newFile);\n",
    "  }\n",
    "\n",
    "  public static void main(String[] args) {\n",
    "    try {\n",
    "      findFile();\n",
    "    }\n",
    "    catch (IOException e) {\n",
    "      System.out.println(e);\n",
    "    }\n",
    "  }\n",
    "}"
   ]
  },
  {
   "cell_type": "markdown",
   "id": "c55cfc8e",
   "metadata": {},
   "source": [
    "><p><strong>Output</strong></p>\n",
    "><pre>\n",
    "<samp>java.io.FileNotFoundException: test.txt (The system cannot find the file specified)</samp></pre>\n",
    "><p>When we run this program, if the file <strong>test.txt</strong> does not exist, <code>FileInputStream</code> throws a <code>FileNotFoundException</code> which extends the <code>IOException</code> class.</p>\n",
    "><p>The <code>findFile()</code> method specifies that an <code>IOException</code> can be thrown. The <code>main()</code> method calls this method and handles the exception if it is thrown.</p>\n",
    "><p>If a method does not handle exceptions, the type of exceptions that may occur within it must be specified in the <code>throws</code> clause.</p>"
   ]
  }
 ],
 "metadata": {
  "kernelspec": {
   "display_name": "Java",
   "language": "java",
   "name": "java"
  },
  "language_info": {
   "codemirror_mode": "text/x-java",
   "file_extension": ".java",
   "mimetype": "",
   "name": "Java",
   "nbconverter_exporter": "",
   "version": "1.8.0_121"
  },
  "toc": {
   "base_numbering": 1,
   "nav_menu": {},
   "number_sections": false,
   "sideBar": false,
   "skip_h1_title": false,
   "title_cell": "Table of Contents",
   "title_sidebar": "Contents",
   "toc_cell": false,
   "toc_position": {},
   "toc_section_display": false,
   "toc_window_display": false
  }
 },
 "nbformat": 4,
 "nbformat_minor": 5
}
