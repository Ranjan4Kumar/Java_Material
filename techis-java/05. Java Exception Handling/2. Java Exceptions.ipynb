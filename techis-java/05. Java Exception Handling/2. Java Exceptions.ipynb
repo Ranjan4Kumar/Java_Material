{
 "cells": [
  {
   "cell_type": "markdown",
   "id": "b114af42",
   "metadata": {},
   "source": [
    "<h1>Java Exceptions</h1>"
   ]
  },
  {
   "cell_type": "markdown",
   "id": "fe397db7",
   "metadata": {},
   "source": [
    "><p id=\"introduction\">An exception is an unexpected event that occurs during program execution. It affects the flow of the program instructions which can cause the program to terminate abnormally.</p>\n",
    "><p>An exception can occur for many reasons. Some of them are:</p>\n",
    "><ul><li>Invalid user input</li>\n",
    "\t<li>Device failure</li>\n",
    "\t<li>Loss of network connection</li>\n",
    "\t<li>Physical limitations (out of disk memory)</li>\n",
    "\t<li>Code errors</li>\n",
    "\t<li>Opening an unavailable file</li>\n",
    "</ul>"
   ]
  },
  {
   "cell_type": "markdown",
   "id": "cd95b846",
   "metadata": {},
   "source": [
    "<h3 id=\"errors\">Errors</h3>\n",
    "\n",
    "><p><strong>Errors</strong> represent irrecoverable conditions such as Java virtual machine (JVM) running out of memory, memory leaks, stack overflow errors, library incompatibility, infinite recursion, etc.</p>\n",
    "><p>Errors are usually beyond the control of the programmer and we should not try to handle errors.</p>\n",
    "\n",
    "<h3 id=\"exceptions\">Exceptions</h3>\n",
    "\n",
    "><p><strong>Exceptions</strong> can be caught and handled by the program.</p>\n",
    "><p>When an exception occurs within a method, it creates an object. This object is called the exception object.</p>\n",
    "><p>It contains information about the exception such as the name and description of the exception and state of the program when the exception occurred.</p>\n",
    "\n"
   ]
  },
  {
   "cell_type": "markdown",
   "id": "449fbf50",
   "metadata": {},
   "source": [
    "<h2 id=\"types\">Java Exception Types</h2>\n",
    "\n",
    "><p>The exception hierarchy also has two branches: <code>RuntimeException</code> and <code>IOException</code>.</p>\n",
    "\n",
    "<h3>1. RuntimeException</h3>\n",
    "\n",
    "><p>A <strong>runtime exception</strong> happens due to a programming error. They are also known as <strong>unchecked exceptions</strong>.</p>\n",
    "><p>These exceptions are not checked at compile-time but run-time. Some of the common runtime exceptions are:</p>\n",
    "><ul><li>Improper use of an API - <code>IllegalArgumentException </code></li>\n",
    "\t<li>Null pointer access (missing the initialization of a variable) - <code>NullPointerException </code></li>\n",
    "\t<li>Out-of-bounds array access - <code>ArrayIndexOutOfBoundsException </code></li>\n",
    "\t<li>Dividing a number by 0 - <code>ArithmeticException </code></li>\n",
    "</ul>\n"
   ]
  },
  {
   "cell_type": "markdown",
   "id": "99228f90",
   "metadata": {},
   "source": [
    "><p>You can think about it in this way. “If it is a runtime exception, it is your fault”.</p>\n",
    "><p>The <code>NullPointerException</code> would not have occurred if you had checked whether the variable was initialized or not before using it.</p>\n",
    "><p>An <code>ArrayIndexOutOfBoundsException</code> would not have occurred if you tested the array index against the array bounds.</p>"
   ]
  },
  {
   "cell_type": "markdown",
   "id": "97ce9754",
   "metadata": {},
   "source": [
    "<h3>2. IOException</h3>\n",
    "\n",
    "><p>An <code>IOException</code> is also known as a <strong>checked exception</strong>. They are checked by the compiler at the compile-time and the programmer is prompted to handle these exceptions.</p>\n",
    "><p>Some of the examples of checked exceptions are:</p>\n",
    "><ul><li>Trying to open a file that doesn’t exist results in <code>FileNotFoundException </code></li>\n",
    "\t<li>Trying to read past the end of a file</li>\n",
    "</ul>"
   ]
  }
 ],
 "metadata": {
  "kernelspec": {
   "display_name": "Java",
   "language": "java",
   "name": "java"
  },
  "language_info": {
   "codemirror_mode": "text/x-java",
   "file_extension": ".java",
   "mimetype": "",
   "name": "Java",
   "nbconverter_exporter": "",
   "version": "1.8.0_121"
  },
  "toc": {
   "base_numbering": 1,
   "nav_menu": {},
   "number_sections": false,
   "sideBar": false,
   "skip_h1_title": false,
   "title_cell": "Table of Contents",
   "title_sidebar": "Contents",
   "toc_cell": false,
   "toc_position": {},
   "toc_section_display": false,
   "toc_window_display": false
  }
 },
 "nbformat": 4,
 "nbformat_minor": 5
}
