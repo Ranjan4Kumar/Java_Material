{
 "cells": [
  {
   "cell_type": "markdown",
   "id": "72cc8074",
   "metadata": {},
   "source": [
    " <h1>Java try...catch</h1>"
   ]
  },
  {
   "cell_type": "markdown",
   "id": "2291a71c",
   "metadata": {},
   "source": [
    "><p id=\"introduction\">The <code>try...catch</code> block in Java is used to handle exceptions and prevents the abnormal termination of the program.</p>\n",
    "><p>Here's the syntax of a <code>try...catch</code> block in Java.</p>\n",
    "><pre>\n",
    "<code>try{\n",
    "  // code\n",
    "}\n",
    "catch(exception) {\n",
    "  // code\n",
    "}</code></pre>\n",
    "><p>The <code>try</code> block includes the code that might generate an exception.</p>\n",
    "><p>The <code>catch</code> block includes the code that is executed when there occurs an exception inside the <code>try</code> block.</p>\n"
   ]
  },
  {
   "cell_type": "markdown",
   "id": "2807a2fe",
   "metadata": {},
   "source": [
    "<h3 id=\"example\">Example: Java try...catch block</h3>\n"
   ]
  },
  {
   "cell_type": "code",
   "execution_count": 1,
   "id": "160f5036",
   "metadata": {},
   "outputs": [
    {
     "data": {
      "text/plain": [
       "com.twosigma.beaker.javash.bkr64b95b3a.Main"
      ]
     },
     "execution_count": 1,
     "metadata": {},
     "output_type": "execute_result"
    }
   ],
   "source": [
    "class Main {\n",
    "  public static void main(String[] args) {\n",
    "\n",
    "    try {\n",
    "      int divideByZero = 5 / 0;\n",
    "      System.out.println(\"Rest of code in try block\");\n",
    "    }\n",
    "\n",
    "    catch (ArithmeticException e) {\n",
    "      System.out.println(\"ArithmeticException => \" + e.getMessage());\n",
    "    }\n",
    "  }\n",
    "}"
   ]
  },
  {
   "cell_type": "markdown",
   "id": "6fabe320",
   "metadata": {},
   "source": [
    "><p><strong>Output</strong></p>\n",
    "><pre>\n",
    "<samp>ArithmeticException =&gt; / by zero</samp></pre>\n"
   ]
  },
  {
   "cell_type": "markdown",
   "id": "970549e5",
   "metadata": {},
   "source": [
    "><p>In the above example, notice the line,</p>\n",
    "><pre>\n",
    "<code>int divideByZero = 5 / 0;</code></pre>\n",
    "><p>Here, we are trying to divide a number by <strong>zero</strong>. In this case, an exception occurs. Hence, we have enclosed this code inside the <code>try</code> block.</p>\n",
    "><p>When the program encounters this code, <code>ArithmeticException</code> occurs. And, the exception is caught by the <code>catch</code> block and executes the code inside the <code>catch</code> block.</p>\n",
    "><p>The <code>catch</code> block is only executed if there exists an exception inside the <code>try</code> block.</p>"
   ]
  },
  {
   "cell_type": "markdown",
   "id": "fc4bdaa1",
   "metadata": {},
   "source": [
    "<h2 id=\"try-finally\">Java try...finally block</h2>\n"
   ]
  },
  {
   "cell_type": "markdown",
   "id": "15ea6215",
   "metadata": {},
   "source": [
    "><p>We can also use the <code>try</code> block along with a finally block.</p>\n",
    "><p>In this case, the finally block is always executed whether there is an exception inside the try block or not.</p>\n",
    "\n",
    "<h3>Example: Java try...finally block</h3>\n"
   ]
  },
  {
   "cell_type": "code",
   "execution_count": 2,
   "id": "08ed977e",
   "metadata": {},
   "outputs": [
    {
     "data": {
      "text/plain": [
       "com.twosigma.beaker.javash.bkr64b95b3a.Main"
      ]
     },
     "execution_count": 2,
     "metadata": {},
     "output_type": "execute_result"
    }
   ],
   "source": [
    "class Main {\n",
    "  public static void main(String[] args) {\n",
    "    try {\n",
    "      int divideByZero = 5 / 0;\n",
    "    }\n",
    "\n",
    "    finally {\n",
    "      System.out.println(\"Finally block is always executed\");\n",
    "    }\n",
    "  }\n",
    "}"
   ]
  },
  {
   "cell_type": "markdown",
   "id": "f5892da5",
   "metadata": {},
   "source": [
    "><p><strong>Output</strong></p>\n",
    "><pre>\n",
    "<samp>Finally block is always executed\n",
    "Exception in thread \"main\" java.lang.ArithmeticException: / by zero\n",
    "        at Main.main(Main.java:4)</samp></pre>"
   ]
  },
  {
   "cell_type": "markdown",
   "id": "4d6f1408",
   "metadata": {},
   "source": [
    "><p>In the above example, we have used the <code>try</code> block along with the <code>finally</code> block. We can see that the code inside the <code>try</code> block is causing an exception.</p>\n",
    "><p>However, the code inside the <code>finally</code> block is executed irrespective of the exception.</p>"
   ]
  },
  {
   "cell_type": "markdown",
   "id": "3640f208",
   "metadata": {},
   "source": [
    "<h2 id=\"try-catch-finally\">Java try...catch...finally block</h2>"
   ]
  },
  {
   "cell_type": "markdown",
   "id": "95fce016",
   "metadata": {},
   "source": [
    "><p>In Java, we can also use the finally block after the <code>try...catch</code> block. For example,</p>"
   ]
  },
  {
   "cell_type": "code",
   "execution_count": 3,
   "id": "70b05e7e",
   "metadata": {},
   "outputs": [
    {
     "data": {
      "text/plain": [
       "com.twosigma.beaker.javash.bkr64b95b3a.ListOfNumbers"
      ]
     },
     "execution_count": 3,
     "metadata": {},
     "output_type": "execute_result"
    }
   ],
   "source": [
    "import java.io.*;\n",
    "\n",
    "class ListOfNumbers {\n",
    "\n",
    "  // create an integer array\n",
    "  private int[] list = {5, 6, 8, 9, 2};\n",
    "\n",
    "  // method to write data from array to a fila\n",
    "  public void writeList() {\n",
    "    PrintWriter out = null;\n",
    "\n",
    "    try {\n",
    "      System.out.println(\"Entering try statement\");\n",
    "\n",
    "      // creating a new file OutputFile.txt\n",
    "      out = new PrintWriter(new FileWriter(\"OutputFile.txt\"));\n",
    "\n",
    "      // writing values from list array to Output.txt\n",
    "      for (int i = 0; i < 7; i++) {\n",
    "        out.println(\"Value at: \" + i + \" = \" + list[i]);\n",
    "      }\n",
    "    }\n",
    "    \n",
    "    catch (Exception e) {\n",
    "      System.out.println(\"Exception => \" + e.getMessage());\n",
    "    }\n",
    "    \n",
    "    finally {\n",
    "      // checking if PrintWriter has been opened\n",
    "      if (out != null) {\n",
    "        System.out.println(\"Closing PrintWriter\");\n",
    "        // close PrintWriter\n",
    "        out.close();\n",
    "      }\n",
    "      \n",
    "      else {\n",
    "        System.out.println(\"PrintWriter not open\");\n",
    "      }\n",
    "    }\n",
    "\n",
    "  }\n",
    "}\n",
    "\n",
    "class Main {\n",
    "  public static void main(String[] args) {\n",
    "    ListOfNumbers list = new ListOfNumbers();\n",
    "    list.writeList();\n",
    "  }\n",
    "}"
   ]
  },
  {
   "cell_type": "markdown",
   "id": "e1dd0938",
   "metadata": {},
   "source": [
    "><p><strong>Output</strong></p>\n",
    "><pre>\n",
    "<samp>Entering try statement\n",
    "Exception =&gt; Index 5 out of bounds for length 5\n",
    "Closing PrintWriter</samp></pre>"
   ]
  },
  {
   "cell_type": "markdown",
   "id": "03816b63",
   "metadata": {},
   "source": [
    "><p>In the above example, we have created an array named <var>list</var> and a file named <var>output.txt</var>. Here, we are trying to read data from the array and storing to the file.</p>\n",
    "><p>Notice the code,</p>\n",
    "><pre>\n",
    "<code>for (int i = 0; i &lt; 7; i++) {\n",
    "  out.println(\"Value at: \" + i + \" = \" + list[i]);\n",
    "}</code></pre>\n",
    "><p>Here, the size of the array is <code>5</code> and the last element of the array is at <code>list[4]</code>. However, we are trying to access elements at <code><em>a[5]</em></code> and <code>a[6]</code>.</p>\n",
    "><p>Hence, the code generates an exception that is caught by the catch block.</p>\n",
    "><p>Since the <code>finally</code> block is always executed, we have included code to close the <code>PrintWriter</code> inside the finally block.</p>\n"
   ]
  },
  {
   "cell_type": "markdown",
   "id": "63d33b78",
   "metadata": {},
   "source": [
    "><p>It is a good practice to use finally block to include important cleanup code like closing a file or connection.</p>\n",
    "><div class=\"note-tip\">\n",
    "\t<p><strong>Note</strong>: There are some cases when a <code>finally</code> block does not execute:</p>\n",
    "\t<ul><li>Use of <code>System.exit()</code> method</li>\n",
    "\t\t<li>An exception occurs in the <code>finally</code> block</li>\n",
    "\t\t<li>The death of a thread</li>\n",
    "\t</ul></div>\n"
   ]
  },
  {
   "cell_type": "markdown",
   "id": "4fd4cdda",
   "metadata": {},
   "source": [
    "<h2 id=\"multiple-catch\">Multiple Catch blocks</h2>"
   ]
  },
  {
   "cell_type": "markdown",
   "id": "1c1dd668",
   "metadata": {},
   "source": [
    "><p>For each <code>try</code> block, there can be zero or more <code>catch</code> blocks. Multiple <code>catch</code> blocks allow us to handle each exception differently.</p>\n",
    "><p>The argument type of each <code>catch</code> block indicates the type of exception that can be handled by it. For example,</p>\n"
   ]
  },
  {
   "cell_type": "code",
   "execution_count": 4,
   "id": "70f3749d",
   "metadata": {},
   "outputs": [
    {
     "data": {
      "text/plain": [
       "com.twosigma.beaker.javash.bkr64b95b3a.ListOfNumbers"
      ]
     },
     "execution_count": 4,
     "metadata": {},
     "output_type": "execute_result"
    }
   ],
   "source": [
    "class ListOfNumbers {\n",
    "  public int[] arr = new int[10];\n",
    "\n",
    "  public void writeList() {\n",
    "\n",
    "    try {\n",
    "      arr[10] = 11;\n",
    "    }\n",
    "    \n",
    "    catch (NumberFormatException e1) {\n",
    "      System.out.println(\"NumberFormatException => \" + e1.getMessage());\n",
    "    }\n",
    "    \n",
    "    catch (IndexOutOfBoundsException e2) {\n",
    "      System.out.println(\"IndexOutOfBoundsException => \" + e2.getMessage());\n",
    "    }\n",
    "\n",
    "  }\n",
    "}\n",
    "\n",
    "class Main {\n",
    "  public static void main(String[] args) {\n",
    "    ListOfNumbers list = new ListOfNumbers();\n",
    "    list.writeList();\n",
    "  }\n",
    "}"
   ]
  },
  {
   "cell_type": "markdown",
   "id": "973367b4",
   "metadata": {},
   "source": [
    "><p><strong>Output</strong></p>\n",
    "><pre>\n",
    "<samp>IndexOutOfBoundsException =&gt; Index 10 out of bounds for length 10</samp></pre>\n"
   ]
  },
  {
   "cell_type": "markdown",
   "id": "a29e773f",
   "metadata": {},
   "source": [
    "><p>In this example, we have created an integer array named <code>arr</code> of size <strong>10</strong>.</p>\n",
    "><p>Since the array index starts from <strong>0</strong>, the last element of the array is at <code>arr[9]</code>. Notice the statement,</p>\n",
    "><pre>\n",
    "<code>arr[10] = 11;</code></pre>\n",
    "><p>Here, we are trying to assign a value to the index <strong>10</strong>. Hence, <code>IndexOutOfBoundException</code> occurs.</p>\n",
    "><p>When an exception occurs in the <code>try</code> block,</p>\n",
    "><ul><li>The exception is thrown to the first <code>catch</code> block. The first <code>catch</code> block does not handle an <code>IndexOutOfBoundsException</code>, so it is passed to the next <code>catch</code> block.</li>\n",
    "\t<li>The second <code>catch</code> block in the above example is the appropriate exception handler because it handles an <code>IndexOutOfBoundsException</code>. Hence, it is executed.</li>\n",
    "</ul><hr><h3 id=\"multiple-exceptions\">Catching Multiple Exceptions</h3>"
   ]
  },
  {
   "cell_type": "markdown",
   "id": "ec4ab23c",
   "metadata": {},
   "source": [
    "><p>From Java SE 7 and later, we can now catch more than one type of exception with one <code>catch</code> block.</p>\n",
    "><p>This reduces code duplication and increases code simplicity and efficiency.</p>\n",
    "><p>Each exception type that can be handled by the <code>catch</code> block is separated using a vertical bar <code>|</code>.</p>\n",
    "><p>Its syntax is:</p>\n",
    "><pre>\n",
    "<code>try {\n",
    "  // code\n",
    "} catch (ExceptionType1 | Exceptiontype2 ex) { \n",
    "  // catch block\n",
    "}</code></pre>"
   ]
  },
  {
   "cell_type": "markdown",
   "id": "acb2e397",
   "metadata": {},
   "source": [
    "<h3 id=\"try-resource\">Java try-with-resources statement</h3>\n",
    "\n",
    "><p>The <strong>try-with-resources</strong> statement is a try statement that has one or more resource declarations.</p>\n",
    "><p>Its syntax is:</p>\n",
    "><pre>\n",
    "<code>try (resource declaration) {\n",
    "  // use of the resource\n",
    "} catch (ExceptionType e1) {\n",
    "  // catch block\n",
    "}</code></pre>\n",
    "><p>The resource is an object to be closed at the end of the program. It must be declared and initialized in the try statement.</p>\n",
    "><p>Let's take an example.</p>\n",
    "><pre>\n",
    "<code>try (PrintWriter out = new PrintWriter(new FileWriter(\"OutputFile.txt\")) {\n",
    "  // use of the resource\n",
    "}</code></pre>\n",
    "><p>The <strong>try-with-resources</strong> statement is also referred to as <strong>automatic resource management</strong>. This statement automatically closes all the resources at the end of the statement.</p>\n"
   ]
  }
 ],
 "metadata": {
  "kernelspec": {
   "display_name": "Java",
   "language": "java",
   "name": "java"
  },
  "language_info": {
   "codemirror_mode": "text/x-java",
   "file_extension": ".java",
   "mimetype": "",
   "name": "Java",
   "nbconverter_exporter": "",
   "version": "1.8.0_121"
  },
  "toc": {
   "base_numbering": 1,
   "nav_menu": {},
   "number_sections": false,
   "sideBar": false,
   "skip_h1_title": false,
   "title_cell": "Table of Contents",
   "title_sidebar": "Contents",
   "toc_cell": false,
   "toc_position": {},
   "toc_section_display": false,
   "toc_window_display": false
  }
 },
 "nbformat": 4,
 "nbformat_minor": 5
}
