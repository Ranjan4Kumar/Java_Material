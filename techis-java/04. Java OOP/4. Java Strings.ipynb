{
 "cells": [
  {
   "cell_type": "markdown",
   "id": "81a860ae",
   "metadata": {},
   "source": [
    " <h1>Java Strings </h1>"
   ]
  },
  {
   "cell_type": "markdown",
   "id": "0ecacad7",
   "metadata": {},
   "source": [
    "><p id=\"introduction\">In Java, a string is a sequence of characters. For example, <var>\"hello\"</var> is a string containing a sequence of characters <var>'h'</var>, <var>'e'</var>, <var>'l'</var>, <var>'l'</var>, and <var>'o'</var>.</p>\n",
    "><p>We use <strong>double quotes</strong> to represent a string in Java. For example,</p>\n",
    "><pre>\n",
    "<code>// create a string\n",
    "String type = \"Java programming\";</code></pre>\n",
    "><p>Here, we have created a string variable named <var>type</var>. The variable is initialized with the string <code>Java Programming</code>.</p>"
   ]
  },
  {
   "cell_type": "markdown",
   "id": "38c61459",
   "metadata": {},
   "source": [
    "<h3 id=\"example\">Example: Create a String in Java</h3>"
   ]
  },
  {
   "cell_type": "code",
   "execution_count": 1,
   "id": "336c8a63",
   "metadata": {},
   "outputs": [
    {
     "data": {
      "text/plain": [
       "com.twosigma.beaker.javash.bkr364457be.Main"
      ]
     },
     "execution_count": 1,
     "metadata": {},
     "output_type": "execute_result"
    }
   ],
   "source": [
    "class Main {\n",
    "  public static void main(String[] args) {\n",
    "    \n",
    "    // create strings\n",
    "    String first = \"Java\";\n",
    "    String second = \"Python\";\n",
    "    String third = \"JavaScript\";\n",
    "\n",
    "    // print strings\n",
    "    System.out.println(first);   // print Java\n",
    "    System.out.println(second);  // print Python\n",
    "    System.out.println(third);   // print JavaScript\n",
    "  }\n",
    "}"
   ]
  },
  {
   "cell_type": "markdown",
   "id": "4f9490ea",
   "metadata": {},
   "source": [
    "><p>In the above example, we have created three strings named <var>first</var>, <var>second</var>, and <var>third</var>. Here, we are directly creating strings like primitive types.</p>\n",
    "><p>However, there is another way of creating Java strings (using the <code>new</code> keyword)."
   ]
  },
  {
   "cell_type": "markdown",
   "id": "1c9a1aa0",
   "metadata": {},
   "source": [
    "><p><strong>Note</strong>: Strings in Java are not primitive types (like <code>int</code>, <code>char</code>, etc). Instead, all strings are objects of a predefined class named <code>String</code>.</p>\n",
    "><p>And, all string variables are instances of the <code>String</code> class.</p>"
   ]
  },
  {
   "cell_type": "markdown",
   "id": "1404ca03",
   "metadata": {},
   "source": [
    "<h2>Java String Operations</h2>\n",
    "\n",
    "><p>Java String provides various methods to perform different operations on strings. We will look into some of the commonly used string operations.</p>\n",
    "\n",
    "<h3 id=\"string-length\">1. Get length of a String</h3>\n",
    "\n",
    "><p>To find the length of a string, we use the <code>length()</code> method of the String. For example,</p>"
   ]
  },
  {
   "cell_type": "code",
   "execution_count": 3,
   "id": "1f57d8eb",
   "metadata": {},
   "outputs": [
    {
     "data": {
      "text/plain": [
       "com.twosigma.beaker.javash.bkr364457be.Main"
      ]
     },
     "execution_count": 3,
     "metadata": {},
     "output_type": "execute_result"
    }
   ],
   "source": [
    "class Main {\n",
    "  public static void main(String[] args) {\n",
    "\n",
    "    // create a string\n",
    "    String greet = \"Hello! World\";\n",
    "    System.out.println(\"String: \" + greet);\n",
    "    int length = greet.length();\n",
    "    System.out.println(\"Length: \" + length);\n",
    "  }\n",
    "}"
   ]
  },
  {
   "cell_type": "markdown",
   "id": "68e40b3c",
   "metadata": {},
   "source": [
    "><p><strong>Output</strong></p>\n",
    "><pre>\n",
    "<samp>String: Hello! World\n",
    "Length: 12</samp></pre>"
   ]
  },
  {
   "cell_type": "markdown",
   "id": "e9f50d36",
   "metadata": {},
   "source": [
    "<h3 id=\"compare-strings\">2. Compare two Strings</h3>\n",
    "\n",
    "><p>In Java, we can make comparisons between two strings using the <code>equals()</code> method. For example,</p>"
   ]
  },
  {
   "cell_type": "code",
   "execution_count": 4,
   "id": "c783df59",
   "metadata": {},
   "outputs": [
    {
     "data": {
      "text/plain": [
       "com.twosigma.beaker.javash.bkr364457be.Main"
      ]
     },
     "execution_count": 4,
     "metadata": {},
     "output_type": "execute_result"
    }
   ],
   "source": [
    "class Main {\n",
    "  public static void main(String[] args) {\n",
    "\n",
    "    // create 3 strings\n",
    "    String first = \"java programming\";\n",
    "    String second = \"java programming\";\n",
    "    String third = \"python programming\";\n",
    "\n",
    "    // compare first and second strings\n",
    "    boolean result1 = first.equals(second);\n",
    "    System.out.println(\"Strings first and second are equal: \" + result1);\n",
    "\n",
    "    // compare first and third strings\n",
    "    boolean result2 = first.equals(third);\n",
    "    System.out.println(\"Strings first and third are equal: \" + result2);\n",
    "  }\n",
    "}"
   ]
  },
  {
   "cell_type": "markdown",
   "id": "11d76add",
   "metadata": {},
   "source": [
    "><p><strong>Output</strong></p>\n",
    "><pre>\n",
    "<samp>Strings first and second are equal: true\n",
    "Strings first and third are equal: false</samp></pre>"
   ]
  },
  {
   "cell_type": "markdown",
   "id": "645a8524",
   "metadata": {},
   "source": [
    "<h2 id=\"immutable-string\">Java Strings are Immutable</h2>\n",
    "\n",
    "><p>In Java, strings are <strong>immutable</strong>. This means, once we create a string, we cannot change that string.</p>\n",
    "><p>To understand it more deeply, consider an example:</p>\n",
    "><pre>\n",
    "<code>// create a string\n",
    "String example = \"Hello! \";</code></pre>\n",
    "><p>Here, we have created a string variable named <var>example</var>. The variable holds the string <var>\"Hello! \"</var>.</p>\n",
    "><p>Now suppose we want to change the string.</p>\n",
    "><pre>\n",
    "<code>// add another string \"World\"\n",
    "// to the previous tring example\n",
    "example = example.concat(\" World\");</code></pre>\n",
    "><p>Here, we are using the <code>concat()</code> method to add another string <var>World</var> to the previous string.</p>\n",
    "><p>It looks like we are able to change the value of the previous string. However, this is not <code>true</code>.</p>\n",
    "><p>Let's see what has happened here,</p>\n",
    "><ol><li>JVM takes the first string <var>\"Hello! \"</var></li>\n",
    "\t<li>creates a new string by adding <var>\"World\"</var> to the first string</li>\n",
    "\t<li>assign the new string <var>\"Hello! World\"</var> to the <var>example</var> variable</li>\n",
    "\t<li>the first string <var>\"Hello! \"</var> remains unchanged</li>\n",
    "</ol>"
   ]
  },
  {
   "cell_type": "markdown",
   "id": "c3f351e1",
   "metadata": {},
   "source": [
    "<h2 id=\"new-keyword\">Creating strings using the new keyword</h2>\n",
    "\n",
    "><p>So far we have created strings like primitive types in Java.</p>\n",
    "><p>Since strings in Java are objects, we can create strings using the <code>new</code> keyword as well. For example,</p>\n",
    "><pre>\n",
    "<code>// create a string using the new keyword\n",
    "String name = new String(\"Java String\");</code></pre>\n",
    "><p>In the above example, we have created a string <var>name</var> using the <code>new</code> keyword.</p>\n",
    "><p>Here, when we create a string object, the <code>String()</code> constructor is invoked.</p>\n"
   ]
  },
  {
   "cell_type": "markdown",
   "id": "3fef40f6",
   "metadata": {},
   "source": [
    "<h3>Example: Create Java Strings using the new keyword</h3>\n"
   ]
  },
  {
   "cell_type": "code",
   "execution_count": 5,
   "id": "f5cff44c",
   "metadata": {},
   "outputs": [
    {
     "data": {
      "text/plain": [
       "com.twosigma.beaker.javash.bkr364457be.Main"
      ]
     },
     "execution_count": 5,
     "metadata": {},
     "output_type": "execute_result"
    }
   ],
   "source": [
    "class Main {\n",
    "  public static void main(String[] args) {\n",
    "\n",
    "    // create a string using new\n",
    "    String name = new String(\"Java String\");\n",
    "\n",
    "    System.out.println(name);  // print Java String\n",
    "  }\n",
    "}"
   ]
  },
  {
   "cell_type": "markdown",
   "id": "91a7555c",
   "metadata": {},
   "source": [
    "<h3 id=\"string-literal-vs-new\">Create String using literals vs new keyword</h3>\n",
    "\n",
    "><p>Now that we know how strings are created using string literals and the <code>new</code> keyword, let's see what is the major difference between them.</p>\n",
    "><p>In Java, the JVM maintains a <strong>string pool</strong> to store all of its strings inside the memory. The string pool helps in reusing the strings.</p>\n",
    "><p>1. While creating strings using string literals,</p>\n",
    "><pre>\n",
    "<code>String example = \"Java\";</code></pre>\n",
    "><p>Here, we are directly providing the value of the string (<code>Java</code>). Hence, the compiler first checks the string pool to see if the string already exists.</p>\n",
    "><ul><li><strong>If the string already exists</strong>, the new string is not created. Instead, the new reference, <var>example</var> points to the already existed string (<code>Java</code>).</li>\n",
    "\t<li><strong>If the string doesn't exist</strong>, the new string (<code>Java</code> is created.</li>\n",
    "</ul>\n"
   ]
  },
  {
   "cell_type": "markdown",
   "id": "44b2f209",
   "metadata": {},
   "source": [
    "><p>2. While creating strings using the new keyword,</p>\n",
    "><pre>\n",
    "<code>String example = new String(\"Java\");</code></pre>\n",
    "><p>Here, the value of the string is not directly provided. Hence, a new <code>\"Java\"</code> string is created even though <code>\"Java\"</code> is already present inside the memory pool.</p>\n"
   ]
  },
  {
   "cell_type": "markdown",
   "id": "961ccbc6",
   "metadata": {},
   "source": [
    "<h2 id=\"string-methods\">Methods of Java String</h2>"
   ]
  },
  {
   "cell_type": "markdown",
   "id": "15641866",
   "metadata": {},
   "source": [
    "<table align = \"left\"><tr><th>Methods</th>\n",
    "<th>Description</th>\n",
    "</tr><tr><td>contains()</a></td>\n",
    "<td>checks whether the string contains a substring</td>\n",
    "</tr><tr><td>substring()</a></td>\n",
    "<td>returns the substring of the string</td>\n",
    "</tr><tr><td>join()</a></td>\n",
    "<td>join the given strings using the delimiter</td>\n",
    "</tr><tr><td>replace()</a></td>\n",
    "<td>replaces the specified old character with the specified new character</td>\n",
    "</tr><tr><td>replaceAll()</a></td>\n",
    "<td>replaces all substrings matching the regex pattern</td>\n",
    "</tr><tr><td>replaceFirst()</a></td>\n",
    "<td>replace the first matching substring</td>\n",
    "</tr><tr><td>charAt()</a></td>\n",
    "<td>returns the character present in the specified location</td>\n",
    "</tr><tr><td>getBytes()</a></td>\n",
    "<td>converts the string to an array of bytes</td>\n",
    "</tr><tr><td>indexOf()</a></td>\n",
    "<td>returns the position of the specified character in the string</td>\n",
    "</tr><tr><td>compareTo()</a></td>\n",
    "<td>compares two strings in the dictionary order</td>\n",
    "</tr><tr><td>compareToIgnoreCase()</a></td>\n",
    "<td>compares two strings ignoring case differences</td>\n",
    "</tr><tr><td>trim()</a></td>\n",
    "<td>removes any leading and trailing whitespaces</td>\n",
    "</tr><tr><td>format()</a></td>\n",
    "<td>returns a formatted string</td>\n",
    "</tr><tr><td>split()</a></td>\n",
    "<td>breaks the string into an array of strings</td>\n",
    "</tr><tr><td>toLowerCase()</a></td>\n",
    "<td>converts the string to lowercase</td>\n",
    "</tr><tr><td>toUpperCase()</a></td>\n",
    "<td>converts the string to uppercase</td>\n",
    "</tr><tr><td>valueOf()</a></td>\n",
    "<td>returns the string representation of the specified argument</td>\n",
    "</tr><tr><td>toCharArray()</a></td>\n",
    "<td>converts the string to a <code>char</code> array</td>\n",
    "</tr><tr><td>matches()</a></td>\n",
    "<td>checks whether the string matches the given regex</td>\n",
    "</tr><tr><td>startsWith()</a></td>\n",
    "<td>checks if the string begins with the given string</td>\n",
    "</tr><tr><td>endsWith()</a></td>\n",
    "<td>checks if the string ends with the given string</td>\n",
    "</tr><tr><td>isEmpty()</a></td>\n",
    "<td>checks whether a string is empty of not</td>\n",
    "</tr><tr><td>intern()</a> </td>\n",
    "<td>returns the canonical representation of the string</td>\n",
    "</tr><tr><td>contentEquals()</a></td>\n",
    "<td>checks whether the string is equal to charSequence</td>\n",
    "</tr><tr><td>hashCode()</a></td>\n",
    "<td>returns a hash code for the string</td>\n",
    "</tr><tr><td>subSequence()</a></td>\n",
    "<td>returns a subsequence from the string</td>\n",
    "</tr></table>"
   ]
  }
 ],
 "metadata": {
  "kernelspec": {
   "display_name": "Java",
   "language": "java",
   "name": "java"
  },
  "language_info": {
   "codemirror_mode": "text/x-java",
   "file_extension": ".java",
   "mimetype": "",
   "name": "Java",
   "nbconverter_exporter": "",
   "version": "1.8.0_121"
  },
  "toc": {
   "base_numbering": 1,
   "nav_menu": {},
   "number_sections": false,
   "sideBar": false,
   "skip_h1_title": false,
   "title_cell": "Table of Contents",
   "title_sidebar": "Contents",
   "toc_cell": false,
   "toc_position": {},
   "toc_section_display": false,
   "toc_window_display": false
  }
 },
 "nbformat": 4,
 "nbformat_minor": 5
}
