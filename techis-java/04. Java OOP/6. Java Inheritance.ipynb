{
 "cells": [
  {
   "cell_type": "markdown",
   "id": "a9f77b73",
   "metadata": {},
   "source": [
    " <h1>Java Inheritance</h1>"
   ]
  },
  {
   "cell_type": "markdown",
   "id": "31122975",
   "metadata": {},
   "source": [
    "><p id=\"introduction\">Inheritance is one of the key features of OOP that allows us to create a new class from an existing class.</p>\n",
    "><p>The new class that is created is known as <strong>subclass</strong> (child or derived class) and the existing class from where the child class is derived is known as <strong>superclass</strong> (parent or base class).</p>\n",
    "><p>The <code>extends</code> keyword is used to perform inheritance in Java. For example,</p>\n",
    "><pre>\n",
    "<code>class Animal {\n",
    "  // methods and fields\n",
    "}\n",
    "// use of extends keyword\n",
    "// to perform inheritance\n",
    "class Dog extends Animal {\n",
    "  // methods and fields of Animal\n",
    "  // methods and fields of Dog\n",
    "}</code></pre>\n",
    "><p>In the above example, the <var>Dog</var> class is created by inheriting the methods and fields from the <var>Animal</var> class.</p>\n",
    "><p>Here, <var>Dog</var> is the subclass and <var>Animal</var> is the superclass.</p>"
   ]
  },
  {
   "cell_type": "markdown",
   "id": "33a01d49",
   "metadata": {},
   "source": [
    "<h3 id=\"example\">Example 1: Java Inheritance</h3>"
   ]
  },
  {
   "cell_type": "code",
   "execution_count": 1,
   "id": "dc7fa2fd",
   "metadata": {},
   "outputs": [
    {
     "data": {
      "text/plain": [
       "com.twosigma.beaker.javash.bkre26e711a.Animal"
      ]
     },
     "execution_count": 1,
     "metadata": {},
     "output_type": "execute_result"
    }
   ],
   "source": [
    "class Animal {\n",
    "\n",
    "  // field and method of the parent class\n",
    "  String name;\n",
    "  public void eat() {\n",
    "    System.out.println(\"I can eat\");\n",
    "  }\n",
    "}\n",
    "\n",
    "// inherit from Animal\n",
    "class Dog extends Animal {\n",
    "\n",
    "  // new method in subclass\n",
    "  public void display() {\n",
    "    System.out.println(\"My name is \" + name);\n",
    "  }\n",
    "}\n",
    "\n",
    "class Main {\n",
    "  public static void main(String[] args) {\n",
    "\n",
    "    // create an object of the subclass\n",
    "    Dog labrador = new Dog();\n",
    "\n",
    "    // access field of superclass\n",
    "    labrador.name = \"Rohu\";\n",
    "    labrador.display();\n",
    "\n",
    "    // call method of superclass\n",
    "    // using object of subclass\n",
    "    labrador.eat();\n",
    "\n",
    "  }\n",
    "}"
   ]
  },
  {
   "cell_type": "markdown",
   "id": "93a9e270",
   "metadata": {},
   "source": [
    "><p><strong>Output</strong></p>\n",
    "><pre>\n",
    "<samp>My name is Rohu\n",
    "I can eat</samp></pre>"
   ]
  },
  {
   "cell_type": "markdown",
   "id": "cf0ba685",
   "metadata": {},
   "source": [
    "><p>In the above example, we have derived a subclass <var>Dog</var> from superclass <var>Animal</var>. Notice the statements,</p>\n",
    "><pre>\n",
    "<code>labrador.name = \"Rohu\";\n",
    "labrador.eat();</code></pre>\n",
    "><p>Here, <var>labrador</var> is an object of <var>Dog</var>. However, <var>name</var> and <code>eat()</code> are the members of the <var>Animal</var> class.</p>\n",
    "><p>Since <var>Dog</var> inherits the field and method from <var>Animal</var>, we are able to access the field and method using the object of the <var>Dog</var>.</p>\n"
   ]
  },
  {
   "cell_type": "markdown",
   "id": "6b912526",
   "metadata": {},
   "source": [
    "<h2 id=\"is-a\">is-a relationship</h2>\n",
    "\n",
    "><p>In Java, inheritance is an <strong>is-a</strong> relationship. That is, we use inheritance only if there exists an is-a relationship between two classes. For example,</p>\n",
    "><ul><li><strong>Car</strong> is a <strong>Vehicle</strong></li>\n",
    "\t<li><strong>Orange</strong> is a <strong>Fruit</strong></li>\n",
    "\t<li><strong>Surgeon</strong> is a <strong>Doctor</strong></li>\n",
    "\t<li><strong>Dog</strong> is an <strong>Animal</strong></li>\n",
    "</ul>\n"
   ]
  },
  {
   "cell_type": "markdown",
   "id": "61a44cd8",
   "metadata": {},
   "source": [
    "><p>Here, <strong>Car</strong> can inherit from <strong>Vehicle</strong>, <strong>Orange</strong> can inherit from <strong>Fruit</strong>, and so on.</p>"
   ]
  },
  {
   "cell_type": "markdown",
   "id": "1a63f95f",
   "metadata": {},
   "source": [
    "<h2 id=\"method-overriding\">Method Overriding in Java Inheritance</h2>\n",
    "\n",
    "><p>In <strong>Example 1</strong>, we see the object of the subclass can access the method of the superclass.</p>\n",
    "><p><strong>However, if the same method is present in both the superclass and subclass, what will happen?</strong></p>\n",
    "><p>In this case, the method in the subclass overrides the method in the superclass. This concept is known as method overriding in Java.</p>\n",
    "\n",
    "<h3>Example 2: Method overriding in Java Inheritance</h3>"
   ]
  },
  {
   "cell_type": "code",
   "execution_count": 2,
   "id": "15e2f6d8",
   "metadata": {},
   "outputs": [
    {
     "data": {
      "text/plain": [
       "com.twosigma.beaker.javash.bkre26e711a.Animal"
      ]
     },
     "execution_count": 2,
     "metadata": {},
     "output_type": "execute_result"
    }
   ],
   "source": [
    "class Animal {\n",
    "\n",
    "  // method in the superclass\n",
    "  public void eat() {\n",
    "    System.out.println(\"I can eat\");\n",
    "  }\n",
    "}\n",
    "\n",
    "// Dog inherits Animal\n",
    "class Dog extends Animal {\n",
    "\n",
    "  // overriding the eat() method\n",
    "  @Override\n",
    "  public void eat() {\n",
    "    System.out.println(\"I eat dog food\");\n",
    "  }\n",
    "\n",
    "  // new method in subclass\n",
    "  public void bark() {\n",
    "    System.out.println(\"I can bark\");\n",
    "  }\n",
    "}\n",
    "\n",
    "class Main {\n",
    "  public static void main(String[] args) {\n",
    "\n",
    "    // create an object of the subclass\n",
    "    Dog labrador = new Dog();\n",
    "\n",
    "    // call the eat() method\n",
    "    labrador.eat();\n",
    "    labrador.bark();\n",
    "  }\n",
    "}"
   ]
  },
  {
   "cell_type": "markdown",
   "id": "670b33a1",
   "metadata": {},
   "source": [
    "><p><strong>Output</strong></p>\n",
    "><pre>\n",
    "<samp>I eat dog food\n",
    "I can bark</samp></pre>"
   ]
  },
  {
   "cell_type": "markdown",
   "id": "69d6b19d",
   "metadata": {},
   "source": [
    "><p>In the above example, the <code>eat()</code> method is present in both the superclass <var>Animal</var> and the subclass <var>Dog</var>.</p>\n",
    "><p>Here, we have created an object <var>labrador</var> of <var>Dog</var>.</p>\n",
    "><p>Now when we call <code>eat()</code> using the object <var>labrador</var>, the method inside <var>Dog</var> is called. This is because the method inside the derived class overrides the method inside the base class.</p>\n",
    "><p>This is called method overriding.</p>"
   ]
  },
  {
   "cell_type": "markdown",
   "id": "6f84f5b0",
   "metadata": {},
   "source": [
    "<h2 id=\"super\">super Keyword in Java Inheritance</h2>\n",
    "\n",
    "><p>Previously we saw that the same method in the subclass overrides the method in superclass.</p>\n",
    "><p>In such a situation, the <code>super</code> keyword is used to call the method of the parent class from the method of the child class.</p>\n",
    "\n",
    "<h3>Example 3: super Keyword in Inheritance</h3>\n"
   ]
  },
  {
   "cell_type": "code",
   "execution_count": 3,
   "id": "54d938d3",
   "metadata": {},
   "outputs": [
    {
     "data": {
      "text/plain": [
       "com.twosigma.beaker.javash.bkre26e711a.Animal"
      ]
     },
     "execution_count": 3,
     "metadata": {},
     "output_type": "execute_result"
    }
   ],
   "source": [
    "class Animal {\n",
    "\n",
    "  // method in the superclass\n",
    "  public void eat() {\n",
    "    System.out.println(\"I can eat\");\n",
    "  }\n",
    "}\n",
    "\n",
    "// Dog inherits Animal\n",
    "class Dog extends Animal {\n",
    "\n",
    "  // overriding the eat() method\n",
    "  @Override\n",
    "  public void eat() {\n",
    "\n",
    "    // call method of superclass\n",
    "    super.eat();\n",
    "    System.out.println(\"I eat dog food\");\n",
    "  }\n",
    "\n",
    "  // new method in subclass\n",
    "  public void bark() {\n",
    "    System.out.println(\"I can bark\");\n",
    "  }\n",
    "}\n",
    "\n",
    "class Main {\n",
    "  public static void main(String[] args) {\n",
    "\n",
    "    // create an object of the subclass\n",
    "    Dog labrador = new Dog();\n",
    "\n",
    "    // call the eat() method\n",
    "    labrador.eat();\n",
    "    labrador.bark();\n",
    "  }\n",
    "}"
   ]
  },
  {
   "cell_type": "markdown",
   "id": "ad253c74",
   "metadata": {},
   "source": [
    "><p><strong>Output</strong></p>\n",
    "><pre>\n",
    "<samp>I can eat\n",
    "I eat dog food\n",
    "I can bark </samp></pre>\n",
    "\n",
    "><p>In the above example, the <code>eat()</code> method is present in both the base class <var>Animal</var> and the derived class <var>Dog</var>. Notice the statement,</p>\n",
    "><pre>\n",
    "<code>super.eat();</code></pre>\n",
    "><p>Here, the <code>super</code> keyword is used to call the <code>eat()</code> method present in the superclass.</p>\n",
    "><p>We can also use the <code>super</code> keyword to call the constructor of the superclass from the constructor of the subclass.</p>\n"
   ]
  },
  {
   "cell_type": "markdown",
   "id": "67cdc955",
   "metadata": {},
   "source": [
    "<h2 id=\"types\">Types of inheritance</h2>\n",
    "\n",
    "><p>There are five types of inheritance.</p>\n"
   ]
  },
  {
   "cell_type": "markdown",
   "id": "0a5f9353",
   "metadata": {},
   "source": [
    "><h3>1. Single Inheritance</h3>\n",
    "><p>In single inheritance, a single subclass extends from a single superclass.</p>\n",
    "><h3>2. Multilevel Inheritance</h3>\n",
    "><p>In multilevel inheritance, a subclass extends from a superclass and then the same subclass acts as a superclass for another class.</p>\n",
    "><h3>3. Hierarchical Inheritance</h3>\n",
    "><p>In hierarchical inheritance, multiple subclasses extend from a single superclass.</p>\n",
    "><h3>4. Multiple Inheritance</h3>\n",
    "><p>In multiple inheritance, a single subclass extends from multiple superclasses.</p>\n",
    "\n",
    "><p class=\"note-tip\"><strong>Note</strong>: Java doesn't support multiple inheritance. However, we can achieve multiple inheritance using interfaces</p>\n",
    "\n",
    "><h3>5. Hybrid Inheritance</h3>\n",
    "><p>Hybrid inheritance is a combination of two or more types of inheritance.</p>\n"
   ]
  }
 ],
 "metadata": {
  "kernelspec": {
   "display_name": "Java",
   "language": "java",
   "name": "java"
  },
  "language_info": {
   "codemirror_mode": "text/x-java",
   "file_extension": ".java",
   "mimetype": "",
   "name": "Java",
   "nbconverter_exporter": "",
   "version": "1.8.0_121"
  },
  "toc": {
   "base_numbering": 1,
   "nav_menu": {},
   "number_sections": false,
   "sideBar": false,
   "skip_h1_title": false,
   "title_cell": "Table of Contents",
   "title_sidebar": "Contents",
   "toc_cell": false,
   "toc_position": {},
   "toc_section_display": false,
   "toc_window_display": false
  }
 },
 "nbformat": 4,
 "nbformat_minor": 5
}
