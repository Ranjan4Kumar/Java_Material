{
 "cells": [
  {
   "cell_type": "markdown",
   "id": "733df58d",
   "metadata": {},
   "source": [
    " <h1>Java Class and Objects</h1>"
   ]
  },
  {
   "cell_type": "markdown",
   "id": "e20ae98c",
   "metadata": {},
   "source": [
    "><p id=\"introduction\">Java is an object-oriented programming language. The core concept of the object-oriented approach is to break complex problems into smaller objects.</p>\n",
    "><p>An object is any entity that has a <strong>state</strong> and <strong>behavior</strong>. For example, a <var>bicycle</var> is an object. It has</p>\n",
    "><ul><li><strong>States</strong>: idle, first gear, etc</li>\n",
    "\t<li><strong>Behaviors</strong>: braking, accelerating, etc.</li>\n",
    "</ul>"
   ]
  },
  {
   "cell_type": "markdown",
   "id": "56c556ab",
   "metadata": {},
   "source": [
    "<h2 id=\"class\">Java Class</h2>\n",
    "\n",
    "><p>A class is a blueprint for the object. Before we create an object, we first need to define the class.</p>\n",
    "><p>We can think of the class as a sketch (prototype) of a house. It contains all the details about the floors, doors, windows, etc. Based on these descriptions we build the house. House is the object.</p>\n",
    "><p>Since many houses can be made from the same description, we can create many objects from a class.</p>"
   ]
  },
  {
   "cell_type": "markdown",
   "id": "ae57c561",
   "metadata": {},
   "source": [
    "<h2 id=\"create-class\">Create a class in Java</h2>\n",
    "\n",
    "><p>We can create a class in Java using the class keyword. For example,</p>\n",
    "><pre>\n",
    "<code>class ClassName {\n",
    "  // fields\n",
    "  // methods\n",
    "}</code></pre>\n",
    "><p>Here, <var>fields</var> (variables) and <var>methods</var> represent the <strong>state</strong> and <strong>behavior</strong> of the object respectively.</p>\n",
    "><ul><li>fields are used to store data</li>\n",
    "\t<li>methods are used to perform some operations</li>\n",
    "</ul>\n",
    "\n",
    "<b>Example:"
   ]
  },
  {
   "cell_type": "code",
   "execution_count": 1,
   "id": "c21a081a",
   "metadata": {},
   "outputs": [
    {
     "data": {
      "text/plain": [
       "com.twosigma.beaker.javash.bkrcc8e19d5.Bicycle"
      ]
     },
     "execution_count": 1,
     "metadata": {},
     "output_type": "execute_result"
    }
   ],
   "source": [
    "class Bicycle {\n",
    "\n",
    "  // state or field\n",
    "  private int gear = 5;\n",
    "\n",
    "  // behavior or method\n",
    "  public void braking() {\n",
    "    System.out.println(\"Working of Braking\");\n",
    "  }\n",
    "}"
   ]
  },
  {
   "cell_type": "markdown",
   "id": "6852570c",
   "metadata": {},
   "source": [
    "><p>In the above example, we have created a class named <var>Bicycle</var>. It contains a field named <var>gear</var> and a method named <var>braking()</var>.</p>\n",
    "><p>Here, <var>Bicycle</var> is a prototype. Now, we can create any number of bicycles using the prototype. And, all the bicycles will share the fields and methods of the prototype.</p>\n",
    "><p class=\"note-tip\"><strong>Note</strong>: We have used keywords <code>private</code> and <code>public</code>. These are known as access modifiers.</p>\n"
   ]
  },
  {
   "cell_type": "markdown",
   "id": "af8b9d9e",
   "metadata": {},
   "source": [
    "<h2 id=\"objects\">Java Objects</h2>\n",
    "\n",
    "><p>An object is called an instance of a class. For example, suppose <var>Bicycle</var> is a class then <var>MountainBicycle</var>, <var>SportsBicycle</var>, <var>TouringBicycle</var>, etc can be considered as objects of the class.</p>\n"
   ]
  },
  {
   "cell_type": "markdown",
   "id": "ee81a004",
   "metadata": {},
   "source": [
    "<h3>Creating an Object in Java</h3>\n",
    "\n",
    "><p>Here is how we can create an object of a class.</p>\n",
    "><pre>\n",
    "<code>className object = new className();\n",
    "// for Bicycle class\n",
    "Bicycle sportsBicycle = new Bicycle();\n",
    "Bicycle touringBicycle = new Bicycle();</code></pre>\n",
    "><p>We have used the <code>new</code> keyword along with the constructor of the class to create an object. Constructors are similar to methods and have the same name as the class. For example, <code>Bicycle()</code> is the constructor of the <var>Bicycle</var> class.</p>\n"
   ]
  },
  {
   "cell_type": "markdown",
   "id": "6c861b68",
   "metadata": {},
   "source": [
    "><p>Here, <var>sportsBicycle</var> and <var>touringBicycle</var> are the names of objects. We can use them to access fields and methods of the class.</p>\n",
    "><p>As you can see, we have created two objects of the class. We can create multiple objects of a single class in Java.</p>\n",
    "><p class=\"note-tip\"><strong>Note</strong>: Fields and methods of a class are also called members of the class.</p>\n"
   ]
  },
  {
   "cell_type": "markdown",
   "id": "3acd820b",
   "metadata": {},
   "source": [
    "<h2 id=\"access-members\">Access Members of a Class</h2>\n",
    "\n",
    "><p>We can use the name of objects along with the <code>.</code> operator to access members of a class. For example,</p>\n",
    "><pre>\n",
    "><code>class Bicycle {\n",
    "  // field of class\n",
    "  int gear = 5;\n",
    "  // method of class\n",
    "  void braking() {\n",
    "    ...\n",
    "  }\n",
    "}\n",
    "// create object\n",
    "Bicycle sportsBicycle = new Bicycle();\n",
    "// access field and method\n",
    "sportsBicycle.gear;\n",
    "sportsBicycle.braking();</code></pre>\n",
    "\n",
    "><p>In the above example, we have created a class named <var>Bicycle</var>. It includes a field named <var>gear</var> and a method named <code>braking()</code>. Notice the statement,</p>\n",
    "><pre>\n",
    "<code>Bicycle sportsBicycle = new Bicycle();</code></pre>\n",
    "><p>Here, we have created an object of <var>Bicycle</var> named <var>sportsBicycle</var>. We then use the object to access the field and method of the class.</p>\n",
    "> <ul><li><strong>sportsBicycle.gear</strong> - access the field <var>gear</var></li>\n",
    "\t<li><strong>sportsBicycle.braking()</strong> - access the method <code>braking()</code></li>\n",
    "</ul>\n",
    "\n",
    "<b>Example: </b> <i>Java Class and Objects"
   ]
  },
  {
   "cell_type": "code",
   "execution_count": 2,
   "id": "68c2bec6",
   "metadata": {},
   "outputs": [
    {
     "data": {
      "text/plain": [
       "com.twosigma.beaker.javash.bkrcc8e19d5.Lamp"
      ]
     },
     "execution_count": 2,
     "metadata": {},
     "output_type": "execute_result"
    }
   ],
   "source": [
    "class Lamp {\n",
    "  \n",
    "  // stores the value for light\n",
    "  // true if light is on\n",
    "  // false if light is off\n",
    "  boolean isOn;\n",
    "\n",
    "  // method to turn on the light\n",
    "  void turnOn() {\n",
    "    isOn = true;\n",
    "    System.out.println(\"Light on? \" + isOn);\n",
    "\n",
    "  }\n",
    "\n",
    "  // method to turnoff the light\n",
    "  void turnOff() {\n",
    "    isOn = false;\n",
    "    System.out.println(\"Light on? \" + isOn);\n",
    "  }\n",
    "}\n",
    "\n",
    "class Main {\n",
    "  public static void main(String[] args) {\n",
    "\n",
    "    // create objects led and halogen\n",
    "    Lamp led = new Lamp();\n",
    "    Lamp halogen = new Lamp();\n",
    "\n",
    "    // turn on the light by\n",
    "    // calling method turnOn()\n",
    "    led.turnOn();\n",
    "\n",
    "    // turn off the light by\n",
    "    // calling method turnOff()\n",
    "    halogen.turnOff();\n",
    "  }\n",
    "}"
   ]
  },
  {
   "cell_type": "markdown",
   "id": "38c9ffa6",
   "metadata": {},
   "source": [
    "><p><strong>Output</strong>:</p>\n",
    "><pre>\n",
    "<samp>Light on? true\n",
    "Light on? false</samp></pre>"
   ]
  },
  {
   "cell_type": "markdown",
   "id": "570f165a",
   "metadata": {},
   "source": [
    "><p>In the above program, we have created a class named <var>Lamp</var>. It contains a variable: <var>isOn</var> and two methods: <code>turnOn()</code> and <code>turnOff()</code>.</p>\n",
    "><p>Inside the <var>Main</var> class, we have created two objects: <var>led</var> and <var>halogen</var> of the <var>Lamp</var> class. We then used the objects to call the methods of the class.</p>\n",
    "><ul><li><strong>led.turnOn()</strong> - It sets the <var>isOn</var> variable to <code>true</code> and prints the output.</li>\n",
    "\t<li><strong>halogen.turnOff()</strong> - It sets the <var>isOn</var> variable to <code>false</code> and prints the output.</li>\n",
    "</ul>\n"
   ]
  },
  {
   "cell_type": "markdown",
   "id": "a2024e2d",
   "metadata": {},
   "source": [
    "><p>The variable <var>isOn</var> defined inside the class is also called an instance variable. It is because when we create an object of the class, it is called an instance of the class. And, each instance will have its own copy of the variable.</p>\n",
    "><p>That is, <var>led</var> and <var>halogen</var> objects will have their own copy of the <var>isOn</var> variable.</p>"
   ]
  },
  {
   "cell_type": "markdown",
   "id": "58988a80",
   "metadata": {},
   "source": [
    "<h2 id=\"example\">Example: Create objects inside the same class</h2>\n",
    "\n",
    "><p>Note that in the previous example, we have created objects inside another class and accessed the members from that class.</p>\n",
    "><p>However, we can also create objects inside the same class.</p>\n"
   ]
  },
  {
   "cell_type": "code",
   "execution_count": 3,
   "id": "fda96e64",
   "metadata": {},
   "outputs": [
    {
     "data": {
      "text/plain": [
       "com.twosigma.beaker.javash.bkrcc8e19d5.Lamp"
      ]
     },
     "execution_count": 3,
     "metadata": {},
     "output_type": "execute_result"
    }
   ],
   "source": [
    "class Lamp {\n",
    "  \n",
    "  // stores the value for light\n",
    "  // true if light is on\n",
    "  // false if light is off\n",
    "  boolean isOn;\n",
    "\n",
    "  // method to turn on the light\n",
    "  void turnOn() {\n",
    "    isOn = true;\n",
    "    System.out.println(\"Light on? \" + isOn);\n",
    "\n",
    "  }\n",
    "\n",
    "  public static void main(String[] args) {\n",
    "    \n",
    "    // create an object of Lamp\n",
    "    Lamp led = new Lamp();\n",
    "\n",
    "    // access method using object\n",
    "    led.turnOn();\n",
    "  }\n",
    "}"
   ]
  },
  {
   "cell_type": "markdown",
   "id": "e3648aa9",
   "metadata": {},
   "source": [
    "><p><strong>Output</strong></p>\n",
    "><pre>\n",
    "<samp>Light on? true</samp></pre>"
   ]
  }
 ],
 "metadata": {
  "kernelspec": {
   "display_name": "Java",
   "language": "java",
   "name": "java"
  },
  "language_info": {
   "codemirror_mode": "text/x-java",
   "file_extension": ".java",
   "mimetype": "",
   "name": "Java",
   "nbconverter_exporter": "",
   "version": "1.8.0_121"
  },
  "toc": {
   "base_numbering": 1,
   "nav_menu": {},
   "number_sections": false,
   "sideBar": false,
   "skip_h1_title": false,
   "title_cell": "Table of Contents",
   "title_sidebar": "Contents",
   "toc_cell": false,
   "toc_position": {},
   "toc_section_display": false,
   "toc_window_display": false
  }
 },
 "nbformat": 4,
 "nbformat_minor": 5
}
