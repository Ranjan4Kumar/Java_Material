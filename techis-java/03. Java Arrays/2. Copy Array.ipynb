{
 "cells": [
  {
   "cell_type": "markdown",
   "id": "351075dc",
   "metadata": {},
   "source": [
    "<h1>Java Copy Arrays</h1>"
   ]
  },
  {
   "cell_type": "markdown",
   "id": "bbf800e8",
   "metadata": {},
   "source": [
    "><p>In Java, we can copy one array into another. There are several techniques you can use to copy arrays in Java.</p>"
   ]
  },
  {
   "cell_type": "markdown",
   "id": "57cfd46b",
   "metadata": {},
   "source": [
    "<h2 id=\"assignment\">1. Copying Arrays Using Assignment Operator</h2>\n",
    "\n",
    "<b>Example:"
   ]
  },
  {
   "cell_type": "code",
   "execution_count": 1,
   "id": "12581fe7",
   "metadata": {},
   "outputs": [
    {
     "data": {
      "text/plain": [
       "com.twosigma.beaker.javash.bkrdd02a7e8.Main"
      ]
     },
     "execution_count": 1,
     "metadata": {},
     "output_type": "execute_result"
    }
   ],
   "source": [
    "class Main {\n",
    "    public static void main(String[] args) {\n",
    "       \n",
    "        int [] numbers = {1, 2, 3, 4, 5, 6};\n",
    "        int [] positiveNumbers = numbers;    // copying arrays\n",
    "\n",
    "        for (int number: positiveNumbers) {\n",
    "            System.out.print(number + \", \");\n",
    "        }\n",
    "    }\n",
    "}"
   ]
  },
  {
   "cell_type": "markdown",
   "id": "da4ecf07",
   "metadata": {},
   "source": [
    "><p><strong>Output</strong>:</p>\n",
    "><pre>\n",
    "<samp>1, 2, 3, 4, 5, 6</samp></pre>\n",
    "\n",
    "><p>In the above example, we have used the assignment operator (<code>=</code>) to copy an array named <var>numbers</var> to another array named <var>positiveNumbers</var>.</p>\n"
   ]
  },
  {
   "cell_type": "markdown",
   "id": "58deea58",
   "metadata": {},
   "source": [
    "><p>This technique is the easiest one and it works as well. However, there is a problem with this technique. If we change elements of one array, corresponding elements of the other arrays also change. For example,</p>\n"
   ]
  },
  {
   "cell_type": "code",
   "execution_count": 2,
   "id": "16774c41",
   "metadata": {},
   "outputs": [
    {
     "data": {
      "text/plain": [
       "com.twosigma.beaker.javash.bkrdd02a7e8.Main"
      ]
     },
     "execution_count": 2,
     "metadata": {},
     "output_type": "execute_result"
    }
   ],
   "source": [
    "class Main {\n",
    "    public static void main(String[] args) {\n",
    "      \n",
    "        int [] numbers = {1, 2, 3, 4, 5, 6};\n",
    "        int [] positiveNumbers = numbers;    // copying arrays\n",
    "      \n",
    "        // change value of first array\n",
    "        numbers[0] = -1;\n",
    "\n",
    "        // printing the second array\n",
    "        for (int number: positiveNumbers) {\n",
    "            System.out.print(number + \", \");\n",
    "        }\n",
    "    }\n",
    "}"
   ]
  },
  {
   "cell_type": "markdown",
   "id": "f5b0289a",
   "metadata": {},
   "source": [
    "><p><strong>Output</strong>:</p>\n",
    "><pre>\n",
    "<samp>-1, 2, 3, 4, 5, 6</samp></pre>"
   ]
  },
  {
   "cell_type": "markdown",
   "id": "302b27a3",
   "metadata": {},
   "source": [
    "><p>Here, we can see that we have changed one value of the <var>numbers</var> array. When we print the <var>positiveNumbers</var> array, we can see that the same value is also changed.</p>\n",
    "><p>It's because both arrays refer to the same array object. This is because of the shallow copy.</p>\n"
   ]
  },
  {
   "cell_type": "markdown",
   "id": "0c2d1bc9",
   "metadata": {},
   "source": [
    "<h2 id=\"using-loop\">2. Using Looping Construct to Copy Arrays</h2>\n",
    "\n",
    "<b>Example:"
   ]
  },
  {
   "cell_type": "code",
   "execution_count": 3,
   "id": "2e154fef",
   "metadata": {},
   "outputs": [
    {
     "data": {
      "text/plain": [
       "com.twosigma.beaker.javash.bkrdd02a7e8.Main"
      ]
     },
     "execution_count": 3,
     "metadata": {},
     "output_type": "execute_result"
    }
   ],
   "source": [
    "import java.util.Arrays;\n",
    "\n",
    "class Main {\n",
    "    public static void main(String[] args) {\n",
    "      \n",
    "        int [] source = {1, 2, 3, 4, 5, 6};\n",
    "        int [] destination = new int[6];\n",
    "\n",
    "        // iterate and copy elements from source to destination\n",
    "        for (int i = 0; i < source.length; ++i) {\n",
    "            destination[i] = source[i];\n",
    "        }\n",
    "      \n",
    "         // converting array to string\n",
    "        System.out.println(Arrays.toString(destination));\n",
    "    }\n",
    "}"
   ]
  },
  {
   "cell_type": "markdown",
   "id": "dbb7c418",
   "metadata": {},
   "source": [
    "><p><strong>Output</strong>:</p>\n",
    "><pre>\n",
    "[1, 2, 3, 4, 5, 6]</pre>\n"
   ]
  },
  {
   "cell_type": "markdown",
   "id": "f9cd77c0",
   "metadata": {},
   "source": [
    "><p>In the above example, we have used the <code>for</code> loop to iterate through each element of the source array. In each iteration, we are copying elements from the <var>source</var> array to the <var>destination</var> array.</p>\n",
    "><p>Here, the source and destination array refer to different objects (deep copy). Hence, if elements of one array are changed, corresponding elements of another array is unchanged.</p>\n"
   ]
  },
  {
   "cell_type": "markdown",
   "id": "6b7b9564",
   "metadata": {},
   "source": [
    "<h2 id=\"arraycopy\">3. Copying Arrays Using arraycopy() method</h2>"
   ]
  },
  {
   "cell_type": "markdown",
   "id": "0eb7b080",
   "metadata": {},
   "source": [
    "><p>The <code>arraycopy()</code> method allows you to copy a specified portion of the source array to the destination array. For example,</p>\n",
    "><pre>\n",
    "<code>arraycopy(Object src, int srcPos,Object dest, int destPos, int length)</code></pre>"
   ]
  },
  {
   "cell_type": "markdown",
   "id": "5aa1ac94",
   "metadata": {},
   "source": [
    "><p>Here,</p>\n",
    "><ul><li><var>src</var> - source array you want to copy</li>\n",
    "\t<li><var>srcPos</var> - starting position (index) in the source array</li>\n",
    "\t<li><var>dest</var> - destination array where elements will be copied from the source</li>\n",
    "\t<li><var>destPos</var> - starting position (index) in the destination array</li>\n",
    "\t<li><var>length</var> - number of elements to copy</li>\n",
    "</ul>\n",
    "\n",
    "<b>Example:"
   ]
  },
  {
   "cell_type": "code",
   "execution_count": 4,
   "id": "2ff4a4ba",
   "metadata": {},
   "outputs": [
    {
     "data": {
      "text/plain": [
       "com.twosigma.beaker.javash.bkrdd02a7e8.Main"
      ]
     },
     "execution_count": 4,
     "metadata": {},
     "output_type": "execute_result"
    }
   ],
   "source": [
    "import java.util.Arrays;\n",
    "\n",
    "class Main {\n",
    "    public static void main(String[] args) {\n",
    "        int[] n1 = {2, 3, 12, 4, 12, -2};\n",
    "      \n",
    "        int[] n3 = new int[5];\n",
    "\n",
    "        // Creating n2 array of having length of n1 array\n",
    "        int[] n2 = new int[n1.length];\n",
    "      \n",
    "        // copying entire n1 array to n2\n",
    "        System.arraycopy(n1, 0, n2, 0, n1.length);\n",
    "        System.out.println(\"n2 = \" + Arrays.toString(n2));  \n",
    "      \n",
    "        // copying elements from index 2 on n1 array\n",
    "        // copying element to index 1 of n3 array\n",
    "        // 2 elements will be copied\n",
    "        System.arraycopy(n1, 2, n3, 1, 2);\n",
    "        System.out.println(\"n3 = \" + Arrays.toString(n3));  \n",
    "    }\n",
    "}"
   ]
  },
  {
   "cell_type": "markdown",
   "id": "c93bc0a1",
   "metadata": {},
   "source": [
    "><p><strong>Output</strong>:</p>\n",
    "><pre>\n",
    "<samp>n2 = [2, 3, 12, 4, 12, -2]\n",
    "n3 = [0, 12, 4, 0, 0]</samp></pre>"
   ]
  },
  {
   "cell_type": "markdown",
   "id": "cba589ba",
   "metadata": {},
   "source": [
    "><p>In the above example, we have used the <code>arraycopy()</code> method,</p>\n",
    "><ul>\n",
    "    <li><code>System.arraycopy(n1, 0, n2, 0, n1.length)</code> - entire elements from the <var>n1</var> array are copied to <var>n2</var> array</li>\n",
    "    <li><code>System.arraycopy(n1, 2, n3, 1, 2)</code> - <var>2</var> elements of the <var>n1</var> array starting from index <var>2</var> are copied to the index starting from <var>1</var> of the <var>n3</var> array</li>\n",
    "</ul>"
   ]
  },
  {
   "cell_type": "markdown",
   "id": "ac1bf0b4",
   "metadata": {},
   "source": [
    "<h2 id=\"copying-2d\">4. Copying 2d Arrays Using Loop</h2>\n",
    "\n",
    "><p>Similar to the single-dimensional array, we can also copy the 2-dimensional array using the <code>for</code> loop. For example,</p>"
   ]
  },
  {
   "cell_type": "code",
   "execution_count": 6,
   "id": "56fefbfd",
   "metadata": {},
   "outputs": [
    {
     "data": {
      "text/plain": [
       "com.twosigma.beaker.javash.bkrdd02a7e8.Main"
      ]
     },
     "execution_count": 6,
     "metadata": {},
     "output_type": "execute_result"
    }
   ],
   "source": [
    "import java.util.Arrays;\n",
    "\n",
    "class Main {\n",
    "    public static void main(String[] args) {\n",
    "      \n",
    "        int[][] source = {\n",
    "              {1, 2, 3, 4}, \n",
    "              {5, 6},\n",
    "              {0, 2, 42, -4, 5}\n",
    "              };\n",
    "\n",
    "        int[][] destination = new int[source.length][];\n",
    "\n",
    "        for (int i = 0; i < destination.length; ++i) {\n",
    "\n",
    "            // allocating space for each row of destination array\n",
    "            destination[i] = new int[source[i].length];\n",
    "\n",
    "            for (int j = 0; j < destination[i].length; ++j) {\n",
    "                destination[i][j] = source[i][j];\n",
    "            }\n",
    "        }\n",
    "     \n",
    "        // displaying destination array\n",
    "        System.out.println(Arrays.deepToString(destination));  \n",
    "      \n",
    "    }\n",
    "}"
   ]
  },
  {
   "cell_type": "markdown",
   "id": "9c3ebc19",
   "metadata": {},
   "source": [
    "><p><strong>Output</strong>:</p>\n",
    "><pre>\n",
    "<samp>[[1, 2, 3, 4], [5, 6], [0, 2, 42, -4, 5]]</samp></pre>"
   ]
  },
  {
   "cell_type": "markdown",
   "id": "2dfade1a",
   "metadata": {},
   "source": [
    "><p>In the above program, notice the line,</p>\n",
    "><pre>\n",
    "<code>System.out.println(Arrays.deepToString(destination);</code></pre>\n",
    "><p>Here, the <code>deepToString()</code> method is used to provide a better representation of the 2-dimensional array.</p>\n"
   ]
  }
 ],
 "metadata": {
  "kernelspec": {
   "display_name": "Java",
   "language": "java",
   "name": "java"
  },
  "language_info": {
   "codemirror_mode": "text/x-java",
   "file_extension": ".java",
   "mimetype": "",
   "name": "Java",
   "nbconverter_exporter": "",
   "version": "1.8.0_121"
  },
  "toc": {
   "base_numbering": 1,
   "nav_menu": {},
   "number_sections": false,
   "sideBar": false,
   "skip_h1_title": false,
   "title_cell": "Table of Contents",
   "title_sidebar": "Contents",
   "toc_cell": false,
   "toc_position": {},
   "toc_section_display": false,
   "toc_window_display": false
  }
 },
 "nbformat": 4,
 "nbformat_minor": 5
}
