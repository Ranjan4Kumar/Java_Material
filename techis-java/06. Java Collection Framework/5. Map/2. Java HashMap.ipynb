{
 "cells": [
  {
   "cell_type": "markdown",
   "id": "ed55a427",
   "metadata": {},
   "source": [
    "<h1>Java HashMap</h1>"
   ]
  },
  {
   "cell_type": "markdown",
   "id": "75f3b2f6",
   "metadata": {},
   "source": [
    "><p id=\"introduction\">The <code>HashMap</code> class of the Java collections framework provides the functionality of the hash table data structure</a>.</p>\n",
    "><p>It stores elements in <strong>key/value</strong> pairs. Here, <strong>keys</strong> are unique identifiers used to associate each <strong>value</strong> on a map.</p>\n",
    "><p>The <code>HashMap</code> class implements the Map interface.</p>"
   ]
  },
  {
   "cell_type": "markdown",
   "id": "b721b933",
   "metadata": {},
   "source": [
    "<h2 id=\"create\">Create a HashMap</h2>\n",
    "\n",
    "><p>In order to create a hash map, we must import the <code>java.util.HashMap</code> package first. Once we import the package, here is how we can create hashmaps in Java.</p>\n",
    "><pre>\n",
    "<code>// hashMap creation with 8 capacity and 0.6 load factor\n",
    "HashMap&lt;K, V&gt; numbers = new HashMap&lt;&gt;();</code></pre>\n",
    "><p>In the above code, we have created a hashmap named <var>numbers</var>. Here, <strong>K</strong> represents the key type and <strong>V</strong> represents the type of values. For example,</p>\n",
    "><pre>\n",
    "<code>HashMap&lt;String, Integer&gt; numbers = new HashMap&lt;&gt;();</code></pre>\n",
    "><p>Here, the type of <strong>keys</strong> is <code>String</code> and the type of <strong>values</strong> is <code>Integer</code>.</p>"
   ]
  },
  {
   "cell_type": "markdown",
   "id": "8adfea1d",
   "metadata": {},
   "source": [
    "<h3>Example 1: Create HashMap in Java</h3>\n"
   ]
  },
  {
   "cell_type": "code",
   "execution_count": 1,
   "id": "3997d514",
   "metadata": {},
   "outputs": [
    {
     "data": {
      "text/plain": [
       "com.twosigma.beaker.javash.bkrc7ea225a.Main"
      ]
     },
     "execution_count": 1,
     "metadata": {},
     "output_type": "execute_result"
    }
   ],
   "source": [
    "import java.util.HashMap;\n",
    "\n",
    "class Main {\n",
    "  public static void main(String[] args) {\n",
    "\n",
    "    // create a hashmap\n",
    "    HashMap<String, Integer> languages = new HashMap<>();\n",
    "\n",
    "    // add elements to hashmap\n",
    "    languages.put(\"Java\", 8);\n",
    "    languages.put(\"JavaScript\", 1);\n",
    "    languages.put(\"Python\", 3);\n",
    "    System.out.println(\"HashMap: \" + languages);\n",
    "  }\n",
    "}"
   ]
  },
  {
   "cell_type": "markdown",
   "id": "2fc4a371",
   "metadata": {},
   "source": [
    "><p><strong>Output</strong></p>\n",
    "><pre>\n",
    "<samp>HashMap: {Java=8, JavaScript=1, Python=3}</samp></pre>\n",
    "><p>In the above example, we have created a <code>HashMap</code> named <var>languages</var>.</p>\n",
    "><p>Here, we have used the <code>put()</code> method to add elements to the hashmap. We will learn more about the <code>put()</code> method later in this tutorial.</p>\n"
   ]
  },
  {
   "cell_type": "markdown",
   "id": "3b512ba8",
   "metadata": {},
   "source": [
    "<h2>Basic Operations on Java HashMap</h2>\n",
    "\n",
    "><p>The <code>HashMap</code> class provides various methods to perform different operations on hashmaps. We will look at some commonly used arraylist operations in this tutorial:</p>\n",
    "><ul><li>Add elements</li>\n",
    "\t<li>Access elements</li>\n",
    "\t<li>Change elements</li>\n",
    "\t<li>Remove elements</li>\n",
    "</ul>\n",
    "\n",
    "<h3 id=\"add\">1. Add elements to a HashMap</h3>\n",
    "\n",
    "><p>To add a single element to the hashmap, we use the <code>put()</code> method of the <code>HashMap</code> class.</p>\n"
   ]
  },
  {
   "cell_type": "markdown",
   "id": "3b00ebc4",
   "metadata": {},
   "source": [
    "<h3 id=\"access\">2. Access HashMap Elements</h3>\n",
    "\n",
    "><p>We can use the <code>get()</code> method to access the value from the hashmap."
   ]
  },
  {
   "cell_type": "markdown",
   "id": "41a82097",
   "metadata": {},
   "source": [
    "<h3 id=\"change\">3. Change HashMap Value</h3>\n",
    "\n",
    "><p>We can use the <code>replace()</code> method to change the value associated with a key in a hashmap."
   ]
  },
  {
   "cell_type": "markdown",
   "id": "3d7fd336",
   "metadata": {},
   "source": [
    "<h3 id=\"remove\">4. Remove HashMap Elements</h3>\n",
    "\n",
    "><p>To remove elements from a hashmap, we can use the remove() method."
   ]
  },
  {
   "cell_type": "markdown",
   "id": "323a2d1e",
   "metadata": {},
   "source": [
    "<p><b> Example: HashMap Methods"
   ]
  },
  {
   "cell_type": "code",
   "execution_count": 4,
   "id": "911e2e7b",
   "metadata": {},
   "outputs": [
    {
     "data": {
      "text/plain": [
       "com.twosigma.beaker.javash.bkrc7ea225a.Main"
      ]
     },
     "execution_count": 4,
     "metadata": {},
     "output_type": "execute_result"
    }
   ],
   "source": [
    "import java.util.HashMap;\n",
    "\n",
    "class Main {\n",
    "  public static void main(String[] args) {\n",
    "\n",
    "    // create a hashmap\n",
    "    HashMap<String, Integer> numbers = new HashMap<>();\n",
    "\n",
    "    System.out.println(\"Initial HashMap: \" + numbers);\n",
    "    // put() method to add elements\n",
    "    numbers.put(\"One\", 1);\n",
    "    numbers.put(\"Two\", 2);\n",
    "    numbers.put(\"Three\", 3);\n",
    "    System.out.println(\"HashMap after put(): \" + numbers);\n",
    "      \n",
    "    HashMap<Integer, String> languages = new HashMap<>();\n",
    "    languages.put(1, \"Java\");\n",
    "    languages.put(2, \"Python\");\n",
    "    languages.put(3, \"JavaScript\");\n",
    "    System.out.println(\"HashMap: \" + languages);\n",
    "\n",
    "    // get() method to get value\n",
    "    String value = languages.get(1);\n",
    "    System.out.println(\"Value at index 1: \" + value);\n",
    "      \n",
    "      // return set view of keys\n",
    "    // using keySet()\n",
    "    System.out.println(\"Keys: \" + languages.keySet());\n",
    "\n",
    "    // return set view of values\n",
    "    // using values()\n",
    "    System.out.println(\"Values: \" + languages.values());\n",
    "\n",
    "    // return set view of key/value pairs\n",
    "    // using entrySet()\n",
    "    System.out.println(\"Key/Value mappings: \" + languages.entrySet());\n",
    "      \n",
    "      // change element with key 2\n",
    "    languages.replace(2, \"C++\");\n",
    "    System.out.println(\"HashMap using replace(): \" + languages);\n",
    "      \n",
    "      \n",
    "    // remove element associated with key 2\n",
    "    String value1 = languages.remove(2);\n",
    "    System.out.println(\"Removed value: \" + value1);\n",
    "\n",
    "    System.out.println(\"Updated HashMap: \" + languages);\n",
    "  }\n",
    "}"
   ]
  }
 ],
 "metadata": {
  "kernelspec": {
   "display_name": "Java",
   "language": "java",
   "name": "java"
  },
  "language_info": {
   "codemirror_mode": "text/x-java",
   "file_extension": ".java",
   "mimetype": "",
   "name": "Java",
   "nbconverter_exporter": "",
   "version": "1.8.0_121"
  },
  "toc": {
   "base_numbering": 1,
   "nav_menu": {},
   "number_sections": false,
   "sideBar": false,
   "skip_h1_title": false,
   "title_cell": "Table of Contents",
   "title_sidebar": "Contents",
   "toc_cell": false,
   "toc_position": {},
   "toc_section_display": false,
   "toc_window_display": false
  }
 },
 "nbformat": 4,
 "nbformat_minor": 5
}
