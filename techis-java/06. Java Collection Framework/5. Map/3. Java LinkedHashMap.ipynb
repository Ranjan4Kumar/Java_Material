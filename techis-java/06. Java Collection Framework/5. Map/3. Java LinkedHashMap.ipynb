{
 "cells": [
  {
   "cell_type": "markdown",
   "id": "c7824c13",
   "metadata": {},
   "source": [
    "<h1>Java LinkedHashMap</h1>"
   ]
  },
  {
   "cell_type": "markdown",
   "id": "1d971eef",
   "metadata": {},
   "source": [
    "><p>The <code>LinkedHashMap</code> class of the Java collections framework provides the hash table and linked list implementation of the Map interface</a>.</p>\n",
    "><p>The <code>LinkedHashMap</code> interface extends the HashMap</a> class to store its entries in a hash table. It internally maintains a doubly-linked list among all of its entries to order its entries.</p>\n"
   ]
  },
  {
   "cell_type": "markdown",
   "id": "a7232c97",
   "metadata": {},
   "source": [
    "<h2 id=\"create\">Creating a LinkedHashMap</h2>\n",
    "\n",
    "><p>In order to create a linked hashmap, we must import the <code>java.util.LinkedHashMap</code> package first. Once we import the package, here is how we can create linked hashmaps in Java.</p>\n",
    "><pre>\n",
    "<code>// LinkedHashMap with initial capacity 8 and load factor 0.6\n",
    "LinkedHashMap&lt;Key, Value&gt; numbers = new LinkedHashMap&lt;&gt;(8, 0.6f);\n",
    "</code></pre>\n",
    "><p>In the above code, we have created a linked hashmap named <var>numbers</var>.</p>\n",
    "><p>Here,</p>\n",
    "><ul><li><var>Key</var> - a unique identifier used to associate each element (value) in a map</li>\n",
    "\t<li><var>Value</var> - elements associated by the keys in a map</li>\n",
    "</ul>\n",
    "\n",
    "><p>Notice the part <code>new LinkedHashMap&lt;&gt;(8, 0.6)</code>. Here, the first parameter is <strong>capacity</strong> and the second parameter is <strong>loadFactor</strong>.</p>\n",
    "><ul><li><strong>capacity</strong> - The capacity of this linked hashmap is 8. Meaning, it can store 8 entries.</li>\n",
    "\t<li><strong>loadFactor</strong> - The load factor of this linked hashmap is 0.6. This means, whenever our hash map is filled by 60%, the entries are moved to a new hash table of double the size of the original hash table.</li>\n",
    "</ul>\n",
    "\n"
   ]
  },
  {
   "cell_type": "markdown",
   "id": "b9bc9b3b",
   "metadata": {},
   "source": [
    "><p><strong>Default capacity and load factor</strong></p>\n",
    "><p>It's possible to create a linked hashmap without defining its capacity and load factor. For example,</p>\n",
    "><pre>\n",
    "<code>//LinkedHashMap with default capacity and load factor\n",
    "LinkedHashMap&lt;Key, Value&gt; numbers1 = new LinkedHashMap&lt;&gt;();\n",
    "</code></pre>"
   ]
  },
  {
   "cell_type": "markdown",
   "id": "b76c63cc",
   "metadata": {},
   "source": [
    "><p>By default,</p>\n",
    "><ul><li>the capacity of the linked hashmap will be 16</li>\n",
    "\t<li>the load factor will be 0.75</li>\n",
    "</ul>\n"
   ]
  },
  {
   "cell_type": "markdown",
   "id": "3696d1b3",
   "metadata": {},
   "source": [
    "><p><strong>Note</strong>: The <code>LinkedHashMap</code> class also allows us to define the order of its entries. For example</p>\n",
    "><pre>\n",
    "<code>// LinkedHashMap with specified order\n",
    "LinkedHashMap&lt;Key, Value&gt; numbers2 = new LinkedHashMap&lt;&gt;(capacity, loadFactor, accessOrder);\n",
    "</code></pre>\n",
    "><p>Here, <var>accessOrder</var> is a boolean value. Its default value is <code>false</code>. In this case entries in the linked hashmap are ordered on the basis of their insertion order.</p>\n",
    "><p>However, if <code>true</code> is passed as <var>accessOrder</var>, entries in the linked hashmap will be ordered from least-recently accessed to most-recently accessed.</p>"
   ]
  },
  {
   "cell_type": "markdown",
   "id": "03e1d10b",
   "metadata": {},
   "source": [
    "<h2>Methods of LinkedHashMap</h2>\n",
    "\n",
    "><p>The <code>LinkedHashMap</code> class provides methods that allow us to perform various operations on the map.</p>\n",
    "\n",
    "<hr><h2 id=\"insert\">Insert Elements to LinkedHashMap</h2>\n",
    "\n",
    "><ul><li><code>put()</code> - inserts the specified key/value mapping to the map</li>\n",
    "\t<li><code>putAll()</code> - inserts all the entries from the specified map to this map</li>\n",
    "\t<li><code>putIfAbsent()</code> - inserts the specified key/value mapping to the map if the specified key is not present in the map</li>\n",
    "</ul>"
   ]
  },
  {
   "cell_type": "markdown",
   "id": "b11320b5",
   "metadata": {},
   "source": [
    "<h2 id=\"access\">Access LinkedHashMap Elements</h2>\n",
    "\n",
    "><p><strong>1. Using entrySet(), keySet() and values()</strong></p>\n",
    "><ul><li><code>entrySet()</code> - returns a set of all the key/value mapping of the map</li>\n",
    "\t<li><code>keySet()</code> - returns a set of all the keys of the map</li>\n",
    "\t<li><code>values()</code> - returns a set of all the values of the map</li>\n",
    "</ul>"
   ]
  },
  {
   "cell_type": "markdown",
   "id": "e4be1471",
   "metadata": {},
   "source": [
    "><p><strong>2. Using get() and getOrDefault()</strong></p>\n",
    "><ul><li><code>get()</code> - Returns the value associated with the specified key. If the key is not found, it returns <code>null</code>.</li>\n",
    "\t<li><code>getOrDefault()</code> - Returns the value associated with the specified key. If the key is not found, it returns the specified default value.</li>\n",
    "</ul>"
   ]
  },
  {
   "cell_type": "markdown",
   "id": "e89db8dc",
   "metadata": {},
   "source": [
    "<h2 id=\"remove\">Removed LinkedHashMap Elements</h2>\n",
    "\n",
    "><ul><li><code>remove(key)</code> - returns and removes the entry associated with the specified <var>key</var> from the map</li>\n",
    "\t<li><code>remove(key, value)</code> - removes the entry from the map only if the specified <var>key</var> mapped to be the specified <var>value</var> and return a boolean value</li>\n",
    "</ul>"
   ]
  },
  {
   "cell_type": "markdown",
   "id": "c845c315",
   "metadata": {},
   "source": [
    "<b>Example: LinkedHashMap Methods"
   ]
  },
  {
   "cell_type": "code",
   "execution_count": 4,
   "id": "e92a4a37",
   "metadata": {},
   "outputs": [
    {
     "data": {
      "text/plain": [
       "com.twosigma.beaker.javash.bkr560d2fd8.Main"
      ]
     },
     "execution_count": 4,
     "metadata": {},
     "output_type": "execute_result"
    }
   ],
   "source": [
    "\n",
    "import java.util.LinkedHashMap;\n",
    "\n",
    "class Main {\n",
    "    public static void main(String[] args) {\n",
    "        // Creating LinkedHashMap of even numbers\n",
    "        LinkedHashMap<String, Integer> evenNumbers = new LinkedHashMap<>();\n",
    "\n",
    "        // Using put()\n",
    "        evenNumbers.put(\"Two\", 2);\n",
    "        evenNumbers.put(\"Four\", 4);\n",
    "        System.out.println(\"Original LinkedHashMap: \" + evenNumbers);\n",
    "\n",
    "        // Using putIfAbsent()\n",
    "        evenNumbers.putIfAbsent(\"Six\", 6);\n",
    "        System.out.println(\"Updated LinkedHashMap(): \" + evenNumbers);\n",
    "\n",
    "        //Creating LinkedHashMap of numbers\n",
    "        LinkedHashMap<String, Integer> numbers = new LinkedHashMap<>();\n",
    "        numbers.put(\"One\", 1);\n",
    "\n",
    "        // Using putAll()\n",
    "        numbers.putAll(evenNumbers);\n",
    "        System.out.println(\"New LinkedHashMap: \" + numbers);\n",
    "        \n",
    "        // Using entrySet()\n",
    "        System.out.println(\"Key/Value mappings: \" + numbers.entrySet());\n",
    "\n",
    "        // Using keySet()\n",
    "        System.out.println(\"Keys: \" + numbers.keySet());\n",
    "\n",
    "        // Using values()\n",
    "        System.out.println(\"Values: \" + numbers.values());\n",
    "        \n",
    "         // Using get()\n",
    "        int value1 = numbers.get(\"Three\");\n",
    "        System.out.println(\"Returned Number: \" + value1);\n",
    "\n",
    "        // Using getOrDefault()\n",
    "        int value2 = numbers.getOrDefault(\"Five\", 5);\n",
    "        System.out.println(\"Returned Number: \" + value2);\n",
    "        \n",
    "         // remove method with single parameter\n",
    "        int value = numbers.remove(\"Two\");\n",
    "        System.out.println(\"Removed value: \" + value);\n",
    "\n",
    "        // remove method with two parameters\n",
    "        boolean result = numbers.remove(\"Three\", 3);\n",
    "        System.out.println(\"Is the entry Three removed? \" + result);\n",
    "\n",
    "        System.out.println(\"Updated LinkedHashMap: \" + numbers);\n",
    "    }\n",
    "}\n"
   ]
  }
 ],
 "metadata": {
  "kernelspec": {
   "display_name": "Java",
   "language": "java",
   "name": "java"
  },
  "language_info": {
   "codemirror_mode": "text/x-java",
   "file_extension": ".java",
   "mimetype": "",
   "name": "Java",
   "nbconverter_exporter": "",
   "version": "1.8.0_121"
  },
  "toc": {
   "base_numbering": 1,
   "nav_menu": {},
   "number_sections": false,
   "sideBar": false,
   "skip_h1_title": false,
   "title_cell": "Table of Contents",
   "title_sidebar": "Contents",
   "toc_cell": false,
   "toc_position": {},
   "toc_section_display": false,
   "toc_window_display": false
  }
 },
 "nbformat": 4,
 "nbformat_minor": 5
}
