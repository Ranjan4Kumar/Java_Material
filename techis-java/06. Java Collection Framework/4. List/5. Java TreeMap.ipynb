{
 "cells": [
  {
   "cell_type": "markdown",
   "id": "0c093707",
   "metadata": {},
   "source": [
    "<h1>Java TreeMap</h1>"
   ]
  },
  {
   "cell_type": "markdown",
   "id": "87b92f31",
   "metadata": {},
   "source": [
    "<p>The <code>TreeMap</code> class of the Java collections framework provides the tree data structure implementation.</p>"
   ]
  },
  {
   "cell_type": "markdown",
   "id": "1856689c",
   "metadata": {},
   "source": [
    "<h2 id=\"create\">Creating a TreeMap</h2>"
   ]
  },
  {
   "cell_type": "markdown",
   "id": "32c5bd92",
   "metadata": {},
   "source": [
    "<p>In order to create a <code>TreeMap</code>, we must import the <code>java.util.TreeMap</code> package first. Once we import the package, here is how we can create a <code>TreeMap</code> in Java.</p>"
   ]
  },
  {
   "cell_type": "markdown",
   "id": "98be362e",
   "metadata": {},
   "source": [
    "<code class=\"java hljs\">TreeMap&lt;Key, Value&gt; numbers = <span class=\"hljs-keyword\">new</span> TreeMap&lt;&gt;();\n",
    "</code>"
   ]
  },
  {
   "cell_type": "markdown",
   "id": "be9b43ad",
   "metadata": {},
   "source": [
    "<p>In the above code, we have created a <code>TreeMap</code> named <var>numbers</var> without any arguments. In this case, the elements in <code>TreeMap</code> are sorted naturally (ascending order).</p>"
   ]
  },
  {
   "cell_type": "markdown",
   "id": "3203ce94",
   "metadata": {},
   "source": [
    "<p>However, we can customize the sorting of elements by using the <code>Comparator</code> interface. We will learn about it later in this tutorial.</p>"
   ]
  },
  {
   "cell_type": "markdown",
   "id": "87b01c85",
   "metadata": {},
   "source": [
    "<p>Here,</p>"
   ]
  },
  {
   "cell_type": "markdown",
   "id": "43c5ceff",
   "metadata": {},
   "source": [
    "<ul><li><var>Key</var> - a unique identifier used to associate each element (value) in a map</li>\n",
    "\t<li><var>Value</var> - elements associated by keys in a map</li>\n",
    "</ul>"
   ]
  },
  {
   "cell_type": "markdown",
   "id": "7af20308",
   "metadata": {},
   "source": [
    "<h2>Methods of TreeMap</h2>"
   ]
  },
  {
   "cell_type": "markdown",
   "id": "2e6a4ec6",
   "metadata": {},
   "source": [
    "<p>The <code>TreeMap</code> class provides various methods that allow us to perform operations on the map.</p>"
   ]
  },
  {
   "cell_type": "markdown",
   "id": "30361428",
   "metadata": {},
   "source": [
    "<h2 id=\"insert\">Insert Elements to TreeMap</h2>"
   ]
  },
  {
   "cell_type": "markdown",
   "id": "5c36ed23",
   "metadata": {},
   "source": [
    "<ul><li><code>put()</code> - inserts the specified key/value mapping (entry) to the map</li>\n",
    "\t<li><code>putAll()</code> - inserts all the entries from specified map to this map</li>\n",
    "\t<li><code>putIfAbsent()</code> - inserts the specified key/value mapping to the map if the specified key is not present in the map</li>\n",
    "</ul>"
   ]
  },
  {
   "cell_type": "markdown",
   "id": "b3780d5f",
   "metadata": {},
   "source": [
    "<h2 id=\"access\">Access TreeMap Elements</h2>"
   ]
  },
  {
   "cell_type": "markdown",
   "id": "d97f679b",
   "metadata": {},
   "source": [
    "<p><strong>1. Using entrySet(), keySet() and values()</strong></p>"
   ]
  },
  {
   "cell_type": "markdown",
   "id": "7422c49d",
   "metadata": {},
   "source": [
    "<ul><li><code>entrySet()</code> - returns a set of all the key/values mapping (entry) of a treemap</li>\n",
    "\t<li><code>keySet()</code> - returns a set of all the keys of a tree map</li>\n",
    "\t<li><code>values()</code> - returns a set of all the maps of a tree map</li>\n",
    "</ul>"
   ]
  },
  {
   "cell_type": "markdown",
   "id": "01a442a4",
   "metadata": {},
   "source": [
    "<strong>2. Using get() and getOrDefault() </strong>"
   ]
  },
  {
   "cell_type": "markdown",
   "id": "dfe7e629",
   "metadata": {},
   "source": [
    "<ul><li><code>get()</code> - Returns the value associated with the specified key. Returns null if the key is not found.</li>\n",
    "\t<li><code>getOrDefault()</code> - Returns the value associated with the specified key. Returns the specified default value if the key is not found.</li>\n",
    "</ul>"
   ]
  },
  {
   "cell_type": "markdown",
   "id": "a240c169",
   "metadata": {},
   "source": [
    "<h2 id=\"remove\">Remove TeeMap Elements</h2>"
   ]
  },
  {
   "cell_type": "markdown",
   "id": "c2ae67bb",
   "metadata": {},
   "source": [
    "<ul><li><code>remove(key)</code> - returns and removes the entry associated with the specified key from a TreeMap</li>\n",
    "\t<li><code>remove(key, value)</code> - removes the entry from the map only if the specified key is associated with the specified value and returns a boolean value</li>\n",
    "</ul>"
   ]
  },
  {
   "cell_type": "markdown",
   "id": "1aaa358f",
   "metadata": {},
   "source": [
    "<h2 id=\"replace\">Replace TreeMap Elements</h2>"
   ]
  },
  {
   "cell_type": "markdown",
   "id": "4caf2f59",
   "metadata": {},
   "source": [
    "<ul><li><code>replace(key, value)</code> - replaces the value mapped by the specified <var>key</var> with the new <var>value</var></li>\n",
    "\t<li><code>replace(key, old, new)</code> - replaces the old value with the new value only if the old value is already associated with the specified key</li>\n",
    "\t<li><code>replaceAll(function)</code> - replaces each value of the map with the result of the specified <var>function</var></li>\n",
    "</ul>"
   ]
  },
  {
   "cell_type": "code",
   "execution_count": 1,
   "id": "a968dff9",
   "metadata": {},
   "outputs": [
    {
     "data": {
      "text/plain": [
       "com.twosigma.beaker.javash.bkr35786ae2.Main"
      ]
     },
     "execution_count": 1,
     "metadata": {},
     "output_type": "execute_result"
    }
   ],
   "source": [
    "import java.util.TreeMap;\n",
    "\n",
    "class Main {\n",
    "    public static void main(String[] args) {\n",
    "        // Creating TreeMap of even numbers\n",
    "        TreeMap<String, Integer> evenNumbers = new TreeMap<>();\n",
    "\n",
    "        // Using put()\n",
    "        evenNumbers.put(\"Two\", 2);\n",
    "        evenNumbers.put(\"Four\", 4);\n",
    "\n",
    "        // Using putIfAbsent()\n",
    "        evenNumbers.putIfAbsent(\"Six\", 6);\n",
    "        System.out.println(\"TreeMap of even numbers: \" + evenNumbers);\n",
    "\n",
    "        //Creating TreeMap of numbers\n",
    "        TreeMap<String, Integer> numbers = new TreeMap<>();\n",
    "        numbers.put(\"One\", 1);\n",
    "\n",
    "        // Using putAll()\n",
    "        numbers.putAll(evenNumbers);\n",
    "        System.out.println(\"TreeMap of numbers: \" + numbers);\n",
    "        \n",
    "         // Using entrySet()\n",
    "        System.out.println(\"Key/Value mappings: \" + numbers.entrySet());\n",
    "\n",
    "        // Using keySet()\n",
    "        System.out.println(\"Keys: \" + numbers.keySet());\n",
    "\n",
    "        // Using values()\n",
    "        System.out.println(\"Values: \" + numbers.values());\n",
    "        \n",
    "        // Using get()\n",
    "        int value1 = numbers.get(\"Three\");\n",
    "        System.out.println(\"Using get(): \" + value1);\n",
    "\n",
    "        // Using getOrDefault()\n",
    "        int value2 = numbers.getOrDefault(\"Five\", 5);\n",
    "        System.out.println(\"Using getOrDefault(): \" + value2);\n",
    "        \n",
    "        // remove method with single parameter\n",
    "        int value = numbers.remove(\"Two\");\n",
    "        System.out.println(\"Removed value: \" + value);\n",
    "\n",
    "        // remove method with two parameters\n",
    "        boolean result = numbers.remove(\"Three\", 3);\n",
    "        System.out.println(\"Is the entry {Three=3} removed? \" + result);\n",
    "\n",
    "        System.out.println(\"Updated TreeMap: \" + numbers);\n",
    "        \n",
    "        // Using replace()\n",
    "        numbers.replace(\"Second\", 22);\n",
    "        numbers.replace(\"Third\", 3, 33);\n",
    "        System.out.println(\"TreeMap using replace: \" + numbers);\n",
    "\n",
    "        // Using replaceAll()\n",
    "        numbers.replaceAll((key, oldValue) -> oldValue + 2);\n",
    "        System.out.println(\"TreeMap using replaceAll: \" + numbers);\n",
    "    }\n",
    "}\n"
   ]
  }
 ],
 "metadata": {
  "kernelspec": {
   "display_name": "Java",
   "language": "java",
   "name": "java"
  },
  "language_info": {
   "codemirror_mode": "text/x-java",
   "file_extension": ".java",
   "mimetype": "",
   "name": "Java",
   "nbconverter_exporter": "",
   "version": "1.8.0_121"
  },
  "toc": {
   "base_numbering": 1,
   "nav_menu": {},
   "number_sections": false,
   "sideBar": false,
   "skip_h1_title": false,
   "title_cell": "Table of Contents",
   "title_sidebar": "Contents",
   "toc_cell": false,
   "toc_position": {},
   "toc_section_display": false,
   "toc_window_display": false
  }
 },
 "nbformat": 4,
 "nbformat_minor": 5
}
