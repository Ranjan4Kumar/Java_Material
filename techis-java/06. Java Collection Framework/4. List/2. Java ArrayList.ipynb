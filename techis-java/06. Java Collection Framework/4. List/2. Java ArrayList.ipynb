{
 "cells": [
  {
   "cell_type": "markdown",
   "id": "a7529e26",
   "metadata": {},
   "source": [
    "<h1>Java ArrayList</h1>"
   ]
  },
  {
   "cell_type": "markdown",
   "id": "5d02e296",
   "metadata": {},
   "source": [
    "><p id=\"introduction\">In Java, we use the <code>ArrayList</code> class to implement the functionality of <strong>resizable-arrays</strong>.</p>\n",
    "><p>It implements the <code>List</code> interface of the collections framework.</p>\n"
   ]
  },
  {
   "cell_type": "markdown",
   "id": "15b6b143",
   "metadata": {},
   "source": [
    "<h2 id=\"create\">Creating an ArrayList</h2>\n",
    "\n",
    "><p>Before using <code>ArrayList</code>, we need to import the <code>java.util.ArrayList</code> package first. Here is how we can create arraylists in Java:</p>\n"
   ]
  },
  {
   "cell_type": "markdown",
   "id": "18464e58",
   "metadata": {},
   "source": [
    "><pre>\n",
    "<code>ArrayList&lt;Type&gt; arrayList= new ArrayList&lt;&gt;();</code></pre>\n",
    "><p>Here, <var>Type</var> indicates the type of an arraylist. For example,</p>\n",
    "\n",
    "><pre>\n",
    "<code>// create Integer type arraylist\n",
    "ArrayList&lt;Integer&gt; arrayList = new ArrayList&lt;&gt;();\n",
    "// create String type arraylist\n",
    "ArrayList&lt;String&gt; arrayList = new ArrayList&lt;&gt;();</code></pre>"
   ]
  },
  {
   "cell_type": "markdown",
   "id": "60c6ca9f",
   "metadata": {},
   "source": [
    "><p>In the above program, we have used <code>Integer</code> not int. It is because we cannot use primitive types while creating an arraylist. Instead, we have to use the corresponding wrapper classes.</p>\n"
   ]
  },
  {
   "cell_type": "markdown",
   "id": "2b4734af",
   "metadata": {},
   "source": [
    "<h3 id=\"example\">Example: Create ArrayList in Java</h3>"
   ]
  },
  {
   "cell_type": "code",
   "execution_count": 2,
   "id": "5f8031cc",
   "metadata": {},
   "outputs": [
    {
     "data": {
      "text/plain": [
       "com.twosigma.beaker.javash.bkrf4b8c740.Main"
      ]
     },
     "execution_count": 2,
     "metadata": {},
     "output_type": "execute_result"
    }
   ],
   "source": [
    "import java.util.ArrayList;\n",
    "\n",
    "class Main {\n",
    "  public static void main(String[] args){\n",
    "\n",
    "    // create ArrayList\n",
    "    ArrayList<String> languages = new ArrayList<>();\n",
    "\n",
    "    // Add elements to ArrayList\n",
    "    languages.add(\"Java\");\n",
    "    languages.add(\"Python\");\n",
    "    languages.add(\"Swift\");\n",
    "    System.out.println(\"ArrayList: \" + languages);\n",
    "  }\n",
    "}"
   ]
  },
  {
   "cell_type": "markdown",
   "id": "5a2273ba",
   "metadata": {},
   "source": [
    "><p><strong>Output</strong></p>\n",
    "><pre>\n",
    "<samp>ArrayList: [Java, Python, Swift]</samp></pre>\n",
    "><p>In the above example, we have created an <code>ArrayList</code> named <var>languages</var>.</p>\n",
    "><p>Here, we have used the <code>add()</code> method to add elements to the arraylist. We will learn more about the <code>add()</code> method later in this tutorial.</p>\n"
   ]
  },
  {
   "cell_type": "markdown",
   "id": "c8b58072",
   "metadata": {},
   "source": [
    "<h2>Basic Operations on ArrayList</h2>\n",
    "\n",
    "><p>The <code>ArrayList</code> class provides various methods to perform different operations on arraylists. We will look at some commonly used arraylist operations in this tutorial:</p>\n",
    "><ul><li>Add elements</li>\n",
    "\t<li>Access elements</li>\n",
    "\t<li>Change elements</li>\n",
    "\t<li>Remove elements</li>\n",
    "</ul><hr><h3 id=\"add-element\">1. Add Elements to an ArrayList</h3>\n",
    "\n",
    "><p>To add a single element to the arraylist, we use the <code>add()</code> method of the <code>ArrayList</code> class. For example,</p>\n"
   ]
  },
  {
   "cell_type": "code",
   "execution_count": 3,
   "id": "01005092",
   "metadata": {},
   "outputs": [
    {
     "data": {
      "text/plain": [
       "com.twosigma.beaker.javash.bkrf4b8c740.Main"
      ]
     },
     "execution_count": 3,
     "metadata": {},
     "output_type": "execute_result"
    }
   ],
   "source": [
    "import java.util.ArrayList;\n",
    "\n",
    "class Main {\n",
    "  public static void main(String[] args){\n",
    "    // create ArrayList\n",
    "    ArrayList<String> languages = new ArrayList<>();\n",
    "\n",
    "    // add() method without the index parameter\n",
    "    languages.add(\"Java\");\n",
    "    languages.add(\"C\");\n",
    "    languages.add(\"Python\");\n",
    "    System.out.println(\"ArrayList: \" + languages);\n",
    "  }\n",
    "}"
   ]
  },
  {
   "cell_type": "markdown",
   "id": "bc3c3c9b",
   "metadata": {},
   "source": [
    "><p><strong>Output</strong></p>\n",
    "><pre>\n",
    "<samp>ArrayList: [Java, C, Python]</samp></pre>\n",
    "><p>In the above example, we have created an <code>ArrayList</code> named <var>languages</var>. Here, we have used the <code>add()</code> method to add elements to <var>languages</var>.</p>\n"
   ]
  }
 ],
 "metadata": {
  "kernelspec": {
   "display_name": "Java",
   "language": "java",
   "name": "java"
  },
  "language_info": {
   "codemirror_mode": "text/x-java",
   "file_extension": ".java",
   "mimetype": "",
   "name": "Java",
   "nbconverter_exporter": "",
   "version": "1.8.0_121"
  },
  "toc": {
   "base_numbering": 1,
   "nav_menu": {},
   "number_sections": false,
   "sideBar": false,
   "skip_h1_title": false,
   "title_cell": "Table of Contents",
   "title_sidebar": "Contents",
   "toc_cell": false,
   "toc_position": {},
   "toc_section_display": false,
   "toc_window_display": false
  }
 },
 "nbformat": 4,
 "nbformat_minor": 5
}
