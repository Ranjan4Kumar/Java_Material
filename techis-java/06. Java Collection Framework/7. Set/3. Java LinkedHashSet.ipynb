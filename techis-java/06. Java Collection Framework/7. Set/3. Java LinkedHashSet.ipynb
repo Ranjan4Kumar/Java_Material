{
 "cells": [
  {
   "cell_type": "markdown",
   "id": "824d9ddf",
   "metadata": {},
   "source": [
    "<h1>Java LinkedHashSet</h1>"
   ]
  },
  {
   "cell_type": "markdown",
   "id": "e9960406",
   "metadata": {},
   "source": [
    "<p>The <code>LinkedHashSet</code> class of the Java collections framework provides functionalities of both the hashtable and the linked list data structure.</p>\n",
    "\n",
    "<p>It implements the <a href=\"/java-programming/set\" title=\"Java Set Interface\">Set interface</a>.</p>"
   ]
  },
  {
   "cell_type": "markdown",
   "id": "d5675fa5",
   "metadata": {},
   "source": [
    "<p>Elements of <code>LinkedHashSet</code> are stored in hash tables similar to <a href=\"/java-programming/hashset\" title=\"Java HashSet Class\">HashSet</a>.</p>\n",
    "\n",
    "<p>However, linked hash sets maintain a doubly-linked list internally for all of its elements. The linked list defines the order in which elements are inserted in hash tables.</p>\n",
    "\n",
    "<hr><h2 id=\"create\">Create a LinkedHashSet</h2>\n",
    "\n",
    "<p>In order to create a linked hash set, we must import the <code>java.util.LinkedHashSet</code> package first.</p>\n",
    "\n",
    "<p>Once we import the package, here is how we can create linked hash sets in Java.</p>\n",
    "\n",
    "<pre>\n",
    "<code>// LinkedHashSet with 8 capacity and 0.75 load factor\n",
    "LinkedHashSet&lt;Integer&gt; numbers = new LinkedHashSet&lt;&gt;(8, 0.75);\n",
    "</code></pre>\n",
    "\n",
    "<p>Here, we have created a linked hash set named <var>numbers</var>.</p>\n",
    "\n",
    "<p>Notice, the part <code>new LinkedHashSet&lt;&gt;(8, 0.75)</code>. Here, the first parameter is <strong>capacity</strong> and the second parameter is <strong>loadFactor</strong>.</p>\n",
    "\n",
    "<ul><li><strong>capacity</strong> - The capacity of this hash set is 8. Meaning, it can store 8 elements.</li>\n",
    "\t<li><strong>loadFactor</strong> - The load factor of this hash set is 0.6. This means, whenever our hash table is filled by 60%, the elements are moved to a new hash table of double the size of the original hash table.</li>\n",
    "</ul><p><strong>Default capacity and load factor</strong></p>\n",
    "\n",
    "<p>It's possible to create a linked hash set without defining its capacity and load factor. For example,</p>\n",
    "\n",
    "<pre>\n",
    "<code>// LinkedHashSet with default capacity and load factor\n",
    "LinkedHashSet&lt;Integer&gt; numbers1 = new LinkedHashSet&lt;&gt;();\n",
    "</code></pre>\n",
    "\n",
    "<p>By default,</p>\n",
    "\n",
    "<ul><li>the capacity of the linked hash set will be 16</li>\n",
    "\t<li>the load factor will be 0.75</li>\n",
    "</ul>"
   ]
  },
  {
   "cell_type": "markdown",
   "id": "943e6e72",
   "metadata": {},
   "source": [
    "<h2>Methods of LinkedHashSet</h2>\n",
    "\n",
    "<p>The <code>LinkedHashSet</code> class provides methods that allow us to perform various operations on the linked hash set.</p>\n",
    "\n",
    "<hr><h2 id=\"insert\">Insert Elements to LinkedHashSet</h2>\n",
    "\n",
    "<ul><li><code>add()</code> - inserts the specified element to the linked hash set</li>\n",
    "\t<li><code>addAll()</code> - inserts all the elements of the specified collection to the linked hash set</li>\n",
    "</ul>"
   ]
  },
  {
   "cell_type": "markdown",
   "id": "eaae78f1",
   "metadata": {},
   "source": [
    "<h2 id=\"access\">Access LinkedHashSet Elements</h2>"
   ]
  },
  {
   "cell_type": "markdown",
   "id": "0793c14b",
   "metadata": {},
   "source": [
    "<p>To access the elements of a linked hash set, we can use the <code>iterator()</code> method. In order to use this method, we must import the <code>java.util.Iterator</code> package. For example,</p>\n"
   ]
  },
  {
   "cell_type": "markdown",
   "id": "8d4bcc23",
   "metadata": {},
   "source": [
    "<h2 id=\"remove\">Remove Elements from HashSet</h2>\n",
    "\n",
    "<ul><li><code>remove()</code> - removes the specified element from the linked hash set</li>\n",
    "\t<li><code>removeAll()</code> - removes all the elements from the linked hash set</li>\n",
    "</ul>"
   ]
  }
 ],
 "metadata": {
  "kernelspec": {
   "display_name": "Java",
   "language": "java",
   "name": "java"
  },
  "language_info": {
   "codemirror_mode": "text/x-java",
   "file_extension": ".java",
   "mimetype": "",
   "name": "Java",
   "nbconverter_exporter": "",
   "version": "1.8.0_121"
  },
  "toc": {
   "base_numbering": 1,
   "nav_menu": {},
   "number_sections": false,
   "sideBar": false,
   "skip_h1_title": false,
   "title_cell": "Table of Contents",
   "title_sidebar": "Contents",
   "toc_cell": false,
   "toc_position": {},
   "toc_section_display": false,
   "toc_window_display": false
  }
 },
 "nbformat": 4,
 "nbformat_minor": 5
}
