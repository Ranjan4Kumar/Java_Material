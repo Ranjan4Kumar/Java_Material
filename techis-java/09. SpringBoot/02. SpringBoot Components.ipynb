{
 "cells": [
  {
   "cell_type": "markdown",
   "id": "9e84cd62",
   "metadata": {},
   "source": [
    "<h1>Spring Boot Components</h1>"
   ]
  },
  {
   "cell_type": "markdown",
   "id": "93d50c11",
   "metadata": {},
   "source": [
    "><p><li><strong>Spring Boot Starters:&nbsp;</strong>Main concept behind spring boot starters is to reduce the dependencies definitions and to simplify the project build dependencies. For example : if we are creating spring application than we have to define following dependencies in pom.xml file –\n",
    "        <ul>\n",
    "            <li>Spring core Jar file</li>\n",
    "            <li>Spring Web Jar file</li>\n",
    "            <li>Spring Web MVC Jar file</li>\n",
    "            <li>Servlet Jar file\n",
    "                <ul>\n",
    "                <li><strong>Spring Boot Starters</strong> provides the facility to add only one jar file spring-boot-starter-web instead of adding 4 jar files.</li>\n",
    "                </ul>\n",
    "            </li>\n",
    "        </ul></li>"
   ]
  },
  {
   "cell_type": "markdown",
   "id": "d4549afd",
   "metadata": {},
   "source": [
    "><li><strong>Spring Boot AutoConfigurator:&nbsp;</strong>Main concept behind Spring Boot AutoConfigurator is to minimizing the programmer’s effort to define lots of XML configuration. It will take care of all these XML configurations and annotations.</li>"
   ]
  },
  {
   "cell_type": "markdown",
   "id": "baaba8da",
   "metadata": {},
   "source": [
    "><li><strong>Spring Boot CLI:&nbsp;</strong>It is Spring Boot software which is used to run and test Spring Boot applications from command prompt. CLI refers to command line arguments. To execute a spring application, spring boot CLI uses Spring Boot Starter and Spring Boot AutoConfigurate components to resolve all dependencies.</li>"
   ]
  },
  {
   "cell_type": "markdown",
   "id": "a96c408b",
   "metadata": {},
   "source": [
    "><li><strong>Spring Boot Actuator:&nbsp;</strong>Spring boot actuator is a tool which provides HTTP endpoints. We can manage our production application using these HTTP endpoints.</li>"
   ]
  }
 ],
 "metadata": {
  "kernelspec": {
   "display_name": "Java",
   "language": "java",
   "name": "java"
  },
  "language_info": {
   "codemirror_mode": "text/x-java",
   "file_extension": ".java",
   "mimetype": "",
   "name": "Java",
   "nbconverter_exporter": "",
   "version": "1.8.0_121"
  },
  "toc": {
   "base_numbering": 1,
   "nav_menu": {},
   "number_sections": false,
   "sideBar": false,
   "skip_h1_title": false,
   "title_cell": "Table of Contents",
   "title_sidebar": "Contents",
   "toc_cell": false,
   "toc_position": {},
   "toc_section_display": false,
   "toc_window_display": false
  }
 },
 "nbformat": 4,
 "nbformat_minor": 5
}
