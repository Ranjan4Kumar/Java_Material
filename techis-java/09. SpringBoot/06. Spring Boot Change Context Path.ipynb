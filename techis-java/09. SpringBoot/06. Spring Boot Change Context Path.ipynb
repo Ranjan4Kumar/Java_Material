{
 "cells": [
  {
   "cell_type": "markdown",
   "id": "2d668ed0",
   "metadata": {},
   "source": [
    "<h1>Spring Boot Change Context Path</h1>"
   ]
  },
  {
   "cell_type": "markdown",
   "id": "ae25191b",
   "metadata": {},
   "source": [
    "><p>Default context path in spring boot application is “/”. We can change it by overriding the default port in the application.properties file.</p>"
   ]
  },
  {
   "cell_type": "markdown",
   "id": "f4b1da87",
   "metadata": {},
   "source": [
    "<pre class=\"java\" style=\"font-family:monospace;\">server.<span style=\"color: #006633;\">contextPath</span><span style=\"color: #339933;\">=/</span>w3spoint</pre>"
   ]
  }
 ],
 "metadata": {
  "kernelspec": {
   "display_name": "Java",
   "language": "java",
   "name": "java"
  },
  "language_info": {
   "codemirror_mode": "text/x-java",
   "file_extension": ".java",
   "mimetype": "",
   "name": "Java",
   "nbconverter_exporter": "",
   "version": "1.8.0_121"
  },
  "toc": {
   "base_numbering": 1,
   "nav_menu": {},
   "number_sections": false,
   "sideBar": false,
   "skip_h1_title": false,
   "title_cell": "Table of Contents",
   "title_sidebar": "Contents",
   "toc_cell": false,
   "toc_position": {},
   "toc_section_display": false,
   "toc_window_display": false
  }
 },
 "nbformat": 4,
 "nbformat_minor": 5
}
