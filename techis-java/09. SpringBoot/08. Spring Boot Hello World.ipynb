{
 "cells": [
  {
   "cell_type": "markdown",
   "id": "13fac0d4",
   "metadata": {},
   "source": [
    "<h1>Spring Boot Hello World</h1>"
   ]
  },
  {
   "cell_type": "markdown",
   "id": "2b8a5655",
   "metadata": {},
   "source": [
    "<h2>pom.xml file</h2>"
   ]
  },
  {
   "cell_type": "markdown",
   "id": "6ee40076",
   "metadata": {},
   "source": [
    "><p><strong>Modify auto created POM file. We need to add parent in pom to make it a spring boot application. After that add spring-boot-starter-web dependency and java version. </strong></p>"
   ]
  },
  {
   "cell_type": "markdown",
   "id": "50df1794",
   "metadata": {},
   "source": [
    "<pre class=\"java\" style=\"font-family:monospace;\"><span style=\"color: #339933;\">&lt;</span>project xmlns<span style=\"color: #339933;\">=</span><span style=\"color: #0000ff;\">\"http://maven.apache.org/POM/4.0.0\"</span> xmlns<span style=\"color: #339933;\">:</span>xsi<span style=\"color: #339933;\">=</span><span style=\"color: #0000ff;\">\"http://www.w3.org/2001/XMLSchema-instance\"</span>\n",
    "  xsi<span style=\"color: #339933;\">:</span>schemaLocation<span style=\"color: #339933;\">=</span><span style=\"color: #0000ff;\">\"http://maven.apache.org/POM/4.0.0 http://maven.apache.org/xsd/maven-4.0.0.xsd\"</span><span style=\"color: #339933;\">&gt;</span>\n",
    "  <span style=\"color: #339933;\">&lt;</span>modelVersion<span style=\"color: #339933;\">&gt;</span>4.0.0<span style=\"color: #339933;\">&lt;/</span>modelVersion<span style=\"color: #339933;\">&gt;</span>\n",
    "&nbsp;\n",
    "  <span style=\"color: #339933;\">&lt;</span>groupId<span style=\"color: #339933;\">&gt;</span>codesjava<span style=\"color: #339933;\">&lt;/</span>groupId<span style=\"color: #339933;\">&gt;</span>\n",
    "  <span style=\"color: #339933;\">&lt;</span>artifactId<span style=\"color: #339933;\">&gt;</span>SpringBoot01<span style=\"color: #339933;\">&lt;/</span>artifactId<span style=\"color: #339933;\">&gt;</span>\n",
    "  <span style=\"color: #339933;\">&lt;</span>version<span style=\"color: #339933;\">&gt;</span>0.0.1<span style=\"color: #339933;\">-</span>SNAPSHOT<span style=\"color: #339933;\">&lt;/</span>version<span style=\"color: #339933;\">&gt;</span>\n",
    "  <span style=\"color: #339933;\">&lt;</span>packaging<span style=\"color: #339933;\">&gt;</span>jar<span style=\"color: #339933;\">&lt;/</span>packaging<span style=\"color: #339933;\">&gt;</span>\n",
    "&nbsp;\n",
    "  <span style=\"color: #339933;\">&lt;</span>name<span style=\"color: #339933;\">&gt;</span>SpringBoot01<span style=\"color: #339933;\">&lt;/</span>name<span style=\"color: #339933;\">&gt;</span>\n",
    "  <span style=\"color: #339933;\">&lt;</span>url<span style=\"color: #339933;\">&gt;</span>http<span style=\"color: #339933;\">:</span><span style=\"color: #666666; font-style: italic;\">//maven.apache.org&lt;/url&gt;</span>\n",
    "&nbsp;\n",
    "  <span style=\"color: #339933;\">&lt;</span>properties<span style=\"color: #339933;\">&gt;</span>\n",
    "    <span style=\"color: #339933;\">&lt;</span>java.<span style=\"color: #006633;\">version</span><span style=\"color: #339933;\">&gt;</span><span style=\"color: #cc66cc;\">1.8</span><span style=\"color: #339933;\">&lt;/</span>java.<span style=\"color: #006633;\">version</span><span style=\"color: #339933;\">&gt;</span>  \n",
    "  <span style=\"color: #339933;\">&lt;/</span>properties<span style=\"color: #339933;\">&gt;</span>\n",
    "&nbsp;\n",
    "  <span style=\"color: #339933;\">&lt;</span>parent<span style=\"color: #339933;\">&gt;</span>  \n",
    "    <span style=\"color: #339933;\">&lt;</span>groupId<span style=\"color: #339933;\">&gt;</span>org.<span style=\"color: #006633;\">springframework</span>.<span style=\"color: #006633;\">boot</span><span style=\"color: #339933;\">&lt;/</span>groupId<span style=\"color: #339933;\">&gt;</span>  \n",
    "    <span style=\"color: #339933;\">&lt;</span>artifactId<span style=\"color: #339933;\">&gt;</span>spring<span style=\"color: #339933;\">-</span>boot<span style=\"color: #339933;\">-</span>starter<span style=\"color: #339933;\">-</span>parent<span style=\"color: #339933;\">&lt;/</span>artifactId<span style=\"color: #339933;\">&gt;</span>  \n",
    "    <span style=\"color: #339933;\">&lt;</span>version<span style=\"color: #339933;\">&gt;</span>1.4.2.<span style=\"color: #006633;\">RELEASE</span><span style=\"color: #339933;\">&lt;/</span>version<span style=\"color: #339933;\">&gt;</span>  \n",
    " <span style=\"color: #339933;\">&lt;/</span>parent<span style=\"color: #339933;\">&gt;</span>  \n",
    "&nbsp;\n",
    "  <span style=\"color: #339933;\">&lt;</span>dependencies<span style=\"color: #339933;\">&gt;</span>\n",
    "    <span style=\"color: #339933;\">&lt;</span>dependency<span style=\"color: #339933;\">&gt;</span>  \n",
    "        <span style=\"color: #339933;\">&lt;</span>groupId<span style=\"color: #339933;\">&gt;</span>org.<span style=\"color: #006633;\">springframework</span>.<span style=\"color: #006633;\">boot</span><span style=\"color: #339933;\">&lt;/</span>groupId<span style=\"color: #339933;\">&gt;</span>  \n",
    "        <span style=\"color: #339933;\">&lt;</span>artifactId<span style=\"color: #339933;\">&gt;</span>spring<span style=\"color: #339933;\">-</span>boot<span style=\"color: #339933;\">-</span>starter<span style=\"color: #339933;\">-</span>web<span style=\"color: #339933;\">&lt;/</span>artifactId<span style=\"color: #339933;\">&gt;</span>  \n",
    "    <span style=\"color: #339933;\">&lt;/</span>dependency<span style=\"color: #339933;\">&gt;</span>  \n",
    "&nbsp;\n",
    "    <span style=\"color: #339933;\">&lt;</span>dependency<span style=\"color: #339933;\">&gt;</span>\n",
    "      <span style=\"color: #339933;\">&lt;</span>groupId<span style=\"color: #339933;\">&gt;</span>junit<span style=\"color: #339933;\">&lt;/</span>groupId<span style=\"color: #339933;\">&gt;</span>\n",
    "      <span style=\"color: #339933;\">&lt;</span>artifactId<span style=\"color: #339933;\">&gt;</span>junit<span style=\"color: #339933;\">&lt;/</span>artifactId<span style=\"color: #339933;\">&gt;</span>\n",
    "      <span style=\"color: #339933;\">&lt;</span>version<span style=\"color: #339933;\">&gt;</span>3.8.1<span style=\"color: #339933;\">&lt;/</span>version<span style=\"color: #339933;\">&gt;</span>\n",
    "      <span style=\"color: #339933;\">&lt;</span>scope<span style=\"color: #339933;\">&gt;</span>test<span style=\"color: #339933;\">&lt;/</span>scope<span style=\"color: #339933;\">&gt;</span>\n",
    "    <span style=\"color: #339933;\">&lt;/</span>dependency<span style=\"color: #339933;\">&gt;</span>\n",
    "  <span style=\"color: #339933;\">&lt;/</span>dependencies<span style=\"color: #339933;\">&gt;</span>\n",
    "<span style=\"color: #339933;\">&lt;/</span>project<span style=\"color: #339933;\">&gt;</span></pre>"
   ]
  },
  {
   "cell_type": "markdown",
   "id": "9f0d198f",
   "metadata": {},
   "source": [
    "<strong>Now, right click on project -&gt; click on Maven -&gt; click on update project -&gt; Popup window will open -&gt; click Ok to update the project.</strong>"
   ]
  },
  {
   "cell_type": "markdown",
   "id": "fab0522a",
   "metadata": {},
   "source": [
    " ><p>It is a initializer class which runs a SpringApplication."
   ]
  },
  {
   "cell_type": "markdown",
   "id": "77704d7f",
   "metadata": {},
   "source": [
    "<pre class=\"java\" style=\"font-family:monospace;\"><span style=\"color: #000000; font-weight: bold;\">package</span> <span style=\"color: #006699;\">com.w3spoint</span><span style=\"color: #339933;\">;</span>\n",
    "&nbsp;\n",
    "<span style=\"color: #000000; font-weight: bold;\">import</span> <span style=\"color: #006699;\">org.springframework.boot.SpringApplication</span><span style=\"color: #339933;\">;</span>\n",
    "<span style=\"color: #000000; font-weight: bold;\">import</span> <span style=\"color: #006699;\">org.springframework.boot.autoconfigure.SpringBootApplication</span><span style=\"color: #339933;\">;</span>\n",
    "&nbsp;\n",
    "@SpringBootApplication  \n",
    "<span style=\"color: #000000; font-weight: bold;\">public</span> <span style=\"color: #000000; font-weight: bold;\">class</span> App <span style=\"color: #009900;\">{</span>\n",
    "    <span style=\"color: #000000; font-weight: bold;\">public</span> <span style=\"color: #000000; font-weight: bold;\">static</span> <span style=\"color: #000066; font-weight: bold;\">void</span> main<span style=\"color: #009900;\">(</span> <span style=\"color: #003399;\">String</span><span style=\"color: #009900;\">[</span><span style=\"color: #009900;\">]</span> args <span style=\"color: #009900;\">)</span> <span style=\"color: #009900;\">{</span>\n",
    "    \tSpringApplication.<span style=\"color: #006633;\">run</span><span style=\"color: #009900;\">(</span>App.<span style=\"color: #000000; font-weight: bold;\">class</span>, args<span style=\"color: #009900;\">)</span><span style=\"color: #339933;\">;</span>  \n",
    "    <span style=\"color: #009900;\">}</span>\n",
    "<span style=\"color: #009900;\">}</span></pre>"
   ]
  }
 ],
 "metadata": {
  "kernelspec": {
   "display_name": "Java",
   "language": "java",
   "name": "java"
  },
  "language_info": {
   "codemirror_mode": "text/x-java",
   "file_extension": ".java",
   "mimetype": "",
   "name": "Java",
   "nbconverter_exporter": "",
   "version": "1.8.0_121"
  },
  "toc": {
   "base_numbering": 1,
   "nav_menu": {},
   "number_sections": false,
   "sideBar": false,
   "skip_h1_title": false,
   "title_cell": "Table of Contents",
   "title_sidebar": "Contents",
   "toc_cell": false,
   "toc_position": {},
   "toc_section_display": false,
   "toc_window_display": false
  }
 },
 "nbformat": 4,
 "nbformat_minor": 5
}
