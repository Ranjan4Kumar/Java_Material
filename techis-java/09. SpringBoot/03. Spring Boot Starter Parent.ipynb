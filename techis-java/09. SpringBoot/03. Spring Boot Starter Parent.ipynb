{
 "cells": [
  {
   "cell_type": "markdown",
   "id": "9828eac3",
   "metadata": {},
   "source": [
    "<h1>Spring Boot Starter Parent</h1>"
   ]
  },
  {
   "cell_type": "markdown",
   "id": "499304d6",
   "metadata": {},
   "source": [
    "><p>The parent pom spring-boot-starter-parent, contains the full dependencies (mvc, cache, jpa) and commons properties to maintain dependencies versions in a good consistency, to be used in our project or submodules.</p>"
   ]
  },
  {
   "cell_type": "markdown",
   "id": "685a6180",
   "metadata": {},
   "source": [
    "<pre class=\"java\" style=\"font-family:monospace;\">      <span style=\"color: #339933;\">&lt;</span>parent<span style=\"color: #339933;\">&gt;</span>\n",
    "        <span style=\"color: #339933;\">&lt;</span>groupId<span style=\"color: #339933;\">&gt;</span>org.<span style=\"color: #006633;\">springframework</span>.<span style=\"color: #006633;\">boot</span><span style=\"color: #339933;\">&lt;/</span>groupId<span style=\"color: #339933;\">&gt;</span>\n",
    "        <span style=\"color: #339933;\">&lt;</span>artifactId<span style=\"color: #339933;\">&gt;</span>spring<span style=\"color: #339933;\">-</span>boot<span style=\"color: #339933;\">-</span>starter<span style=\"color: #339933;\">-</span>parent<span style=\"color: #339933;\">&lt;/</span>artifactId<span style=\"color: #339933;\">&gt;</span>\n",
    "        <span style=\"color: #339933;\">&lt;</span>version<span style=\"color: #339933;\">&gt;</span>1.4.0.<span style=\"color: #006633;\">RELEASE</span><span style=\"color: #339933;\">&lt;/</span>version<span style=\"color: #339933;\">&gt;</span>\n",
    "     <span style=\"color: #339933;\">&lt;/</span>parent<span style=\"color: #339933;\">&gt;</span></pre>"
   ]
  },
  {
   "cell_type": "markdown",
   "id": "d00057e8",
   "metadata": {},
   "source": [
    "><p>We can manage the following things with the help of parent pom:</p>"
   ]
  },
  {
   "cell_type": "markdown",
   "id": "a4a9cdc7",
   "metadata": {},
   "source": [
    "><ul><li>Configuration: It maintains Java Version and Other Properties</li><li>Dependency Management: It maintains Version of dependencies</li><li>Default Plugin Configuration</li></ul>"
   ]
  },
  {
   "cell_type": "markdown",
   "id": "13f5ddf5",
   "metadata": {},
   "source": [
    "><p><strong>It inherits dependency management from spring-boot-dependencies.</strong></p>"
   ]
  },
  {
   "cell_type": "markdown",
   "id": "573c94ae",
   "metadata": {},
   "source": [
    "><p>We can add some starters in your pom.xml depending on our need like web, jpa, batch etc.</p>"
   ]
  },
  {
   "cell_type": "markdown",
   "id": "779f36c4",
   "metadata": {},
   "source": [
    "<pre class=\"java\" style=\"font-family:monospace;\"><span style=\"color: #339933;\">&lt;</span>parent<span style=\"color: #339933;\">&gt;</span>\n",
    "      <span style=\"color: #339933;\">&lt;</span>groupId<span style=\"color: #339933;\">&gt;</span>org.<span style=\"color: #006633;\">springframework</span>.<span style=\"color: #006633;\">boot</span><span style=\"color: #339933;\">&lt;/</span>groupId<span style=\"color: #339933;\">&gt;</span>\n",
    "      <span style=\"color: #339933;\">&lt;</span>artifactId<span style=\"color: #339933;\">&gt;</span>spring<span style=\"color: #339933;\">-</span>boot<span style=\"color: #339933;\">-</span>starter<span style=\"color: #339933;\">-</span>parent<span style=\"color: #339933;\">&lt;/</span>artifactId<span style=\"color: #339933;\">&gt;</span>\n",
    "       <span style=\"color: #339933;\">&lt;</span>version<span style=\"color: #339933;\">&gt;</span>1.4.0.<span style=\"color: #006633;\">RELEASE</span><span style=\"color: #339933;\">&lt;/</span>version<span style=\"color: #339933;\">&gt;</span>\n",
    "<span style=\"color: #339933;\">&lt;/</span>parent<span style=\"color: #339933;\">&gt;</span>\n",
    "&nbsp;\n",
    "<span style=\"color: #339933;\">&lt;</span>dependencies<span style=\"color: #339933;\">&gt;</span>\n",
    "    <span style=\"color: #339933;\">&lt;</span>dependency<span style=\"color: #339933;\">&gt;</span>\n",
    "        <span style=\"color: #339933;\">&lt;</span>groupId<span style=\"color: #339933;\">&gt;</span>org.<span style=\"color: #006633;\">springframework</span>.<span style=\"color: #006633;\">boot</span><span style=\"color: #339933;\">&lt;/</span>groupId<span style=\"color: #339933;\">&gt;</span>\n",
    "        <span style=\"color: #339933;\">&lt;</span>artifactId<span style=\"color: #339933;\">&gt;</span>spring<span style=\"color: #339933;\">-</span>boot<span style=\"color: #339933;\">-</span>starter<span style=\"color: #339933;\">-</span>web<span style=\"color: #339933;\">&lt;/</span>artifactId<span style=\"color: #339933;\">&gt;</span>\n",
    "    <span style=\"color: #339933;\">&lt;/</span>dependency<span style=\"color: #339933;\">&gt;</span>\n",
    "<span style=\"color: #339933;\">&lt;/</span>dependencies<span style=\"color: #339933;\">&gt;</span></pre>"
   ]
  }
 ],
 "metadata": {
  "kernelspec": {
   "display_name": "Java",
   "language": "java",
   "name": "java"
  },
  "language_info": {
   "codemirror_mode": "text/x-java",
   "file_extension": ".java",
   "mimetype": "",
   "name": "Java",
   "nbconverter_exporter": "",
   "version": "1.8.0_121"
  },
  "toc": {
   "base_numbering": 1,
   "nav_menu": {},
   "number_sections": false,
   "sideBar": false,
   "skip_h1_title": false,
   "title_cell": "Table of Contents",
   "title_sidebar": "Contents",
   "toc_cell": false,
   "toc_position": {},
   "toc_section_display": false,
   "toc_window_display": false
  }
 },
 "nbformat": 4,
 "nbformat_minor": 5
}
