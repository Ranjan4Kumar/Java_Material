{
 "cells": [
  {
   "cell_type": "markdown",
   "id": "b5cd7145",
   "metadata": {},
   "source": [
    "<h1>Spring Boot Web App Configuration</h1>"
   ]
  },
  {
   "cell_type": "markdown",
   "id": "bfd31b94",
   "metadata": {},
   "source": [
    "><p>As we discussed in earlier tutorials that spring boot will take care of all boilerplate code, so it will provide all configurations automatically. But we can change the default configurations.</p>"
   ]
  },
  {
   "cell_type": "markdown",
   "id": "51a97e7f",
   "metadata": {},
   "source": [
    "<h2>Spring boot change default tomcat port</h2>"
   ]
  },
  {
   "cell_type": "markdown",
   "id": "6b0792ee",
   "metadata": {},
   "source": [
    "><p>Default HTTP port in spring boot application is 8080. We can change it by overriding the default port in the application.properties file.</p>"
   ]
  },
  {
   "cell_type": "markdown",
   "id": "d7da62f8",
   "metadata": {},
   "source": [
    "<pre class=\"java\" style=\"font-family:monospace;\">server.<span style=\"color: #006633;\">port</span><span style=\"color: #339933;\">=</span><span style=\"color: #cc66cc;\">7001</span></pre>"
   ]
  },
  {
   "cell_type": "markdown",
   "id": "e544b340",
   "metadata": {},
   "source": [
    "<h2>Spring boot change context path</h2>"
   ]
  },
  {
   "cell_type": "markdown",
   "id": "6abb3751",
   "metadata": {},
   "source": [
    "><p>Default context path in spring boot application is “/”. We can change it by overriding the default port in the application.properties file.</p>"
   ]
  },
  {
   "cell_type": "markdown",
   "id": "7fd6adbd",
   "metadata": {},
   "source": [
    "<pre class=\"java\" style=\"font-family:monospace;\">server.<span style=\"color: #006633;\">contextPath</span><span style=\"color: #339933;\">=/</span>w3spoint</pre>"
   ]
  },
  {
   "cell_type": "markdown",
   "id": "168f34ca",
   "metadata": {},
   "source": [
    "<h2>Spring boot configure log level</h2>"
   ]
  },
  {
   "cell_type": "markdown",
   "id": "c42939e1",
   "metadata": {},
   "source": [
    "><p>We can configure the logging levels in the application.properties file.</p>"
   ]
  },
  {
   "cell_type": "markdown",
   "id": "d9e793b5",
   "metadata": {},
   "source": [
    "<pre class=\"java\" style=\"font-family:monospace;\">logging.<span style=\"color: #006633;\">level</span>.<span style=\"color: #006633;\">org</span>.<span style=\"color: #006633;\">springframework</span>.<span style=\"color: #006633;\">web</span><span style=\"color: #339933;\">=</span>DEBUG\n",
    "logging.<span style=\"color: #006633;\">level</span>.<span style=\"color: #006633;\">org</span>.<span style=\"color: #006633;\">hibernate</span><span style=\"color: #339933;\">=</span>ERROR</pre>"
   ]
  },
  {
   "cell_type": "markdown",
   "id": "c93c3810",
   "metadata": {},
   "source": [
    "<h2>Shut down a boot application pro-grammatically</h2>"
   ]
  },
  {
   "cell_type": "markdown",
   "id": "5a95fc52",
   "metadata": {},
   "source": [
    "><p>We can shut down a boot application programmatically with SpringApplication class. It provides static exit() method which takes two arguments (ApplicationContext and an ExitCodeGenerator).</p>"
   ]
  },
  {
   "cell_type": "markdown",
   "id": "19db6bf9",
   "metadata": {},
   "source": [
    "<pre class=\"java\" style=\"font-family:monospace;\">@Autowired\n",
    "<span style=\"color: #000000; font-weight: bold;\">public</span> <span style=\"color: #000066; font-weight: bold;\">void</span> shutDown<span style=\"color: #009900;\">(</span>ExecutorServiceExitCodeGenerator exitCodeGenerator<span style=\"color: #009900;\">)</span> <span style=\"color: #009900;\">{</span>\n",
    "    SpringApplication.<span style=\"color: #006633;\">exit</span><span style=\"color: #009900;\">(</span>applicationContext, exitCodeGenerator<span style=\"color: #009900;\">)</span><span style=\"color: #339933;\">;</span>\n",
    "<span style=\"color: #009900;\">}</span></pre>"
   ]
  },
  {
   "cell_type": "markdown",
   "id": "e637e1e4",
   "metadata": {},
   "source": [
    "<h2>Spring boot configure jetty</h2>"
   ]
  },
  {
   "cell_type": "markdown",
   "id": "41138fa8",
   "metadata": {},
   "source": [
    "><p>Default embedded server in spring boot application is apache tomcat. We can change it, we are using jetty server here.</p>"
   ]
  },
  {
   "cell_type": "markdown",
   "id": "4650ce42",
   "metadata": {},
   "source": [
    "<pre class=\"java\" style=\"font-family:monospace;\"><span style=\"color: #339933;\">&lt;</span>dependency<span style=\"color: #339933;\">&gt;</span>\n",
    "    <span style=\"color: #339933;\">&lt;</span>groupId<span style=\"color: #339933;\">&gt;</span>org.<span style=\"color: #006633;\">springframework</span>.<span style=\"color: #006633;\">boot</span><span style=\"color: #339933;\">&lt;/</span>groupId<span style=\"color: #339933;\">&gt;</span>\n",
    "    <span style=\"color: #339933;\">&lt;</span>artifactId<span style=\"color: #339933;\">&gt;</span>spring<span style=\"color: #339933;\">-</span>boot<span style=\"color: #339933;\">-</span>starter<span style=\"color: #339933;\">-</span>web<span style=\"color: #339933;\">&lt;/</span>artifactId<span style=\"color: #339933;\">&gt;</span>\n",
    "    <span style=\"color: #339933;\">&lt;</span>exclusions<span style=\"color: #339933;\">&gt;</span>\n",
    "        <span style=\"color: #339933;\">&lt;</span>exclusion<span style=\"color: #339933;\">&gt;</span>\n",
    "            <span style=\"color: #339933;\">&lt;</span>groupId<span style=\"color: #339933;\">&gt;</span>org.<span style=\"color: #006633;\">springframework</span>.<span style=\"color: #006633;\">boot</span><span style=\"color: #339933;\">&lt;/</span>groupId<span style=\"color: #339933;\">&gt;</span>\n",
    "            <span style=\"color: #339933;\">&lt;</span>artifactId<span style=\"color: #339933;\">&gt;</span>spring<span style=\"color: #339933;\">-</span>boot<span style=\"color: #339933;\">-</span>starter<span style=\"color: #339933;\">-</span>tomcat<span style=\"color: #339933;\">&lt;/</span>artifactId<span style=\"color: #339933;\">&gt;</span>\n",
    "        <span style=\"color: #339933;\">&lt;/</span>exclusion<span style=\"color: #339933;\">&gt;</span>\n",
    "    <span style=\"color: #339933;\">&lt;/</span>exclusions<span style=\"color: #339933;\">&gt;</span>\n",
    "<span style=\"color: #339933;\">&lt;/</span>dependency<span style=\"color: #339933;\">&gt;</span>\n",
    "<span style=\"color: #339933;\">&lt;</span>dependency<span style=\"color: #339933;\">&gt;</span>\n",
    "    <span style=\"color: #339933;\">&lt;</span>groupId<span style=\"color: #339933;\">&gt;</span>org.<span style=\"color: #006633;\">springframework</span>.<span style=\"color: #006633;\">boot</span><span style=\"color: #339933;\">&lt;/</span>groupId<span style=\"color: #339933;\">&gt;</span>\n",
    "    <span style=\"color: #339933;\">&lt;</span>artifactId<span style=\"color: #339933;\">&gt;</span>spring<span style=\"color: #339933;\">-</span>boot<span style=\"color: #339933;\">-</span>starter<span style=\"color: #339933;\">-</span>jetty<span style=\"color: #339933;\">&lt;/</span>artifactId<span style=\"color: #339933;\">&gt;</span>\n",
    "<span style=\"color: #339933;\">&lt;/</span>dependency<span style=\"color: #339933;\">&gt;</span></pre>"
   ]
  },
  {
   "cell_type": "markdown",
   "id": "b5417b08",
   "metadata": {},
   "source": [
    "<pre class=\"java\" style=\"font-family:monospace;\">@Bean\n",
    "<span style=\"color: #000000; font-weight: bold;\">public</span> JettyEmbeddedServletContainerFactory  jettyEmbeddedServletContainerFactory<span style=\"color: #009900;\">(</span><span style=\"color: #009900;\">)</span> <span style=\"color: #009900;\">{</span>\n",
    "    JettyEmbeddedServletContainerFactory jettyContainer <span style=\"color: #339933;\">=</span> \n",
    "      <span style=\"color: #000000; font-weight: bold;\">new</span> JettyEmbeddedServletContainerFactory<span style=\"color: #009900;\">(</span><span style=\"color: #009900;\">)</span><span style=\"color: #339933;\">;</span>\n",
    "&nbsp;\n",
    "    jettyContainer.<span style=\"color: #006633;\">setPort</span><span style=\"color: #009900;\">(</span><span style=\"color: #cc66cc;\">7001</span><span style=\"color: #009900;\">)</span><span style=\"color: #339933;\">;</span>\n",
    "    jettyContainer.<span style=\"color: #006633;\">setContextPath</span><span style=\"color: #009900;\">(</span><span style=\"color: #0000ff;\">\"/springbootapp\"</span><span style=\"color: #009900;\">)</span><span style=\"color: #339933;\">;</span>\n",
    "    <span style=\"color: #000000; font-weight: bold;\">return</span> jettyContainer<span style=\"color: #339933;\">;</span>\n",
    "<span style=\"color: #009900;\">}</span></pre>"
   ]
  }
 ],
 "metadata": {
  "kernelspec": {
   "display_name": "Java",
   "language": "java",
   "name": "java"
  },
  "language_info": {
   "codemirror_mode": "text/x-java",
   "file_extension": ".java",
   "mimetype": "",
   "name": "Java",
   "nbconverter_exporter": "",
   "version": "1.8.0_121"
  },
  "toc": {
   "base_numbering": 1,
   "nav_menu": {},
   "number_sections": false,
   "sideBar": false,
   "skip_h1_title": false,
   "title_cell": "Table of Contents",
   "title_sidebar": "Contents",
   "toc_cell": false,
   "toc_position": {},
   "toc_section_display": false,
   "toc_window_display": false
  }
 },
 "nbformat": 4,
 "nbformat_minor": 5
}
