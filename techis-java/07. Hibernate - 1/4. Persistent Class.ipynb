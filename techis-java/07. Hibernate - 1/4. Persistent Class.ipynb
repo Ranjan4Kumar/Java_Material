{
 "cells": [
  {
   "cell_type": "markdown",
   "id": "95be7a00",
   "metadata": {},
   "source": [
    "<h1 class=\"entry-title\" itemprop=\"headline\">Persistent Class\n",
    "</h1>"
   ]
  },
  {
   "cell_type": "markdown",
   "id": "f28c19a7",
   "metadata": {},
   "source": [
    "<p>Persistent classes are those java classes whose objects have to be stored in the database tables. They should follow some simple rules of Plain Old Java Object programming model (POJO).</p>"
   ]
  },
  {
   "cell_type": "markdown",
   "id": "513a20f2",
   "metadata": {},
   "source": [
    "<h2>Some rules that should be, not must be followed by a persistence class.</h2>"
   ]
  },
  {
   "cell_type": "markdown",
   "id": "0e56f75a",
   "metadata": {},
   "source": [
    "<ol><li>A persistence class should have a default constructor.</li><li>A persistence class should have an id to uniquely identify the class objects.</li><li>All attributes should be declared private.</li><li>Public getter and setter methods should be defined to access the class attributes.</li></ol>"
   ]
  },
  {
   "cell_type": "markdown",
   "id": "6f003784",
   "metadata": {},
   "source": [
    "<h2>Example:</h2>"
   ]
  },
  {
   "cell_type": "markdown",
   "id": "f3dc53ba",
   "metadata": {},
   "source": [
    "<pre class=\"java\" style=\"font-family:monospace;\">\n",
    "<span style=\"color: #000000; font-weight: bold;\">public</span> <span style=\"color: #000000; font-weight: bold;\">class</span> Student <span style=\"color: #009900;\">{</span>\n",
    "\t<span style=\"color: #666666; font-style: italic;\">//data members</span>\n",
    "\t<span style=\"color: #000000; font-weight: bold;\">private</span> <span style=\"color: #000066; font-weight: bold;\">int</span> studentId<span style=\"color: #339933;\">;</span>\n",
    "\t<span style=\"color: #000000; font-weight: bold;\">private</span> <span style=\"color: #003399;\">String</span> firstName<span style=\"color: #339933;\">;</span>\n",
    "\t<span style=\"color: #000000; font-weight: bold;\">private</span> <span style=\"color: #003399;\">String</span> lastName<span style=\"color: #339933;\">;</span>\n",
    "\t<span style=\"color: #000000; font-weight: bold;\">private</span> <span style=\"color: #003399;\">String</span> className<span style=\"color: #339933;\">;</span>\n",
    "\t<span style=\"color: #000000; font-weight: bold;\">private</span> <span style=\"color: #003399;\">String</span> rollNo<span style=\"color: #339933;\">;</span>\n",
    "\t<span style=\"color: #000000; font-weight: bold;\">private</span> <span style=\"color: #000066; font-weight: bold;\">int</span> age<span style=\"color: #339933;\">;</span>\n",
    "&nbsp;\n",
    "\t<span style=\"color: #666666; font-style: italic;\">//no-argument constructor</span>\n",
    "\t<span style=\"color: #000000; font-weight: bold;\">public</span> Student<span style=\"color: #009900;\">(</span><span style=\"color: #009900;\">)</span><span style=\"color: #009900;\">{</span>\n",
    "&nbsp;\n",
    "\t<span style=\"color: #009900;\">}</span>\n",
    "&nbsp;\n",
    "\t<span style=\"color: #666666; font-style: italic;\">//getter and setter methods</span>\n",
    "\t<span style=\"color: #000000; font-weight: bold;\">public</span> <span style=\"color: #000066; font-weight: bold;\">int</span> getStudentId<span style=\"color: #009900;\">(</span><span style=\"color: #009900;\">)</span> <span style=\"color: #009900;\">{</span>\n",
    "\t\t<span style=\"color: #000000; font-weight: bold;\">return</span> studentId<span style=\"color: #339933;\">;</span>\n",
    "\t<span style=\"color: #009900;\">}</span>\n",
    "&nbsp;\n",
    "\t<span style=\"color: #000000; font-weight: bold;\">public</span> <span style=\"color: #000066; font-weight: bold;\">void</span> setStudentId<span style=\"color: #009900;\">(</span><span style=\"color: #000066; font-weight: bold;\">int</span> studentId<span style=\"color: #009900;\">)</span> <span style=\"color: #009900;\">{</span>\n",
    "\t\t<span style=\"color: #000000; font-weight: bold;\">this</span>.<span style=\"color: #006633;\">studentId</span> <span style=\"color: #339933;\">=</span> studentId<span style=\"color: #339933;\">;</span>\n",
    "\t<span style=\"color: #009900;\">}</span>\n",
    "&nbsp;\n",
    "\t<span style=\"color: #000000; font-weight: bold;\">public</span> <span style=\"color: #003399;\">String</span> getFirstName<span style=\"color: #009900;\">(</span><span style=\"color: #009900;\">)</span> <span style=\"color: #009900;\">{</span>\n",
    "\t\t<span style=\"color: #000000; font-weight: bold;\">return</span> firstName<span style=\"color: #339933;\">;</span>\n",
    "\t<span style=\"color: #009900;\">}</span>\n",
    "&nbsp;\n",
    "\t<span style=\"color: #000000; font-weight: bold;\">public</span> <span style=\"color: #000066; font-weight: bold;\">void</span> setFirstName<span style=\"color: #009900;\">(</span><span style=\"color: #003399;\">String</span> firstName<span style=\"color: #009900;\">)</span> <span style=\"color: #009900;\">{</span>\n",
    "\t\t<span style=\"color: #000000; font-weight: bold;\">this</span>.<span style=\"color: #006633;\">firstName</span> <span style=\"color: #339933;\">=</span> firstName<span style=\"color: #339933;\">;</span>\n",
    "\t<span style=\"color: #009900;\">}</span>\n",
    "&nbsp;\n",
    "\t<span style=\"color: #000000; font-weight: bold;\">public</span> <span style=\"color: #003399;\">String</span> getLastName<span style=\"color: #009900;\">(</span><span style=\"color: #009900;\">)</span> <span style=\"color: #009900;\">{</span>\n",
    "\t\t<span style=\"color: #000000; font-weight: bold;\">return</span> lastName<span style=\"color: #339933;\">;</span>\n",
    "\t<span style=\"color: #009900;\">}</span>\n",
    "&nbsp;\n",
    "\t<span style=\"color: #000000; font-weight: bold;\">public</span> <span style=\"color: #000066; font-weight: bold;\">void</span> setLastName<span style=\"color: #009900;\">(</span><span style=\"color: #003399;\">String</span> lastName<span style=\"color: #009900;\">)</span> <span style=\"color: #009900;\">{</span>\n",
    "\t\t<span style=\"color: #000000; font-weight: bold;\">this</span>.<span style=\"color: #006633;\">lastName</span> <span style=\"color: #339933;\">=</span> lastName<span style=\"color: #339933;\">;</span>\n",
    "\t<span style=\"color: #009900;\">}</span>\n",
    "&nbsp;\n",
    "\t<span style=\"color: #000000; font-weight: bold;\">public</span> <span style=\"color: #003399;\">String</span> getClassName<span style=\"color: #009900;\">(</span><span style=\"color: #009900;\">)</span> <span style=\"color: #009900;\">{</span>\n",
    "\t\t<span style=\"color: #000000; font-weight: bold;\">return</span> className<span style=\"color: #339933;\">;</span>\n",
    "\t<span style=\"color: #009900;\">}</span>\n",
    "&nbsp;\n",
    "\t<span style=\"color: #000000; font-weight: bold;\">public</span> <span style=\"color: #000066; font-weight: bold;\">void</span> setClassName<span style=\"color: #009900;\">(</span><span style=\"color: #003399;\">String</span> className<span style=\"color: #009900;\">)</span> <span style=\"color: #009900;\">{</span>\n",
    "\t\t<span style=\"color: #000000; font-weight: bold;\">this</span>.<span style=\"color: #006633;\">className</span> <span style=\"color: #339933;\">=</span> className<span style=\"color: #339933;\">;</span>\n",
    "\t<span style=\"color: #009900;\">}</span>\n",
    "&nbsp;\n",
    "\t<span style=\"color: #000000; font-weight: bold;\">public</span> <span style=\"color: #003399;\">String</span> getRollNo<span style=\"color: #009900;\">(</span><span style=\"color: #009900;\">)</span> <span style=\"color: #009900;\">{</span>\n",
    "\t\t<span style=\"color: #000000; font-weight: bold;\">return</span> rollNo<span style=\"color: #339933;\">;</span>\n",
    "\t<span style=\"color: #009900;\">}</span>\t\n",
    "&nbsp;\n",
    "\t<span style=\"color: #000000; font-weight: bold;\">public</span> <span style=\"color: #000066; font-weight: bold;\">void</span> setRollNo<span style=\"color: #009900;\">(</span><span style=\"color: #003399;\">String</span> rollNo<span style=\"color: #009900;\">)</span> <span style=\"color: #009900;\">{</span>\n",
    "\t\t<span style=\"color: #000000; font-weight: bold;\">this</span>.<span style=\"color: #006633;\">rollNo</span> <span style=\"color: #339933;\">=</span> rollNo<span style=\"color: #339933;\">;</span>\n",
    "\t<span style=\"color: #009900;\">}</span>\n",
    "&nbsp;\n",
    "\t<span style=\"color: #000000; font-weight: bold;\">public</span> <span style=\"color: #000066; font-weight: bold;\">int</span> getAge<span style=\"color: #009900;\">(</span><span style=\"color: #009900;\">)</span> <span style=\"color: #009900;\">{</span>\n",
    "\t\t<span style=\"color: #000000; font-weight: bold;\">return</span> age<span style=\"color: #339933;\">;</span>\n",
    "\t<span style=\"color: #009900;\">}</span>\n",
    "&nbsp;\n",
    "\t<span style=\"color: #000000; font-weight: bold;\">public</span> <span style=\"color: #000066; font-weight: bold;\">void</span> setAge<span style=\"color: #009900;\">(</span><span style=\"color: #000066; font-weight: bold;\">int</span> age<span style=\"color: #009900;\">)</span> <span style=\"color: #009900;\">{</span>\n",
    "\t\t<span style=\"color: #000000; font-weight: bold;\">this</span>.<span style=\"color: #006633;\">age</span> <span style=\"color: #339933;\">=</span> age<span style=\"color: #339933;\">;</span>\n",
    "\t<span style=\"color: #009900;\">}</span>\n",
    "<span style=\"color: #009900;\">}</span></pre>"
   ]
  }
 ],
 "metadata": {
  "kernelspec": {
   "display_name": "Java",
   "language": "java",
   "name": "java"
  },
  "language_info": {
   "codemirror_mode": "text/x-java",
   "file_extension": ".java",
   "mimetype": "",
   "name": "Java",
   "nbconverter_exporter": "",
   "version": "1.8.0_121"
  },
  "toc": {
   "base_numbering": 1,
   "nav_menu": {},
   "number_sections": false,
   "sideBar": false,
   "skip_h1_title": false,
   "title_cell": "Table of Contents",
   "title_sidebar": "Contents",
   "toc_cell": false,
   "toc_position": {},
   "toc_section_display": false,
   "toc_window_display": false
  }
 },
 "nbformat": 4,
 "nbformat_minor": 5
}
