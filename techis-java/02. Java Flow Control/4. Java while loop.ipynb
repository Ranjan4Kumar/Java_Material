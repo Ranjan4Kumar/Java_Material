{
 "cells": [
  {
   "cell_type": "markdown",
   "id": "edc1f612",
   "metadata": {},
   "source": [
    " <h1>Java while and do...while Loop</h1>"
   ]
  },
  {
   "cell_type": "markdown",
   "id": "7d3c917c",
   "metadata": {},
   "source": [
    " > <p id=\"introduction\">In computer programming, loops are used to repeat a block of code. For example, if you want to show a message 100 times, then you can use a loop. It's just a simple example; you can achieve much more with loops.</p>\n"
   ]
  },
  {
   "cell_type": "markdown",
   "id": "9510edca",
   "metadata": {},
   "source": [
    "<h2 id=\"while-loop\">Java while loop</h2>\n",
    "\n",
    "><p>Java <code>while</code> loop is used to run a specific code until a certain condition is met. The syntax of the <code>while</code> loop is:</p>\n",
    "><pre>\n",
    "<code>while (testExpression) {\n",
    "    // body of loop\n",
    "}</code></pre>\n",
    "><p>Here,</p>\n",
    "><ol><li>A <code>while</code> loop evaluates the <strong>textExpression</strong> inside the parenthesis <code>()</code>.</li>\n",
    "\t<li>If the <strong>textExpression</strong> evaluates to <code>true</code>, the code inside the <code>while</code> loop is executed.</li>\n",
    "\t<li>The <strong>textExpression</strong> is evaluated again.</li>\n",
    "\t<li>This process continues until the <strong>textExpression</strong> is <code>false</code>.</li>\n",
    "\t<li>When the <strong>textExpression</strong> evaluates to <code>false</code>, the loop stops.</li>\n",
    "</ol>"
   ]
  },
  {
   "cell_type": "markdown",
   "id": "58ec07c0",
   "metadata": {},
   "source": [
    "<b>Example :</b><i> Display Numbers from 1 to 5"
   ]
  },
  {
   "cell_type": "code",
   "execution_count": 1,
   "id": "2fc8c5f5",
   "metadata": {},
   "outputs": [
    {
     "name": "stdout",
     "output_type": "stream",
     "text": [
      "1\n",
      "2\n",
      "3\n",
      "4\n",
      "5\n"
     ]
    },
    {
     "data": {
      "text/plain": [
       "null"
      ]
     },
     "execution_count": 1,
     "metadata": {},
     "output_type": "execute_result"
    }
   ],
   "source": [
    "// declare variables\n",
    "    int i = 1, n = 5;\n",
    "\n",
    "    // while loop from 1 to 5\n",
    "    while(i <= n) {\n",
    "      System.out.println(i);\n",
    "      i++;\n",
    "    }"
   ]
  },
  {
   "cell_type": "markdown",
   "id": "4293f4c7",
   "metadata": {},
   "source": [
    "><p><strong>Output</strong></p>\n",
    "><pre>\n",
    "<samp>1\n",
    "2\n",
    "3\n",
    "4\n",
    "5</samp></pre>"
   ]
  },
  {
   "cell_type": "markdown",
   "id": "a40671ed",
   "metadata": {},
   "source": [
    "<p>Here is how this program works.</p>\n",
    "\n",
    "<br><div class=\"table-responsive\">\n",
    "\t<table align=\"left\"><thead><tr><th>Iteration</th>\n",
    "\t\t\t\t<th>Variable</th>\n",
    "\t\t\t\t<th>Condition: i &lt;= n</th>\n",
    "\t\t\t\t<th>Action</th>\n",
    "\t\t\t</tr></thead><tbody><tr><td>1st</td>\n",
    "\t\t\t\t<td><code>i = 1</code><br><code>n = 5</code></td>\n",
    "\t\t\t\t<td><code>true</code></td>\n",
    "\t\t\t\t<td><samp>1</samp> is printed.<br><var>i</var> is increased to <strong>2</strong>.</td>\n",
    "\t\t\t</tr><tr><td>2nd</td>\n",
    "\t\t\t\t<td><code>i = 2</code><br><code>n = 5</code></td>\n",
    "\t\t\t\t<td><code>true</code></td>\n",
    "\t\t\t\t<td><samp>2</samp> is printed.<br><var>i</var> is increased to <strong>3</strong>.</td>\n",
    "\t\t\t</tr><tr><td>3rd</td>\n",
    "\t\t\t\t<td><code>i = 3</code><br><code>n = 5</code></td>\n",
    "\t\t\t\t<td><code>true</code></td>\n",
    "\t\t\t\t<td><samp>3</samp> is printed.<br><var>i</var> is increased to <strong>4</strong>.</td>\n",
    "\t\t\t</tr><tr><td>4th</td>\n",
    "\t\t\t\t<td><code>i = 4</code><br><code>n = 5</code></td>\n",
    "\t\t\t\t<td><code>true</code></td>\n",
    "\t\t\t\t<td><samp>4</samp> is printed.<br><var>i</var> is increased to <strong>5</strong>.</td>\n",
    "\t\t\t</tr><tr><td>5th</td>\n",
    "\t\t\t\t<td><code>i = 5</code><br><code>n = 5</code></td>\n",
    "\t\t\t\t<td><code>true</code></td>\n",
    "\t\t\t\t<td><samp>5</samp> is printed.<br><var>i</var> is increased to <strong>6</strong>.</td>\n",
    "\t\t\t</tr><tr><td>6th</td>\n",
    "\t\t\t\t<td><code>i = 6</code><br><code>n = 5</code></td>\n",
    "\t\t\t\t<td><code>false</code></td>\n",
    "\t\t\t\t<td>The loop is terminated</td>\n",
    "\t\t\t</tr></tbody></table></div>"
   ]
  },
  {
   "cell_type": "markdown",
   "id": "914b5849",
   "metadata": {},
   "source": [
    "<h2>Java do...while loop</h2>\n",
    "\n",
    "><p>The <code>do...while</code> loop is similar to while loop. However, the body of <code>do...while</code> loop is executed once before the test expression is checked. For example,</p>\n",
    "><pre>\n",
    "<code>do {\n",
    "    // body of loop\n",
    "} while(textExpression);</code></pre>\n",
    "><p>Here,</p>\n",
    "><ol><li>The body of the loop is executed at first. Then the <strong>textExpression</strong> is evaluated.</li>\n",
    "\t<li>If the <strong>textExpression</strong> evaluates to <code>true</code>, the body of the loop inside the <code>do</code> statement is executed again.</li>\n",
    "\t<li>The <strong>textExpression</strong> is evaluated once again.</li>\n",
    "\t<li>If the <strong>textExpression</strong> evaluates to <code>true</code>, the body of the loop inside the <code>do</code> statement is executed again.</li>\n",
    "\t<li>This process continues until the <strong>textExpression</strong> evaluates to <code>false</code>. Then the loop stops.</li>\n",
    "</ol>"
   ]
  },
  {
   "cell_type": "markdown",
   "id": "ca8317e2",
   "metadata": {},
   "source": [
    "<b>Example :</b><i> Sum of Positive Numbers"
   ]
  },
  {
   "cell_type": "code",
   "execution_count": null,
   "id": "e846e0bc",
   "metadata": {},
   "outputs": [
    {
     "name": "stdout",
     "output_type": "stream",
     "text": [
      "Enter a number\n",
      "10\n",
      "Enter a number\n",
      "20\n",
      "Enter a number\n",
      "0\n",
      "Enter a number\n",
      "-1\n",
      "Sum = 30\n"
     ]
    },
    {
     "data": {
      "text/plain": [
       "null"
      ]
     },
     "execution_count": 3,
     "metadata": {},
     "output_type": "execute_result"
    }
   ],
   "source": [
    "import java.util.Scanner;\n",
    "\n",
    "int sum = 0;\n",
    "    int number = 0;\n",
    "\n",
    "    // create an object of Scanner class\n",
    "    Scanner input = new Scanner(System.in);\n",
    "    // do...while loop continues \n",
    "    // until entered number is positive\n",
    "    do {\n",
    "      // add only positive numbers\n",
    "      sum += number;\n",
    "      System.out.println(\"Enter a number\");\n",
    "      number = input.nextInt();\n",
    "    } while(number >= 0); \n",
    "    System.out.println(\"Sum = \" + sum);\n",
    "    input.close();"
   ]
  },
  {
   "cell_type": "markdown",
   "id": "74bb2da8",
   "metadata": {},
   "source": [
    "><p><strong>Output 1</strong></p>\n",
    "><pre>\n",
    "<samp>Enter a number\n",
    "25\n",
    "Enter a number\n",
    "9\n",
    "Enter a number\n",
    "5\n",
    "Enter a number\n",
    "-3\n",
    "Sum = 39</samp></pre>"
   ]
  },
  {
   "cell_type": "markdown",
   "id": "304467c0",
   "metadata": {},
   "source": [
    "<h3 id=\"infinite-loop\">Infinite while loop</h3>\n",
    "\n",
    "> <p>If <strong>the condition</strong> of a loop is always <code>true</code>, the loop runs for infinite times (until the memory is full). For example,</p>\n",
    "><pre>\n",
    "<code>// infinite while loop\n",
    "while(true){\n",
    "    // body of loop\n",
    "}</code></pre>\n",
    "\n",
    "\n",
    "><pre>\n",
    "><code>// infinite do...while loop\n",
    "int count = 1;\n",
    "do {\n",
    "   // body of loop\n",
    "} while(count == 1)</code></pre>"
   ]
  }
 ],
 "metadata": {
  "kernelspec": {
   "display_name": "Java",
   "language": "java",
   "name": "java"
  },
  "language_info": {
   "codemirror_mode": "text/x-java",
   "file_extension": ".java",
   "mimetype": "",
   "name": "Java",
   "nbconverter_exporter": "",
   "version": "1.8.0_121"
  },
  "toc": {
   "base_numbering": 1,
   "nav_menu": {},
   "number_sections": false,
   "sideBar": false,
   "skip_h1_title": false,
   "title_cell": "Table of Contents",
   "title_sidebar": "Contents",
   "toc_cell": false,
   "toc_position": {},
   "toc_section_display": false,
   "toc_window_display": false
  }
 },
 "nbformat": 4,
 "nbformat_minor": 5
}
