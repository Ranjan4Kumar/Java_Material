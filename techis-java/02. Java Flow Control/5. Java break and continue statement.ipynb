{
 "cells": [
  {
   "cell_type": "markdown",
   "id": "5111e2fd",
   "metadata": {},
   "source": [
    "<h1>Java break Statement </h1>"
   ]
  },
  {
   "cell_type": "markdown",
   "id": "de2e5609",
   "metadata": {},
   "source": [
    "><p >While working with loops, it is sometimes desirable to skip some statements inside the loop or terminate the loop immediately without checking the test expression.</p>\n",
    "><p>In such cases, <code>break</code> and <code>continue</code> statements are used. "
   ]
  },
  {
   "cell_type": "markdown",
   "id": "fe86919b",
   "metadata": {},
   "source": [
    "><p>The <code>break</code> statement in Java terminates the loop immediately, and the control of the program moves to the next statement following the loop.</p>\n",
    "><p>Here is the syntax of the break statement in Java:</p>\n",
    "><pre>\n",
    "<code>break;</code></pre>\n",
    "\n",
    "<b>Example 1:</b><i> Java break statement"
   ]
  },
  {
   "cell_type": "code",
   "execution_count": 2,
   "id": "0df27a93",
   "metadata": {},
   "outputs": [
    {
     "name": "stdout",
     "output_type": "stream",
     "text": [
      "1\n",
      "2\n",
      "3\n",
      "4\n"
     ]
    },
    {
     "data": {
      "text/plain": [
       "null"
      ]
     },
     "execution_count": 2,
     "metadata": {},
     "output_type": "execute_result"
    }
   ],
   "source": [
    " // for loop\n",
    "        for (int i = 1; i <= 10; ++i) {\n",
    "\n",
    "            // if the value of i is 5 the loop terminates  \n",
    "            if (i == 5) {\n",
    "                break;\n",
    "            }      \n",
    "            System.out.println(i);\n",
    "        } "
   ]
  },
  {
   "cell_type": "markdown",
   "id": "0ff8678f",
   "metadata": {},
   "source": [
    "><p><strong>Output</strong>:</p>\n",
    "><pre>\n",
    "<samp>1\n",
    "2\n",
    "3\n",
    "4</samp></pre>"
   ]
  },
  {
   "cell_type": "markdown",
   "id": "8097f754",
   "metadata": {},
   "source": [
    "<b>Note:</b> In the case of nested loops, the break statement terminates the innermost loop.\n"
   ]
  },
  {
   "cell_type": "markdown",
   "id": "af528c5c",
   "metadata": {},
   "source": [
    "<h1>Java continue Statement</h1>\n",
    "\n",
    "><p>While working with loops, sometimes you might want to skip some statements or terminate the loop. In such cases, <code>break</code> and <code>continue</code> statements are used.</p>"
   ]
  },
  {
   "cell_type": "markdown",
   "id": "d81dda2d",
   "metadata": {},
   "source": [
    "<h2 id=\"continue\">Java continue</h2>\n",
    "\n",
    "><p>The <code>continue</code> statement skips the current iteration of a loop (<code>for</code>, <code>while</code>, ><code>do...while</code>, etc).</p>\n",
    "><p>After the <code>continue</code> statement, the program moves to the end of the loop. And, test expression is evaluated (update statement is evaluated in case of the for loop).</p>\n",
    "><p>Here's the syntax of the continue statement.</p>\n",
    "><pre>\n",
    "<code>continue;</code></pre>\n",
    "\n",
    "<b>Example 1:</b><i> Java continue statement\n"
   ]
  },
  {
   "cell_type": "code",
   "execution_count": 4,
   "id": "365e9a23",
   "metadata": {},
   "outputs": [
    {
     "name": "stdout",
     "output_type": "stream",
     "text": [
      "1\n",
      "2\n",
      "3\n",
      "4\n",
      "9\n",
      "10\n"
     ]
    },
    {
     "data": {
      "text/plain": [
       "null"
      ]
     },
     "execution_count": 4,
     "metadata": {},
     "output_type": "execute_result"
    }
   ],
   "source": [
    "    // for loop\n",
    "    for (int i = 1; i <= 10; ++i) {\n",
    "\n",
    "      // if value of i is between 4 and 9\n",
    "      // continue is executed\n",
    "      if (i > 4 && i < 9) {\n",
    "        continue;\n",
    "      }\n",
    "      System.out.println(i);\n",
    "    }"
   ]
  },
  {
   "cell_type": "markdown",
   "id": "ffc4f50a",
   "metadata": {},
   "source": [
    "><p><strong>Output</strong>:</p>\n",
    "><pre>\n",
    "<samp>1\n",
    "2\n",
    "3\n",
    "4\n",
    "9\n",
    "10</samp></pre>"
   ]
  },
  {
   "cell_type": "markdown",
   "id": "1329912c",
   "metadata": {},
   "source": [
    "><p>In the above program, we are using the <code>for</code> loop to print the value of <var>i </var>  in each iteration.\n",
    "   "
   ]
  },
  {
   "cell_type": "markdown",
   "id": "6995057c",
   "metadata": {},
   "source": [
    "<b>Note: </b> <i>In the case of nested loops in Java, the continue statement skips the current iteration of the innermost loop."
   ]
  }
 ],
 "metadata": {
  "kernelspec": {
   "display_name": "Java",
   "language": "java",
   "name": "java"
  },
  "language_info": {
   "codemirror_mode": "text/x-java",
   "file_extension": ".java",
   "mimetype": "",
   "name": "Java",
   "nbconverter_exporter": "",
   "version": "1.8.0_121"
  },
  "toc": {
   "base_numbering": 1,
   "nav_menu": {},
   "number_sections": false,
   "sideBar": false,
   "skip_h1_title": false,
   "title_cell": "Table of Contents",
   "title_sidebar": "Contents",
   "toc_cell": false,
   "toc_position": {},
   "toc_section_display": false,
   "toc_window_display": false
  }
 },
 "nbformat": 4,
 "nbformat_minor": 5
}
