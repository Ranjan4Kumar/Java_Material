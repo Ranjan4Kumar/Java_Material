{
 "cells": [
  {
   "cell_type": "markdown",
   "id": "b1719191",
   "metadata": {},
   "source": [
    "# Java if...else statement\n",
    "\n",
    "\n",
    "<br> <div class=\"content\">\n",
    "> <p id=\"introduction\">In programming, we use the <code>if..else</code> statement to run a block of code among more than one alternatives.</p>\n",
    "> <p>For example, assigning grades (A, B, C) based on the percentage obtained by a student.</p>\n",
    "> <ul><li>if the percentage is above <strong>90</strong>, assign grade <strong>A</strong></li>\n",
    "\t<li>if the percentage is above <strong>75</strong>, assign grade <strong>B</strong></li>\n",
    "\t<li>if the percentage is above <strong>65</strong>, assign grade <strong>C</strong></li>\n",
    "</ul><hr><h2 id=\"if-then\">1. Java if (if-then) Statement</h2>\n",
    "\n",
    "<p>The syntax of an <strong>if-then</strong> statement is:</p>\n",
    "\n",
    "> <pre>\n",
    "<code>if (condition) {\n",
    "  // statements\n",
    "}</code></pre>\n",
    "> <p>Here, <var>condition</var> is a boolean expression such as <code>age &gt;= 18</code>.</p>\n",
    "    <ul><li>if <var>condition</var> evaluates to <code>true</code>, statements are executed</li>\n",
    "\t<li>if <var>condition</var> evaluates to <code>false</code>, statements are skipped</li>\n",
    "    \n",
    "<b>Example:"
   ]
  },
  {
   "cell_type": "code",
   "execution_count": 1,
   "id": "7c5d09e0",
   "metadata": {},
   "outputs": [
    {
     "data": {
      "text/plain": [
       "com.twosigma.beaker.javash.bkr8cf80e9a.IfStatement"
      ]
     },
     "execution_count": 1,
     "metadata": {},
     "output_type": "execute_result"
    }
   ],
   "source": [
    "class IfStatement {\n",
    "  public static void main(String[] args) {\n",
    "\n",
    "    int number = 10;\n",
    "\n",
    "    // checks if number is less than 0\n",
    "    if (number < 0) {\n",
    "      System.out.println(\"The number is negative.\");\n",
    "    }\n",
    "\n",
    "    System.out.println(\"Statement outside if block\");\n",
    "  }\n",
    "}"
   ]
  },
  {
   "cell_type": "markdown",
   "id": "e4fb4409",
   "metadata": {},
   "source": [
    "<p><strong>Output</strong></p>\n",
    "\n",
    "<pre><samp>Statement outside if block</samp></pre>\n",
    "\n",
    "> <p>In the program, <code>number &lt; 0</code> is <code>false</code>. Hence, the code inside the body of the <code>if</code> statement is <strong>skipped</strong>.</p>\n"
   ]
  },
  {
   "cell_type": "markdown",
   "id": "3e7cb3c3",
   "metadata": {},
   "source": [
    "<hr><h2 id=\"if-else\">2. Java if...else (if-then-else) Statement</h2>\n",
    "\n",
    "><p>The <code>if</code> statement executes a certain section of code if the test expression is evaluated to <code>true</code>. However, if the test expression is evaluated to <code>false</code>, it does nothing.</p>\n",
    "><p>In this case, we can use an optional <code>else</code> block. Statements inside the body of <code>else</code> block are executed if the test expression is evaluated to <code>false</code>. This is known as the <strong>if-...else</strong> statement in Java.</p>\n",
    "><p>The syntax of the <strong>if...else</strong> statement is:</p>\n",
    "><pre>\n",
    "<code>if (condition) {\n",
    "  // codes in if block\n",
    "}\n",
    "else {\n",
    "  // codes in else block\n",
    "}</code></pre>\n",
    "><p>Here, the program will do one task (codes inside <code>if</code> block) if the condition is <code>true</code> and another task (codes inside <code>else</code> block) if the condition is <code>false</code>.</p>\n",
    "> <h3 id=\"if-else-example\">Example: Java if...else Statement</h3>\n"
   ]
  },
  {
   "cell_type": "code",
   "execution_count": 5,
   "id": "35b7212a",
   "metadata": {},
   "outputs": [
    {
     "data": {
      "text/plain": [
       "com.twosigma.beaker.javash.bkr8cf80e9a.Main"
      ]
     },
     "execution_count": 5,
     "metadata": {},
     "output_type": "execute_result"
    }
   ],
   "source": [
    "class Main {\n",
    "  public static void main(String[] args) {\n",
    "    int number = 10;\n",
    "\n",
    "    // checks if number is greater than 0\n",
    "    if (number > 0) {\n",
    "      System.out.println(\"The number is positive.\");\n",
    "    }\n",
    "    \n",
    "    // execute this block\n",
    "    // if number is not greater than 0\n",
    "    else {\n",
    "      System.out.println(\"The number is not positive.\");\n",
    "    }\n",
    "\n",
    "    System.out.println(\"Statement outside if...else block\");\n",
    "  }\n",
    "}"
   ]
  },
  {
   "cell_type": "markdown",
   "id": "bad264e8",
   "metadata": {},
   "source": [
    "><p><strong>Output</strong></p>\n",
    "><pre>\n",
    "<samp>The number is positive.\n",
    "Statement outside if...else block</samp></pre>\n",
    "\n",
    "><p>In the above example, we have a variable named <var>number</var>. Here, the test expression <code>number &gt; 0</code> checks if <var>number</var> is greater than 0.</p>\n",
    "><p>Since the value of the <var>number</var> is <var>10</var>, the test expression evaluates to <code>true</code>. Hence code inside the body of <code>if</code> is executed.</p>\n"
   ]
  },
  {
   "cell_type": "markdown",
   "id": "7e5b2ce6",
   "metadata": {},
   "source": [
    "> <p>Now, change the value of the <var>number</var> to a negative integer. Let's say <var>-5</var>.</p>\n",
    "> <pre>\n",
    "<code>int number = -5;</code></pre>\n",
    "><p>If we run the program with the new value of <var>number</var>, the output will be:</p>\n",
    "><pre>\n",
    "<samp>The number is not positive.\n",
    "Statement outside if...else block</samp></pre>\n",
    "><p>Here, the value of <var>number</var> is <var>-5</var>. So the test expression evaluates to <code>false</code>. Hence code inside the body of <code>else</code> is executed.</p>\n"
   ]
  },
  {
   "cell_type": "markdown",
   "id": "472675a8",
   "metadata": {},
   "source": [
    "<h2 id=\"if-else-ladder\">3. Java if...else...if Statement</h2>\n",
    "\n",
    "> <p>In Java, we have an <strong>if...else...if</strong> ladder, that can be used to execute one block of code among multiple other blocks.</p>\n",
    "><pre>\n",
    "<code>if (condition1) {\n",
    "  // codes\n",
    "}\n",
    "else if(condition2) {\n",
    "  // codes\n",
    "}\n",
    "else if (condition3) {\n",
    "  // codes\n",
    "}\n",
    ".\n",
    ".\n",
    "else {\n",
    "  // codes\n",
    "}</code></pre>\n",
    "\n",
    "><p>Here, <code>if</code> statements are executed from the top towards the bottom. When the test condition is <code>true</code>, codes inside the body of that <code>if</code> block is executed. And, program control jumps outside the <strong>if...else...if</strong> ladder.</p>\n",
    "><p>If all test expressions are <code>false</code>, codes inside the body of <code>else</code> are executed.</p>\n",
    "\n",
    "<b>Example:\n"
   ]
  },
  {
   "cell_type": "code",
   "execution_count": 7,
   "id": "929e4184",
   "metadata": {},
   "outputs": [
    {
     "data": {
      "text/plain": [
       "com.twosigma.beaker.javash.bkr8cf80e9a.Main"
      ]
     },
     "execution_count": 7,
     "metadata": {},
     "output_type": "execute_result"
    }
   ],
   "source": [
    "class Main {\n",
    "  public static void main(String[] args) {\n",
    "\n",
    "    int number = 0;\n",
    "\n",
    "    // checks if number is greater than 0\n",
    "    if (number > 0) {\n",
    "      System.out.println(\"The number is positive.\");\n",
    "    }\n",
    "\n",
    "    // checks if number is less than 0\n",
    "    else if (number < 0) {\n",
    "      System.out.println(\"The number is negative.\");\n",
    "    }\n",
    "    \n",
    "    // if both condition is false\n",
    "    else {\n",
    "      System.out.println(\"The number is 0.\");\n",
    "    }\n",
    "  }\n",
    "}"
   ]
  },
  {
   "cell_type": "markdown",
   "id": "97732e28",
   "metadata": {},
   "source": [
    "><p><strong>Output</strong></p>\n",
    "><pre>\n",
    "> <samp>The number is 0.</samp></pre>\n",
    "\n",
    "><p>In the above example, we are checking whether <var>number</var> is <strong>positive</strong>, <strong>negative</strong>, or <strong>zero</strong>. Here, we have two condition expressions:</p>\n",
    "> <ul><li><code>number &gt; 0</code> - checks if <var>number</var> is greater than <var>0</var></li>\n",
    "\t<li><code>number &lt; 0</code> - checks if <var>number</var> is less than <var>0</var></li>\n",
    "</ul>\n",
    "<p>Here, the value of <var>number</var> is <var>0</var>. So both the conditions evaluate to <code>false</code>. Hence the statement inside the body of <code>else</code> is executed.</p>"
   ]
  },
  {
   "cell_type": "markdown",
   "id": "fbabfa2b",
   "metadata": {},
   "source": [
    "<h2 id=\"nested-if-else\">4. Java Nested if..else Statement</h2>\n",
    "\n",
    "><p>In Java, it is also possible to use <code>if..else</code> statements inside an <code>if...else</code> statement. It's called the nested <code>if...else</code> statement.</p>\n",
    "><p>Here's a program to find the largest of <strong>3</strong> numbers using the nested <code>if...else</code> statement.</p>\n",
    "\n",
    "<b>Example:"
   ]
  },
  {
   "cell_type": "code",
   "execution_count": 8,
   "id": "1b662f35",
   "metadata": {},
   "outputs": [
    {
     "data": {
      "text/plain": [
       "com.twosigma.beaker.javash.bkr8cf80e9a.Main"
      ]
     },
     "execution_count": 8,
     "metadata": {},
     "output_type": "execute_result"
    }
   ],
   "source": [
    "class Main {\n",
    "  public static void main(String[] args) {\n",
    "\n",
    "    // declaring double type variables\n",
    "    Double n1 = -1.0, n2 = 4.5, n3 = -5.3, largest;\n",
    "\n",
    "    // checks if n1 is greater than or equal to n2\n",
    "    if (n1 >= n2) {\n",
    "\n",
    "      // if...else statement inside the if block\n",
    "      // checks if n1 is greater than or equal to n3\n",
    "      if (n1 >= n3) {\n",
    "        largest = n1;\n",
    "      }\n",
    "\n",
    "      else {\n",
    "        largest = n3;\n",
    "      }\n",
    "    } else {\n",
    "\n",
    "      // if..else statement inside else block\n",
    "      // checks if n2 is greater than or equal to n3\n",
    "      if (n2 >= n3) {\n",
    "        largest = n2;\n",
    "      }\n",
    "\n",
    "      else {\n",
    "        largest = n3;\n",
    "      }\n",
    "    }\n",
    "\n",
    "    System.out.println(\"Largest Number: \" + largest);\n",
    "  }\n",
    "}"
   ]
  },
  {
   "cell_type": "markdown",
   "id": "47ff26ce",
   "metadata": {},
   "source": [
    "><p><strong>Output</strong>:</p>\n",
    "><pre>\n",
    "><samp>Largest Number: 4.5</samp></pre>\n",
    "\n",
    "><p>In the above programs, we have assigned the value of variables ourselves to make this easier.</p>\n"
   ]
  }
 ],
 "metadata": {
  "kernelspec": {
   "display_name": "Java",
   "language": "java",
   "name": "java"
  },
  "language_info": {
   "codemirror_mode": "text/x-java",
   "file_extension": ".java",
   "mimetype": "",
   "name": "Java",
   "nbconverter_exporter": "",
   "version": "1.8.0_121"
  },
  "toc": {
   "base_numbering": 1,
   "nav_menu": {},
   "number_sections": false,
   "sideBar": false,
   "skip_h1_title": false,
   "title_cell": "Table of Contents",
   "title_sidebar": "Contents",
   "toc_cell": false,
   "toc_position": {},
   "toc_section_display": false,
   "toc_window_display": false
  }
 },
 "nbformat": 4,
 "nbformat_minor": 5
}
