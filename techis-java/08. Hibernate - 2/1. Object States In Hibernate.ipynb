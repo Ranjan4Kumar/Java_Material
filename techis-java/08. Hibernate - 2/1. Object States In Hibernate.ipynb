{
 "cells": [
  {
   "cell_type": "markdown",
   "id": "0f08ba07",
   "metadata": {},
   "source": [
    "<h1 class=\"entry-title\" itemprop=\"headline\">Object States In Hibernate\n",
    "\n",
    "</h1>"
   ]
  },
  {
   "cell_type": "markdown",
   "id": "668f4f40",
   "metadata": {},
   "source": [
    "<h2>A persistent class object can be in one of the following three states:</h2>"
   ]
  },
  {
   "cell_type": "markdown",
   "id": "a6632d16",
   "metadata": {},
   "source": [
    "<ol><li><strong>Transient.</strong></li><li><strong>Persistent.</strong></li><li><strong>Detached.</strong></li></ol>"
   ]
  },
  {
   "cell_type": "markdown",
   "id": "49e7cbba",
   "metadata": {},
   "source": [
    "<h2>1. Transient:</h2>"
   ]
  },
  {
   "cell_type": "markdown",
   "id": "f6758717",
   "metadata": {},
   "source": [
    "<p>A persistent class object is said to be in transient state if it is not associated with hibernate session.</p>"
   ]
  },
  {
   "cell_type": "markdown",
   "id": "68987f03",
   "metadata": {},
   "source": [
    "<h2>2. Persistent:</h2>"
   ]
  },
  {
   "cell_type": "markdown",
   "id": "7755a3e7",
   "metadata": {},
   "source": [
    "<p>A persistent class object is said to be in transient state if it is associated with hibernate session.</p>"
   ]
  },
  {
   "cell_type": "markdown",
   "id": "0a56bf95",
   "metadata": {},
   "source": [
    "<h2>3. Detached:</h2>"
   ]
  },
  {
   "cell_type": "markdown",
   "id": "8fef3a31",
   "metadata": {},
   "source": [
    "<p>A persistent object becomes detached object when hibernate session is closed.</p>"
   ]
  },
  {
   "cell_type": "markdown",
   "id": "5c14ca64",
   "metadata": {},
   "source": [
    "<h2>Example:</h2>"
   ]
  },
  {
   "cell_type": "code",
   "execution_count": null,
   "id": "9d0058dc",
   "metadata": {},
   "outputs": [],
   "source": [
    "//Create the student object. Student object is in trabsient state here.\n",
    "Student student = new Student();\n",
    " \n",
    "//Setting the object properties.\n",
    "student.setFirstName(\"Vivek\");\n",
    "student.setLastName(\"Solenki\");\n",
    "student.setClassName(\"MCA final\");\n",
    "student.setRollNo(\"MCA/07/70\");\n",
    "student.setAge(27);\n",
    " \n",
    "//Get the session object.\n",
    "Session session = HibernateUtil.getSessionFactory().openSession();\n",
    "//Start hibernate transaction.\n",
    "session.beginTransaction();\n",
    " \n",
    "//Persist the student object. Student object is in persistence state here.\n",
    "session.save(student);\n",
    " \n",
    "//Commit hibernate transaction.\n",
    "session.getTransaction().commit();\n",
    " \n",
    "//Close the hibernate session.\n",
    "session.close();\n",
    " \n",
    "// Student object is in detached state here \n",
    "//if we want to do any operation on it."
   ]
  }
 ],
 "metadata": {
  "kernelspec": {
   "display_name": "Java",
   "language": "java",
   "name": "java"
  },
  "language_info": {
   "codemirror_mode": "text/x-java",
   "file_extension": ".java",
   "mimetype": "",
   "name": "Java",
   "nbconverter_exporter": "",
   "version": "1.8.0_121"
  },
  "toc": {
   "base_numbering": 1,
   "nav_menu": {},
   "number_sections": false,
   "sideBar": false,
   "skip_h1_title": false,
   "title_cell": "Table of Contents",
   "title_sidebar": "Contents",
   "toc_cell": false,
   "toc_position": {},
   "toc_section_display": false,
   "toc_window_display": false
  }
 },
 "nbformat": 4,
 "nbformat_minor": 5
}
