{
 "cells": [
  {
   "cell_type": "markdown",
   "id": "eb06c9c8",
   "metadata": {},
   "source": [
    "# Java Operators\n",
    "\n",
    "### Introduction\n",
    "\n",
    "> Java Operators are an integral part of Java programming language. \n",
    "<br> In this section Java operators are classified and listed according to precedence order. \n",
    "<br> Java operators are generally used to manipulate primitive data types.\n",
    "\n",
    "### What are Java Operators?\n",
    "\n",
    ">Operators are some special symbols that are used to perform mathematical and logical operations on the operands and returns the result. There are several types of operators in java that are used to perform different operations. For example, the  (+) operator symbol is used to add two or more operands and returns the addition as a result.\n",
    "\n",
    "### Operators in Java \n",
    "\n",
    "> We can divide Java operators into the following 8 major categories:\n",
    "<br><ol>\n",
    "    <li>Assignment Operator</li>\n",
    "    <li>Arithmetic Operators </li>\n",
    "    <li>Relational Operators </li>\n",
    "    <li>Unary Operators</li>\n",
    "    <li>Logical Operators</li>\n",
    "    <li>Bitwise Operators </li> \n",
    "    <li>Conditional(Ternary) Operators</li>\n",
    "    <li>InstanceOf Operator</li>\n",
    "</ol>\n",
    "\n",
    "\n",
    "\n",
    "#### 1) Java Assignment Operator. \n",
    "\n",
    ">An assignment operator is one of the most used and common operators, which we use to assign a value on its right to the operand on its left. For example, the following code sample assigns number 5 to an int a variable and string \"Hello\" is assigned to string msg variable- \n",
    "<br>int a = 5;\n",
    "<br>String msg = \"Hello\";\n",
    "\n",
    "<br><b>Example:</b>\n"
   ]
  },
  {
   "cell_type": "code",
   "execution_count": 1,
   "id": "e24e75ab",
   "metadata": {},
   "outputs": [
    {
     "data": {
      "text/plain": [
       "com.twosigma.beaker.javash.bkrc157ac40.AssignmentOperators"
      ]
     },
     "execution_count": 1,
     "metadata": {},
     "output_type": "execute_result"
    }
   ],
   "source": [
    "public class AssignmentOperators {    \n",
    "    public static void main(String args []) {    \n",
    "    \n",
    "        int a = 5;    \n",
    "        String msg= \"Hello\" ;    \n",
    "    \n",
    "        System.out.println(+a);    \n",
    "        System.out.println(msg+\" Operator\");    \n",
    "    \n",
    "    }    \n",
    "}     "
   ]
  },
  {
   "cell_type": "markdown",
   "id": "79cd7ab8",
   "metadata": {},
   "source": [
    "> <b>Output:</b> \n",
    "<br>5\n",
    "<br> Hello Operator"
   ]
  },
  {
   "cell_type": "markdown",
   "id": "0e1920d6",
   "metadata": {},
   "source": [
    "#### 2) Java Arithmetic Operators.\n",
    "\n",
    ">Arithmetic operators are used to achieve mathematical calculations like algebra. The following table lists arithmetic operators.\n",
    "\n",
    "<table style=\"outline: 0px; color: #333333; border-collapse: collapse;\" border=\"1\" cellspacing=\"1\" bgcolor=\"#ffffff\" width=\"60%\">\n",
    "     <tbody style=\"outline: 0px;\">\n",
    "         <tr style=\"outline: 0px;\" bgcolor=\"#0270bf\">\n",
    "             <th style=\"border: 1px dashed #ababab;\">\n",
    "             <div><span width=\"60%\">&nbsp;Operators&nbsp;</span></div>\n",
    "             </th>\n",
    "             <th style=\"border: 1px dashed #ababab;\">\n",
    "             <div><span >&nbsp;Explanation.</span></div>\n",
    "             </th>\n",
    "         </tr>\n",
    "         <tr>\n",
    "             <td style=\"border: 1px dashed #ababab;\">+</td>\n",
    "             <td style=\"border: 1px dashed #ababab;\">\n",
    "             <div style=\"text-align: right;\">Addition (or concatenation ) operator.&nbsp;&nbsp;</div>\n",
    "             </td>\n",
    "         </tr>\n",
    "         <tr>\n",
    "             <td style=\"border: 1px dashed #ababab;\">-</td>\n",
    "             <td style=\"border: 1px dashed #ababab;\">Subtraction operator.</td>\n",
    "         </tr>\n",
    "         <tr>\n",
    "             <td style=\"border: 1px dashed #ababab;\">*</td>\n",
    "             <td style=\"border: 1px dashed #ababab;\">Multiplication operator.</td>\n",
    "         </tr>\n",
    "         <tr>\n",
    "             <td style=\"border: 1px dashed #ababab;\">/</td>\n",
    "             <td style=\"border: 1px dashed #ababab;\">Division operator.</td>\n",
    "         </tr>\n",
    "         <tr>\n",
    "             <td style=\"border: 1px dashed #ababab;\">%</td>\n",
    "             <td style=\"border: 1px dashed #ababab;\">Remainder operator.</td>\n",
    "         </tr>\n",
    "     </tbody>\n",
    "</table>\n",
    "\n",
    "\n",
    "\n",
    "<br><b>Example:</b>\n"
   ]
  },
  {
   "cell_type": "code",
   "execution_count": 2,
   "id": "bbe970ee",
   "metadata": {},
   "outputs": [
    {
     "data": {
      "text/plain": [
       "com.twosigma.beaker.javash.bkrc157ac40.ArithimeticOperators"
      ]
     },
     "execution_count": 2,
     "metadata": {},
     "output_type": "execute_result"
    }
   ],
   "source": [
    "class Main {\n",
    "  public static void main(String[] args) {\n",
    "    \n",
    "    // declare variables\n",
    "    int a = 12, b = 5;\n",
    "\n",
    "    // addition operator\n",
    "    System.out.println(\"a + b = \" + (a + b));\n",
    "\n",
    "    // subtraction operator\n",
    "    System.out.println(\"a - b = \" + (a - b));\n",
    "\n",
    "    // multiplication operator\n",
    "    System.out.println(\"a * b = \" + (a * b));\n",
    "\n",
    "    // division operator\n",
    "    System.out.println(\"a / b = \" + (a / b));\n",
    "\n",
    "    // modulo operator\n",
    "    System.out.println(\"a % b = \" + (a % b));\n",
    "  }\n",
    "}"
   ]
  },
  {
   "cell_type": "markdown",
   "id": "aa3acf1d",
   "metadata": {},
   "source": [
    "> <b>Output:</b> \n",
    "<br>a + b = 17\n",
    "<br>a - b = 7 \n",
    "<br>a * b = 60\n",
    "<br>a / b = 2 \n",
    "<br>a % b = 2 "
   ]
  },
  {
   "cell_type": "markdown",
   "id": "8669898e",
   "metadata": {},
   "source": [
    "#### 3. Java Relational Operators\n",
    "\n",
    ">Relational operators are used to check the relationship between two operands.\n",
    "\n",
    "<br><b>Example: </b> \n",
    "<br>// check if a is less than b\n",
    "<br>a < b;\n",
    "> Here, < operator is the relational operator. It checks if a is less than b or not.\n",
    "<br>It returns either true or false."
   ]
  },
  {
   "cell_type": "markdown",
   "id": "02a95ae5",
   "metadata": {},
   "source": [
    "<div class=\"table-responsive\">\n",
    "\t<table ><tbody><tr><th>Operator</th>\n",
    "\t\t\t\t<th>Description</th>\n",
    "\t\t\t\t<th>Example</th>\n",
    "\t\t\t</tr><tr><td><code>==</code></td>\n",
    "\t\t\t\t<td>Is Equal To</td>\n",
    "\t\t\t\t<td><code>3 == 5</code> returns <strong>false</strong></td>\n",
    "\t\t\t</tr><tr><td><code>!=</code></td>\n",
    "\t\t\t\t<td>Not Equal To</td>\n",
    "\t\t\t\t<td><code>3 != 5</code> returns <strong>true</strong></td>\n",
    "\t\t\t</tr><tr><td><code>&gt;</code></td>\n",
    "\t\t\t\t<td>Greater Than</td>\n",
    "\t\t\t\t<td><code>3 &gt; 5</code> returns <strong>false</strong></td>\n",
    "\t\t\t</tr><tr><td><code>&lt;</code></td>\n",
    "\t\t\t\t<td>Less Than</td>\n",
    "\t\t\t\t<td><code>3 &lt; 5</code> returns <strong>true</strong></td>\n",
    "\t\t\t</tr><tr><td><code>&gt;=</code></td>\n",
    "\t\t\t\t<td>Greater Than or Equal To</td>\n",
    "\t\t\t\t<td><code>3 &gt;= 5</code> returns <strong>false</strong></td>\n",
    "\t\t\t</tr><tr><td><code>&lt;=</code></td>\n",
    "\t\t\t\t<td>Less Than or Equal To</td>\n",
    "\t\t\t\t<td><code>3 &lt;= 5</code> returns <strong>true</strong></td>\n",
    "\t\t\t</tr></tbody></table></div>\n",
    "            \n",
    "<br><b>Example: "
   ]
  },
  {
   "cell_type": "code",
   "execution_count": 3,
   "id": "88a31aa1",
   "metadata": {},
   "outputs": [
    {
     "data": {
      "text/plain": [
       "com.twosigma.beaker.javash.bkrc157ac40.Main"
      ]
     },
     "execution_count": 3,
     "metadata": {},
     "output_type": "execute_result"
    }
   ],
   "source": [
    "class Main {\n",
    "  public static void main(String[] args) {\n",
    "    \n",
    "    // create variables\n",
    "    int a = 7, b = 11;\n",
    "\n",
    "    // value of a and b\n",
    "    System.out.println(\"a is \" + a + \" and b is \" + b);\n",
    "\n",
    "    // == operator\n",
    "    System.out.println(a == b);  // false\n",
    "\n",
    "    // != operator\n",
    "    System.out.println(a != b);  // true\n",
    "\n",
    "    // > operator\n",
    "    System.out.println(a > b);  // false\n",
    "\n",
    "    // < operator\n",
    "    System.out.println(a < b);  // true\n",
    "\n",
    "    // >= operator\n",
    "    System.out.println(a >= b);  // false\n",
    "\n",
    "    // <= operator\n",
    "    System.out.println(a <= b);  // true\n",
    "  }\n",
    "}"
   ]
  },
  {
   "cell_type": "markdown",
   "id": "f10e5ef4",
   "metadata": {},
   "source": [
    "#### 4. Java Unary Operators\n",
    "\n",
    ">Unary operators are used with only one operand. For example, ++ is a unary operator that increases the value of a variable by 1. That is, ++5 will return 6.\n",
    "<br><br>Different types of unary operators are:\n",
    "\n",
    "\n",
    "<div class=\"table-responsive\">\n",
    "\t<table><tbody><tr><th>Operator</th>\n",
    "\t\t\t\t<th>Meaning</th>\n",
    "\t\t\t</tr><tr><td><code>+</code></td>\n",
    "\t\t\t\t<td><strong>Unary plus</strong>: not necessary to use since numbers are positive without using it</td>\n",
    "\t\t\t</tr><tr><td><code>-</code></td>\n",
    "\t\t\t\t<td><strong>Unary minus</strong>: inverts the sign of an expression</td>\n",
    "\t\t\t</tr><tr><td><code>++</code></td>\n",
    "\t\t\t\t<td><strong>Increment operator</strong>: increments value by 1</td>\n",
    "\t\t\t</tr><tr><td><code>--</code></td>\n",
    "\t\t\t\t<td><strong>Decrement operator</strong>: decrements value by 1</td>\n",
    "\t\t\t</tr><tr><td><code>!</code></td>\n",
    "\t\t\t\t<td><strong>Logical complement operator</strong>: inverts the value of a boolean</td>\n",
    "\t\t\t</tr></tbody></table></div>"
   ]
  },
  {
   "cell_type": "markdown",
   "id": "2a63f920",
   "metadata": {},
   "source": [
    "#### 5. Java Logical Operators\n",
    "\n",
    ">Logical operators are used to check whether an expression is true or false. They are used in decision making.\n",
    "\n",
    "\n",
    "<div class=\"table-responsive\">\n",
    "\t<table><tbody><tr><th>Operator</th>\n",
    "\t\t\t\t<th>Example</th>\n",
    "\t\t\t\t<th>Meaning</th>\n",
    "\t\t\t</tr><tr><td><code>&amp;&amp;</code> (Logical AND)</td>\n",
    "\t\t\t\t<td>expression1 <strong>&amp;&amp;</strong> expression2</td>\n",
    "\t\t\t\t<td><code>true</code> only if both <var>expression1</var> and <var>expression2</var> are <code>true</code></td>\n",
    "\t\t\t</tr><tr><td><code>||</code> (Logical OR)</td>\n",
    "\t\t\t\t<td>expression1 <strong>||</strong> expression2</td>\n",
    "\t\t\t\t<td><code>true</code> if either <var>expression1</var> or <var>expression2</var> is <code>true</code></td>\n",
    "\t\t\t</tr><tr><td><code>!</code> (Logical NOT)</td>\n",
    "\t\t\t\t<td><strong>!</strong>expression</td>\n",
    "\t\t\t\t<td><code>true</code> if <var>expression</var> is <code>false</code> and vice versa</td>\n",
    "\t\t\t</tr></tbody></table></div>\n",
    "            \n",
    "            \n",
    "<br><b> Example:"
   ]
  },
  {
   "cell_type": "code",
   "execution_count": 4,
   "id": "6a6e9f7d",
   "metadata": {},
   "outputs": [
    {
     "data": {
      "text/plain": [
       "com.twosigma.beaker.javash.bkrc157ac40.Main"
      ]
     },
     "execution_count": 4,
     "metadata": {},
     "output_type": "execute_result"
    }
   ],
   "source": [
    "class Main {\n",
    "  public static void main(String[] args) {\n",
    "\n",
    "    // && operator\n",
    "    System.out.println((5 > 3) && (8 > 5));  // true\n",
    "    System.out.println((5 > 3) && (8 < 5));  // false\n",
    "\n",
    "    // || operator\n",
    "    System.out.println((5 < 3) || (8 > 5));  // true\n",
    "    System.out.println((5 > 3) || (8 < 5));  // true\n",
    "    System.out.println((5 < 3) || (8 < 5));  // false\n",
    "\n",
    "    // ! operator\n",
    "    System.out.println(!(5 == 3));  // true\n",
    "    System.out.println(!(5 > 3));  // false\n",
    "  }\n",
    "}"
   ]
  },
  {
   "cell_type": "markdown",
   "id": "5008f3b6",
   "metadata": {},
   "source": [
    "#### 6. Java Bitwise Operators\n",
    "\n",
    ">Bitwise operators in Java are used to perform operations on individual bits.\n",
    "<div class=\"table-responsive\">\n",
    "\t<table><tbody><tr><th>Operator</th>\n",
    "\t\t\t\t<th>Description</th>\n",
    "\t\t\t</tr><tr><td><code>~</code></td>\n",
    "\t\t\t\t<td>Bitwise Complement</td>\n",
    "\t\t\t</tr><tr><td><code>&lt;&lt;</code></td>\n",
    "\t\t\t\t<td>Left Shift</td>\n",
    "\t\t\t</tr><tr><td><code>&gt;&gt;</code></td>\n",
    "\t\t\t\t<td>Right Shift</td>\n",
    "\t\t\t</tr><tr><td><code>&gt;&gt;&gt;</code></td>\n",
    "\t\t\t\t<td>Unsigned Right Shift</td>\n",
    "\t\t\t</tr><tr><td><code>&amp;</code></td>\n",
    "\t\t\t\t<td>Bitwise AND</td>\n",
    "\t\t\t</tr><tr><td><code>^</code></td>\n",
    "\t\t\t\t<td>Bitwise exclusive OR</td>\n",
    "\t\t\t</tr></tbody></table></div>\n",
    "\n",
    "<p>These operators are not generally used in Java.</p>"
   ]
  },
  {
   "cell_type": "markdown",
   "id": "8f5a4385",
   "metadata": {},
   "source": [
    "#### 7. Java Ternary Operator\n",
    "\n",
    "> <p>The ternary operator (conditional operator) is shorthand for the <code>if-then-else</code> statement. For example,</p>\n",
    "> <pre>variable = Expression ? expression1 : expression2</pre>\n",
    "\n",
    "><p>Here's how it works.</p>\n",
    "><ul><li>If the <code>Expression</code> is <code>true</code>, <code>expression1</code> is assigned to the <var>variable</var>.</li>\n",
    "\t<li>If the <code>Expression</code> is <code>false</code>, <code>expression2</code> is assigned to the <var>variable</var>.</li>\n",
    "</ul><p>Let's see an example of a ternary operator.</p>"
   ]
  },
  {
   "cell_type": "code",
   "execution_count": 6,
   "id": "fbbf7f3a",
   "metadata": {},
   "outputs": [
    {
     "data": {
      "text/plain": [
       "com.twosigma.beaker.javash.bkrc157ac40.Java"
      ]
     },
     "execution_count": 6,
     "metadata": {},
     "output_type": "execute_result"
    }
   ],
   "source": [
    "class Java {\n",
    "  public static void main(String[] args) {\n",
    "\n",
    "    int februaryDays = 29;\n",
    "    String result;\n",
    "\n",
    "    // ternary operator\n",
    "    result = (februaryDays == 28) ? \"Not a leap year\" : \"Leap year\";\n",
    "    System.out.println(result);\n",
    "  }\n",
    "}"
   ]
  },
  {
   "cell_type": "markdown",
   "id": "9347715f",
   "metadata": {},
   "source": [
    "<p><strong>Output</strong></p>\n",
    "<pre><samp>Leap year</samp></pre>\n"
   ]
  },
  {
   "cell_type": "markdown",
   "id": "179a9bd5",
   "metadata": {},
   "source": [
    "#### 7. Java instanceof Operator\n",
    "\n",
    "> The instanceof operator checks whether an object is an instanceof a particular class. \n",
    "\n",
    "<b>Example:"
   ]
  },
  {
   "cell_type": "code",
   "execution_count": 7,
   "id": "3df14019",
   "metadata": {},
   "outputs": [
    {
     "data": {
      "text/plain": [
       "com.twosigma.beaker.javash.bkrc157ac40.Main"
      ]
     },
     "execution_count": 7,
     "metadata": {},
     "output_type": "execute_result"
    }
   ],
   "source": [
    "class Main {\n",
    "  public static void main(String[] args) {\n",
    "\n",
    "    String str = \"Programiz\";\n",
    "    boolean result;\n",
    "\n",
    "    // checks if str is an instance of\n",
    "    // the String class\n",
    "    result = str instanceof String;\n",
    "    System.out.println(\"Is str an object of String? \" + result);\n",
    "  }\n",
    "}"
   ]
  },
  {
   "cell_type": "markdown",
   "id": "65fcc5e7",
   "metadata": {},
   "source": [
    " <b>Output: </b> Is str an object of String? true\n",
    "\n",
    "> Here, str is an instance of the String class. Hence, the instanceof operator returns true."
   ]
  }
 ],
 "metadata": {
  "kernelspec": {
   "display_name": "Java",
   "language": "java",
   "name": "java"
  },
  "language_info": {
   "codemirror_mode": "text/x-java",
   "file_extension": ".java",
   "mimetype": "",
   "name": "Java",
   "nbconverter_exporter": "",
   "version": "1.8.0_121"
  },
  "toc": {
   "base_numbering": 1,
   "nav_menu": {},
   "number_sections": false,
   "sideBar": false,
   "skip_h1_title": false,
   "title_cell": "Table of Contents",
   "title_sidebar": "Contents",
   "toc_cell": false,
   "toc_position": {},
   "toc_section_display": false,
   "toc_window_display": false
  }
 },
 "nbformat": 4,
 "nbformat_minor": 5
}
