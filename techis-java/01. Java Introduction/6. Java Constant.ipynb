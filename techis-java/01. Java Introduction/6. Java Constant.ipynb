{
 "cells": [
  {
   "cell_type": "markdown",
   "id": "b4f8fa1a",
   "metadata": {},
   "source": [
    "# Java Constant\n",
    "\n",
    "\n",
    "### What is a constant?\n",
    "\n",
    "> A constant is a variable that cannot have it’s value changed during runtime.\n",
    "<br>We use constants when we do not want a value to accidentally change, like the value of Pi, or gravity.\n",
    "\n",
    "### How to initialize a constant in Java?\n",
    "\n",
    "> A constant cannot be declared without a value, because a value cannot be assigned later on. There would also be no point to an empty constant.\n",
    "<br> To initialize a constant with a value, we use the final keyword in front of the data type.\n",
    "<br><br> <b> Syntax: </b>\n",
    "<br>final data_type CONSTANT_NAME = value;\n",
    "<br><br> The convention for naming constants is uppercase words with underscores as word separators (uppercase snake).\n",
    "\n",
    "<br><br> <b> Example: </b>"
   ]
  },
  {
   "cell_type": "code",
   "execution_count": 1,
   "id": "fc53c756",
   "metadata": {},
   "outputs": [
    {
     "data": {
      "text/plain": [
       "com.twosigma.beaker.javash.bkr42be87f9.Program"
      ]
     },
     "execution_count": 1,
     "metadata": {},
     "output_type": "execute_result"
    }
   ],
   "source": [
    "public class Program {\n",
    "\n",
    "    public static void main(String[] args) {\n",
    "\n",
    "        // constant initialization\n",
    "        final float PI = 3.14f;\n",
    "\n",
    "        System.out.println(\"Pi: \" + PI);\n",
    "    }\n",
    "}"
   ]
  },
  {
   "cell_type": "markdown",
   "id": "cbff0293",
   "metadata": {},
   "source": [
    "> <b>Output:</b>  Pi: 3.14"
   ]
  },
  {
   "cell_type": "markdown",
   "id": "f25df0c8",
   "metadata": {},
   "source": [
    "> In the example above, we specify that ‘PI’ is final, it cannot have its value changed at runtime.\n"
   ]
  }
 ],
 "metadata": {
  "kernelspec": {
   "display_name": "Java",
   "language": "java",
   "name": "java"
  },
  "language_info": {
   "codemirror_mode": "text/x-java",
   "file_extension": ".java",
   "mimetype": "",
   "name": "Java",
   "nbconverter_exporter": "",
   "version": "1.8.0_121"
  },
  "toc": {
   "base_numbering": 1,
   "nav_menu": {},
   "number_sections": false,
   "sideBar": false,
   "skip_h1_title": false,
   "title_cell": "Table of Contents",
   "title_sidebar": "Contents",
   "toc_cell": false,
   "toc_position": {},
   "toc_section_display": false,
   "toc_window_display": false
  }
 },
 "nbformat": 4,
 "nbformat_minor": 5
}
