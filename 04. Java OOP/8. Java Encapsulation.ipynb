{
 "cells": [
  {
   "cell_type": "markdown",
   "id": "c61d1ceb",
   "metadata": {},
   "source": [
    " <h1>Java Encapsulation</h1>"
   ]
  },
  {
   "cell_type": "markdown",
   "id": "e9c33915",
   "metadata": {},
   "source": [
    "<h2 id=\"introduction\">Java Encapsulation</h2>\n",
    "\n",
    "><p>Encapsulation is one of the key features of object-oriented programming. Encapsulation refers to the bundling of fields and methods inside a single class.</p>\n",
    "><p>It prevents outer classes from accessing and changing fields and methods of a class. This also helps to achieve <strong>data hiding</strong>.</p>"
   ]
  },
  {
   "cell_type": "markdown",
   "id": "5048f0f5",
   "metadata": {},
   "source": [
    "<h3 id=\"example\">Example 1: Java Encapsulation</h3>"
   ]
  },
  {
   "cell_type": "code",
   "execution_count": 1,
   "id": "74ee17ef",
   "metadata": {},
   "outputs": [
    {
     "data": {
      "text/plain": [
       "com.twosigma.beaker.javash.bkr183ccebf.Area"
      ]
     },
     "execution_count": 1,
     "metadata": {},
     "output_type": "execute_result"
    }
   ],
   "source": [
    "class Area {\n",
    "\n",
    "  // fields to calculate area\n",
    "  int length;\n",
    "  int breadth;\n",
    "\n",
    "  // constructor to initialize values\n",
    "  Area(int length, int breadth) {\n",
    "    this.length = length;\n",
    "    this.breadth = breadth;\n",
    "  }\n",
    "\n",
    "  // method to calculate area\n",
    "  public void getArea() {\n",
    "    int area = length * breadth;\n",
    "    System.out.println(\"Area: \" + area);\n",
    "  }\n",
    "}\n",
    "\n",
    "class Main {\n",
    "  public static void main(String[] args) {\n",
    "\n",
    "    // create object of Area\n",
    "    // pass value of length and breadth\n",
    "    Area rectangle = new Area(5, 6);\n",
    "    rectangle.getArea();\n",
    "  }\n",
    "}"
   ]
  },
  {
   "cell_type": "markdown",
   "id": "02390662",
   "metadata": {},
   "source": [
    "><p><strong>Output</strong></p>\n",
    "><pre>\n",
    "<samp>Area: 30</samp></pre>"
   ]
  },
  {
   "cell_type": "markdown",
   "id": "86dd01ab",
   "metadata": {},
   "source": [
    "><p>In the above example, we have created a class named <var>Area</var>. The main purpose of this class is to calculate the area.</p>\n",
    "><p>To calculate an area, we need two variables: <var>length</var> and <var>breadth</var> and a method: <code>getArea()</code>. Hence, we bundled these fields and methods inside a single class.</p>\n",
    "><p>Here, the fields and methods can be accessed from other classes as well. Hence, this is not <strong>data hiding</strong>.</p>\n",
    "><p>This is only <strong>encapsulation</strong>. We are just keeping similar codes together.</p>"
   ]
  },
  {
   "cell_type": "markdown",
   "id": "52abd388",
   "metadata": {},
   "source": [
    "<h2 id=\"why\">Why Encapsulation?</h2>\n",
    "\n",
    "><ul><li>In Java, encapsulation helps us to keep related fields and methods together, which makes our code cleaner and easy to read.</li>\n",
    "\t<li>It helps to control the values of our data fields. For example,\n",
    "\t\t<pre>\n",
    "<code>class Person {\n",
    "  private int age;\n",
    "  public void setAge(int age) {\n",
    "    if (age &gt;= 0) {\n",
    "      this.age = age;\n",
    "    }\n",
    "  }\n",
    "}</code></pre>\n",
    "\t\t<br>Here, we are making the <var>age</var> variable <code>private</code> and applying logic inside the <code>setAge()</code> method. Now, <var>age</var> cannot be negative.</li>\n",
    "\t<li>The getter and setter methods provide <strong>read-only</strong> or <strong>write-only</strong> access to our class fields. For example,\n",
    "\t\t<pre>\n",
    "<code>getName()  // provides read-only access\n",
    "setName() // provides write-only access</code></pre>\n",
    "\t</li>\n",
    "\t<li>It helps to decouple components of a system. For example, we can encapsulate code into multiple bundles.<br><br>These decoupled components (bundle) can be developed, tested, and debugged independently and concurrently. And, any changes in a particular component do not have any effect on other components.</li>\n",
    "\t<li>We can also achieve data hiding using encapsulation. In the above example, if we change the length and breadth variable into private, then the access to these fields is restricted.<br><br>And, they are kept hidden from outer classes. This is called <strong>data hiding</strong>.</li>\n",
    "</ul>"
   ]
  },
  {
   "cell_type": "markdown",
   "id": "b3ec9ca1",
   "metadata": {},
   "source": [
    "<h2 id=\"data-hiding\">Data Hiding</h2>"
   ]
  },
  {
   "cell_type": "markdown",
   "id": "e125113c",
   "metadata": {},
   "source": [
    "><p>Data hiding is a way of restricting the access of our data members by hiding the implementation details. Encapsulation also provides a way for data hiding.</p>\n"
   ]
  },
  {
   "cell_type": "markdown",
   "id": "73df6735",
   "metadata": {},
   "source": [
    "<h3>Example 2: Data hiding using the private specifier</h3>"
   ]
  },
  {
   "cell_type": "code",
   "execution_count": 2,
   "id": "fd922177",
   "metadata": {},
   "outputs": [
    {
     "data": {
      "text/plain": [
       "com.twosigma.beaker.javash.bkr183ccebf.Person"
      ]
     },
     "execution_count": 2,
     "metadata": {},
     "output_type": "execute_result"
    }
   ],
   "source": [
    "class Person {\n",
    "\n",
    "  // private field\n",
    "  private int age;\n",
    "\n",
    "  // getter method\n",
    "  public int getAge() {\n",
    "    return age;\n",
    "  }\n",
    "\n",
    "  // setter method\n",
    "  public void setAge(int age) {\n",
    "    this.age = age;\n",
    "  }\n",
    "}\n",
    "\n",
    "class Main {\n",
    "  public static void main(String[] args) {\n",
    "\n",
    "    // create an object of Person\n",
    "    Person p1 = new Person();\n",
    "\n",
    "    // change age using setter\n",
    "    p1.setAge(24);\n",
    "\n",
    "    // access age using getter\n",
    "    System.out.println(\"My age is \" + p1.getAge());\n",
    "  }\n",
    "}"
   ]
  },
  {
   "cell_type": "markdown",
   "id": "58a2fe2e",
   "metadata": {},
   "source": [
    "><p><strong>Output</strong></p>\n",
    "><pre>\n",
    "<samp>My age is 24</samp></pre>\n",
    "><p>In the above example, we have a <code>private</code> field <var>age</var>. Since it is <code>private</code>, it cannot be accessed from outside the class.</p>\n",
    "><p>In order to access <var>age</var>, we have used <code>public</code> methods: <code>getAge()</code> and <code>setAge()</code>. These methods are called getter and setter methods.</p>\n",
    "><p>Making <var>age</var> private allowed us to restrict unauthorized access from outside the class. This is <strong>data hiding</strong>.</p>\n",
    "><p>If we try to access the <var>age</var> field from the <var>Main</var> class, we will get an error.</p>\n",
    "><pre>\n",
    "<code>// error: age has private access in Person\n",
    "p1.age = 24;</code></pre>"
   ]
  }
 ],
 "metadata": {
  "kernelspec": {
   "display_name": "Java",
   "language": "java",
   "name": "java"
  },
  "language_info": {
   "codemirror_mode": "text/x-java",
   "file_extension": ".java",
   "mimetype": "",
   "name": "Java",
   "nbconverter_exporter": "",
   "version": "1.8.0_121"
  },
  "toc": {
   "base_numbering": 1,
   "nav_menu": {},
   "number_sections": false,
   "sideBar": false,
   "skip_h1_title": false,
   "title_cell": "Table of Contents",
   "title_sidebar": "Contents",
   "toc_cell": false,
   "toc_position": {},
   "toc_section_display": false,
   "toc_window_display": false
  }
 },
 "nbformat": 4,
 "nbformat_minor": 5
}
