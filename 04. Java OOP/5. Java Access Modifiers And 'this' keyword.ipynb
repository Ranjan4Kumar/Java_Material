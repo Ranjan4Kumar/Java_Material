{
 "cells": [
  {
   "cell_type": "markdown",
   "id": "a2d4f1e2",
   "metadata": {},
   "source": [
    "<h1>Java Access Modifiers</h1>"
   ]
  },
  {
   "cell_type": "markdown",
   "id": "9b2fda19",
   "metadata": {},
   "source": [
    "<h2 id=\"introduction\">What are Access Modifiers?</h2>\n",
    "\n",
    "><p>In Java, access modifiers are used to set the accessibility (visibility) of classes, interfaces, variables, methods, constructors, data members, and the setter methods. For example,</p>\n",
    "><pre>\n",
    "<code>class Animal {\n",
    "    public void method1() {...}\n",
    "   private void method2() {...}\n",
    "}</code></pre>\n",
    "><p>In the above example, we have declared 2 methods: method1() and method2(). Here,</p>\n",
    "><ul><li><var>method1</var> is <code>public</code> - This means it can be accessed by other classes.</li>\n",
    "\t<li><var>method2</var> is <code>private</code> - This means it can not be accessed by other classes.</li>\n",
    "</ul>\n"
   ]
  },
  {
   "cell_type": "markdown",
   "id": "62d44811",
   "metadata": {},
   "source": [
    "><p>Note the keyword <code>public</code> and <code>private</code>. These are access modifiers in Java. They are also known as visibility modifiers.</p>"
   ]
  },
  {
   "cell_type": "markdown",
   "id": "c7d51bae",
   "metadata": {},
   "source": [
    "<h2>Types of Access Modifier</h2>\n",
    "\n",
    "><p>There are four access modifiers keywords in Java and they are:</p>\n",
    "\n",
    "<table align=\"left\"><tbody><tr><td><strong>Modifier</strong></td>\n",
    "\t\t\t<td><strong>Description</strong></td>\n",
    "\t\t</tr><tr><td>Default</td>\n",
    "\t\t\t<td>declarations are visible only within the package (package private)</td>\n",
    "\t\t</tr><tr><td>Private</td>\n",
    "\t\t\t<td>declarations are visible within the class only</td>\n",
    "\t\t</tr><tr><td>Protected</td>\n",
    "\t\t\t<td>declarations are visible within the package or all subclasses</td>\n",
    "\t\t</tr><tr><td>Public</td>\n",
    "\t\t\t<td>declarations are visible everywhere</td>\n",
    "\t\t</tr></tbody></table>"
   ]
  },
  {
   "cell_type": "markdown",
   "id": "fa3d2731",
   "metadata": {},
   "source": [
    "><p>Access modifiers are mainly used for encapsulation. It can help us to control what part of a program can access the members of a class. So that misuse of data can be prevented.</p>"
   ]
  },
  {
   "cell_type": "markdown",
   "id": "23d00093",
   "metadata": {},
   "source": [
    "<h1>Java this Keyword</h1>"
   ]
  },
  {
   "cell_type": "markdown",
   "id": "ebd7b2b0",
   "metadata": {},
   "source": [
    "<h2 id=\"introduction\">this Keyword</h2>\n",
    "\n",
    "><p>In Java, this keyword is used to refer to the current object inside a method or a constructor. For example,</p>"
   ]
  },
  {
   "cell_type": "code",
   "execution_count": 1,
   "id": "f9a6d9bc",
   "metadata": {},
   "outputs": [
    {
     "data": {
      "text/plain": [
       "com.twosigma.beaker.javash.bkre94fe076.Main"
      ]
     },
     "execution_count": 1,
     "metadata": {},
     "output_type": "execute_result"
    }
   ],
   "source": [
    "class Main {\n",
    "    int instVar;\n",
    "\n",
    "    Main(int instVar){\n",
    "        this.instVar = instVar;\n",
    "        System.out.println(\"this reference = \" + this);\n",
    "    }\n",
    "\n",
    "    public static void main(String[] args) {\n",
    "        Main obj = new Main(8);\n",
    "        System.out.println(\"object reference = \" + obj);\n",
    "    }\n",
    "}"
   ]
  },
  {
   "cell_type": "markdown",
   "id": "a1e95972",
   "metadata": {},
   "source": [
    "><p><strong>Output</strong>:</p>\n",
    "><pre>\n",
    "<samp>this reference = Main@23fc625e\n",
    "object reference = Main@23fc625e</samp></pre>"
   ]
  },
  {
   "cell_type": "markdown",
   "id": "a49abaf2",
   "metadata": {},
   "source": [
    "><p>In the above example, we created an object named <var>obj</var> of the class <var>Main</var>. We then print the reference to the object <var>obj</var> and <code>this</code> keyword of the class.</p>\n",
    "><p>Here, we can see that the reference of both <var>obj</var> and <code>this</code> is the same. It means this is nothing but the reference to the current object.</p>\n"
   ]
  },
  {
   "cell_type": "markdown",
   "id": "4335d3e0",
   "metadata": {},
   "source": [
    "<h3 id=\"argument\">Passing this as an Argument</h3>\n",
    "\n",
    "><p>We can use <code>this</code> keyword to pass the current object as an argument to a method. For example,</p>\n"
   ]
  },
  {
   "cell_type": "code",
   "execution_count": 2,
   "id": "bd721942",
   "metadata": {},
   "outputs": [
    {
     "data": {
      "text/plain": [
       "com.twosigma.beaker.javash.bkre94fe076.ThisExample"
      ]
     },
     "execution_count": 2,
     "metadata": {},
     "output_type": "execute_result"
    }
   ],
   "source": [
    "class ThisExample {\n",
    "    // declare variables\n",
    "    int x;\n",
    "    int y;\n",
    "\n",
    "    ThisExample(int x, int y) {\n",
    "       // assign values of variables inside constructor\n",
    "        this.x = x;\n",
    "        this.y = y;\n",
    "\n",
    "        // value of x and y before calling add()\n",
    "        System.out.println(\"Before passing this to addTwo() method:\");\n",
    "        System.out.println(\"x = \" + this.x + \", y = \" + this.y);\n",
    "\n",
    "        // call the add() method passing this as argument\n",
    "        add(this);\n",
    "\n",
    "        // value of x and y after calling add()\n",
    "        System.out.println(\"After passing this to addTwo() method:\");\n",
    "        System.out.println(\"x = \" + this.x + \", y = \" + this.y);\n",
    "    }\n",
    "\n",
    "    void add(ThisExample o){\n",
    "        o.x += 2;\n",
    "        o.y += 2;\n",
    "    }\n",
    "}\n",
    "\n",
    "class Main {\n",
    "    public static void main( String[] args ) {\n",
    "        ThisExample obj = new ThisExample(1, -2);\n",
    "    }\n",
    "}"
   ]
  },
  {
   "cell_type": "markdown",
   "id": "9319cf2c",
   "metadata": {},
   "source": [
    "><p><strong>Output</strong>:</p>\n",
    "><pre>\n",
    "<samp>Before passing this to addTwo() method:\n",
    "x = 1, y = -2\n",
    "After passing this to addTwo() method:\n",
    "x = 3, y = 0</samp></pre>"
   ]
  },
  {
   "cell_type": "markdown",
   "id": "4bf12e81",
   "metadata": {},
   "source": [
    "><p>In the above example, inside the constructor <code>ThisExample()</code>, notice the line,</p>\n",
    "><pre>\n",
    "<code>add(this);</code></pre>\n",
    "><p>Here, we are calling the <code>add()</code> method by passing this as an argument. Since this keyword contains the reference to the object <var>obj</var> of the class, we can change the value of <var>x</var> and <var>y</var> inside the <code>add()</code> method.</p>\n",
    " "
   ]
  }
 ],
 "metadata": {
  "kernelspec": {
   "display_name": "Java",
   "language": "java",
   "name": "java"
  },
  "language_info": {
   "codemirror_mode": "text/x-java",
   "file_extension": ".java",
   "mimetype": "",
   "name": "Java",
   "nbconverter_exporter": "",
   "version": "1.8.0_121"
  },
  "toc": {
   "base_numbering": 1,
   "nav_menu": {},
   "number_sections": false,
   "sideBar": false,
   "skip_h1_title": false,
   "title_cell": "Table of Contents",
   "title_sidebar": "Contents",
   "toc_cell": false,
   "toc_position": {},
   "toc_section_display": false,
   "toc_window_display": false
  }
 },
 "nbformat": 4,
 "nbformat_minor": 5
}
