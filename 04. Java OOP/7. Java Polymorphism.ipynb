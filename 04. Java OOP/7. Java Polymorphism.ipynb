{
 "cells": [
  {
   "cell_type": "markdown",
   "id": "2f612afc",
   "metadata": {},
   "source": [
    " <h1>Java Polymorphism</h1>"
   ]
  },
  {
   "cell_type": "markdown",
   "id": "bb8399a8",
   "metadata": {},
   "source": [
    "><p id=\"introduction\">Polymorphism is an important concept of object-oriented programming. It simply means more than one form.</p>\n",
    "><p>That is, the same entity (method or operator or object) can perform different operations in different scenarios.</p>\n",
    "\n",
    "<h2 id=\"example\">Example: Java Polymorphism</h2>"
   ]
  },
  {
   "cell_type": "code",
   "execution_count": 1,
   "id": "b6c18c93",
   "metadata": {},
   "outputs": [
    {
     "data": {
      "text/plain": [
       "com.twosigma.beaker.javash.bkrf58c3ef4.Polygon"
      ]
     },
     "execution_count": 1,
     "metadata": {},
     "output_type": "execute_result"
    }
   ],
   "source": [
    "class Polygon {\n",
    "\n",
    "  // method to render a shape\n",
    "  public void render() {\n",
    "    System.out.println(\"Rendering Polygon...\");\n",
    "  }\n",
    "}\n",
    "\n",
    "class Square extends Polygon {\n",
    "\n",
    "  // renders Square\n",
    "  public void render() {\n",
    "    System.out.println(\"Rendering Square...\");\n",
    "  }\n",
    "}\n",
    "\n",
    "class Circle extends Polygon {\n",
    "\n",
    "  // renders circle\n",
    "  public void render() {\n",
    "    System.out.println(\"Rendering Circle...\");\n",
    "  }\n",
    "}\n",
    "\n",
    "class Main {\n",
    "  public static void main(String[] args) {\n",
    "    \n",
    "    // create an object of Square\n",
    "    Square s1 = new Square();\n",
    "    s1.render();\n",
    "\n",
    "    // create an object of Circle\n",
    "    Circle c1 = new Circle();\n",
    "    c1.render();\n",
    "  }\n",
    "}"
   ]
  },
  {
   "cell_type": "markdown",
   "id": "65bfa4e6",
   "metadata": {},
   "source": [
    "><p><strong>Output</strong></p>\n",
    "><pre>\n",
    "<samp>Rendering Square...\n",
    "Rendering Circle...</samp></pre>"
   ]
  },
  {
   "cell_type": "markdown",
   "id": "1bfd6777",
   "metadata": {},
   "source": [
    "><p>In the above example, we have created a superclass: <var>Polygon</var> and two subclasses: <var>Square</var> and <var>Circle</var>. Notice the use of the <code>render()</code> method.</p>\n",
    "><p>The main purpose of the <code>render()</code> method is to render the shape. However, the process of rendering a square is different than the process of rendering a circle.</p>\n",
    "><p>Hence, the <code>render()</code> method behaves differently in different classes. Or, we can say <code>render()</code> is polymorphic.</p>"
   ]
  },
  {
   "cell_type": "markdown",
   "id": "f1aed00a",
   "metadata": {},
   "source": [
    "<h3 id=\"why\">Why Polymorphism?</h3>\n",
    "\n",
    "><p>Polymorphism allows us to create consistent code. In the previous example, we can also create different methods: <code>renderSquare()</code> and <code>renderCircle()</code> to render <var>Square</var> and <var>Circle</var>, respectively.</p>\n",
    "><p>This will work perfectly. However, for every shape, we need to create different methods. It will make our code inconsistent.</p>\n",
    "><p>To solve this, polymorphism in Java allows us to create a single method <code>render()</code> that will behave differently for different shapes.</p>\n",
    "><p class=\"note-tip\"><strong>Note</strong>: The <code>print()</code> method is also an example of polymorphism. It is used to print values of different types like <code>char</code>, <code>int</code>, <code>string</code>, etc.</p>\n",
    "\n",
    "><p>We can achieve polymorphism in Java using the following ways:</p>\n",
    "><ol><li>Method Overriding</li>\n",
    "\t<li>Method Overloading</li>\n",
    "\t<li>Operator Overloading</li>\n",
    "</ol>"
   ]
  },
  {
   "cell_type": "markdown",
   "id": "7e0aa9ea",
   "metadata": {},
   "source": [
    "<h2 id=\"overriding\">1. Java Method Overriding</h2>\n",
    "\n",
    "><p>During inheritance in Java, if the same method is present in both the superclass and the subclass. Then, the method in the subclass overrides the same method in the superclass. This is called method overriding.</p>\n",
    "><p>In this case, the same method will perform one operation in the superclass and another operation in the subclass. For example,</p>\n",
    "\n",
    "<h3>Example 1: Polymorphism using method overriding</h3>"
   ]
  },
  {
   "cell_type": "code",
   "execution_count": 2,
   "id": "ead44f03",
   "metadata": {},
   "outputs": [
    {
     "data": {
      "text/plain": [
       "com.twosigma.beaker.javash.bkrf58c3ef4.Language"
      ]
     },
     "execution_count": 2,
     "metadata": {},
     "output_type": "execute_result"
    }
   ],
   "source": [
    "class Language {\n",
    "  public void displayInfo() {\n",
    "    System.out.println(\"Common English Language\");\n",
    "  }\n",
    "}\n",
    "\n",
    "class Java extends Language {\n",
    "  @Override\n",
    "  public void displayInfo() {\n",
    "    System.out.println(\"Java Programming Language\");\n",
    "  }\n",
    "}\n",
    "\n",
    "class Main {\n",
    "  public static void main(String[] args) {\n",
    "\n",
    "    // create an object of Java class\n",
    "    Java j1 = new Java();\n",
    "    j1.displayInfo();\n",
    "\n",
    "    // create an object of Language class\n",
    "    Language l1 = new Language();\n",
    "    l1.displayInfo();\n",
    "  }\n",
    "}"
   ]
  },
  {
   "cell_type": "markdown",
   "id": "7e41f0ab",
   "metadata": {},
   "source": [
    "><p><strong>Output</strong>:</p>\n",
    "><pre>\n",
    "<samp>Java Programming Language\n",
    "Common English Language</samp></pre>"
   ]
  },
  {
   "cell_type": "markdown",
   "id": "121a1f20",
   "metadata": {},
   "source": [
    "><p>In the above example, we have created a superclass named <var>Language</var> and a subclass named <var>Java</var>. Here, the method <code>displayInfo()</code> is present in both <var>Language</var> and <var>Java</var>.</p>\n",
    "><p>The use of <code>displayInfo()</code> is to print the information. However, it is printing different information in <var>Language</var> and <var>Java</var>.</p>\n",
    "><p>Based on the object used to call the method, the corresponding information is printed.</p>"
   ]
  },
  {
   "cell_type": "markdown",
   "id": "9236bd88",
   "metadata": {},
   "source": [
    "<h2 id=\"method-overloading\">2. Java Method Overloading</h2>"
   ]
  },
  {
   "cell_type": "markdown",
   "id": "b1403db1",
   "metadata": {},
   "source": [
    "><p>In a Java class, we can create methods with the same name if they differ in parameters. For example,</p>\n",
    "><pre>\n",
    "<code>void func() { ... }\n",
    "void func(int a) { ... }\n",
    "float func(double a) { ... }\n",
    "float func(int a, float b) { ... }</code></pre>\n",
    "><p>This is known as method overloading in Java. Here, the same method will perform different operations based on the parameter.</p>\n",
    "\n",
    "<h3>Example 3: Polymorphism using method overloading</h3>"
   ]
  },
  {
   "cell_type": "code",
   "execution_count": 3,
   "id": "e37abbc1",
   "metadata": {},
   "outputs": [
    {
     "data": {
      "text/plain": [
       "com.twosigma.beaker.javash.bkrf58c3ef4.Pattern"
      ]
     },
     "execution_count": 3,
     "metadata": {},
     "output_type": "execute_result"
    }
   ],
   "source": [
    "class Pattern {\n",
    "\n",
    "  // method without parameter\n",
    "  public void display() {\n",
    "    for (int i = 0; i < 10; i++) {\n",
    "      System.out.print(\"*\");\n",
    "    }\n",
    "  }\n",
    "\n",
    "  // method with single parameter\n",
    "  public void display(char symbol) {\n",
    "    for (int i = 0; i < 10; i++) {\n",
    "      System.out.print(symbol);\n",
    "    }\n",
    "  }\n",
    "}\n",
    "\n",
    "class Main {\n",
    "  public static void main(String[] args) {\n",
    "    Pattern d1 = new Pattern();\n",
    "\n",
    "    // call method without any argument\n",
    "    d1.display();\n",
    "    System.out.println(\"\\n\");\n",
    "\n",
    "    // call method with a single argument\n",
    "    d1.display('#');\n",
    "  }\n",
    "}"
   ]
  },
  {
   "cell_type": "markdown",
   "id": "a861b8cd",
   "metadata": {},
   "source": [
    "><p><strong>Output</strong>:</p>\n",
    "><pre>\n",
    "<samp>**********\n",
    "##########</samp></pre>\n",
    "><p>In the above example, we have created a class named <var>Pattern</var>. The class contains a method named <code>display()</code> that is overloaded.</p>\n"
   ]
  },
  {
   "cell_type": "markdown",
   "id": "74cf0174",
   "metadata": {},
   "source": [
    "<h2 id=\"operator-overloading\">3. Java Operator Overloading</h2>\n",
    "\n",
    "><p>Some operators in Java behave differently with different operands. For example,</p>\n",
    "><ul><li><code>+</code> operator is overloaded to perform numeric addition as well as string concatenation, and</li>\n",
    "\t<li>operators like <code>&amp;</code>, <code>|</code>, and <code>!</code> are overloaded for logical and bitwise operations.</li>\n",
    "</ul>\n",
    "\n"
   ]
  },
  {
   "cell_type": "markdown",
   "id": "c6777728",
   "metadata": {},
   "source": [
    "><p>Let's see how we can achieve polymorphism using operator overloading.</p>\n",
    "><p>The <code>+</code> operator is used to add two entities. However, in Java, the <code>+</code> operator performs two operations.</p>\n",
    "><p>1. When <code>+</code> is used with numbers (integers and floating-point numbers), it performs mathematical addition. For example,</p>\n",
    "><pre>\n",
    "<code>int a = 5;\n",
    "int b = 6;\n",
    "// + with numbers\n",
    "int sum = a + b;  // Output = 11</code></pre>"
   ]
  },
  {
   "cell_type": "markdown",
   "id": "78b5097f",
   "metadata": {},
   "source": [
    "><p>2. When we use the <code>+</code> operator with strings, it will perform string concatenation (join two strings). For example,</p>\n",
    "><pre>\n",
    "<code>String first = \"Java \";\n",
    "String second = \"Programming\";\n",
    "// + with strings\n",
    "name = first + second;  // Output = Java Programming</code></pre>\n",
    "><p>Here, we can see that the <code>+</code> operator is overloaded in Java to perform two operations: <strong>addition</strong> and <strong>concatenation</strong>.</p>\n"
   ]
  }
 ],
 "metadata": {
  "kernelspec": {
   "display_name": "Java",
   "language": "java",
   "name": "java"
  },
  "language_info": {
   "codemirror_mode": "text/x-java",
   "file_extension": ".java",
   "mimetype": "",
   "name": "Java",
   "nbconverter_exporter": "",
   "version": "1.8.0_121"
  },
  "toc": {
   "base_numbering": 1,
   "nav_menu": {},
   "number_sections": false,
   "sideBar": false,
   "skip_h1_title": false,
   "title_cell": "Table of Contents",
   "title_sidebar": "Contents",
   "toc_cell": false,
   "toc_position": {},
   "toc_section_display": false,
   "toc_window_display": false
  }
 },
 "nbformat": 4,
 "nbformat_minor": 5
}
