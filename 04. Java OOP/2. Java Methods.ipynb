{
 "cells": [
  {
   "cell_type": "markdown",
   "id": "95f06da5",
   "metadata": {},
   "source": [
    "<h1>Java Methods</h1>"
   ]
  },
  {
   "cell_type": "markdown",
   "id": "ff20bdda",
   "metadata": {},
   "source": [
    "><p>A method is a block of code that performs a specific task.</p>\n",
    "><p>Suppose you need to create a program to create a circle and color it. You can create two methods to solve this problem:</p>\n",
    "><ul><li>a method to draw the circle</li>\n",
    "\t<li>a method to color the circle</li>\n",
    "</ul>"
   ]
  },
  {
   "cell_type": "markdown",
   "id": "62dd8be3",
   "metadata": {},
   "source": [
    "><p>Dividing a complex problem into smaller chunks makes your program easy to understand and reusable.</p>\n",
    "><p>In Java, there are two types of methods:</p>\n",
    "><ul><li><strong>User-defined Methods</strong>: We can create our own method based on our requirements.</li>\n",
    "\t<li><strong>Standard Library Methods</strong>: These are built-in methods in Java that are available to use.</li>\n",
    "</ul>"
   ]
  },
  {
   "cell_type": "markdown",
   "id": "d7ab842c",
   "metadata": {},
   "source": [
    "<h2 id=\"declare-method\">Declaring a Java Method</h2>\n",
    "\n",
    "><p>The syntax to declare a method is:</p>\n",
    "><pre>\n",
    "<code>returnType methodName() {\n",
    "  // method body\n",
    "}</code></pre>\n",
    "><p>Here,</p>\n",
    "><ul>\n",
    "    <li><strong>returnType</strong> - It specifies what type of value a method returns For example if a method has an <code>int</code> return type then it returns an integer value.<br><br>\n",
    "\t\tIf the method does not return a value, its return type is <code>void</code>.</li>\n",
    "    <li><strong>methodName</strong> - It is an identifier that is used to refer to the particular method in a program.</li>\n",
    "    <li><strong>method body</strong> - It includes the programming statements that are used to perform some tasks. The method body is enclosed inside the curly braces <code>{ }</code>.</li>\n",
    "</ul>"
   ]
  },
  {
   "cell_type": "markdown",
   "id": "dd5c729e",
   "metadata": {},
   "source": [
    "><p>For example,</p>\n",
    "><pre>\n",
    "<code>int addNumbers() {\n",
    "// code\n",
    "}</code></pre>\n",
    "\n",
    "><p>In the above example, the name of the method is <code>adddNumbers()</code>. And, the return type is <code>int</code>. We will learn more about return types later in this tutorial.</p>\n",
    "><p>This is the simple syntax of declaring a method. However, the complete syntax of declaring a method is</p>\n",
    "><pre>\n",
    "<code>modifier static returnType nameOfMethod (parameter1, parameter2, ...) {\n",
    "  // method body\n",
    "}</code></pre>\n",
    "><p>Here,</p>\n",
    "><ul><li><strong>modifier</strong> - It defines access types whether the method is public, private, and so on. To learn more, visit <a href=\"/java-programming/access-modifiers\">Java Access Specifier</a>.</li>\n",
    "\t<li><strong>static</strong> - If we use the <code>static</code> keyword, it can be accessed without creating objects.<br><br>\n",
    "\t\tFor example, the <code>sqrt()</code> method of standard Math class is static. Hence, we can directly call <code>Math.sqrt()</code> without creating an instance of <code>Math</code> class.</li>\n",
    "></ul><ul><li><strong>parameter1/parameter2</strong> - These are values passed to a method. We can pass any number of arguments to a method.</li>\n",
    "></ul>"
   ]
  },
  {
   "cell_type": "markdown",
   "id": "575f5ff2",
   "metadata": {},
   "source": [
    "<h2 id=\"call-method\">Calling a Method in Java</h2>\n",
    "\n",
    "><p>In the above example, we have declared a method named <code>addNumbers()</code>. Now, to use the method, we need to call it.</p>\n",
    "><p>Here's is how we can call the <code>addNumbers()</code> method.</p>\n",
    "><pre>\n",
    "<code>// calls the method\n",
    "addNumbers();</code></pre>\n",
    "\n",
    "<b>Example 1:</b><i> Java Methods"
   ]
  },
  {
   "cell_type": "code",
   "execution_count": 1,
   "id": "8b5c4f12",
   "metadata": {},
   "outputs": [
    {
     "data": {
      "text/plain": [
       "com.twosigma.beaker.javash.bkrad77f458.Main"
      ]
     },
     "execution_count": 1,
     "metadata": {},
     "output_type": "execute_result"
    }
   ],
   "source": [
    "class Main {\n",
    "\n",
    "  // create a method\n",
    "  public int addNumbers(int a, int b) {\n",
    "    int sum = a + b;\n",
    "    // return value\n",
    "    return sum;\n",
    "  }\n",
    "\n",
    "  public static void main(String[] args) {\n",
    "    \n",
    "    int num1 = 25;\n",
    "    int num2 = 15;\n",
    "\n",
    "    // create an object of Main\n",
    "    Main obj = new Main();\n",
    "    // calling method\n",
    "    int result = obj.addNumbers(num1, num2);\n",
    "    System.out.println(\"Sum is: \" + result);\n",
    "  }\n",
    "}"
   ]
  },
  {
   "cell_type": "markdown",
   "id": "26431246",
   "metadata": {},
   "source": [
    "><p><strong>Output</strong></p>\n",
    "><pre>\n",
    "<samp>Sum is: 40</samp></pre>"
   ]
  },
  {
   "cell_type": "markdown",
   "id": "f05d0a13",
   "metadata": {},
   "source": [
    "><p>In the above example, we have created a method named <code>addNumbers()</code>. The method takes two parameters <var>a</var> and <var>b</var>. Notice the line,</p>\n",
    "><pre>\n",
    "<code>int result = obj.addNumbers(num1, num2);</code></pre>\n",
    "><p>Here, we have called the method by passing two arguments <var>num1</var> and <var>num2</var>. Since the method is returning some value, we have stored the value in the <var>result</var> variable.</p>\n"
   ]
  },
  {
   "cell_type": "markdown",
   "id": "75c86892",
   "metadata": {},
   "source": [
    "><p class=\"note-tip\"><strong>Note</strong>: The method is not static. Hence, we are calling the method using the object of the class.</p>\n"
   ]
  },
  {
   "cell_type": "markdown",
   "id": "b90defe8",
   "metadata": {},
   "source": [
    "<h2 id=\"return-type\">Java Method Return Type</h2>\n",
    "\n",
    "><p>A Java method may or may not return a value to the function call. We use the <strong>return statement</strong> to return any value. For example,</p>\n",
    "><pre>\n",
    "<code>int addNumbers() {\n",
    "...\n",
    "return sum;\n",
    "}</code></pre>\n",
    "><p>Here, we are returning the variable <var>sum</var>. Since the return type of the function is <code>int</code>. The sum variable should be of <code>int</code> type. Otherwise, it will generate an error.</p>\n",
    "\n",
    "<b>Example 2:</b><i> Method Return Type"
   ]
  },
  {
   "cell_type": "code",
   "execution_count": 3,
   "id": "ec08db46",
   "metadata": {},
   "outputs": [
    {
     "data": {
      "text/plain": [
       "com.twosigma.beaker.javash.bkrad77f458.Main"
      ]
     },
     "execution_count": 3,
     "metadata": {},
     "output_type": "execute_result"
    }
   ],
   "source": [
    "class Main {\n",
    "\n",
    "// create a method\n",
    "  public static int square(int num) {\n",
    "\n",
    "    // return statement\n",
    "    return num * num;\n",
    "  }\n",
    "\n",
    "  public static void main(String[] args) {\n",
    "    int result;\n",
    "\n",
    "    // call the method\n",
    "    // store returned value to result\n",
    "    result = square(10);\n",
    "\n",
    "    System.out.println(\"Squared value of 10 is: \" + result);\n",
    "  }\n",
    "}"
   ]
  },
  {
   "cell_type": "markdown",
   "id": "807b8cc8",
   "metadata": {},
   "source": [
    "><p><strong>Output</strong>:</p>\n",
    "><pre>\n",
    "<samp>Squared value of 10 is: 100</samp></pre>"
   ]
  },
  {
   "cell_type": "markdown",
   "id": "205bb5f9",
   "metadata": {},
   "source": [
    "><p>In the above program, we have created a method named <code>square()</code>. The method takes a number as its parameter and returns the square of the number.</p>\n",
    "><p>Here, we have mentioned the return type of the method as <code>int</code>. Hence, the method should always return an integer value.</p>\n"
   ]
  },
  {
   "cell_type": "markdown",
   "id": "a02c9843",
   "metadata": {},
   "source": [
    "><p><strong>Note</strong>: If the method does not return any value, we use the void keyword as the return type of the method. For example,</p>"
   ]
  },
  {
   "cell_type": "markdown",
   "id": "20844379",
   "metadata": {},
   "source": [
    "><pre>\n",
    "<code>public void square(int a) {\n",
    "  int square = a * a;\n",
    "  System.out.println(\"Square is: \" + square);\n",
    "}</code></pre>"
   ]
  },
  {
   "cell_type": "markdown",
   "id": "192d3176",
   "metadata": {},
   "source": [
    "<h2 id=\"method-parameters\">Method Parameters in Java</h2>\n",
    "\n",
    "><p>A method parameter is a value accepted by the method. As mentioned earlier, a method can also have any number of parameters. For example,</p>\n",
    "><pre>\n",
    "<code>// method with two parameters\n",
    "int addNumbers(int a, int b) {\n",
    "  // code\n",
    "}\n",
    "// method with no parameter\n",
    "int addNumbers(){\n",
    "  // code\n",
    "}</code></pre>\n",
    "><p>If a method is created with parameters, we need to pass the corresponding values while calling the method. For example,</p>\n",
    "><pre>\n",
    "<code>// calling the method with two parameters\n",
    "addNumbers(25, 15);\n",
    "// calling the method with no parameters\n",
    "addNumbers()</code></pre>\n",
    "\n",
    "<b>Example 3:</b><i> Method Parameters"
   ]
  },
  {
   "cell_type": "code",
   "execution_count": 4,
   "id": "ebefd972",
   "metadata": {},
   "outputs": [
    {
     "data": {
      "text/plain": [
       "com.twosigma.beaker.javash.bkrad77f458.Main"
      ]
     },
     "execution_count": 4,
     "metadata": {},
     "output_type": "execute_result"
    }
   ],
   "source": [
    "class Main {\n",
    "\n",
    "  // method with no parameter\n",
    "  public void display1() {\n",
    "    System.out.println(\"Method without parameter\");\n",
    "  }\n",
    "\n",
    "  // method with single parameter\n",
    "  public void display2(int a) {\n",
    "    System.out.println(\"Method with a single parameter: \" + a);\n",
    "  }\n",
    "\n",
    "  public static void main(String[] args) {\n",
    "    \n",
    "    // create an object of Main\n",
    "    Main obj = new Main();\n",
    "\n",
    "    // calling method with no parameter\n",
    "    obj.display1();\n",
    "    \n",
    "    // calling method with the single parameter\n",
    "    obj.display2(24);\n",
    "  }\n",
    "}"
   ]
  },
  {
   "cell_type": "markdown",
   "id": "fb75bb6e",
   "metadata": {},
   "source": [
    "><p><strong>Output</strong></p>\n",
    "><pre>\n",
    "<samp>Method without parameter\n",
    "Method with a single parameter: 24</samp></pre>"
   ]
  },
  {
   "cell_type": "markdown",
   "id": "0d637906",
   "metadata": {},
   "source": [
    "> <p>Here, the parameter of the method is <code>int</code>. Hence, if we pass any other data type instead of <code>int</code>, the compiler will throw an error. It is because Java is a strongly typed language.</p>\n"
   ]
  },
  {
   "cell_type": "markdown",
   "id": "c48a4fad",
   "metadata": {},
   "source": [
    "<h2 id=\"standard-library\">Standard Library Methods</h2>\n",
    "\n",
    "><p>The standard library methods are built-in methods in Java that are readily available for use. These standard libraries come along with the Java Class Library (JCL) in a Java archive (*.jar) file with JVM and JRE.</p>\n",
    "><p>For example,</p>\n",
    "><ul><li><code>print()</code> is a method of <code>java.io.PrintSteam</code>. The <code>print(\"...\")</code> method prints the string inside quotation marks.</li>\n",
    "\t<li><code>sqrt()</code> is a method of <code>Math</code> class. It returns the square root of a number.</li>\n",
    "</ul>\n",
    "\n",
    "<b>Example 4:</b><i> Java Standard Library Method"
   ]
  },
  {
   "cell_type": "code",
   "execution_count": 5,
   "id": "0164461d",
   "metadata": {},
   "outputs": [
    {
     "data": {
      "text/plain": [
       "com.twosigma.beaker.javash.bkrad77f458.Main"
      ]
     },
     "execution_count": 5,
     "metadata": {},
     "output_type": "execute_result"
    }
   ],
   "source": [
    "public class Main {\n",
    "  public static void main(String[] args) {\n",
    "    \n",
    "    // using the sqrt() method\n",
    "    System.out.print(\"Square root of 4 is: \" + Math.sqrt(4));\n",
    "  }\n",
    "}"
   ]
  },
  {
   "cell_type": "markdown",
   "id": "c40ae918",
   "metadata": {},
   "source": [
    "><p><strong>Output</strong>:</p>\n",
    "> <pre>\n",
    "<samp>Square root of 4 is: 2.0</samp></pre>"
   ]
  }
 ],
 "metadata": {
  "kernelspec": {
   "display_name": "Java",
   "language": "java",
   "name": "java"
  },
  "language_info": {
   "codemirror_mode": "text/x-java",
   "file_extension": ".java",
   "mimetype": "",
   "name": "Java",
   "nbconverter_exporter": "",
   "version": "1.8.0_121"
  },
  "toc": {
   "base_numbering": 1,
   "nav_menu": {},
   "number_sections": false,
   "sideBar": false,
   "skip_h1_title": false,
   "title_cell": "Table of Contents",
   "title_sidebar": "Contents",
   "toc_cell": false,
   "toc_position": {},
   "toc_section_display": false,
   "toc_window_display": false
  }
 },
 "nbformat": 4,
 "nbformat_minor": 5
}
