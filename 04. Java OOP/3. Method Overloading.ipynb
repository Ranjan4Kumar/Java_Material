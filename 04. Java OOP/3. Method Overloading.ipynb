{
 "cells": [
  {
   "cell_type": "markdown",
   "id": "588489ab",
   "metadata": {},
   "source": [
    "<h1>Java Method Overloading</h1>"
   ]
  },
  {
   "cell_type": "markdown",
   "id": "0c8f33c1",
   "metadata": {},
   "source": [
    "> <p>In Java, two or more methods may have the same name if they differ in parameters (different number of parameters, different types of parameters, or both). These methods are called overloaded methods and this feature is called method overloading. For example:</p>\n",
    "><pre>\n",
    "void func() { ... }\n",
    "void func(int a) { ... }\n",
    "float func(double a) { ... }\n",
    "float func(int a, float b) { ... }</pre>\n",
    "><p>Here, the <code>func()</code> method is overloaded. These methods have the same name but accept different arguments.</p>\n"
   ]
  },
  {
   "cell_type": "markdown",
   "id": "73396992",
   "metadata": {},
   "source": [
    "><p class=\"note-tip\"><strong>Note</strong>: The return types of the above methods are not the same. It is because method overloading is not associated with return types. Overloaded methods may have the same or different return types, but they must differ in parameters.</p>\n"
   ]
  },
  {
   "cell_type": "markdown",
   "id": "470a0227",
   "metadata": {},
   "source": [
    "<h2><a id=\"why\" name=\"why\"></a>Why method overloading?</h2>\n",
    "\n",
    "><p>Suppose, you have to perform the addition of given numbers but there can be any number of arguments (let’s say either 2 or 3 arguments for simplicity).</p>\n",
    "><p>In order to accomplish the task, you can create two methods <code>sum2num(int, int)</code> and <code>sum3num(int, int, int)</code> for two and three parameters respectively. However, other programmers, as well as you in the future may get confused as the behavior of both methods are the same but they differ by name.</p>\n",
    "><p>The better way to accomplish this task is by overloading methods. And, depending upon the argument passed, one of the overloaded methods is called. This helps to increase the readability of the program.</p>\n"
   ]
  },
  {
   "cell_type": "markdown",
   "id": "237f0c88",
   "metadata": {},
   "source": [
    "<h2>How to perform method overloading in Java?</h2>\n",
    "\n",
    "><p>Here are different ways to perform method overloading:</p>"
   ]
  },
  {
   "cell_type": "markdown",
   "id": "89885bcb",
   "metadata": {},
   "source": [
    "<h3><a id=\"number-arguments\" name=\"number-arguments\"></a>1. Overloading by changing the number of parameters</h3>\n",
    "\n",
    "><pre>\n",
    "><code>class MethodOverloading {\n",
    "    private static void display(int a){\n",
    "        System.out.println(\"Arguments: \" + a);\n",
    "    }\n",
    "    private static void display(int a, int b){\n",
    "        System.out.println(\"Arguments: \" + a + \" and \" + b);\n",
    "    }\n",
    "    public static void main(String[] args) {\n",
    "        display(1);\n",
    "        display(1, 4);\n",
    "    }\n",
    "}</code></pre>\n"
   ]
  },
  {
   "cell_type": "markdown",
   "id": "3c7ea4f0",
   "metadata": {},
   "source": [
    "><p><strong>Output</strong>:</p>\n",
    "><pre>\n",
    "<samp>Arguments: 1\n",
    "Arguments: 1 and 4</samp></pre>"
   ]
  },
  {
   "cell_type": "markdown",
   "id": "aa32faac",
   "metadata": {},
   "source": [
    "<h3><a id=\"type-arguments\" name=\"type-arguments\"></a>2. Method Overloading by changing the data type of parameters</h3>\n",
    "\n",
    "><pre>\n",
    "><code>class MethodOverloading {\n",
    "    // this method accepts int\n",
    "    private static void display(int a){\n",
    "        System.out.println(\"Got Integer data.\");\n",
    "    }\n",
    "    // this method  accepts String object\n",
    "    private static void display(String a){\n",
    "        System.out.println(\"Got String object.\");\n",
    "    }\n",
    "    public static void main(String[] args) {\n",
    "        display(1);\n",
    "        display(\"Hello\");\n",
    "    }\n",
    "}</code></pre>"
   ]
  },
  {
   "cell_type": "markdown",
   "id": "380465f6",
   "metadata": {},
   "source": [
    "><p><strong>Output</strong>:</p>\n",
    "><pre>\n",
    "<samp>Got Integer data.\n",
    "Got String object.</samp></pre>"
   ]
  },
  {
   "cell_type": "markdown",
   "id": "e6721368",
   "metadata": {},
   "source": [
    "<h3><a id=\"important-points\" name=\"important-points\"></a>Important Points</h3>\n",
    "\n",
    "><ul><li>Two or more methods can have the same name inside the same class if they accept different arguments. This feature is known as method overloading.</li>\n",
    "\t<li>Method overloading is achieved by either:\n",
    "\t\t<ul><li>changing the number of arguments.</li>\n",
    "\t\t\t<li>or changing the data type of arguments.</li>\n",
    "\t\t</ul></li>\n",
    "\t<li>It is not method overloading if we only change the return type of methods. There must be differences in the number of parameters.</li>\n",
    "</ul>"
   ]
  }
 ],
 "metadata": {
  "kernelspec": {
   "display_name": "Java",
   "language": "java",
   "name": "java"
  },
  "language_info": {
   "codemirror_mode": "text/x-java",
   "file_extension": ".java",
   "mimetype": "",
   "name": "Java",
   "nbconverter_exporter": "",
   "version": "1.8.0_121"
  },
  "toc": {
   "base_numbering": 1,
   "nav_menu": {},
   "number_sections": false,
   "sideBar": false,
   "skip_h1_title": false,
   "title_cell": "Table of Contents",
   "title_sidebar": "Contents",
   "toc_cell": false,
   "toc_position": {},
   "toc_section_display": false,
   "toc_window_display": false
  }
 },
 "nbformat": 4,
 "nbformat_minor": 5
}
