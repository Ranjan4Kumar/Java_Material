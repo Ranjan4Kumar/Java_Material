{
 "cells": [
  {
   "cell_type": "markdown",
   "id": "68b14de6",
   "metadata": {},
   "source": [
    "<h1>Java Multidimensional Arrays</h1>"
   ]
  },
  {
   "cell_type": "markdown",
   "id": "93ac1ea4",
   "metadata": {},
   "source": [
    "><p>A multidimensional array is an array of arrays. Each element of a multidimensional array is an array itself. For example,</p>\n",
    "><pre>\n",
    "<code>int[][] a = new int[3][4];</code></pre>\n",
    "><p>Here, we have created a multidimensional array named <var>a</var>. It is a 2-dimensional array, that can hold a maximum of 12 elements,</p>"
   ]
  },
  {
   "cell_type": "markdown",
   "id": "cb87347e",
   "metadata": {},
   "source": [
    "><p>Remember, Java uses zero-based indexing, that is, indexing of arrays in Java starts with 0 and not 1.</p>\n",
    "><p>Let's take another example of the multidimensional array. This time we will be creating a 3-dimensional array. For example,</p>\n",
    "><pre>\n",
    "<code>String[][][] data = new String[3][4][2];</code></pre>\n",
    "><p>Here, <var>data</var> is a 3d array that can hold a maximum of 24 (3*4*2) elements of type <code>String</code>.</p>\n"
   ]
  },
  {
   "cell_type": "markdown",
   "id": "80f72d07",
   "metadata": {},
   "source": [
    "<h2 id=\"2d\">How to initialize a 2d array in Java?</h2>\n",
    "\n",
    "><p>Here is how we can initialize a 2-dimensional array in Java.</p>\n",
    "><pre>\n",
    "<code>int[][] a = {\n",
    "      {1, 2, 3}, \n",
    "      {4, 5, 6, 9}, \n",
    "      {7}, \n",
    "};</code></pre>\n",
    "><p>As we can see, each element of the multidimensional array is an array itself. Each row of the multidimensional array in Java can be of different lengths.</p>\n",
    "\n",
    "<b>Example:</b><i> 2-dimensional Array"
   ]
  },
  {
   "cell_type": "code",
   "execution_count": 3,
   "id": "a1a4d251",
   "metadata": {},
   "outputs": [
    {
     "data": {
      "text/plain": [
       "com.twosigma.beaker.javash.bkre98ec9ae.MultidimensionalArray"
      ]
     },
     "execution_count": 3,
     "metadata": {},
     "output_type": "execute_result"
    }
   ],
   "source": [
    "class MultidimensionalArray {\n",
    "    public static void main(String[] args) {\n",
    "\n",
    "        // create a 2d array\n",
    "        int[][] a = {\n",
    "            {1, 2, 3}, \n",
    "            {4, 5, 6, 9}, \n",
    "            {7}, \n",
    "        };\n",
    "      \n",
    "        // calculate the length of each row\n",
    "        System.out.println(\"Length of row 1: \" + a[0].length);\n",
    "        System.out.println(\"Length of row 2: \" + a[1].length);\n",
    "        System.out.println(\"Length of row 3: \" + a[2].length);\n",
    "    }\n",
    "}"
   ]
  },
  {
   "cell_type": "markdown",
   "id": "a0e6d7c1",
   "metadata": {},
   "source": [
    "><p><strong>Output</strong>:</p>\n",
    "><pre>\n",
    "<samp>Length of row 1: 3\n",
    "Length of row 2: 4\n",
    "Length of row 3: 1</samp></pre>"
   ]
  },
  {
   "cell_type": "markdown",
   "id": "5c4693f1",
   "metadata": {},
   "source": [
    "><p>In the above example, we are creating a multidimensional array named <var>a</var>. Since each component of a multidimensional array is also an array (<code>a[0]</code>, <code>a[1]</code> and <code>a[2]</code> are also arrays).</p>\n",
    "><p>Here, we are using the <code>length</code> attribute to calculate the length of each row.</p>\n"
   ]
  },
  {
   "cell_type": "markdown",
   "id": "8c49e6df",
   "metadata": {},
   "source": [
    "<h2 id=\"3d-array\">How to initialize a 3d array in Java?</h2>\n",
    "\n",
    "> <p>We can initialize a 3d array similar to the 2d array. For example,</p>\n",
    "><pre>\n",
    "<code>// test is a 3d array\n",
    "int[][][] test = {\n",
    "        {\n",
    "          {1, -2, 3}, \n",
    "          {2, 3, 4}\n",
    "        }, \n",
    "        { \n",
    "          {-4, -5, 6, 9}, \n",
    "          {1}, \n",
    "          {2, 3}\n",
    "        } \n",
    "};</code></pre>\n",
    "><p>Basically, a 3d array is an array of 2d arrays. The rows of a 3d array can also vary in length just like in a 2d array.</p>\n",
    "\n",
    "<b>Example: </b><i>3-dimensional Array"
   ]
  },
  {
   "cell_type": "code",
   "execution_count": 5,
   "id": "7f10d3a3",
   "metadata": {},
   "outputs": [
    {
     "data": {
      "text/plain": [
       "com.twosigma.beaker.javash.bkre98ec9ae.ThreeArray"
      ]
     },
     "execution_count": 5,
     "metadata": {},
     "output_type": "execute_result"
    }
   ],
   "source": [
    "class ThreeArray {\n",
    "    public static void main(String[] args) {\n",
    "\n",
    "        // create a 3d array\n",
    "        int[][][] test = {\n",
    "            {\n",
    "              {1, -2, 3}, \n",
    "              {2, 3, 4}\n",
    "            }, \n",
    "            { \n",
    "              {-4, -5, 6, 9}, \n",
    "              {1}, \n",
    "              {2, 3}\n",
    "            } \n",
    "        };\n",
    "\n",
    "        // for..each loop to iterate through elements of 3d array\n",
    "        for (int[][] array2D: test) {\n",
    "            for (int[] array1D: array2D) {\n",
    "                for(int item: array1D) {\n",
    "                    System.out.println(item);\n",
    "                }\n",
    "            }\n",
    "        }\n",
    "    }\n",
    "}"
   ]
  },
  {
   "cell_type": "markdown",
   "id": "81008794",
   "metadata": {},
   "source": [
    "><p><strong>Output</strong>:</p>\n",
    "><pre>\n",
    "<samp>1\n",
    "-2\n",
    "3\n",
    "2\n",
    "3\n",
    "4\n",
    "-4\n",
    "-5\n",
    "6\n",
    "9\n",
    "1\n",
    "2\n",
    "3</samp></pre>"
   ]
  }
 ],
 "metadata": {
  "kernelspec": {
   "display_name": "Java",
   "language": "java",
   "name": "java"
  },
  "language_info": {
   "codemirror_mode": "text/x-java",
   "file_extension": ".java",
   "mimetype": "",
   "name": "Java",
   "nbconverter_exporter": "",
   "version": "1.8.0_121"
  },
  "toc": {
   "base_numbering": 1,
   "nav_menu": {},
   "number_sections": false,
   "sideBar": false,
   "skip_h1_title": false,
   "title_cell": "Table of Contents",
   "title_sidebar": "Contents",
   "toc_cell": false,
   "toc_position": {},
   "toc_section_display": false,
   "toc_window_display": false
  }
 },
 "nbformat": 4,
 "nbformat_minor": 5
}
