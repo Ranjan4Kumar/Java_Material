{
 "cells": [
  {
   "cell_type": "markdown",
   "id": "61e28782",
   "metadata": {},
   "source": [
    "<h1>Java Arrays</h1>"
   ]
  },
  {
   "cell_type": "markdown",
   "id": "fe87e9c2",
   "metadata": {},
   "source": [
    "><p id=\"introduction\">An array is a collection of similar types of data.</p>\n",
    "><p>For example, if we want to store the names of 100 people then we can create an array of the string type that can store 100 names.</p>\n",
    "><pre>\n",
    "><code>String[] array = new String[100];</code></pre>\n",
    "><p>Here, the above array cannot store more than 100 names. The number of values in a Java array is always fixed.</p>"
   ]
  },
  {
   "cell_type": "markdown",
   "id": "deeab01f",
   "metadata": {},
   "source": [
    "<h2 id=\"declaration\">How to declare an array in Java?</h2>\n",
    "\n",
    "><p>In Java, here is how we can declare an array.</p>\n",
    "><pre><code>dataType[] arrayName;</code></pre>\n",
    "><ul><li><var>dataType</var> - it can be primitive data types like <code>int</code>, <code>char</code>, <code>double</code>, <code>byte</code>, etc. orJava objects</li>\n",
    "\t<li><var>arrayName</var> - it is an identifier</li>\n",
    "</ul>\n",
    "\n",
    "> <p>For example,</p>\n",
    "> <pre>\n",
    "<code>double[] data;</code></pre>\n",
    "><p>Here, <var>data</var> is an array that can hold values of type <code>double</code>.</p>\n",
    "> <p><strong>But, how many elements can array this hold?</strong></p>\n",
    "> <p>Good question! To define the number of elements that an array can hold, we have to allocate memory for the array in Java. For example,</p>\n",
    "><pre>\n",
    "<code>// declare an array\n",
    "double[] data;\n",
    "// allocate memory\n",
    "data = new double[10];</code></pre>\n",
    "><br><p>Here, the array can store <strong>10</strong> elements. We can also say that the <strong>size or length</strong> of the array is 10.</p>"
   ]
  },
  {
   "cell_type": "markdown",
   "id": "8bc8ddc7",
   "metadata": {},
   "source": [
    "<hr><h2 id=\"initialization\">How to Initialize Arrays in Java?</h2>\n",
    "\n",
    "><p>In Java, we can initialize arrays during declaration. For example,</p>\n",
    "><pre>\n",
    "<code>//declare and initialize and array\n",
    "int[] age = {12, 4, 5, 2, 5};</code></pre>\n",
    "><p>Here, we have created an array named age and initialized it with the values inside the curly brackets.</p>\n",
    "><p>Note that we have not provided the size of the array. In this case, the Java compiler automatically specifies the size by counting the number of elements in the array (i.e. 5).</p>\n",
    "><p>In the Java array, each memory location is associated with a number. The number is known as an array index. We can also initialize arrays in Java, using the index number. For example,</p>\n",
    "><pre>\n",
    "<code>// declare an array\n",
    "int[] age = new int[5];\n",
    "// initialize array\n",
    "age[0] = 12;\n",
    "age[1] = 4;\n",
    "age[2] = 5;\n",
    "..</code></pre>\n",
    "\n",
    "><p><strong>Note</strong>:</p>\n",
    "><ul><li>Array indices always start from 0. That is, the first element of an array is at index 0.</li>\n",
    "    <li>If the size of an array is <var>n</var>, then the last element of the array will be at index <var>n-1</var>.</li>\n",
    "</ul>"
   ]
  },
  {
   "cell_type": "markdown",
   "id": "8f2efc1b",
   "metadata": {},
   "source": [
    "<h2 id=\"access-array\">How to Access Elements of an Array in Java?</h2>\n",
    "\n",
    "><p>We can access the element of an array using the index number. Here is the syntax for accessing elements of an array,</p>\n",
    "><pre>\n",
    "<code>// access array elements\n",
    "array[index]</code></pre>\n",
    "\n",
    "<b>Example:"
   ]
  },
  {
   "cell_type": "code",
   "execution_count": 4,
   "id": "75fbbbe3",
   "metadata": {},
   "outputs": [
    {
     "data": {
      "text/plain": [
       "com.twosigma.beaker.javash.bkr0b632e6b.Main"
      ]
     },
     "execution_count": 4,
     "metadata": {},
     "output_type": "execute_result"
    }
   ],
   "source": [
    "class Main {\n",
    "public static void main(String[] args) {\n",
    "  \n",
    "   // create an array\n",
    "   int[] age = {12, 4, 5, 2, 5};\n",
    "\n",
    "   // access each array elements\n",
    "   System.out.println(\"Accessing Elements of Array:\");\n",
    "   System.out.println(\"First Element: \" + age[0]);\n",
    "   System.out.println(\"Second Element: \" + age[1]);\n",
    "   System.out.println(\"Third Element: \" + age[2]);\n",
    "   System.out.println(\"Fourth Element: \" + age[3]);\n",
    "   System.out.println(\"Fifth Element: \" + age[4]);\n",
    " }\n",
    "}\n"
   ]
  },
  {
   "cell_type": "markdown",
   "id": "857d63db",
   "metadata": {},
   "source": [
    "><p><strong>Output</strong></p>\n",
    "><pre>\n",
    "<samp>Accessing Elements of Array:\n",
    "First Element: 12\n",
    "Second Element: 4\n",
    "Third Element: 5\n",
    "Fourth Element: 2\n",
    "Fifth Element: 5</samp></pre>"
   ]
  },
  {
   "cell_type": "markdown",
   "id": "29c9e2b3",
   "metadata": {},
   "source": [
    "><p>In the above example, notice that we are using the index number to access each element of the array.</p>\n",
    "><p>We can use loops to access all the elements of the array at once.</p>"
   ]
  },
  {
   "cell_type": "markdown",
   "id": "4b649925",
   "metadata": {},
   "source": [
    "<h2 id=\"looping-array\">Looping Through Array Elements</h2>\n",
    "\n",
    "><p>In Java, we can also loop through each element of the array. </p>\n",
    "\n",
    "<b>Example:"
   ]
  },
  {
   "cell_type": "code",
   "execution_count": 6,
   "id": "2b260c82",
   "metadata": {},
   "outputs": [
    {
     "data": {
      "text/plain": [
       "com.twosigma.beaker.javash.bkr0b632e6b.Main"
      ]
     },
     "execution_count": 6,
     "metadata": {},
     "output_type": "execute_result"
    }
   ],
   "source": [
    "class Main {\n",
    " public static void main(String[] args) {\n",
    "  \n",
    "   // create an array\n",
    "   int[] age = {12, 4, 5};\n",
    "\n",
    "   // loop through the array\n",
    "   // using for loop\n",
    "   System.out.println(\"Using for Loop:\");\n",
    "   for(int i = 0; i < age.length; i++) {\n",
    "     System.out.println(age[i]);\n",
    "   }\n",
    " }\n",
    "}"
   ]
  },
  {
   "cell_type": "markdown",
   "id": "aa01dc8d",
   "metadata": {},
   "source": [
    "><p><strong>Output</strong></p>\n",
    "><pre>\n",
    "<samp>Using for Loop:\n",
    "12\n",
    "4\n",
    "5</samp></pre>"
   ]
  },
  {
   "cell_type": "markdown",
   "id": "9bec9aad",
   "metadata": {},
   "source": [
    "><p>In the above example, we are using thefor Loop in Java to iterate through each element of the array. Notice the expression inside the loop,</p>\n",
    "><pre>\n",
    "<code>age.length</code></pre>\n",
    "><p>Here, we are using the <code>length</code> property of the array to get the size of the array.</p>"
   ]
  }
 ],
 "metadata": {
  "kernelspec": {
   "display_name": "Java",
   "language": "java",
   "name": "java"
  },
  "language_info": {
   "codemirror_mode": "text/x-java",
   "file_extension": ".java",
   "mimetype": "",
   "name": "Java",
   "nbconverter_exporter": "",
   "version": "1.8.0_121"
  },
  "toc": {
   "base_numbering": 1,
   "nav_menu": {},
   "number_sections": false,
   "sideBar": false,
   "skip_h1_title": false,
   "title_cell": "Table of Contents",
   "title_sidebar": "Contents",
   "toc_cell": false,
   "toc_position": {},
   "toc_section_display": false,
   "toc_window_display": false
  }
 },
 "nbformat": 4,
 "nbformat_minor": 5
}
