{
 "cells": [
  {
   "cell_type": "markdown",
   "id": "0ef4de4c",
   "metadata": {},
   "source": [
    "<h1 class=\"entry-title\" itemprop=\"headline\">Hibernate Using Xml Mapping\n",
    "</h1>"
   ]
  },
  {
   "cell_type": "markdown",
   "id": "a90cf641",
   "metadata": {},
   "source": [
    "<p>As we discussed primary things like hibernate architecture, object states, configuration files, mapping files, transaction management to make a hibernate program. Let us start with a simple hibernate program to save a student class object into the database.</p>"
   ]
  },
  {
   "cell_type": "markdown",
   "id": "98d7a717",
   "metadata": {},
   "source": [
    "<h2>Example:</h2>"
   ]
  },
  {
   "cell_type": "markdown",
   "id": "e43cbfd1",
   "metadata": {},
   "source": [
    "<strong>Student.java</strong>"
   ]
  },
  {
   "cell_type": "markdown",
   "id": "014e7901",
   "metadata": {},
   "source": [
    "<pre class=\"java\" style=\"font-family:monospace;\">color: #000000; font-weight: bold;\">public</span> <span style=\"color: #000000; font-weight: bold;\">class</span> Student <span style=\"color: #009900;\">{</span>\n",
    "\t<span style=\"color: #666666; font-style: italic;\">//data members</span>\n",
    "\t<span style=\"color: #000000; font-weight: bold;\">private</span> <span style=\"color: #000066; font-weight: bold;\">int</span> studentId<span style=\"color: #339933;\">;</span>\n",
    "\t<span style=\"color: #000000; font-weight: bold;\">private</span> <span style=\"color: #003399;\">String</span> firstName<span style=\"color: #339933;\">;</span>\n",
    "\t<span style=\"color: #000000; font-weight: bold;\">private</span> <span style=\"color: #003399;\">String</span> lastName<span style=\"color: #339933;\">;</span>\n",
    "\t<span style=\"color: #000000; font-weight: bold;\">private</span> <span style=\"color: #003399;\">String</span> className<span style=\"color: #339933;\">;</span>\n",
    "\t<span style=\"color: #000000; font-weight: bold;\">private</span> <span style=\"color: #003399;\">String</span> rollNo<span style=\"color: #339933;\">;</span>\n",
    "\t<span style=\"color: #000000; font-weight: bold;\">private</span> <span style=\"color: #000066; font-weight: bold;\">int</span> age<span style=\"color: #339933;\">;</span>\n",
    "&nbsp;\n",
    "\t<span style=\"color: #666666; font-style: italic;\">//no-argument constructor</span>\n",
    "\t<span style=\"color: #000000; font-weight: bold;\">public</span> Student<span style=\"color: #009900;\">(</span><span style=\"color: #009900;\">)</span><span style=\"color: #009900;\">{</span>\n",
    "&nbsp;\n",
    "\t<span style=\"color: #009900;\">}</span>\n",
    "&nbsp;\n",
    "\t<span style=\"color: #666666; font-style: italic;\">//getter and setter methods</span>\n",
    "\t<span style=\"color: #000000; font-weight: bold;\">public</span> <span style=\"color: #000066; font-weight: bold;\">int</span> getStudentId<span style=\"color: #009900;\">(</span><span style=\"color: #009900;\">)</span> <span style=\"color: #009900;\">{</span>\n",
    "\t\t<span style=\"color: #000000; font-weight: bold;\">return</span> studentId<span style=\"color: #339933;\">;</span>\n",
    "\t<span style=\"color: #009900;\">}</span>\n",
    "&nbsp;\n",
    "\t<span style=\"color: #000000; font-weight: bold;\">public</span> <span style=\"color: #000066; font-weight: bold;\">void</span> setStudentId<span style=\"color: #009900;\">(</span><span style=\"color: #000066; font-weight: bold;\">int</span> studentId<span style=\"color: #009900;\">)</span> <span style=\"color: #009900;\">{</span>\n",
    "\t\t<span style=\"color: #000000; font-weight: bold;\">this</span>.<span style=\"color: #006633;\">studentId</span> <span style=\"color: #339933;\">=</span> studentId<span style=\"color: #339933;\">;</span>\n",
    "\t<span style=\"color: #009900;\">}</span>\n",
    "&nbsp;\n",
    "\t<span style=\"color: #000000; font-weight: bold;\">public</span> <span style=\"color: #003399;\">String</span> getFirstName<span style=\"color: #009900;\">(</span><span style=\"color: #009900;\">)</span> <span style=\"color: #009900;\">{</span>\n",
    "\t\t<span style=\"color: #000000; font-weight: bold;\">return</span> firstName<span style=\"color: #339933;\">;</span>\n",
    "\t<span style=\"color: #009900;\">}</span>\n",
    "&nbsp;\n",
    "\t<span style=\"color: #000000; font-weight: bold;\">public</span> <span style=\"color: #000066; font-weight: bold;\">void</span> setFirstName<span style=\"color: #009900;\">(</span><span style=\"color: #003399;\">String</span> firstName<span style=\"color: #009900;\">)</span> <span style=\"color: #009900;\">{</span>\n",
    "\t\t<span style=\"color: #000000; font-weight: bold;\">this</span>.<span style=\"color: #006633;\">firstName</span> <span style=\"color: #339933;\">=</span> firstName<span style=\"color: #339933;\">;</span>\n",
    "\t<span style=\"color: #009900;\">}</span>\n",
    "&nbsp;\n",
    "\t<span style=\"color: #000000; font-weight: bold;\">public</span> <span style=\"color: #003399;\">String</span> getLastName<span style=\"color: #009900;\">(</span><span style=\"color: #009900;\">)</span> <span style=\"color: #009900;\">{</span>\n",
    "\t\t<span style=\"color: #000000; font-weight: bold;\">return</span> lastName<span style=\"color: #339933;\">;</span>\n",
    "\t<span style=\"color: #009900;\">}</span>\n",
    "&nbsp;\n",
    "\t<span style=\"color: #000000; font-weight: bold;\">public</span> <span style=\"color: #000066; font-weight: bold;\">void</span> setLastName<span style=\"color: #009900;\">(</span><span style=\"color: #003399;\">String</span> lastName<span style=\"color: #009900;\">)</span> <span style=\"color: #009900;\">{</span>\n",
    "\t\t<span style=\"color: #000000; font-weight: bold;\">this</span>.<span style=\"color: #006633;\">lastName</span> <span style=\"color: #339933;\">=</span> lastName<span style=\"color: #339933;\">;</span>\n",
    "\t<span style=\"color: #009900;\">}</span>\n",
    "&nbsp;\n",
    "\t<span style=\"color: #000000; font-weight: bold;\">public</span> <span style=\"color: #003399;\">String</span> getClassName<span style=\"color: #009900;\">(</span><span style=\"color: #009900;\">)</span> <span style=\"color: #009900;\">{</span>\n",
    "\t\t<span style=\"color: #000000; font-weight: bold;\">return</span> className<span style=\"color: #339933;\">;</span>\n",
    "\t<span style=\"color: #009900;\">}</span>\n",
    "&nbsp;\n",
    "\t<span style=\"color: #000000; font-weight: bold;\">public</span> <span style=\"color: #000066; font-weight: bold;\">void</span> setClassName<span style=\"color: #009900;\">(</span><span style=\"color: #003399;\">String</span> className<span style=\"color: #009900;\">)</span> <span style=\"color: #009900;\">{</span>\n",
    "\t\t<span style=\"color: #000000; font-weight: bold;\">this</span>.<span style=\"color: #006633;\">className</span> <span style=\"color: #339933;\">=</span> className<span style=\"color: #339933;\">;</span>\n",
    "\t<span style=\"color: #009900;\">}</span>\n",
    "&nbsp;\n",
    "\t<span style=\"color: #000000; font-weight: bold;\">public</span> <span style=\"color: #003399;\">String</span> getRollNo<span style=\"color: #009900;\">(</span><span style=\"color: #009900;\">)</span> <span style=\"color: #009900;\">{</span>\n",
    "\t\t<span style=\"color: #000000; font-weight: bold;\">return</span> rollNo<span style=\"color: #339933;\">;</span>\n",
    "\t<span style=\"color: #009900;\">}</span>\n",
    "&nbsp;\n",
    "\t<span style=\"color: #000000; font-weight: bold;\">public</span> <span style=\"color: #000066; font-weight: bold;\">void</span> setRollNo<span style=\"color: #009900;\">(</span><span style=\"color: #003399;\">String</span> rollNo<span style=\"color: #009900;\">)</span> <span style=\"color: #009900;\">{</span>\n",
    "\t\t<span style=\"color: #000000; font-weight: bold;\">this</span>.<span style=\"color: #006633;\">rollNo</span> <span style=\"color: #339933;\">=</span> rollNo<span style=\"color: #339933;\">;</span>\n",
    "\t<span style=\"color: #009900;\">}</span>\n",
    "&nbsp;\n",
    "\t<span style=\"color: #000000; font-weight: bold;\">public</span> <span style=\"color: #000066; font-weight: bold;\">int</span> getAge<span style=\"color: #009900;\">(</span><span style=\"color: #009900;\">)</span> <span style=\"color: #009900;\">{</span>\n",
    "\t\t<span style=\"color: #000000; font-weight: bold;\">return</span> age<span style=\"color: #339933;\">;</span>\n",
    "\t<span style=\"color: #009900;\">}</span>\n",
    "&nbsp;\n",
    "\t<span style=\"color: #000000; font-weight: bold;\">public</span> <span style=\"color: #000066; font-weight: bold;\">void</span> setAge<span style=\"color: #009900;\">(</span><span style=\"color: #000066; font-weight: bold;\">int</span> age<span style=\"color: #009900;\">)</span> <span style=\"color: #009900;\">{</span>\n",
    "\t\t<span style=\"color: #000000; font-weight: bold;\">this</span>.<span style=\"color: #006633;\">age</span> <span style=\"color: #339933;\">=</span> age<span style=\"color: #339933;\">;</span>\n",
    "\t<span style=\"color: #009900;\">}</span>\n",
    "<span style=\"color: #009900;\">}</span></pre>"
   ]
  },
  {
   "cell_type": "markdown",
   "id": "cbed2869",
   "metadata": {},
   "source": [
    "<strong>hibernate.cfg.xml</strong>"
   ]
  },
  {
   "cell_type": "markdown",
   "id": "46e7f940",
   "metadata": {},
   "source": [
    "<pre class=\"java\" style=\"font-family:monospace;\"><span style=\"color: #339933;\">&lt;?</span>xml version<span style=\"color: #339933;\">=</span><span style=\"color: #0000ff;\">'1.0'</span> encoding<span style=\"color: #339933;\">=</span><span style=\"color: #0000ff;\">'UTF-8'</span><span style=\"color: #339933;\">?&gt;</span>\n",
    "<span style=\"color: #339933;\">&lt;!</span>DOCTYPE hibernate<span style=\"color: #339933;\">-</span>configuration SYSTEM\n",
    "<span style=\"color: #0000ff;\">\"http://hibernate.sourceforge.net/hibernate-configuration-3.0.dtd\"</span><span style=\"color: #339933;\">&gt;</span>\n",
    "&nbsp;\n",
    "<span style=\"color: #339933;\">&lt;</span>hibernate<span style=\"color: #339933;\">-</span>configuration<span style=\"color: #339933;\">&gt;</span>\n",
    "&nbsp;\n",
    "    <span style=\"color: #339933;\">&lt;</span>session<span style=\"color: #339933;\">-</span>factory<span style=\"color: #339933;\">&gt;</span>\n",
    "        <span style=\"color: #339933;\">&lt;</span>property name<span style=\"color: #339933;\">=</span><span style=\"color: #0000ff;\">\"dialect\"</span><span style=\"color: #339933;\">&gt;</span>\n",
    "           org.<span style=\"color: #006633;\">hibernate</span>.<span style=\"color: #006633;\">dialect</span>.<span style=\"color: #006633;\">OracleDialect</span>\n",
    "        <span style=\"color: #339933;\">&lt;/</span>property<span style=\"color: #339933;\">&gt;</span>\n",
    "        <span style=\"color: #339933;\">&lt;</span>property name<span style=\"color: #339933;\">=</span><span style=\"color: #0000ff;\">\"connection.url\"</span><span style=\"color: #339933;\">&gt;</span>\n",
    "           jdbc<span style=\"color: #339933;\">:</span>oracle<span style=\"color: #339933;\">:</span>thin<span style=\"color: #339933;\">:</span>@localhost<span style=\"color: #339933;\">:</span><span style=\"color: #cc66cc;\">1521</span><span style=\"color: #339933;\">:</span>XE\n",
    "        <span style=\"color: #339933;\">&lt;/</span>property<span style=\"color: #339933;\">&gt;</span>\n",
    "        <span style=\"color: #339933;\">&lt;</span>property name<span style=\"color: #339933;\">=</span><span style=\"color: #0000ff;\">\"connection.username\"</span><span style=\"color: #339933;\">&gt;</span>\n",
    "           system\n",
    "        <span style=\"color: #339933;\">&lt;/</span>property<span style=\"color: #339933;\">&gt;</span>\n",
    "        <span style=\"color: #339933;\">&lt;</span>property name<span style=\"color: #339933;\">=</span><span style=\"color: #0000ff;\">\"connection.password\"</span><span style=\"color: #339933;\">&gt;</span>\n",
    "           oracle\n",
    "        <span style=\"color: #339933;\">&lt;/</span>property<span style=\"color: #339933;\">&gt;</span>\n",
    "        <span style=\"color: #339933;\">&lt;</span>property name<span style=\"color: #339933;\">=</span><span style=\"color: #0000ff;\">\"connection.driver_class\"</span><span style=\"color: #339933;\">&gt;</span>\n",
    "           oracle.<span style=\"color: #006633;\">jdbc</span>.<span style=\"color: #006633;\">driver</span>.<span style=\"color: #006633;\">OracleDriver</span>\n",
    "        <span style=\"color: #339933;\">&lt;/</span>property<span style=\"color: #339933;\">&gt;</span>\n",
    "        <span style=\"color: #339933;\">&lt;</span>property name<span style=\"color: #339933;\">=</span><span style=\"color: #0000ff;\">\"hbm2ddl.auto\"</span><span style=\"color: #339933;\">&gt;</span>\n",
    "           update\n",
    "        <span style=\"color: #339933;\">&lt;/</span>property<span style=\"color: #339933;\">&gt;</span>\n",
    "        <span style=\"color: #339933;\">&lt;</span>property name<span style=\"color: #339933;\">=</span><span style=\"color: #0000ff;\">\"show_sql\"</span><span style=\"color: #339933;\">&gt;</span>\n",
    "           <span style=\"color: #000066; font-weight: bold;\">true</span>\n",
    "        <span style=\"color: #339933;\">&lt;/</span>property<span style=\"color: #339933;\">&gt;</span>\n",
    "&nbsp;\n",
    "        <span style=\"color: #339933;\">&lt;</span>mapping resource<span style=\"color: #339933;\">=</span><span style=\"color: #0000ff;\">\"student.hbm.xml\"</span><span style=\"color: #339933;\">/&gt;</span>\n",
    "&nbsp;\n",
    "    <span style=\"color: #339933;\">&lt;/</span>session<span style=\"color: #339933;\">-</span>factory<span style=\"color: #339933;\">&gt;</span>\n",
    "&nbsp;\n",
    "<span style=\"color: #339933;\">&lt;/</span>hibernate<span style=\"color: #339933;\">-</span>configuration<span style=\"color: #339933;\">&gt;</span></pre>"
   ]
  },
  {
   "cell_type": "markdown",
   "id": "eed03eb6",
   "metadata": {},
   "source": [
    "<strong>student.hbm.xml</strong>"
   ]
  },
  {
   "cell_type": "markdown",
   "id": "7b856463",
   "metadata": {},
   "source": [
    "<pre class=\"java\" style=\"font-family:monospace;\"><span style=\"color: #339933;\">&lt;?</span>xml version<span style=\"color: #339933;\">=</span><span style=\"color: #0000ff;\">'1.0'</span> encoding<span style=\"color: #339933;\">=</span><span style=\"color: #0000ff;\">'UTF-8'</span><span style=\"color: #339933;\">?&gt;</span>\n",
    "<span style=\"color: #339933;\">&lt;!</span>DOCTYPE hibernate<span style=\"color: #339933;\">-</span>mapping SYSTEM\n",
    "    <span style=\"color: #0000ff;\">\"http://hibernate.sourceforge.net/hibernate-mapping-3.0.dtd\"</span><span style=\"color: #339933;\">&gt;</span>\n",
    "&nbsp;\n",
    "<span style=\"color: #339933;\">&lt;</span>hibernate<span style=\"color: #339933;\">-</span>mapping<span style=\"color: #339933;\">&gt;</span>\n",
    "&nbsp;\n",
    " <span style=\"color: #339933;\">&lt;</span><span style=\"color: #000000; font-weight: bold;\">class</span> name<span style=\"color: #339933;\">=</span><span style=\"color: #0000ff;\">\"business.Student\"</span> table<span style=\"color: #339933;\">=</span><span style=\"color: #0000ff;\">\"Student\"</span><span style=\"color: #339933;\">&gt;</span>\n",
    "  <span style=\"color: #339933;\">&lt;</span>id name<span style=\"color: #339933;\">=</span><span style=\"color: #0000ff;\">\"studentId\"</span> type<span style=\"color: #339933;\">=</span><span style=\"color: #0000ff;\">\"int\"</span> column<span style=\"color: #339933;\">=</span><span style=\"color: #0000ff;\">\"Student_Id\"</span><span style=\"color: #339933;\">&gt;</span>\n",
    "\t<span style=\"color: #339933;\">&lt;</span>generator <span style=\"color: #000000; font-weight: bold;\">class</span><span style=\"color: #339933;\">=</span><span style=\"color: #0000ff;\">\"native\"</span><span style=\"color: #339933;\">&gt;&lt;/</span>generator<span style=\"color: #339933;\">&gt;</span>\n",
    "  <span style=\"color: #339933;\">&lt;/</span>id<span style=\"color: #339933;\">&gt;</span>\n",
    "&nbsp;\n",
    "  <span style=\"color: #339933;\">&lt;</span>property name<span style=\"color: #339933;\">=</span><span style=\"color: #0000ff;\">\"firstName\"</span> column<span style=\"color: #339933;\">=</span><span style=\"color: #0000ff;\">\"First_Name\"</span> type<span style=\"color: #339933;\">=</span><span style=\"color: #0000ff;\">\"string\"</span><span style=\"color: #339933;\">/&gt;</span>\n",
    "  <span style=\"color: #339933;\">&lt;</span>property name<span style=\"color: #339933;\">=</span><span style=\"color: #0000ff;\">\"lastName\"</span> column<span style=\"color: #339933;\">=</span><span style=\"color: #0000ff;\">\"Last_Name\"</span> type<span style=\"color: #339933;\">=</span><span style=\"color: #0000ff;\">\"string\"</span><span style=\"color: #339933;\">/&gt;</span>\n",
    "  <span style=\"color: #339933;\">&lt;</span>property name<span style=\"color: #339933;\">=</span><span style=\"color: #0000ff;\">\"className\"</span> column<span style=\"color: #339933;\">=</span><span style=\"color: #0000ff;\">\"Class\"</span> type<span style=\"color: #339933;\">=</span><span style=\"color: #0000ff;\">\"string\"</span><span style=\"color: #339933;\">/&gt;</span>\n",
    "  <span style=\"color: #339933;\">&lt;</span>property name<span style=\"color: #339933;\">=</span><span style=\"color: #0000ff;\">\"rollNo\"</span> column<span style=\"color: #339933;\">=</span><span style=\"color: #0000ff;\">\"RollNo\"</span> type<span style=\"color: #339933;\">=</span><span style=\"color: #0000ff;\">\"string\"</span><span style=\"color: #339933;\">/&gt;</span>\n",
    "  <span style=\"color: #339933;\">&lt;</span>property name<span style=\"color: #339933;\">=</span><span style=\"color: #0000ff;\">\"age\"</span> column<span style=\"color: #339933;\">=</span><span style=\"color: #0000ff;\">\"Age\"</span> type<span style=\"color: #339933;\">=</span><span style=\"color: #0000ff;\">\"int\"</span><span style=\"color: #339933;\">/&gt;</span>\n",
    "&nbsp;\n",
    " <span style=\"color: #339933;\">&lt;/</span>class<span style=\"color: #339933;\">&gt;</span>\n",
    "&nbsp;\n",
    "<span style=\"color: #339933;\">&lt;/</span>hibernate<span style=\"color: #339933;\">-</span>mapping<span style=\"color: #339933;\">&gt;</span></pre>"
   ]
  },
  {
   "cell_type": "markdown",
   "id": "4fdd7397",
   "metadata": {},
   "source": [
    "<strong>HibernateUtil.java</strong>"
   ]
  },
  {
   "cell_type": "markdown",
   "id": "b0e7a0dc",
   "metadata": {},
   "source": [
    "<pre class=\"java\" style=\"font-family:monospace;\"><span style=\"color: #000000; font-weight: bold;\">import</span> <span style=\"color: #006699;\">org.hibernate.SessionFactory</span><span style=\"color: #339933;\">;</span>\n",
    "<span style=\"color: #000000; font-weight: bold;\">import</span> <span style=\"color: #006699;\">org.hibernate.cfg.Configuration</span><span style=\"color: #339933;\">;</span>\n",
    "&nbsp;\n",
    "\n",
    "<span style=\"color: #000000; font-weight: bold;\">public</span> <span style=\"color: #000000; font-weight: bold;\">class</span> HibernateUtil <span style=\"color: #009900;\">{</span>\n",
    "    <span style=\"color: #000000; font-weight: bold;\">private</span> <span style=\"color: #000000; font-weight: bold;\">static</span> <span style=\"color: #000000; font-weight: bold;\">final</span> SessionFactory sessionFactory <span style=\"color: #339933;\">=</span> \n",
    "                                           buildSessionFactory<span style=\"color: #009900;\">(</span><span style=\"color: #009900;\">)</span><span style=\"color: #339933;\">;</span>\n",
    "&nbsp;\n",
    "    <span style=\"color: #000000; font-weight: bold;\">private</span> <span style=\"color: #000000; font-weight: bold;\">static</span> SessionFactory buildSessionFactory<span style=\"color: #009900;\">(</span><span style=\"color: #009900;\">)</span> <span style=\"color: #009900;\">{</span>\n",
    "    \tSessionFactory sessionFactory <span style=\"color: #339933;\">=</span> <span style=\"color: #000066; font-weight: bold;\">null</span><span style=\"color: #339933;\">;</span>\n",
    "        <span style=\"color: #000000; font-weight: bold;\">try</span> <span style=\"color: #009900;\">{</span>\n",
    "        \t<span style=\"color: #666666; font-style: italic;\">//Create the configuration object.</span>\n",
    "        \tConfiguration configuration <span style=\"color: #339933;\">=</span> <span style=\"color: #000000; font-weight: bold;\">new</span> Configuration<span style=\"color: #009900;\">(</span><span style=\"color: #009900;\">)</span><span style=\"color: #339933;\">;</span> \n",
    "        \t<span style=\"color: #666666; font-style: italic;\">//Initialize the configuration object </span>\n",
    "                <span style=\"color: #666666; font-style: italic;\">//with the configuration file data</span>\n",
    "        \tconfiguration.<span style=\"color: #006633;\">configure</span><span style=\"color: #009900;\">(</span><span style=\"color: #0000ff;\">\"hibernate.cfg.xml\"</span><span style=\"color: #009900;\">)</span><span style=\"color: #339933;\">;</span>\n",
    "        \t<span style=\"color: #666666; font-style: italic;\">// Get the SessionFactory object from configuration.</span>\n",
    "        \tsessionFactory <span style=\"color: #339933;\">=</span> configuration.<span style=\"color: #006633;\">buildSessionFactory</span><span style=\"color: #009900;\">(</span><span style=\"color: #009900;\">)</span><span style=\"color: #339933;\">;</span>\n",
    "        <span style=\"color: #009900;\">}</span>\n",
    "        <span style=\"color: #000000; font-weight: bold;\">catch</span> <span style=\"color: #009900;\">(</span><span style=\"color: #003399;\">Exception</span> e<span style=\"color: #009900;\">)</span> <span style=\"color: #009900;\">{</span>\n",
    "           e.<span style=\"color: #006633;\">printStackTrace</span><span style=\"color: #009900;\">(</span><span style=\"color: #009900;\">)</span><span style=\"color: #339933;\">;</span>\n",
    "        <span style=\"color: #009900;\">}</span>\n",
    "        <span style=\"color: #000000; font-weight: bold;\">return</span> sessionFactory<span style=\"color: #339933;\">;</span>\n",
    "    <span style=\"color: #009900;\">}</span>\n",
    "&nbsp;\n",
    "    <span style=\"color: #000000; font-weight: bold;\">public</span> <span style=\"color: #000000; font-weight: bold;\">static</span> SessionFactory getSessionFactory<span style=\"color: #009900;\">(</span><span style=\"color: #009900;\">)</span> <span style=\"color: #009900;\">{</span>\n",
    "        <span style=\"color: #000000; font-weight: bold;\">return</span> sessionFactory<span style=\"color: #339933;\">;</span>\n",
    "    <span style=\"color: #009900;\">}</span>\n",
    "&nbsp;\n",
    "<span style=\"color: #009900;\">}</span></pre>"
   ]
  },
  {
   "cell_type": "markdown",
   "id": "d835e133",
   "metadata": {},
   "source": [
    "<strong>HibernateTest.java</strong>"
   ]
  },
  {
   "cell_type": "markdown",
   "id": "a08ac90f",
   "metadata": {},
   "source": [
    "<pre class=\"java\" style=\"font-family:monospace;\"><span style=\"color: #000000; font-weight: bold;\">import</span> <span style=\"color: #006699;\">org.hibernate.HibernateException</span><span style=\"color: #339933;\">;</span>\n",
    "<span style=\"color: #000000; font-weight: bold;\">import</span> <span style=\"color: #006699;\">org.hibernate.Session</span><span style=\"color: #339933;\">;</span>\n",
    "<span style=\"color: #000000; font-weight: bold;\">import</span> <span style=\"color: #006699;\">org.hibernate.Transaction</span><span style=\"color: #339933;\">;</span>\n",
    "<span style=\"color: #000000; font-weight: bold;\">import</span> <span style=\"color: #006699;\">persistence.HibernateUtil</span><span style=\"color: #339933;\">;</span>\n",
    "&nbsp;\n",
    "<span style=\"color: #000000; font-weight: bold;\">public</span> <span style=\"color: #000000; font-weight: bold;\">class</span> HibernateTest <span style=\"color: #009900;\">{</span>\n",
    "\t<span style=\"color: #000000; font-weight: bold;\">public</span> <span style=\"color: #000000; font-weight: bold;\">static</span> <span style=\"color: #000066; font-weight: bold;\">void</span> main<span style=\"color: #009900;\">(</span><span style=\"color: #003399;\">String</span> args<span style=\"color: #009900;\">[</span><span style=\"color: #009900;\">]</span><span style=\"color: #009900;\">)</span><span style=\"color: #009900;\">{</span>\n",
    "\t<span style=\"color: #666666; font-style: italic;\">//Create the student object.</span>\n",
    "\tStudent student <span style=\"color: #339933;\">=</span> <span style=\"color: #000000; font-weight: bold;\">new</span> Student<span style=\"color: #009900;\">(</span><span style=\"color: #009900;\">)</span><span style=\"color: #339933;\">;</span>\n",
    "&nbsp;\n",
    "\t<span style=\"color: #666666; font-style: italic;\">//Setting the object properties.</span>\n",
    "\tstudent.<span style=\"color: #006633;\">setFirstName</span><span style=\"color: #009900;\">(</span><span style=\"color: #0000ff;\">\"Vivek\"</span><span style=\"color: #009900;\">)</span><span style=\"color: #339933;\">;</span>\n",
    "\tstudent.<span style=\"color: #006633;\">setLastName</span><span style=\"color: #009900;\">(</span><span style=\"color: #0000ff;\">\"Solenki\"</span><span style=\"color: #009900;\">)</span><span style=\"color: #339933;\">;</span>\n",
    "\tstudent.<span style=\"color: #006633;\">setClassName</span><span style=\"color: #009900;\">(</span><span style=\"color: #0000ff;\">\"MCA final\"</span><span style=\"color: #009900;\">)</span><span style=\"color: #339933;\">;</span>\n",
    "\tstudent.<span style=\"color: #006633;\">setRollNo</span><span style=\"color: #009900;\">(</span><span style=\"color: #0000ff;\">\"MCA/07/70\"</span><span style=\"color: #009900;\">)</span><span style=\"color: #339933;\">;</span>\n",
    "\tstudent.<span style=\"color: #006633;\">setAge</span><span style=\"color: #009900;\">(</span><span style=\"color: #cc66cc;\">27</span><span style=\"color: #009900;\">)</span><span style=\"color: #339933;\">;</span>\n",
    "&nbsp;\n",
    "\tTransaction tx <span style=\"color: #339933;\">=</span> <span style=\"color: #000066; font-weight: bold;\">null</span><span style=\"color: #339933;\">;</span>\n",
    "\t<span style=\"color: #666666; font-style: italic;\">//Get the session object.</span>\n",
    "\tSession session <span style=\"color: #339933;\">=</span> \n",
    "                   HibernateUtil.<span style=\"color: #006633;\">getSessionFactory</span><span style=\"color: #009900;\">(</span><span style=\"color: #009900;\">)</span>.<span style=\"color: #006633;\">openSession</span><span style=\"color: #009900;\">(</span><span style=\"color: #009900;\">)</span><span style=\"color: #339933;\">;</span>\n",
    "\t<span style=\"color: #000000; font-weight: bold;\">try</span><span style=\"color: #009900;\">{</span>\n",
    "              <span style=\"color: #666666; font-style: italic;\">//Start hibernate session.</span>\n",
    "\t      tx <span style=\"color: #339933;\">=</span> session.<span style=\"color: #006633;\">beginTransaction</span><span style=\"color: #009900;\">(</span><span style=\"color: #009900;\">)</span><span style=\"color: #339933;\">;</span>\n",
    "&nbsp;\n",
    "              <span style=\"color: #666666; font-style: italic;\">//Insert a new student record in the database.</span>\n",
    "\t      session.<span style=\"color: #006633;\">save</span><span style=\"color: #009900;\">(</span>student<span style=\"color: #009900;\">)</span><span style=\"color: #339933;\">;</span> \n",
    "&nbsp;\n",
    "              <span style=\"color: #666666; font-style: italic;\">//Commit hibernate transaction if no exception occurs.</span>\n",
    "\t      tx.<span style=\"color: #006633;\">commit</span><span style=\"color: #009900;\">(</span><span style=\"color: #009900;\">)</span><span style=\"color: #339933;\">;</span>\n",
    "\t  <span style=\"color: #009900;\">}</span><span style=\"color: #000000; font-weight: bold;\">catch</span> <span style=\"color: #009900;\">(</span>HibernateException e<span style=\"color: #009900;\">)</span> <span style=\"color: #009900;\">{</span>\n",
    "\t     <span style=\"color: #000000; font-weight: bold;\">if</span><span style=\"color: #009900;\">(</span>tx<span style=\"color: #339933;\">!=</span><span style=\"color: #000066; font-weight: bold;\">null</span><span style=\"color: #009900;\">)</span><span style=\"color: #009900;\">{</span>\n",
    "                 <span style=\"color: #666666; font-style: italic;\">//Roll back if any exception occurs. </span>\n",
    "\t         tx.<span style=\"color: #006633;\">rollback</span><span style=\"color: #009900;\">(</span><span style=\"color: #009900;\">)</span><span style=\"color: #339933;\">;</span>\n",
    "\t     <span style=\"color: #009900;\">}</span>\n",
    "\t     e.<span style=\"color: #006633;\">printStackTrace</span><span style=\"color: #009900;\">(</span><span style=\"color: #009900;\">)</span><span style=\"color: #339933;\">;</span> \n",
    "\t  <span style=\"color: #009900;\">}</span><span style=\"color: #000000; font-weight: bold;\">finally</span> <span style=\"color: #009900;\">{</span>\n",
    "             <span style=\"color: #666666; font-style: italic;\">//Close hibernate session.</span>\n",
    "\t     session.<span style=\"color: #006633;\">close</span><span style=\"color: #009900;\">(</span><span style=\"color: #009900;\">)</span><span style=\"color: #339933;\">;</span> \n",
    "\t  <span style=\"color: #009900;\">}</span>\n",
    "\t<span style=\"color: #009900;\">}</span>\n",
    "<span style=\"color: #009900;\">}</span></pre>"
   ]
  },
  {
   "cell_type": "markdown",
   "id": "0557b118",
   "metadata": {},
   "source": [
    "<h2>Output:</h2>"
   ]
  },
  {
   "cell_type": "markdown",
   "id": "d350854e",
   "metadata": {},
   "source": [
    "<pre class=\"java\" style=\"font-family:monospace;\">Hibernate<span style=\"color: #339933;\">:</span> select hibernate_sequence.<span style=\"color: #006633;\">nextval</span> from dual\n",
    "Hibernate<span style=\"color: #339933;\">:</span> insert into Student <span style=\"color: #009900;\">(</span>First_Name, Last_Name, <span style=\"color: #000000; font-weight: bold;\">Class</span>, \n",
    "RollNo, Age, Student_Id<span style=\"color: #009900;\">)</span> values <span style=\"color: #009900;\">(</span><span style=\"color: #339933;\">?</span>, <span style=\"color: #339933;\">?</span>, <span style=\"color: #339933;\">?</span>, <span style=\"color: #339933;\">?</span>, <span style=\"color: #339933;\">?</span>, <span style=\"color: #339933;\">?</span><span style=\"color: #009900;\">)</span>\n",
    "Saved Successfully.</pre>"
   ]
  }
 ],
 "metadata": {
  "kernelspec": {
   "display_name": "Java",
   "language": "java",
   "name": "java"
  },
  "language_info": {
   "codemirror_mode": "text/x-java",
   "file_extension": ".java",
   "mimetype": "",
   "name": "Java",
   "nbconverter_exporter": "",
   "version": "1.8.0_121"
  },
  "toc": {
   "base_numbering": 1,
   "nav_menu": {},
   "number_sections": false,
   "sideBar": false,
   "skip_h1_title": false,
   "title_cell": "Table of Contents",
   "title_sidebar": "Contents",
   "toc_cell": false,
   "toc_position": {},
   "toc_section_display": false,
   "toc_window_display": false
  }
 },
 "nbformat": 4,
 "nbformat_minor": 5
}
