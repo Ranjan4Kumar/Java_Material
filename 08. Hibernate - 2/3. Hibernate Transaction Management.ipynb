{
 "cells": [
  {
   "cell_type": "markdown",
   "id": "fe1de521",
   "metadata": {},
   "source": [
    "<h1 class=\"entry-title\" itemprop=\"headline\">Hibernate Transaction Management\n",
    "</h1>"
   ]
  },
  {
   "cell_type": "markdown",
   "id": "0e307b77",
   "metadata": {},
   "source": [
    "<h2>Transaction:</h2>"
   ]
  },
  {
   "cell_type": "markdown",
   "id": "d7296c03",
   "metadata": {},
   "source": [
    "<p>A transaction is a sequence of operation which works as an atomic unit. A transaction only completes if all the operations completed successfully. A transaction has the Atomicity, Consistency, Isolation and Durability properties (ACID).</p>"
   ]
  },
  {
   "cell_type": "markdown",
   "id": "8535a731",
   "metadata": {},
   "source": [
    "<h2>Transaction interface:</h2>"
   ]
  },
  {
   "cell_type": "markdown",
   "id": "f5ad88b9",
   "metadata": {},
   "source": [
    "<p>Transaction interface provides the facility to define the units of work or transactions. A transaction is associated with a session. We have to call beginTransaction()method of Session to start a transaction (Session.beginTransaction()).</p>"
   ]
  },
  {
   "cell_type": "markdown",
   "id": "aa2f6ec4",
   "metadata": {},
   "source": [
    "<h2>Commonly used methods of Transaction interface:</h2>"
   ]
  },
  {
   "cell_type": "markdown",
   "id": "cdc03c46",
   "metadata": {},
   "source": [
    "<p><strong>1. begin</strong><strong>():</strong> It starts a new transaction.<br> <em><strong>Syntax:</strong></em></p>"
   ]
  },
  {
   "cell_type": "markdown",
   "id": "4e08521f",
   "metadata": {},
   "source": [
    "<pre>public void begin() throws HibernateException</pre>"
   ]
  },
  {
   "cell_type": "markdown",
   "id": "772a2435",
   "metadata": {},
   "source": [
    "<p><strong>2. commit():</strong> It ends the transaction and flush the associated session.<br> <em><strong>Syntax:</strong></em></p>"
   ]
  },
  {
   "cell_type": "markdown",
   "id": "ba528778",
   "metadata": {},
   "source": [
    "<pre>public void commit() throws HibernateException</pre>"
   ]
  },
  {
   "cell_type": "markdown",
   "id": "0b49c24f",
   "metadata": {},
   "source": [
    "<p><strong>3. rollback():</strong> It roll back the current transaction.<br> <em><strong>Syntax:</strong></em></p>"
   ]
  },
  {
   "cell_type": "markdown",
   "id": "33a89782",
   "metadata": {},
   "source": [
    "<pre>public void rollback()throws HibernateException</pre>"
   ]
  },
  {
   "cell_type": "markdown",
   "id": "8add1a17",
   "metadata": {},
   "source": [
    "<p><strong>4. setTimeout(int&nbsp;seconds): </strong>It set the transaction timeout for any transaction started by a subsequent call to begin() on this instance.<br> <em><strong>Syntax:</strong></em></p>"
   ]
  },
  {
   "cell_type": "markdown",
   "id": "1f5369c3",
   "metadata": {},
   "source": [
    "<pre>public void <strong>setTimeout(int&nbsp;seconds)</strong> throws HibernateException</pre>"
   ]
  },
  {
   "cell_type": "markdown",
   "id": "6f90e657",
   "metadata": {},
   "source": [
    "<p><strong>5. isActive():</strong> It checks that is this transaction still active or not.<br> <em><strong>Syntax:</strong></em></p>"
   ]
  },
  {
   "cell_type": "markdown",
   "id": "e694b4cb",
   "metadata": {},
   "source": [
    "<pre>public boolean isActive()throws HibernateException</pre>"
   ]
  },
  {
   "cell_type": "markdown",
   "id": "c6ce2832",
   "metadata": {},
   "source": [
    "<p><strong>6. wasRolledBack():</strong> It checks that is this transaction roll backed successfully or not.<br> <em><strong>Syntax:</strong></em></p>"
   ]
  },
  {
   "cell_type": "markdown",
   "id": "f7c12620",
   "metadata": {},
   "source": [
    "<pre>public boolean wasRolledBack()throws HibernateException</pre>"
   ]
  },
  {
   "cell_type": "markdown",
   "id": "85ff92c9",
   "metadata": {},
   "source": [
    "<p><strong>7. wasCommitted():</strong>It checks that is this transaction committed successfully or not.<br> <em><strong>Syntax:</strong></em></p>"
   ]
  },
  {
   "cell_type": "markdown",
   "id": "68eb9480",
   "metadata": {},
   "source": [
    "<pre>public boolean wasCommitted()throws HibernateException</pre>"
   ]
  },
  {
   "cell_type": "markdown",
   "id": "79502587",
   "metadata": {},
   "source": [
    "<p><strong>8. registerSynchronization(Synchronization&nbsp;synchronization):</strong> It register a user synchronization callback for this transaction.<br> <em><strong>Syntax:</strong></em></p>"
   ]
  },
  {
   "cell_type": "markdown",
   "id": "8b1ad9ff",
   "metadata": {},
   "source": [
    "<pre>public boolean registerSynchronization(Synchronization&nbsp;synchronization)throws HibernateException</pre>"
   ]
  },
  {
   "cell_type": "markdown",
   "id": "e290f096",
   "metadata": {},
   "source": [
    "<h2>Example:</h2>"
   ]
  },
  {
   "cell_type": "code",
   "execution_count": null,
   "id": "59f6a181",
   "metadata": {},
   "outputs": [],
   "source": [
    "Transaction tx = null;\n",
    "//Get the session object.\n",
    "Session session = \n",
    "        HibernateUtil.getSessionFactory().openSession();\n",
    "try{\n",
    "     tx = session.beginTransaction();\n",
    "     //Perform some operation here\n",
    "     tx.commit();\n",
    "}catch (HibernateException e) {\n",
    "     if(tx!=null){\n",
    "          tx.rollback();\n",
    "     }\n",
    "     e.printStackTrace(); \n",
    "}finally {\n",
    "         session.close(); \n",
    "}"
   ]
  }
 ],
 "metadata": {
  "kernelspec": {
   "display_name": "Java",
   "language": "java",
   "name": "java"
  },
  "language_info": {
   "codemirror_mode": "text/x-java",
   "file_extension": ".java",
   "mimetype": "",
   "name": "Java",
   "nbconverter_exporter": "",
   "version": "1.8.0_121"
  },
  "toc": {
   "base_numbering": 1,
   "nav_menu": {},
   "number_sections": false,
   "sideBar": false,
   "skip_h1_title": false,
   "title_cell": "Table of Contents",
   "title_sidebar": "Contents",
   "toc_cell": false,
   "toc_position": {},
   "toc_section_display": false,
   "toc_window_display": false
  }
 },
 "nbformat": 4,
 "nbformat_minor": 5
}
