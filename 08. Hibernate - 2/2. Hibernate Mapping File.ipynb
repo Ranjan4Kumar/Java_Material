{
 "cells": [
  {
   "cell_type": "markdown",
   "id": "e090dbb6",
   "metadata": {},
   "source": [
    "<h1 class=\"entry-title\" itemprop=\"headline\">Hibernate Mapping File\n",
    "\n",
    "\n",
    "</h1>"
   ]
  },
  {
   "cell_type": "markdown",
   "id": "feebc1a7",
   "metadata": {},
   "source": [
    "<p>Hibernate mapping file is used by hibernate framework to get the information about the mapping of a POJO class and a database table.</p>"
   ]
  },
  {
   "cell_type": "markdown",
   "id": "f4ec3c30",
   "metadata": {},
   "source": [
    "<strong>It mainly contains the following mapping information:</strong>"
   ]
  },
  {
   "cell_type": "markdown",
   "id": "5ff83249",
   "metadata": {},
   "source": [
    "<ol><li>Mapping information of a POJO class name to a database table name.</li><li>Mapping information of POJO class properties to database table columns.</li></ol>"
   ]
  },
  {
   "cell_type": "markdown",
   "id": "10c8f85f",
   "metadata": {},
   "source": [
    "<h2>Elements of the Hibernate mapping file:</h2>"
   ]
  },
  {
   "cell_type": "markdown",
   "id": "36e53a48",
   "metadata": {},
   "source": [
    "<ol><li><strong>hibernate-mapping:</strong> It is the root element.</li><li><strong>Class:</strong> It defines the mapping of a POJO class to a database table.</li><li><strong>Id:</strong> It defines the unique key attribute or primary key of the table.</li><li><strong>generator:</strong> It is the sub element of the id element. It is used to automatically generate the id.</li><li><strong>property:</strong> It is used to define the mapping of a POJO class property to database table column.</li></ol>"
   ]
  },
  {
   "cell_type": "markdown",
   "id": "0b88ab2c",
   "metadata": {},
   "source": [
    "<h2>Syntax:</h2>"
   ]
  },
  {
   "cell_type": "markdown",
   "id": "9ed6d71c",
   "metadata": {},
   "source": [
    "<pre class=\"java\" style=\"font-family:monospace;\"><span style=\"color: #339933;\">&lt;</span>hibernate<span style=\"color: #339933;\">-</span>mapping<span style=\"color: #339933;\">&gt;</span>\n",
    "&nbsp;\n",
    " <span style=\"color: #339933;\">&lt;</span><span style=\"color: #000000; font-weight: bold;\">class</span> name<span style=\"color: #339933;\">=</span><span style=\"color: #0000ff;\">\"POJO class name\"</span> table<span style=\"color: #339933;\">=</span><span style=\"color: #0000ff;\">\"table name in database\"</span><span style=\"color: #339933;\">&gt;</span>\n",
    "  <span style=\"color: #339933;\">&lt;</span>id name<span style=\"color: #339933;\">=</span><span style=\"color: #0000ff;\">\"propertyName\"</span> column<span style=\"color: #339933;\">=</span><span style=\"color: #0000ff;\">\"columnName\"</span> type<span style=\"color: #339933;\">=</span><span style=\"color: #0000ff;\">\"propertyType\"</span> <span style=\"color: #339933;\">&gt;</span>\n",
    "\t<span style=\"color: #339933;\">&lt;</span>generator <span style=\"color: #000000; font-weight: bold;\">class</span><span style=\"color: #339933;\">=</span><span style=\"color: #0000ff;\">\"generatorClass\"</span><span style=\"color: #339933;\">/&gt;</span>\n",
    "  <span style=\"color: #339933;\">&lt;/</span>id<span style=\"color: #339933;\">&gt;</span>\n",
    "  <span style=\"color: #339933;\">&lt;</span>property name<span style=\"color: #339933;\">=</span><span style=\"color: #0000ff;\">\"propertyName1\"</span> column<span style=\"color: #339933;\">=</span><span style=\"color: #0000ff;\">\"colName1\"</span> type<span style=\"color: #339933;\">=</span><span style=\"color: #0000ff;\">\"propertyType \"</span> <span style=\"color: #339933;\">/&gt;</span>\n",
    "  <span style=\"color: #339933;\">&lt;</span>property name<span style=\"color: #339933;\">=</span><span style=\"color: #0000ff;\">\"propertyName2\"</span> column<span style=\"color: #339933;\">=</span><span style=\"color: #0000ff;\">\"colName2\"</span> type<span style=\"color: #339933;\">=</span><span style=\"color: #0000ff;\">\"propertyType \"</span> <span style=\"color: #339933;\">/&gt;</span>\n",
    "  ….\n",
    " <span style=\"color: #339933;\">&lt;/</span>class<span style=\"color: #339933;\">&gt;</span>\n",
    "&nbsp;\n",
    "<span style=\"color: #339933;\">&lt;/</span>hibernate<span style=\"color: #339933;\">-</span>mapping<span style=\"color: #339933;\">&gt;</span></pre>"
   ]
  }
 ],
 "metadata": {
  "kernelspec": {
   "display_name": "Java",
   "language": "java",
   "name": "java"
  },
  "language_info": {
   "codemirror_mode": "text/x-java",
   "file_extension": ".java",
   "mimetype": "",
   "name": "Java",
   "nbconverter_exporter": "",
   "version": "1.8.0_121"
  },
  "toc": {
   "base_numbering": 1,
   "nav_menu": {},
   "number_sections": false,
   "sideBar": false,
   "skip_h1_title": false,
   "title_cell": "Table of Contents",
   "title_sidebar": "Contents",
   "toc_cell": false,
   "toc_position": {},
   "toc_section_display": false,
   "toc_window_display": false
  }
 },
 "nbformat": 4,
 "nbformat_minor": 5
}
