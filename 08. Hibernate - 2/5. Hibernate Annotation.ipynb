{
 "cells": [
  {
   "cell_type": "markdown",
   "id": "af21a096",
   "metadata": {},
   "source": [
    "<h1 class=\"entry-title\" itemprop=\"headline\">Hibernate Annotation \n",
    "\n",
    "</h1>"
   ]
  },
  {
   "cell_type": "markdown",
   "id": "b1fe2a3a",
   "metadata": {},
   "source": [
    "<p>As we discussed a simple hibernate program to save a student class object into the database using annotations. Let us do the same exercise with the annotations.</p>"
   ]
  },
  {
   "cell_type": "markdown",
   "id": "a7a12877",
   "metadata": {},
   "source": [
    "<h2>Example:</h2>"
   ]
  },
  {
   "cell_type": "markdown",
   "id": "5f3f9283",
   "metadata": {},
   "source": [
    "<strong>Student.java</strong>"
   ]
  },
  {
   "cell_type": "markdown",
   "id": "1aaf5d02",
   "metadata": {},
   "source": [
    "<pre class=\"java\" style=\"font-family:monospace;\">\n",
    "&nbsp;\n",
    "<span style=\"color: #000000; font-weight: bold;\">import</span> <span style=\"color: #006699;\">javax.persistence.Column</span><span style=\"color: #339933;\">;</span>\n",
    "<span style=\"color: #000000; font-weight: bold;\">import</span> <span style=\"color: #006699;\">javax.persistence.Entity</span><span style=\"color: #339933;\">;</span>\n",
    "<span style=\"color: #000000; font-weight: bold;\">import</span> <span style=\"color: #006699;\">javax.persistence.GeneratedValue</span><span style=\"color: #339933;\">;</span>\n",
    "<span style=\"color: #000000; font-weight: bold;\">import</span> <span style=\"color: #006699;\">javax.persistence.Id</span><span style=\"color: #339933;\">;</span>\n",
    "<span style=\"color: #000000; font-weight: bold;\">import</span> <span style=\"color: #006699;\">javax.persistence.Table</span><span style=\"color: #339933;\">;</span>\n",
    "&nbsp;\n",
    "@<span style=\"color: #003399;\">Entity</span>  \n",
    "@Table<span style=\"color: #009900;\">(</span>name<span style=\"color: #339933;\">=</span> <span style=\"color: #0000ff;\">\"STUDENT\"</span><span style=\"color: #009900;\">)</span>  \n",
    "<span style=\"color: #000000; font-weight: bold;\">public</span> <span style=\"color: #000000; font-weight: bold;\">class</span> Student <span style=\"color: #009900;\">{</span>\n",
    "\t<span style=\"color: #666666; font-style: italic;\">//data members</span>\n",
    "\t<span style=\"color: #000000; font-weight: bold;\">private</span> <span style=\"color: #000066; font-weight: bold;\">int</span> studentId<span style=\"color: #339933;\">;</span>\n",
    "\t<span style=\"color: #000000; font-weight: bold;\">private</span> <span style=\"color: #003399;\">String</span> firstName<span style=\"color: #339933;\">;</span>\n",
    "\t<span style=\"color: #000000; font-weight: bold;\">private</span> <span style=\"color: #003399;\">String</span> lastName<span style=\"color: #339933;\">;</span>\n",
    "\t<span style=\"color: #000000; font-weight: bold;\">private</span> <span style=\"color: #003399;\">String</span> className<span style=\"color: #339933;\">;</span>\n",
    "\t<span style=\"color: #000000; font-weight: bold;\">private</span> <span style=\"color: #003399;\">String</span> rollNo<span style=\"color: #339933;\">;</span>\n",
    "\t<span style=\"color: #000000; font-weight: bold;\">private</span> <span style=\"color: #000066; font-weight: bold;\">int</span> age<span style=\"color: #339933;\">;</span>\n",
    "&nbsp;\n",
    "\t<span style=\"color: #666666; font-style: italic;\">//no-argument constructor</span>\n",
    "\t<span style=\"color: #000000; font-weight: bold;\">public</span> Student<span style=\"color: #009900;\">(</span><span style=\"color: #009900;\">)</span><span style=\"color: #009900;\">{</span>\n",
    "&nbsp;\n",
    "\t<span style=\"color: #009900;\">}</span>\n",
    "&nbsp;\n",
    "\t<span style=\"color: #666666; font-style: italic;\">//getter and setter methods</span>\n",
    "\t@Id\n",
    "\t@GeneratedValue\n",
    "\t@Column<span style=\"color: #009900;\">(</span>name <span style=\"color: #339933;\">=</span> <span style=\"color: #0000ff;\">\"Student_Id\"</span>, unique <span style=\"color: #339933;\">=</span> <span style=\"color: #000066; font-weight: bold;\">true</span>, nullable <span style=\"color: #339933;\">=</span> <span style=\"color: #000066; font-weight: bold;\">false</span><span style=\"color: #009900;\">)</span>\n",
    "\t<span style=\"color: #000000; font-weight: bold;\">public</span> <span style=\"color: #000066; font-weight: bold;\">int</span> getStudentId<span style=\"color: #009900;\">(</span><span style=\"color: #009900;\">)</span> <span style=\"color: #009900;\">{</span>\n",
    "\t\t<span style=\"color: #000000; font-weight: bold;\">return</span> studentId<span style=\"color: #339933;\">;</span>\n",
    "\t<span style=\"color: #009900;\">}</span>\n",
    "\t<span style=\"color: #000000; font-weight: bold;\">public</span> <span style=\"color: #000066; font-weight: bold;\">void</span> setStudentId<span style=\"color: #009900;\">(</span><span style=\"color: #000066; font-weight: bold;\">int</span> studentId<span style=\"color: #009900;\">)</span> <span style=\"color: #009900;\">{</span>\n",
    "\t\t<span style=\"color: #000000; font-weight: bold;\">this</span>.<span style=\"color: #006633;\">studentId</span> <span style=\"color: #339933;\">=</span> studentId<span style=\"color: #339933;\">;</span>\n",
    "\t<span style=\"color: #009900;\">}</span>\n",
    "&nbsp;\n",
    "\t@Column<span style=\"color: #009900;\">(</span>name <span style=\"color: #339933;\">=</span> <span style=\"color: #0000ff;\">\"First_Name\"</span><span style=\"color: #009900;\">)</span>\n",
    "\t<span style=\"color: #000000; font-weight: bold;\">public</span> <span style=\"color: #003399;\">String</span> getFirstName<span style=\"color: #009900;\">(</span><span style=\"color: #009900;\">)</span> <span style=\"color: #009900;\">{</span>\n",
    "\t\t<span style=\"color: #000000; font-weight: bold;\">return</span> firstName<span style=\"color: #339933;\">;</span>\n",
    "\t<span style=\"color: #009900;\">}</span>\n",
    "\t<span style=\"color: #000000; font-weight: bold;\">public</span> <span style=\"color: #000066; font-weight: bold;\">void</span> setFirstName<span style=\"color: #009900;\">(</span><span style=\"color: #003399;\">String</span> firstName<span style=\"color: #009900;\">)</span> <span style=\"color: #009900;\">{</span>\n",
    "\t\t<span style=\"color: #000000; font-weight: bold;\">this</span>.<span style=\"color: #006633;\">firstName</span> <span style=\"color: #339933;\">=</span> firstName<span style=\"color: #339933;\">;</span>\n",
    "\t<span style=\"color: #009900;\">}</span>\n",
    "&nbsp;\n",
    "\t@Column<span style=\"color: #009900;\">(</span>name <span style=\"color: #339933;\">=</span> <span style=\"color: #0000ff;\">\"Last_Name\"</span><span style=\"color: #009900;\">)</span>\n",
    "\t<span style=\"color: #000000; font-weight: bold;\">public</span> <span style=\"color: #003399;\">String</span> getLastName<span style=\"color: #009900;\">(</span><span style=\"color: #009900;\">)</span> <span style=\"color: #009900;\">{</span>\n",
    "\t\t<span style=\"color: #000000; font-weight: bold;\">return</span> lastName<span style=\"color: #339933;\">;</span>\n",
    "\t<span style=\"color: #009900;\">}</span>\n",
    "\t<span style=\"color: #000000; font-weight: bold;\">public</span> <span style=\"color: #000066; font-weight: bold;\">void</span> setLastName<span style=\"color: #009900;\">(</span><span style=\"color: #003399;\">String</span> lastName<span style=\"color: #009900;\">)</span> <span style=\"color: #009900;\">{</span>\n",
    "\t\t<span style=\"color: #000000; font-weight: bold;\">this</span>.<span style=\"color: #006633;\">lastName</span> <span style=\"color: #339933;\">=</span> lastName<span style=\"color: #339933;\">;</span>\n",
    "\t<span style=\"color: #009900;\">}</span>\n",
    "&nbsp;\n",
    "\t@Column<span style=\"color: #009900;\">(</span>name <span style=\"color: #339933;\">=</span> <span style=\"color: #0000ff;\">\"Class\"</span><span style=\"color: #009900;\">)</span>\n",
    "\t<span style=\"color: #000000; font-weight: bold;\">public</span> <span style=\"color: #003399;\">String</span> getClassName<span style=\"color: #009900;\">(</span><span style=\"color: #009900;\">)</span> <span style=\"color: #009900;\">{</span>\n",
    "\t\t<span style=\"color: #000000; font-weight: bold;\">return</span> className<span style=\"color: #339933;\">;</span>\n",
    "\t<span style=\"color: #009900;\">}</span>\n",
    "\t<span style=\"color: #000000; font-weight: bold;\">public</span> <span style=\"color: #000066; font-weight: bold;\">void</span> setClassName<span style=\"color: #009900;\">(</span><span style=\"color: #003399;\">String</span> className<span style=\"color: #009900;\">)</span> <span style=\"color: #009900;\">{</span>\n",
    "\t\t<span style=\"color: #000000; font-weight: bold;\">this</span>.<span style=\"color: #006633;\">className</span> <span style=\"color: #339933;\">=</span> className<span style=\"color: #339933;\">;</span>\n",
    "\t<span style=\"color: #009900;\">}</span>\n",
    "&nbsp;\n",
    "\t@Column<span style=\"color: #009900;\">(</span>name <span style=\"color: #339933;\">=</span> <span style=\"color: #0000ff;\">\"RollNo\"</span><span style=\"color: #009900;\">)</span>\n",
    "\t<span style=\"color: #000000; font-weight: bold;\">public</span> <span style=\"color: #003399;\">String</span> getRollNo<span style=\"color: #009900;\">(</span><span style=\"color: #009900;\">)</span> <span style=\"color: #009900;\">{</span>\n",
    "\t\t<span style=\"color: #000000; font-weight: bold;\">return</span> rollNo<span style=\"color: #339933;\">;</span>\n",
    "\t<span style=\"color: #009900;\">}</span>\n",
    "\t<span style=\"color: #000000; font-weight: bold;\">public</span> <span style=\"color: #000066; font-weight: bold;\">void</span> setRollNo<span style=\"color: #009900;\">(</span><span style=\"color: #003399;\">String</span> rollNo<span style=\"color: #009900;\">)</span> <span style=\"color: #009900;\">{</span>\n",
    "\t\t<span style=\"color: #000000; font-weight: bold;\">this</span>.<span style=\"color: #006633;\">rollNo</span> <span style=\"color: #339933;\">=</span> rollNo<span style=\"color: #339933;\">;</span>\n",
    "\t<span style=\"color: #009900;\">}</span>\n",
    "&nbsp;\n",
    "\t@Column<span style=\"color: #009900;\">(</span>name <span style=\"color: #339933;\">=</span> <span style=\"color: #0000ff;\">\"Age\"</span><span style=\"color: #009900;\">)</span>\n",
    "\t<span style=\"color: #000000; font-weight: bold;\">public</span> <span style=\"color: #000066; font-weight: bold;\">int</span> getAge<span style=\"color: #009900;\">(</span><span style=\"color: #009900;\">)</span> <span style=\"color: #009900;\">{</span>\n",
    "\t\t<span style=\"color: #000000; font-weight: bold;\">return</span> age<span style=\"color: #339933;\">;</span>\n",
    "\t<span style=\"color: #009900;\">}</span>\n",
    "\t<span style=\"color: #000000; font-weight: bold;\">public</span> <span style=\"color: #000066; font-weight: bold;\">void</span> setAge<span style=\"color: #009900;\">(</span><span style=\"color: #000066; font-weight: bold;\">int</span> age<span style=\"color: #009900;\">)</span> <span style=\"color: #009900;\">{</span>\n",
    "\t\t<span style=\"color: #000000; font-weight: bold;\">this</span>.<span style=\"color: #006633;\">age</span> <span style=\"color: #339933;\">=</span> age<span style=\"color: #339933;\">;</span>\n",
    "\t<span style=\"color: #009900;\">}</span>\n",
    "&nbsp;\n",
    "<span style=\"color: #009900;\">}</span></pre>"
   ]
  },
  {
   "cell_type": "markdown",
   "id": "fea30a53",
   "metadata": {},
   "source": [
    "<strong>hibernate.cfg.xml</strong>"
   ]
  },
  {
   "cell_type": "markdown",
   "id": "21eadac3",
   "metadata": {},
   "source": [
    "<pre class=\"java\" style=\"font-family:monospace;\"><span style=\"color: #339933;\">&lt;?</span>xml version<span style=\"color: #339933;\">=</span><span style=\"color: #0000ff;\">'1.0'</span> encoding<span style=\"color: #339933;\">=</span><span style=\"color: #0000ff;\">'UTF-8'</span><span style=\"color: #339933;\">?&gt;</span>\n",
    "<span style=\"color: #339933;\">&lt;!</span>DOCTYPE hibernate<span style=\"color: #339933;\">-</span>configuration SYSTEM\n",
    "<span style=\"color: #0000ff;\">\"http://hibernate.sourceforge.net/hibernate-configuration-3.0.dtd\"</span><span style=\"color: #339933;\">&gt;</span>\n",
    "&nbsp;\n",
    "<span style=\"color: #339933;\">&lt;</span>hibernate<span style=\"color: #339933;\">-</span>configuration<span style=\"color: #339933;\">&gt;</span>\n",
    "&nbsp;\n",
    "    <span style=\"color: #339933;\">&lt;</span>session<span style=\"color: #339933;\">-</span>factory<span style=\"color: #339933;\">&gt;</span>\n",
    "        <span style=\"color: #339933;\">&lt;</span>property name<span style=\"color: #339933;\">=</span><span style=\"color: #0000ff;\">\"dialect\"</span><span style=\"color: #339933;\">&gt;</span>\n",
    "           org.<span style=\"color: #006633;\">hibernate</span>.<span style=\"color: #006633;\">dialect</span>.<span style=\"color: #006633;\">OracleDialect</span>\n",
    "        <span style=\"color: #339933;\">&lt;/</span>property<span style=\"color: #339933;\">&gt;</span>\n",
    "        <span style=\"color: #339933;\">&lt;</span>property name<span style=\"color: #339933;\">=</span><span style=\"color: #0000ff;\">\"connection.url\"</span><span style=\"color: #339933;\">&gt;</span>\n",
    "           jdbc<span style=\"color: #339933;\">:</span>oracle<span style=\"color: #339933;\">:</span>thin<span style=\"color: #339933;\">:</span>@localhost<span style=\"color: #339933;\">:</span><span style=\"color: #cc66cc;\">1521</span><span style=\"color: #339933;\">:</span>XE\n",
    "        <span style=\"color: #339933;\">&lt;/</span>property<span style=\"color: #339933;\">&gt;</span>\n",
    "        <span style=\"color: #339933;\">&lt;</span>property name<span style=\"color: #339933;\">=</span><span style=\"color: #0000ff;\">\"connection.username\"</span><span style=\"color: #339933;\">&gt;</span>\n",
    "           system\n",
    "        <span style=\"color: #339933;\">&lt;/</span>property<span style=\"color: #339933;\">&gt;</span>\n",
    "        <span style=\"color: #339933;\">&lt;</span>property name<span style=\"color: #339933;\">=</span><span style=\"color: #0000ff;\">\"connection.password\"</span><span style=\"color: #339933;\">&gt;</span>\n",
    "           oracle\n",
    "        <span style=\"color: #339933;\">&lt;/</span>property<span style=\"color: #339933;\">&gt;</span>\n",
    "        <span style=\"color: #339933;\">&lt;</span>property name<span style=\"color: #339933;\">=</span><span style=\"color: #0000ff;\">\"connection.driver_class\"</span><span style=\"color: #339933;\">&gt;</span>\n",
    "           oracle.<span style=\"color: #006633;\">jdbc</span>.<span style=\"color: #006633;\">driver</span>.<span style=\"color: #006633;\">OracleDriver</span>\n",
    "        <span style=\"color: #339933;\">&lt;/</span>property<span style=\"color: #339933;\">&gt;</span>\n",
    "        <span style=\"color: #339933;\">&lt;</span>property name<span style=\"color: #339933;\">=</span><span style=\"color: #0000ff;\">\"hbm2ddl.auto\"</span><span style=\"color: #339933;\">&gt;</span>\n",
    "           update\n",
    "        <span style=\"color: #339933;\">&lt;/</span>property<span style=\"color: #339933;\">&gt;</span>\n",
    "        <span style=\"color: #339933;\">&lt;</span>property name<span style=\"color: #339933;\">=</span><span style=\"color: #0000ff;\">\"show_sql\"</span><span style=\"color: #339933;\">&gt;</span>\n",
    "           <span style=\"color: #000066; font-weight: bold;\">true</span>\n",
    "        <span style=\"color: #339933;\">&lt;/</span>property<span style=\"color: #339933;\">&gt;</span>\n",
    "&nbsp;\n",
    "        <span style=\"color: #339933;\">&lt;</span>mapping <span style=\"color: #000000; font-weight: bold;\">class</span><span style=\"color: #339933;\">=</span><span style=\"color: #0000ff;\">\"business.Student\"</span><span style=\"color: #339933;\">/&gt;</span>\n",
    "&nbsp;\n",
    "    <span style=\"color: #339933;\">&lt;/</span>session<span style=\"color: #339933;\">-</span>factory<span style=\"color: #339933;\">&gt;</span>\n",
    "&nbsp;\n",
    "<span style=\"color: #339933;\">&lt;/</span>hibernate<span style=\"color: #339933;\">-</span>configuration<span style=\"color: #339933;\">&gt;</span></pre>"
   ]
  },
  {
   "cell_type": "markdown",
   "id": "aeab94b6",
   "metadata": {},
   "source": [
    "<strong>HibernateUtil.java</strong>"
   ]
  },
  {
   "cell_type": "markdown",
   "id": "6ae16306",
   "metadata": {},
   "source": [
    "<pre class=\"java\" style=\"font-family:monospace;\"><span style=\"color: #000000; font-weight: bold;\">import</span> <span style=\"color: #006699;\">org.hibernate.SessionFactory</span><span style=\"color: #339933;\">;</span>\n",
    "<span style=\"color: #000000; font-weight: bold;\">import</span> <span style=\"color: #006699;\">org.hibernate.cfg.Configuration</span><span style=\"color: #339933;\">;</span>\n",
    "&nbsp;\n",
    "<span style=\"color: #000000; font-weight: bold;\">public</span> <span style=\"color: #000000; font-weight: bold;\">class</span> HibernateUtil <span style=\"color: #009900;\">{</span>\n",
    "    <span style=\"color: #000000; font-weight: bold;\">private</span> <span style=\"color: #000000; font-weight: bold;\">static</span> <span style=\"color: #000000; font-weight: bold;\">final</span> SessionFactory sessionFactory <span style=\"color: #339933;\">=</span> \n",
    "                                             buildSessionFactory<span style=\"color: #009900;\">(</span><span style=\"color: #009900;\">)</span><span style=\"color: #339933;\">;</span>\n",
    "&nbsp;\n",
    "    <span style=\"color: #000000; font-weight: bold;\">private</span> <span style=\"color: #000000; font-weight: bold;\">static</span> SessionFactory buildSessionFactory<span style=\"color: #009900;\">(</span><span style=\"color: #009900;\">)</span> <span style=\"color: #009900;\">{</span>\n",
    "    \tSessionFactory sessionFactory <span style=\"color: #339933;\">=</span> <span style=\"color: #000066; font-weight: bold;\">null</span><span style=\"color: #339933;\">;</span>\n",
    "        <span style=\"color: #000000; font-weight: bold;\">try</span> <span style=\"color: #009900;\">{</span>\n",
    "        \t<span style=\"color: #666666; font-style: italic;\">//Create the session factory object.</span>\n",
    "        \t<span style=\"color: #000000; font-weight: bold;\">return</span> <span style=\"color: #000000; font-weight: bold;\">new</span> AnnotationConfiguration<span style=\"color: #009900;\">(</span><span style=\"color: #009900;\">)</span>.<span style=\"color: #006633;\">configure</span><span style=\"color: #009900;\">(</span><span style=\"color: #009900;\">)</span>\n",
    "        \t.<span style=\"color: #006633;\">buildSessionFactory</span><span style=\"color: #009900;\">(</span><span style=\"color: #009900;\">)</span><span style=\"color: #339933;\">;</span> \n",
    "        <span style=\"color: #009900;\">}</span>\n",
    "        <span style=\"color: #000000; font-weight: bold;\">catch</span> <span style=\"color: #009900;\">(</span><span style=\"color: #003399;\">Exception</span> e<span style=\"color: #009900;\">)</span> <span style=\"color: #009900;\">{</span>\n",
    "           e.<span style=\"color: #006633;\">printStackTrace</span><span style=\"color: #009900;\">(</span><span style=\"color: #009900;\">)</span><span style=\"color: #339933;\">;</span>\n",
    "        <span style=\"color: #009900;\">}</span>\n",
    "        <span style=\"color: #000000; font-weight: bold;\">return</span> sessionFactory<span style=\"color: #339933;\">;</span>\n",
    "    <span style=\"color: #009900;\">}</span>\n",
    "&nbsp;\n",
    "    <span style=\"color: #000000; font-weight: bold;\">public</span> <span style=\"color: #000000; font-weight: bold;\">static</span> SessionFactory getSessionFactory<span style=\"color: #009900;\">(</span><span style=\"color: #009900;\">)</span> <span style=\"color: #009900;\">{</span>\n",
    "        <span style=\"color: #000000; font-weight: bold;\">return</span> sessionFactory<span style=\"color: #339933;\">;</span>\n",
    "    <span style=\"color: #009900;\">}</span>\n",
    "&nbsp;\n",
    "<span style=\"color: #009900;\">}</span></pre>"
   ]
  },
  {
   "cell_type": "markdown",
   "id": "bc1392d7",
   "metadata": {},
   "source": [
    "<strong>HibernateTest.java</strong>"
   ]
  },
  {
   "cell_type": "markdown",
   "id": "1655d6e0",
   "metadata": {},
   "source": [
    "<pre class=\"java\" style=\"font-family:monospace;\"><span style=\"color: #000000; font-weight: bold;\">import</span> <span style=\"color: #006699;\">org.hibernate.HibernateException</span><span style=\"color: #339933;\">;</span>\n",
    "<span style=\"color: #000000; font-weight: bold;\">import</span> <span style=\"color: #006699;\">org.hibernate.Session</span><span style=\"color: #339933;\">;</span>\n",
    "<span style=\"color: #000000; font-weight: bold;\">import</span> <span style=\"color: #006699;\">org.hibernate.Transaction</span><span style=\"color: #339933;\">;</span>\n",
    "<span style=\"color: #000000; font-weight: bold;\">import</span> <span style=\"color: #006699;\">persistence.HibernateUtil</span><span style=\"color: #339933;\">;</span>\n",
    "&nbsp;\n",
    "<span style=\"color: #000000; font-weight: bold;\">public</span> <span style=\"color: #000000; font-weight: bold;\">class</span> HibernateTest <span style=\"color: #009900;\">{</span>\n",
    "\t<span style=\"color: #000000; font-weight: bold;\">public</span> <span style=\"color: #000000; font-weight: bold;\">static</span> <span style=\"color: #000066; font-weight: bold;\">void</span> main<span style=\"color: #009900;\">(</span><span style=\"color: #003399;\">String</span> args<span style=\"color: #009900;\">[</span><span style=\"color: #009900;\">]</span><span style=\"color: #009900;\">)</span><span style=\"color: #009900;\">{</span>\n",
    "\t<span style=\"color: #666666; font-style: italic;\">//Create the student object.</span>\n",
    "\tStudent student <span style=\"color: #339933;\">=</span> <span style=\"color: #000000; font-weight: bold;\">new</span> Student<span style=\"color: #009900;\">(</span><span style=\"color: #009900;\">)</span><span style=\"color: #339933;\">;</span>\n",
    "&nbsp;\n",
    "\t<span style=\"color: #666666; font-style: italic;\">//Setting the object properties.</span>\n",
    "\tstudent.<span style=\"color: #006633;\">setFirstName</span><span style=\"color: #009900;\">(</span><span style=\"color: #0000ff;\">\"Vivek\"</span><span style=\"color: #009900;\">)</span><span style=\"color: #339933;\">;</span>\n",
    "\tstudent.<span style=\"color: #006633;\">setLastName</span><span style=\"color: #009900;\">(</span><span style=\"color: #0000ff;\">\"Solenki\"</span><span style=\"color: #009900;\">)</span><span style=\"color: #339933;\">;</span>\n",
    "\tstudent.<span style=\"color: #006633;\">setClassName</span><span style=\"color: #009900;\">(</span><span style=\"color: #0000ff;\">\"MCA final\"</span><span style=\"color: #009900;\">)</span><span style=\"color: #339933;\">;</span>\n",
    "\tstudent.<span style=\"color: #006633;\">setRollNo</span><span style=\"color: #009900;\">(</span><span style=\"color: #0000ff;\">\"MCA/07/70\"</span><span style=\"color: #009900;\">)</span><span style=\"color: #339933;\">;</span>\n",
    "\tstudent.<span style=\"color: #006633;\">setAge</span><span style=\"color: #009900;\">(</span><span style=\"color: #cc66cc;\">27</span><span style=\"color: #009900;\">)</span><span style=\"color: #339933;\">;</span>\n",
    "&nbsp;\n",
    "\tTransaction tx <span style=\"color: #339933;\">=</span> <span style=\"color: #000066; font-weight: bold;\">null</span><span style=\"color: #339933;\">;</span>\n",
    "\t<span style=\"color: #666666; font-style: italic;\">//Get the session object.</span>\n",
    "\tSession session <span style=\"color: #339933;\">=</span> \n",
    "                      HibernateUtil.<span style=\"color: #006633;\">getSessionFactory</span><span style=\"color: #009900;\">(</span><span style=\"color: #009900;\">)</span>.<span style=\"color: #006633;\">openSession</span><span style=\"color: #009900;\">(</span><span style=\"color: #009900;\">)</span><span style=\"color: #339933;\">;</span>\n",
    "\t<span style=\"color: #000000; font-weight: bold;\">try</span><span style=\"color: #009900;\">{</span>\n",
    "              <span style=\"color: #666666; font-style: italic;\">//Start hibernate session.</span>\n",
    "\t      tx <span style=\"color: #339933;\">=</span> session.<span style=\"color: #006633;\">beginTransaction</span><span style=\"color: #009900;\">(</span><span style=\"color: #009900;\">)</span><span style=\"color: #339933;\">;</span>\n",
    "&nbsp;\n",
    "              <span style=\"color: #666666; font-style: italic;\">//Insert a new student record in the database.</span>\n",
    "\t      session.<span style=\"color: #006633;\">save</span><span style=\"color: #009900;\">(</span>student<span style=\"color: #009900;\">)</span><span style=\"color: #339933;\">;</span> \n",
    "&nbsp;\n",
    "              <span style=\"color: #666666; font-style: italic;\">//Commit hibernate transaction if no exception occurs.</span>\n",
    "\t      tx.<span style=\"color: #006633;\">commit</span><span style=\"color: #009900;\">(</span><span style=\"color: #009900;\">)</span><span style=\"color: #339933;\">;</span>\n",
    "              <span style=\"color: #003399;\">System</span>.<span style=\"color: #006633;\">out</span>.<span style=\"color: #006633;\">println</span><span style=\"color: #009900;\">(</span><span style=\"color: #0000ff;\">\"Saved Successfully.\"</span><span style=\"color: #009900;\">)</span><span style=\"color: #339933;\">;</span>\n",
    "\t  <span style=\"color: #009900;\">}</span><span style=\"color: #000000; font-weight: bold;\">catch</span> <span style=\"color: #009900;\">(</span>HibernateException e<span style=\"color: #009900;\">)</span> <span style=\"color: #009900;\">{</span>\n",
    "\t     <span style=\"color: #000000; font-weight: bold;\">if</span><span style=\"color: #009900;\">(</span>tx<span style=\"color: #339933;\">!=</span><span style=\"color: #000066; font-weight: bold;\">null</span><span style=\"color: #009900;\">)</span><span style=\"color: #009900;\">{</span>\n",
    "                 <span style=\"color: #666666; font-style: italic;\">//Roll back if any exception occurs. </span>\n",
    "\t         tx.<span style=\"color: #006633;\">rollback</span><span style=\"color: #009900;\">(</span><span style=\"color: #009900;\">)</span><span style=\"color: #339933;\">;</span>\n",
    "\t     <span style=\"color: #009900;\">}</span>\n",
    "\t     e.<span style=\"color: #006633;\">printStackTrace</span><span style=\"color: #009900;\">(</span><span style=\"color: #009900;\">)</span><span style=\"color: #339933;\">;</span> \n",
    "\t  <span style=\"color: #009900;\">}</span><span style=\"color: #000000; font-weight: bold;\">finally</span> <span style=\"color: #009900;\">{</span>\n",
    "             <span style=\"color: #666666; font-style: italic;\">//Close hibernate session.</span>\n",
    "\t     session.<span style=\"color: #006633;\">close</span><span style=\"color: #009900;\">(</span><span style=\"color: #009900;\">)</span><span style=\"color: #339933;\">;</span> \n",
    "\t  <span style=\"color: #009900;\">}</span>\n",
    "\t<span style=\"color: #009900;\">}</span>\n",
    "<span style=\"color: #009900;\">}</span></pre>"
   ]
  },
  {
   "cell_type": "markdown",
   "id": "9a247832",
   "metadata": {},
   "source": [
    "<h2>Output:</h2>"
   ]
  },
  {
   "cell_type": "markdown",
   "id": "e40fa585",
   "metadata": {},
   "source": [
    "<pre class=\"java\" style=\"font-family:monospace;\">Hibernate<span style=\"color: #339933;\">:</span> select hibernate_sequence.<span style=\"color: #006633;\">nextval</span> from dual\n",
    "Hibernate<span style=\"color: #339933;\">:</span> insert into Student <span style=\"color: #009900;\">(</span>First_Name, Last_Name, <span style=\"color: #000000; font-weight: bold;\">Class</span>, \n",
    "RollNo, Age, Student_Id<span style=\"color: #009900;\">)</span> values <span style=\"color: #009900;\">(</span><span style=\"color: #339933;\">?</span>, <span style=\"color: #339933;\">?</span>, <span style=\"color: #339933;\">?</span>, <span style=\"color: #339933;\">?</span>, <span style=\"color: #339933;\">?</span>, <span style=\"color: #339933;\">?</span><span style=\"color: #009900;\">)</span>\n",
    "Saved Successfully.</pre>"
   ]
  }
 ],
 "metadata": {
  "kernelspec": {
   "display_name": "Java",
   "language": "java",
   "name": "java"
  },
  "language_info": {
   "codemirror_mode": "text/x-java",
   "file_extension": ".java",
   "mimetype": "",
   "name": "Java",
   "nbconverter_exporter": "",
   "version": "1.8.0_121"
  },
  "toc": {
   "base_numbering": 1,
   "nav_menu": {},
   "number_sections": false,
   "sideBar": false,
   "skip_h1_title": false,
   "title_cell": "Table of Contents",
   "title_sidebar": "Contents",
   "toc_cell": false,
   "toc_position": {},
   "toc_section_display": false,
   "toc_window_display": false
  }
 },
 "nbformat": 4,
 "nbformat_minor": 5
}
