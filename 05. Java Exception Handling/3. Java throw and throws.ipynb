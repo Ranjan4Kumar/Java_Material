{
 "cells": [
  {
   "cell_type": "markdown",
   "id": "053357b8",
   "metadata": {},
   "source": [
    " <h1>Java throw and throws</h1>"
   ]
  },
  {
   "cell_type": "markdown",
   "id": "a0370ecd",
   "metadata": {},
   "source": [
    "><p id=\"introduction\">In Java, exceptions can be categorized into two types:</p>\n",
    "><ul><li><strong>Unchecked Exceptions:</strong> They are not checked at compile-time but at run-time.For example: <code>ArithmeticException</code>, <code>NullPointerException</code>, <code>ArrayIndexOutOfBoundsException</code>, exceptions under <code>Error</code> class, etc.</li>\n",
    "\t<li><strong>Checked Exceptions:</strong> They are checked at compile-time. For example, <code>IOException</code>, <code>InterruptedException</code>, etc.</li>\n",
    "</ul>\n"
   ]
  },
  {
   "cell_type": "markdown",
   "id": "eeaa48b6",
   "metadata": {},
   "source": [
    "><p>Usually, we don't need to handle unchecked exceptions. It's because unchecked exceptions occur due to programming errors. And, it is a good practice to correct them instead of handling them.</p>\n",
    "><p>This tutorial will now focus on how to handle checked exceptions using <code>throw</code> and <code>throws</code>.</p>"
   ]
  },
  {
   "cell_type": "markdown",
   "id": "fa3b214d",
   "metadata": {},
   "source": [
    "<h2 id=\"throws\">Java throws keyword</h2>"
   ]
  },
  {
   "cell_type": "markdown",
   "id": "75e60119",
   "metadata": {},
   "source": [
    "><p>We use the <code>throws</code> keyword in the method declaration to declare the type of exceptions that might occur within it.</p>\n",
    "><p>Its syntax is:</p>\n",
    "><pre>\n",
    "<code>accessModifier returnType methodName() throws ExceptionType1, ExceptionType2 … {\n",
    "  // code\n",
    "}\n",
    "</code></pre>\n",
    "><p>As you can see from the above syntax, we can use <code>throws</code> to declare multiple exceptions.</p>"
   ]
  },
  {
   "cell_type": "markdown",
   "id": "2f5e4cdd",
   "metadata": {},
   "source": [
    "<h3>Example 1: Java throws Keyword</h3>"
   ]
  },
  {
   "cell_type": "code",
   "execution_count": 1,
   "id": "b6e52200",
   "metadata": {},
   "outputs": [
    {
     "data": {
      "text/plain": [
       "com.twosigma.beaker.javash.bkrc6e1ad48.Main"
      ]
     },
     "execution_count": 1,
     "metadata": {},
     "output_type": "execute_result"
    }
   ],
   "source": [
    "import java.io.*;\n",
    "class Main {\n",
    "  public static void findFile() throws IOException {\n",
    "    // code that may produce IOException\n",
    "    File newFile=new File(\"test.txt\");\n",
    "    FileInputStream stream=new FileInputStream(newFile);\n",
    "  }\n",
    "\n",
    "  public static void main(String[] args) {\n",
    "    try{\n",
    "      findFile();\n",
    "    } catch(IOException e){\n",
    "      System.out.println(e);\n",
    "    }\n",
    "  }\n",
    "}\n"
   ]
  },
  {
   "cell_type": "markdown",
   "id": "aac3aad1",
   "metadata": {},
   "source": [
    "><p><strong>Output</strong></p>\n",
    "><pre>\n",
    "<samp>java.io.FileNotFoundException: test.txt (No such file or directory)\n",
    "</samp></pre>\n",
    "\n"
   ]
  },
  {
   "cell_type": "markdown",
   "id": "0e10f50b",
   "metadata": {},
   "source": [
    "><p>When we run this program, if the file <code>test.txt</code> does not exist, <code>FileInputStream</code> throws a <code>FileNotFoundException</code> which extends the <code>IOException</code> class.</p>\n",
    "><p>If a method does not handle exceptions, the type of exceptions that may occur within it must be specified in the <code>throws</code> clause so that methods further up in the call stack can handle them or specify them using <code>throws</code> keyword themselves.</p>\n",
    "><p>The <code>findFile()</code> method specifies that an <code>IOException</code> can be thrown. The <code>main()</code> method calls this method and handles the exception if it is thrown.</p>"
   ]
  },
  {
   "cell_type": "markdown",
   "id": "7f67a9c8",
   "metadata": {},
   "source": [
    "<h3 id=\"multiple-exceptions\">Throwing multiple exceptions</h3>"
   ]
  },
  {
   "cell_type": "markdown",
   "id": "f3727d2f",
   "metadata": {},
   "source": [
    "><p>Here's how we can throw multiple exceptions using the <code>throws</code> keyword.</p>\n",
    "><pre>\n",
    "<code>import java.io.*;\n",
    "class Main {\n",
    "  public static void findFile() throws NullPointerException, IOException, InvalidClassException {\n",
    "    // code that may produce NullPointerException\n",
    "    … … … \n",
    "    // code that may produce IOException\n",
    "    … … … \n",
    "    // code that may produce InvalidClassException \n",
    "    … … … \n",
    "  }\n",
    "  public static void main(String[] args) {\n",
    "    try{\n",
    "      findFile();\n",
    "    } catch(IOException e1){\n",
    "      System.out.println(e1.getMessage());\n",
    "    } catch(InvalidClassException e2){\n",
    "      System.out.println(e2.getMessage());\n",
    "    }\n",
    "  }\n",
    "}\n",
    "</code></pre>\n",
    "><p>Here, the <code>findFile()</code> method specifies that it can throw <code>NullPointerException</code>, <code>IOException</code>, and <code>InvalidClassException</code> in its <code>throws</code> clause.</p>\n",
    "><p>Note that we have not handled the <code>NullPointerException</code>. This is because it is an unchecked exception. It is not necessary to specify it in the <code>throws</code> clause and handle it.</p>\n"
   ]
  },
  {
   "cell_type": "markdown",
   "id": "8daf9e4c",
   "metadata": {},
   "source": [
    "<h3 id=\"versus-try-catch\">throws keyword Vs. try...catch...finally</h3>\n"
   ]
  },
  {
   "cell_type": "markdown",
   "id": "422fca46",
   "metadata": {},
   "source": [
    "><p>There might be several methods that can cause exceptions. Writing <code>try...catch</code> for each method will be tedious and code becomes long and less-readable.</p>\n",
    "><p><code>throws</code> is also useful when you have checked exception (an exception that must be handled) that you don't want to catch in your current method.</p>\n",
    "\n"
   ]
  },
  {
   "cell_type": "markdown",
   "id": "5946580d",
   "metadata": {},
   "source": [
    "<h2 id=\"throw\">Java throw keyword</h2>\n"
   ]
  },
  {
   "cell_type": "markdown",
   "id": "070b8c6f",
   "metadata": {},
   "source": [
    "><p>The <code>throw</code> keyword is used to explicitly throw a single exception.</p>\n",
    "><p>When an exception is thrown, the flow of program execution transfers from the <code>try</code> block to the <code>catch</code> block. We use the <code>throw</code> keyword within a method.</p>\n",
    "><p>Its syntax is:</p>\n",
    "><pre>\n",
    "<code>throw throwableObject;</code></pre>\n",
    "><p>A throwable object is an instance of class <code>Throwable</code> or subclass of the <code>Throwable</code> class.</p>"
   ]
  },
  {
   "cell_type": "markdown",
   "id": "49fb821f",
   "metadata": {},
   "source": [
    "<h3>Example 2: Java throw keyword</h3>"
   ]
  },
  {
   "cell_type": "code",
   "execution_count": 2,
   "id": "fd23c0ba",
   "metadata": {},
   "outputs": [
    {
     "data": {
      "text/plain": [
       "com.twosigma.beaker.javash.bkrc6e1ad48.Main"
      ]
     },
     "execution_count": 2,
     "metadata": {},
     "output_type": "execute_result"
    }
   ],
   "source": [
    "class Main {\n",
    "  public static void divideByZero() {\n",
    "    throw new ArithmeticException(\"Trying to divide by 0\");\n",
    "  }\n",
    "\n",
    "  public static void main(String[] args) {\n",
    "    divideByZero();\n",
    "  }\n",
    "}\n",
    "\n"
   ]
  },
  {
   "cell_type": "markdown",
   "id": "8fc88906",
   "metadata": {},
   "source": [
    "><p><strong>Output</strong></p>\n",
    "><pre>\n",
    "<samp>Exception in thread \"main\" java.lang.ArithmeticException: Trying to divide by 0\n",
    "    at Main.divideByZero(Main.java:3)\n",
    "    at Main.main(Main.java:7)\n",
    "exit status 1\n",
    "</samp></pre>\n",
    "><p>In this example, we are explicitly throwing an <code>ArithmeticException. </code></p>\n",
    "><p><strong>Note:</strong> <code>ArithmeticException</code> is an unchecked exception. It's usually not necessary to handle unchecked exceptions.</p>\n"
   ]
  }
 ],
 "metadata": {
  "kernelspec": {
   "display_name": "Java",
   "language": "java",
   "name": "java"
  },
  "language_info": {
   "codemirror_mode": "text/x-java",
   "file_extension": ".java",
   "mimetype": "",
   "name": "Java",
   "nbconverter_exporter": "",
   "version": "1.8.0_121"
  },
  "toc": {
   "base_numbering": 1,
   "nav_menu": {},
   "number_sections": false,
   "sideBar": false,
   "skip_h1_title": false,
   "title_cell": "Table of Contents",
   "title_sidebar": "Contents",
   "toc_cell": false,
   "toc_position": {},
   "toc_section_display": false,
   "toc_window_display": false
  }
 },
 "nbformat": 4,
 "nbformat_minor": 5
}
