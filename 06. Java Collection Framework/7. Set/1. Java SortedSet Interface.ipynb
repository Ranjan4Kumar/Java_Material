{
 "cells": [
  {
   "cell_type": "markdown",
   "id": "4c512fa8",
   "metadata": {},
   "source": [
    "<h1>Java SortedSet Interface</h1>"
   ]
  },
  {
   "cell_type": "markdown",
   "id": "382505d2",
   "metadata": {},
   "source": [
    "<p>The <code>SortedSet</code> interface of the Java Collections framework is used to store elements with some order in a set.</p>\n",
    "\n",
    "<p>It extends the Set interface</a>.</p>\n"
   ]
  },
  {
   "cell_type": "markdown",
   "id": "2c3cda76",
   "metadata": {},
   "source": [
    "<h2 id=\"classes\">Class that implements SortedSet</h2>\n",
    "\n",
    "<p>In order to use the functionalities of the <code>SortedSet</code> interface, we need to use the <code>TreeSet</code> class that implements it.</p>\n"
   ]
  },
  {
   "cell_type": "markdown",
   "id": "8edbd01c",
   "metadata": {},
   "source": [
    "<h2 id=\"use\">How to use SortedSet?</h2>\n",
    "\n",
    "<p>To use <code>SortedSet</code>, we must import the <code>java.util.SortedSet</code> package first.</p>\n",
    "\n",
    "<pre>\n",
    "<code>// SortedSet implementation by TreeSet class\n",
    "SortedSet&lt;String&gt; animals = new TreeSet&lt;&gt;();\n",
    "</code></pre>\n",
    "\n",
    "<p>We have created a sorted set called <var>animals</var> using the <code>TreeSet</code> class.</p>\n",
    "<p>Here we have used no arguments to create a sorted set. Hence the set will be sorted naturally.</p>\n"
   ]
  },
  {
   "cell_type": "markdown",
   "id": "d47f8755",
   "metadata": {},
   "source": [
    "<h2 id=\"methods\">Methods of SortedSet</h2>\n",
    "\n",
    "<p>The <code>SortedSet</code> interface includes all the methods of the <a href=\"/java-programming/set\" title=\"Java Set Interface\">Set interface</a>. It's because <code>Set</code> is a super interface of <code>SortedSet</code>.</p>\n",
    "\n",
    "<p>Besides methods included in the <code>Set</code> interface, the <code>SortedSet</code> interface also includes these methods:</p>\n",
    "\n",
    "<ul><li><strong>comparator()</strong> - returns a comparator that can be used to order elements in the set</li>\n",
    "\t<li><strong>first()</strong> - returns the first element of the set</li>\n",
    "\t<li><strong>last()</strong> - returns the last element of the set</li>\n",
    "\t<li><strong>headSet(element)</strong> - returns all the elements of the set before the specified element</li>\n",
    "\t<li><strong>tailSet(element)</strong> - returns all the elements of the set after the specified element including the specified element</li>\n",
    "\t<li><strong>subSet(element1, element2)</strong> - returns all the elements between the <var>element1</var> and <var>element2</var> including <var>element1</var></li>\n",
    "</ul>"
   ]
  }
 ],
 "metadata": {
  "kernelspec": {
   "display_name": "Java",
   "language": "java",
   "name": "java"
  },
  "language_info": {
   "codemirror_mode": "text/x-java",
   "file_extension": ".java",
   "mimetype": "",
   "name": "Java",
   "nbconverter_exporter": "",
   "version": "1.8.0_121"
  },
  "toc": {
   "base_numbering": 1,
   "nav_menu": {},
   "number_sections": false,
   "sideBar": false,
   "skip_h1_title": false,
   "title_cell": "Table of Contents",
   "title_sidebar": "Contents",
   "toc_cell": false,
   "toc_position": {},
   "toc_section_display": false,
   "toc_window_display": false
  }
 },
 "nbformat": 4,
 "nbformat_minor": 5
}
