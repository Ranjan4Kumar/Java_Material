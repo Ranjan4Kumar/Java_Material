{
 "cells": [
  {
   "cell_type": "markdown",
   "id": "a42198c8",
   "metadata": {},
   "source": [
    "<h1>Java TreeSet</h1>"
   ]
  },
  {
   "cell_type": "markdown",
   "id": "1f799994",
   "metadata": {},
   "source": [
    "<p>The <code>TreeSet</code> class of the Java collections framework provides the functionality of a tree data structure.</p>\n",
    "\n",
    "<p>It extends the NavigableSet interface</a>.</p>\n"
   ]
  },
  {
   "cell_type": "markdown",
   "id": "e1268aac",
   "metadata": {},
   "source": [
    "<h2 id=\"create\">Creating a TreeSet</h2>\n",
    "\n",
    "<p>In order to create a tree set, we must import the <code>java.util.TreeSet</code> package first.</p>\n",
    "\n",
    "<p>Once we import the package, here is how we can create a <code>TreeSet</code> in Java.</p>\n",
    "\n",
    "<pre>\n",
    "<code>\n",
    "TreeSet&lt;Integer&gt; numbers = new TreeSet&lt;&gt;();\n",
    "</code></pre>\n",
    "\n",
    "<p>Here, we have created a <code>TreeSet</code> without any arguments. In this case, the elements in <code>TreeSet</code> are sorted naturally (ascending order).</p>\n",
    "\n",
    "<p>However, we can customize the sorting of elements by using the <code>Comparator</code> interface. We will learn about it later in this tutorial.</p>\n",
    "\n",
    "<hr><h2>Methods of TreeSet</h2>\n",
    "\n",
    "<p>The <code>TreeSet</code> class provides various methods that allow us to perform various operations on the set.</p>\n",
    "\n",
    "<hr><h2 id=\"insert\">Insert Elements to TreeSet</h2>\n",
    "\n",
    "<ul><li><code>add()</code> - inserts the specified element to the set</li>\n",
    "\t<li><code>addAll()</code> - inserts all the elements of the specified collection to the set</li>\n",
    "</ul>"
   ]
  },
  {
   "cell_type": "markdown",
   "id": "b99d734b",
   "metadata": {},
   "source": [
    "<h2 id=\"access\">Access TreeSet Elements</h2>\n",
    "\n",
    "<p>To access the elements of a tree set, we can use the <code>iterator()</code> method. In order to use this method, we must import <code>java.util.Iterator</code> package.</p>\n"
   ]
  },
  {
   "cell_type": "markdown",
   "id": "59dbed94",
   "metadata": {},
   "source": [
    "<h2 id=\"remove\">Remove Elements</h2>\n",
    "\n",
    "<ul><li><code>remove()</code> - removes the specified element from the set</li>\n",
    "\t<li><code>removeAll()</code> - removes all the elements from the set</li>\n",
    "</ul>"
   ]
  },
  {
   "cell_type": "code",
   "execution_count": 4,
   "id": "297842cf",
   "metadata": {},
   "outputs": [
    {
     "data": {
      "text/plain": [
       "com.twosigma.beaker.javash.bkr45b7fdff.Main"
      ]
     },
     "execution_count": 4,
     "metadata": {},
     "output_type": "execute_result"
    }
   ],
   "source": [
    "import java.util.TreeSet;\n",
    "import java.util.Iterator;\n",
    "\n",
    "\n",
    "class Main {\n",
    "    public static void main(String[] args) {\n",
    "\n",
    "        TreeSet<Integer> evenNumbers = new TreeSet<>();\n",
    "\n",
    "        // Using the add() method\n",
    "        evenNumbers.add(2);\n",
    "        evenNumbers.add(4);\n",
    "        evenNumbers.add(6);\n",
    "        System.out.println(\"TreeSet: \" + evenNumbers);\n",
    "\n",
    "        TreeSet<Integer> numbers = new TreeSet<>();\n",
    "        numbers.add(1);\n",
    "\n",
    "        // Using the addAll() method\n",
    "        numbers.addAll(evenNumbers);\n",
    "        System.out.println(\"New TreeSet: \" + numbers);\n",
    "        \n",
    "        \n",
    "        // Calling iterator() method\n",
    "        Iterator<Integer> iterate = numbers.iterator();\n",
    "        System.out.print(\"TreeSet using Iterator: \");\n",
    "        // Accessing elements\n",
    "        while(iterate.hasNext()) {\n",
    "            System.out.print(iterate.next());\n",
    "            System.out.print(\", \");\n",
    "            \n",
    "             // Using the remove() method\n",
    "        boolean value1 = numbers.remove(5);\n",
    "        System.out.println(\"Is 5 removed? \" + value1);\n",
    "\n",
    "        // Using the removeAll() method\n",
    "        boolean value2 = numbers.removeAll(numbers);\n",
    "        System.out.println(\"Are all elements removed? \" + value2);\n",
    "    }\n",
    "    }\n",
    "}\n"
   ]
  },
  {
   "cell_type": "code",
   "execution_count": null,
   "id": "4353612b",
   "metadata": {},
   "outputs": [],
   "source": []
  }
 ],
 "metadata": {
  "kernelspec": {
   "display_name": "Java",
   "language": "java",
   "name": "java"
  },
  "language_info": {
   "codemirror_mode": "text/x-java",
   "file_extension": ".java",
   "mimetype": "",
   "name": "Java",
   "nbconverter_exporter": "",
   "version": "1.8.0_121"
  },
  "toc": {
   "base_numbering": 1,
   "nav_menu": {},
   "number_sections": false,
   "sideBar": false,
   "skip_h1_title": false,
   "title_cell": "Table of Contents",
   "title_sidebar": "Contents",
   "toc_cell": false,
   "toc_position": {},
   "toc_section_display": false,
   "toc_window_display": false
  }
 },
 "nbformat": 4,
 "nbformat_minor": 5
}
