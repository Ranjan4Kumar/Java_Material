{
 "cells": [
  {
   "cell_type": "markdown",
   "id": "1ba3eb7b",
   "metadata": {},
   "source": [
    "<h1>Java Set Interface</h1>"
   ]
  },
  {
   "cell_type": "markdown",
   "id": "237d78e2",
   "metadata": {},
   "source": [
    "><p>The <code>Set</code> interface of the Java <code>Collections</code> framework provides the features of the mathematical set in Java. It extends the <code>Collection</code> interface.</p>\n",
    "><p>Unlike the <code>List</code> interface, sets cannot contain duplicate elements.</p>\n",
    "\n",
    "<h2 id=\"classes\">Classes that implement Set</h2>\n",
    "\n",
    "><p>Since <code>Set</code> is an interface, we cannot create objects from it.</p>\n",
    "><p>In order to use functionalities of the <code>Set</code> interface, we can use these classes:</p>\n",
    "><ul><li>HashSet</a></li>\n",
    "\t<li>LinkedHashSet</a></li>\n",
    "\t<li>EnumSet</a></li>\n",
    "\t<li>TreeSet</a></li>\n",
    "</ul>\n",
    "\n"
   ]
  },
  {
   "cell_type": "markdown",
   "id": "04657a33",
   "metadata": {},
   "source": [
    "><p>These classes are defined in the <code>Collections</code> framework and implement the <code>Set</code> interface.</p>"
   ]
  },
  {
   "cell_type": "markdown",
   "id": "75df3f99",
   "metadata": {},
   "source": [
    "<h2 id=\"interfaces\">Interfaces that extend Set</h2>\n",
    "\n",
    "><p>The <code>Set</code> interface is also extended by these subinterfaces:</p>\n",
    "><ul><li>SortedSet</a></li>\n",
    "\t<li>NavigableSet</a></li>\n",
    "</ul><p>"
   ]
  },
  {
   "cell_type": "markdown",
   "id": "96c86d9c",
   "metadata": {},
   "source": [
    "<h2 id=\"use\">How to use Set?</h2>\n",
    "\n",
    "><p>In Java, we must import <code>java.util.Set</code> package in order to use <code>Set</code>.</p>\n",
    "><pre>\n",
    "<code>// Set implementation using HashSet\n",
    "Set&lt;String&gt; animals = new HashSet&lt;&gt;();\n",
    "</code></pre>\n",
    "><p>Here, we have created a <code>Set</code> called <var>animals</var>. We have used the <code>HashSet</code> class to implement the <code>Set</code> interface.</p>\n",
    "\n",
    "<h2 id=\"methods\">Methods of Set</h2>\n",
    "\n",
    "><p>The <code>Set</code> interface includes all the methods of the <code>Collection</code> interface. It's because <code>Collection</code> is a super interface of <code>Set</code>.</p>\n"
   ]
  },
  {
   "cell_type": "markdown",
   "id": "d89e1e74",
   "metadata": {},
   "source": [
    "><p>Some of the commonly used methods of the <code>Collection</code> interface that's also available in the <code>Set</code> interface are:</p>\n",
    "><ul><li><strong>add()</strong> - adds the specified element to the set</li>\n",
    "\t<li><strong>addAll()</strong> - adds all the elements of the specified collection to the set</li>\n",
    "\t<li><strong>iterator()</strong> - returns an iterator that can be used to access elements of the set sequentially</li>\n",
    "\t<li><strong>remove()</strong> - removes the specified element from the set</li>\n",
    "\t<li><strong>removeAll()</strong> - removes all the elements from the set that is present in another specified set</li>\n",
    "\t<li><strong>retainAll()</strong> - retains all the elements in the set that are also present in another specified set</li>\n",
    "\t<li><strong>clear()</strong> - removes all the elements from the set</li>\n",
    "\t<li><strong>size()</strong> - returns the length (number of elements) of the set</li>\n",
    "\t<li><strong>toArray()</strong> - returns an array containing all the elements of the set</li>\n",
    "\t<li><strong>contains()</strong> - returns <code>true</code> if the set contains the specified element</li>\n",
    "\t<li><strong>containsAll()</strong> - returns <code>true</code> if the set contains all the elements of the specified collection</li>\n",
    "\t<li><strong>hashCode()</strong> - returns a hash code value (address of the element in the set)</li>\n",
    "</ul>\n"
   ]
  }
 ],
 "metadata": {
  "kernelspec": {
   "display_name": "Java",
   "language": "java",
   "name": "java"
  },
  "language_info": {
   "codemirror_mode": "text/x-java",
   "file_extension": ".java",
   "mimetype": "",
   "name": "Java",
   "nbconverter_exporter": "",
   "version": "1.8.0_121"
  },
  "toc": {
   "base_numbering": 1,
   "nav_menu": {},
   "number_sections": false,
   "sideBar": false,
   "skip_h1_title": false,
   "title_cell": "Table of Contents",
   "title_sidebar": "Contents",
   "toc_cell": false,
   "toc_position": {},
   "toc_section_display": false,
   "toc_window_display": false
  }
 },
 "nbformat": 4,
 "nbformat_minor": 5
}
