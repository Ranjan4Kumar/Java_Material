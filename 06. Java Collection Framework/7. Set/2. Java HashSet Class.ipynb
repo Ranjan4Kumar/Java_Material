{
 "cells": [
  {
   "cell_type": "markdown",
   "id": "e53d8e6f",
   "metadata": {},
   "source": [
    "<h1>Java HashSet Class</h1>"
   ]
  },
  {
   "cell_type": "markdown",
   "id": "3a84050d",
   "metadata": {},
   "source": [
    "><p>The <code>HashSet</code> class of the Java Collections framework provides the functionalities of the hash table data structure.</p>\n",
    "><p>It implements the Set interface</a>.</p>\n"
   ]
  },
  {
   "cell_type": "markdown",
   "id": "ecf47013",
   "metadata": {},
   "source": [
    "<h2 id=\"create\">Creating a HashSet</h2>\n",
    "\n",
    "><p>In order to create a hash set, we must import the <code>java.util.HashSet</code> package first.</p>\n",
    "><p>Once we import the package, here is how we can create hash sets in Java.</p>\n",
    "><pre>\n",
    "<code>// HashSet with 8 capacity and 0.75 load factor\n",
    "HashSet&lt;Integer&gt; numbers = new HashSet&lt;&gt;(8, 0.75);\n",
    "</code></pre>\n",
    "><p>Here, we have created a hash set named <code>numbers</code>.</p>\n",
    "><p>Notice, the part new <code>HashSet&lt;&gt;(8, 0.75)</code>. Here, the first parameter is <strong>capacity</strong>, and the second parameter is <strong>loadFactor</strong>.</p>\n",
    "><ul><li><strong>capacity</strong> - The capacity of this hash set is 8. Meaning, it can store 8 elements.</li>\n",
    "\t<li><strong>loadFactor</strong> - The load factor of this hash set is 0.6. This means, whenever our hash set is filled by 60%, the elements are moved to a new hash table of double the size of the original hash table.</li>\n",
    "</ul>\n"
   ]
  },
  {
   "cell_type": "markdown",
   "id": "8dd69560",
   "metadata": {},
   "source": [
    "><p><strong>Default capacity and load factor</strong></p>\n",
    "><p>It's possible to create a hash table without defining its capacity and load factor. For example,</p>\n",
    "><pre>\n",
    "<code>// HashSet with default capacity and load factor\n",
    "HashSet&lt;Integer&gt; numbers1 = new HashSet&lt;&gt;();\n",
    "</code></pre>\n",
    "><p>By default,</p>\n",
    "><ul><li>the capacity of the hash set will be 16</li>\n",
    "\t<li>the load factor will be 0.75</li>\n",
    "</ul>"
   ]
  },
  {
   "cell_type": "markdown",
   "id": "82609c1b",
   "metadata": {},
   "source": [
    "<h2>Methods of HashSet</h2>\n",
    "\n",
    "><p>The <code>HashSet</code> class provides various methods that allow us to perform various operations on the set.</p>\n",
    "\n",
    "<h2 id=\"insert\">Insert Elements to HashSet</h2>\n",
    "\n",
    "><ul><li><code>add()</code> - inserts the specified element to the set</li>\n",
    "\t<li><code>addAll()</code> - inserts all the elements of the specified collection to the set</li>\n",
    "</ul>"
   ]
  },
  {
   "cell_type": "markdown",
   "id": "1f706630",
   "metadata": {},
   "source": [
    "<h2 id=\"access\">Access HashSet Elements</h2>\n",
    "\n",
    "><p>To access the elements of a hash set, we can use the <code>iterator()</code> method. In order to use this method, we must import the <code>java.util.Iterator</code> package. For example,</p>\n"
   ]
  },
  {
   "cell_type": "markdown",
   "id": "e8648c00",
   "metadata": {},
   "source": [
    "<h2 id=\"remove\">Remove Elements</h2>\n",
    "\n",
    "><ul><li><code>remove()</code> - removes the specified element from the set</li>\n",
    "\t<li><code>removeAll()</code> - removes all the elements from the set</li>\n",
    "</ul>"
   ]
  }
 ],
 "metadata": {
  "kernelspec": {
   "display_name": "Java",
   "language": "java",
   "name": "java"
  },
  "language_info": {
   "codemirror_mode": "text/x-java",
   "file_extension": ".java",
   "mimetype": "",
   "name": "Java",
   "nbconverter_exporter": "",
   "version": "1.8.0_121"
  },
  "toc": {
   "base_numbering": 1,
   "nav_menu": {},
   "number_sections": false,
   "sideBar": false,
   "skip_h1_title": false,
   "title_cell": "Table of Contents",
   "title_sidebar": "Contents",
   "toc_cell": false,
   "toc_position": {},
   "toc_section_display": false,
   "toc_window_display": false
  }
 },
 "nbformat": 4,
 "nbformat_minor": 5
}
