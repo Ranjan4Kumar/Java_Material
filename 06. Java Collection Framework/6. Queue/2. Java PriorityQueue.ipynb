{
 "cells": [
  {
   "cell_type": "markdown",
   "id": "16d721b5",
   "metadata": {},
   "source": [
    "<h1>Java PriorityQueue</h1>"
   ]
  },
  {
   "cell_type": "markdown",
   "id": "dd152afe",
   "metadata": {},
   "source": [
    "><p>The <code>PriorityQueue</code> class provides the functionality of the heap data structure.</p>\n",
    "><p>It implements the Queue interface.</p>\n"
   ]
  },
  {
   "cell_type": "markdown",
   "id": "4bb03238",
   "metadata": {},
   "source": [
    "><p>Unlike normal queues, priority queue elements are retrieved in sorted order.</p>\n",
    "><p>Suppose, we want to retrieve elements in the ascending order. In this case, the head of the priority queue will be the smallest element. Once this element is retrieved, the next smallest element will be the head of the queue.</p>\n",
    "><p>It is important to note that the elements of a priority queue may not be sorted. However, elements are always retrieved in sorted order.</p>\n"
   ]
  },
  {
   "cell_type": "markdown",
   "id": "dd1df987",
   "metadata": {},
   "source": [
    "<h2 id=\"create\">Creating PriorityQueue</h2>\n",
    "\n",
    "><p>In order to create a priority queue, we must import the <code>java.util.PriorityQueue</code> package. Once we import the package, here is how we can create a priority queue in Java.</p>\n",
    "><pre>\n",
    "<code>PriorityQueue&lt;Integer&gt; numbers = new PriorityQueue&lt;&gt;();\n",
    "</code></pre>\n",
    "><p>Here, we have created a priority queue without any arguments. In this case, the head of the priority queue is the smallest element of the queue. And elements are removed in ascending order from the queue.</p>\n"
   ]
  },
  {
   "cell_type": "markdown",
   "id": "da472116",
   "metadata": {},
   "source": [
    "<h2>Methods of PriorityQueue</h2>\n",
    "\n",
    "><p>The <code>PriorityQueue</code> class provides the implementation of all the methods present in the <code>Queue</code> interface.</p>\n",
    "\n",
    "<hr><h2 id=\"insert\">Insert Elements to PriorityQueue</h2>\n",
    "\n",
    "><ul><li><code>add()</code> - Inserts the specified element to the queue. If the queue is full, it throws an exception.</li>\n",
    "\t<li><code>offer()</code> - Inserts the specified element to the queue. If the queue is full, it returns <code>false</code>.</li>\n",
    "</ul>"
   ]
  },
  {
   "cell_type": "markdown",
   "id": "347fc339",
   "metadata": {},
   "source": [
    "<h2 id=\"acess\">Access PriorityQueue Elements</h2>\n",
    "\n",
    "><p>To access elements from a priority queue, we can use the <code>peek()</code> method. This method returns the head of the queue.</p>\n"
   ]
  },
  {
   "cell_type": "markdown",
   "id": "fc2286ef",
   "metadata": {},
   "source": [
    "<h2 id=\"remove\">Remove PriorityQueue Elements</h2>\n",
    "\n",
    "><ul><li><code>remove()</code> - removes the specified element from the queue</li>\n",
    "\t<li><code>poll()</code> - returns and removes the head of the queue</li>\n",
    "</ul>"
   ]
  },
  {
   "cell_type": "markdown",
   "id": "2d2ea833",
   "metadata": {},
   "source": [
    "<h2 id=\"iterate\">Iterating Over a PriorityQueue</h2>\n",
    "\n",
    "><p>To iterate over the elements of a priority queue, we can use the <code>iterator()</code> method. In order to use this method, we must import the <code>java.util.Iterator</code> package.</p>\n"
   ]
  },
  {
   "cell_type": "markdown",
   "id": "f8fd25fe",
   "metadata": {},
   "source": [
    "<p><b> Example: Priority Queue Methods"
   ]
  },
  {
   "cell_type": "code",
   "execution_count": 3,
   "id": "6f0c7a3c",
   "metadata": {},
   "outputs": [
    {
     "data": {
      "text/plain": [
       "com.twosigma.beaker.javash.bkrec15ad4e.Main"
      ]
     },
     "execution_count": 3,
     "metadata": {},
     "output_type": "execute_result"
    }
   ],
   "source": [
    "import java.util.PriorityQueue;\n",
    "import java.util.Iterator;\n",
    "\n",
    "class Main {\n",
    "    public static void main(String[] args) {\n",
    "\n",
    "        // Creating a priority queue\n",
    "        PriorityQueue<Integer> numbers = new PriorityQueue<>();\n",
    "\n",
    "        // Using the add() method\n",
    "        numbers.add(4);\n",
    "        numbers.add(2);\n",
    "        System.out.println(\"PriorityQueue: \" + numbers);\n",
    "\n",
    "        // Using the offer() method\n",
    "        numbers.offer(1);\n",
    "        System.out.println(\"Updated PriorityQueue: \" + numbers);\n",
    "        \n",
    "        // Using the peek() method\n",
    "        int number = numbers.peek();\n",
    "        System.out.println(\"Accessed Element: \" + number);\n",
    "        \n",
    "         // Using the remove() method\n",
    "        boolean result = numbers.remove(2);\n",
    "        System.out.println(\"Is the element 2 removed? \" + result);\n",
    "\n",
    "        // Using the poll() method\n",
    "        int number1 = numbers.poll();\n",
    "        System.out.println(\"Removed Element Using poll(): \" + number1);\n",
    "        \n",
    "         //Using the iterator() method\n",
    "        Iterator<Integer> iterate = numbers.iterator();\n",
    "        while(iterate.hasNext()) {\n",
    "            System.out.print(iterate.next());\n",
    "            System.out.print(\", \");\n",
    "        }\n",
    "    }\n",
    "}\n"
   ]
  },
  {
   "cell_type": "markdown",
   "id": "cf448118",
   "metadata": {},
   "source": [
    "<h2>Other PriorityQueue Methods</h2>\n",
    "\n",
    "<table><tbody><tr><th>Methods</th>\n",
    "\t\t\t<th>Descriptions</th>\n",
    "\t\t</tr><tr><td><code>contains(element)</code></td>\n",
    "\t\t\t<td>Searches the priority queue for the specified element. If the element is found, it returns <code>true</code>, if not it returns <code>false</code>.</td>\n",
    "\t\t</tr><tr><td><code>size()</code></td>\n",
    "\t\t\t<td>Returns the length of the priority queue.</td>\n",
    "\t\t</tr><tr><td><code>toArray()</code></td>\n",
    "\t\t\t<td>Converts a priority queue to an array and returns it.</td>\n",
    "\t\t</tr></tbody></table>"
   ]
  },
  {
   "cell_type": "markdown",
   "id": "c9955892",
   "metadata": {},
   "source": [
    "<h2 id=\"comparator\">PriorityQueue Comparator</h2>\n",
    "\n",
    "><p>In all the examples above, priority queue elements are retrieved in the natural order (ascending order). However, we can customize this ordering.</p>\n",
    "><p>For this, we need to create our own comparator class that implements the <code>Comparator</code> interface. For example,</p>\n"
   ]
  },
  {
   "cell_type": "code",
   "execution_count": 4,
   "id": "9763e9e0",
   "metadata": {},
   "outputs": [
    {
     "data": {
      "text/plain": [
       "com.twosigma.beaker.javash.bkrec15ad4e.Main"
      ]
     },
     "execution_count": 4,
     "metadata": {},
     "output_type": "execute_result"
    }
   ],
   "source": [
    "import java.util.PriorityQueue;\n",
    "import java.util.Comparator;\n",
    "class Main {\n",
    "    public static void main(String[] args) {\n",
    "\n",
    "        // Creating a priority queue\n",
    "        PriorityQueue<Integer> numbers = new PriorityQueue<>(new CustomComparator());\n",
    "        numbers.add(4);\n",
    "        numbers.add(2);\n",
    "        numbers.add(1);\n",
    "        numbers.add(3);\n",
    "        System.out.print(\"PriorityQueue: \" + numbers);\n",
    "    }\n",
    "}\n",
    "\n",
    "class CustomComparator implements Comparator<Integer> {\n",
    "\n",
    "    @Override\n",
    "    public int compare(Integer number1, Integer number2) {\n",
    "        int value =  number1.compareTo(number2);\n",
    "        // elements are sorted in reverse order\n",
    "        if (value > 0) {\n",
    "            return -1;\n",
    "        }\n",
    "        else if (value < 0) {\n",
    "            return 1;\n",
    "        }\n",
    "        else {\n",
    "            return 0;\n",
    "        }\n",
    "    }\n",
    "}\n"
   ]
  },
  {
   "cell_type": "markdown",
   "id": "87c5696f",
   "metadata": {},
   "source": [
    "><p><strong>Output</strong></p>\n",
    "><pre>\n",
    "<samp>PriorityQueue: [4, 3, 1, 2]\n",
    "</samp></pre>\n",
    "><p>In the above example, we have created a priority queue passing <var>CustomComparator</var> class as an argument.</p>\n",
    "><p>The <var>CustomComparator</var> class implements the <code>Comparator</code> interface.</p>\n",
    "><p>We then override the <code>compare()</code> method. The method now causes the head of the element to be the largest number.</p>"
   ]
  }
 ],
 "metadata": {
  "kernelspec": {
   "display_name": "Java",
   "language": "java",
   "name": "java"
  },
  "language_info": {
   "codemirror_mode": "text/x-java",
   "file_extension": ".java",
   "mimetype": "",
   "name": "Java",
   "nbconverter_exporter": "",
   "version": "1.8.0_121"
  },
  "toc": {
   "base_numbering": 1,
   "nav_menu": {},
   "number_sections": false,
   "sideBar": false,
   "skip_h1_title": false,
   "title_cell": "Table of Contents",
   "title_sidebar": "Contents",
   "toc_cell": false,
   "toc_position": {},
   "toc_section_display": false,
   "toc_window_display": false
  }
 },
 "nbformat": 4,
 "nbformat_minor": 5
}
