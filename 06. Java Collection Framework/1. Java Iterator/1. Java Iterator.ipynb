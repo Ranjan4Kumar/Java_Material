{
 "cells": [
  {
   "cell_type": "markdown",
   "id": "71931db1",
   "metadata": {},
   "source": [
    "<h1>Java TreeMap</h1>"
   ]
  },
  {
   "cell_type": "markdown",
   "id": "08169d0f",
   "metadata": {},
   "source": [
    "<p>The <code>Iterator</code> interface of the Java collections framework allows us to access elements of a collection. It has a subinterface <code>ListIterator</code>.</p>"
   ]
  },
  {
   "cell_type": "markdown",
   "id": "5da12dd3",
   "metadata": {},
   "source": [
    "<p>All the Java collections include an <code>iterator()</code> method. This method returns an instance of iterator used to iterate over elements of collections.</p>"
   ]
  },
  {
   "cell_type": "markdown",
   "id": "91daf608",
   "metadata": {},
   "source": [
    "<h2 id=\"methods\">Methods of Iterator</h2>"
   ]
  },
  {
   "cell_type": "markdown",
   "id": "c36f7211",
   "metadata": {},
   "source": [
    "<p>The <code>Iterator</code> interface provides 4 methods that can be used to perform various operations on elements of collections.</p>"
   ]
  },
  {
   "cell_type": "markdown",
   "id": "8a061378",
   "metadata": {},
   "source": [
    "<ul><li><code>hasNext()</code> - returns <code>true</code> if there exists an element in the collection</li>\n",
    "\t<li><code>next()</code> - returns the next element of the collection</li>\n",
    "\t<li><code>remove()</code> - removes the last element returned by the <code>next()</code></li>\n",
    "\t<li><code>forEachRemaining()</code> - performs the specified action for each remaining element of the collection</li>\n",
    "</ul>"
   ]
  },
  {
   "cell_type": "markdown",
   "id": "abb72185",
   "metadata": {},
   "source": [
    "<h2 id=\"example\">Example: Implementation of Iterator</h2>"
   ]
  },
  {
   "cell_type": "markdown",
   "id": "9fc9a629",
   "metadata": {},
   "source": [
    "<p>In the example below, we have implemented the <code>hasNext()</code>, <code>next(),</code> <code>remove()</code> and <code>forEachRemining()</code> methods of the <code>Iterator</code> interface in an array list.</p>"
   ]
  },
  {
   "cell_type": "code",
   "execution_count": 3,
   "id": "761785a7",
   "metadata": {},
   "outputs": [
    {
     "data": {
      "text/plain": [
       "com.twosigma.beaker.javash.bkr35786ae2.Main"
      ]
     },
     "execution_count": 3,
     "metadata": {},
     "output_type": "execute_result"
    }
   ],
   "source": [
    "import java.util.ArrayList;\n",
    "import java.util.Iterator;\n",
    "\n",
    "class Main {\n",
    "    public static void main(String[] args) {\n",
    "        // Creating an ArrayList\n",
    "        ArrayList<Integer> numbers = new ArrayList<>();\n",
    "        numbers.add(1);\n",
    "        numbers.add(3);\n",
    "        numbers.add(2);\n",
    "        System.out.println(\"ArrayList: \" + numbers);\n",
    "\n",
    "        // Creating an instance of Iterator\n",
    "        Iterator<Integer> iterate = numbers.iterator();\n",
    "\n",
    "        // Using the next() method\n",
    "        int number = iterate.next();\n",
    "        System.out.println(\"Accessed Element: \" + number);\n",
    "\n",
    "        // Using the remove() method\n",
    "        iterate.remove();\n",
    "        System.out.println(\"Removed Element: \" + number);\n",
    "\n",
    "        System.out.print(\"Updated ArrayList: \");\n",
    "\n",
    "        // Using the hasNext() method\n",
    "        while(iterate.hasNext()) {\n",
    "            // Using the forEachRemaining() method\n",
    "            iterate.forEachRemaining((value) -> System.out.print(value + \", \"));\n",
    "        }\n",
    "    }\n",
    "}\n"
   ]
  },
  {
   "cell_type": "markdown",
   "id": "b8242723",
   "metadata": {},
   "source": [
    "<strong>Output</strong>"
   ]
  },
  {
   "cell_type": "markdown",
   "id": "de5e5a9a",
   "metadata": {},
   "source": [
    "<samp>ArrayList: [1, 3, 2]\n",
    "Acessed Element: 1\n",
    "Removed Element: 1\n",
    "Updated ArrayList: 3, 2,\n",
    "</samp>"
   ]
  },
  {
   "cell_type": "markdown",
   "id": "477ebf26",
   "metadata": {},
   "source": [
    "<p>In the above example, notice the statement:</p>"
   ]
  },
  {
   "cell_type": "markdown",
   "id": "38f5c84f",
   "metadata": {},
   "source": [
    "<p>Here, we have passed the lambda expression</a> as an argument of the <code>forEachRemaining()</code> method.</p>"
   ]
  },
  {
   "cell_type": "markdown",
   "id": "17bfedb3",
   "metadata": {},
   "source": [
    "<p>Now the method will print all the remaining elements of the array list.</p>"
   ]
  }
 ],
 "metadata": {
  "kernelspec": {
   "display_name": "Java",
   "language": "java",
   "name": "java"
  },
  "language_info": {
   "codemirror_mode": "text/x-java",
   "file_extension": ".java",
   "mimetype": "",
   "name": "Java",
   "nbconverter_exporter": "",
   "version": "1.8.0_121"
  },
  "toc": {
   "base_numbering": 1,
   "nav_menu": {},
   "number_sections": false,
   "sideBar": false,
   "skip_h1_title": false,
   "title_cell": "Table of Contents",
   "title_sidebar": "Contents",
   "toc_cell": false,
   "toc_position": {},
   "toc_section_display": false,
   "toc_window_display": false
  }
 },
 "nbformat": 4,
 "nbformat_minor": 5
}
