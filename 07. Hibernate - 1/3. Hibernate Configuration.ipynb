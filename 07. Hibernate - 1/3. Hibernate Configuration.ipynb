{
 "cells": [
  {
   "cell_type": "markdown",
   "id": "a3ae5328",
   "metadata": {},
   "source": [
    "<h1 class=\"entry-title\" itemprop=\"headline\">Hibernate configuration file</h1>"
   ]
  },
  {
   "cell_type": "markdown",
   "id": "ea024ca8",
   "metadata": {},
   "source": [
    "<p>As we discussed that hibernate works as an intermediate layer between java application and relational database. So hibernate needs some configuration setting related to the database and other parameters like mapping files. A hibernate configuration file contains all such information.</p>"
   ]
  },
  {
   "cell_type": "markdown",
   "id": "5307fae4",
   "metadata": {},
   "source": [
    "<h2>A hibernate configuration file mainly contains three types of information:</h2>"
   ]
  },
  {
   "cell_type": "markdown",
   "id": "cfebd578",
   "metadata": {},
   "source": [
    "<ol><li>Connection Properties related to the database.</li><li>Hibernate Properties related to hibernate behaviour.</li><li>Mapping files entries related to the mapping of a POJO class and a database table.</li></ol>"
   ]
  },
  {
   "cell_type": "markdown",
   "id": "43778ac9",
   "metadata": {},
   "source": [
    "<h2>How to create a hibernate configuration file?</h2>"
   ]
  },
  {
   "cell_type": "markdown",
   "id": "c87b7174",
   "metadata": {},
   "source": [
    "<p>We can create a hibernate configuration file either by using java properties file known as hibernate.properties or by using an xml file known as hibernate.cfg.xml. The hibernate.cfg.xml file is used mostly.<br> <strong><em>Note: No. of hibernate configuration files in an application is dependence upon the no. of database uses. No. of hibernate configuration files are equals to the no. of database uses.</em></strong></p>"
   ]
  },
  {
   "cell_type": "markdown",
   "id": "a196dbac",
   "metadata": {},
   "source": [
    "<h2>Syntax:</h2>"
   ]
  },
  {
   "cell_type": "markdown",
   "id": "bc76079d",
   "metadata": {},
   "source": [
    "<pre class=\"java\" style=\"font-family:monospace;\"><span style=\"color: #339933;\">&lt;</span>hibernate<span style=\"color: #339933;\">-</span>configuration<span style=\"color: #339933;\">&gt;</span>\n",
    " <span style=\"color: #339933;\">&lt;</span>session<span style=\"color: #339933;\">-</span>factory<span style=\"color: #339933;\">&gt;</span>\n",
    "&nbsp;\n",
    "  <span style=\"color: #666666; font-style: italic;\">// Connection Properties</span>\n",
    "  <span style=\"color: #339933;\">&lt;</span>property name<span style=\"color: #339933;\">=</span><span style=\"color: #0000ff;\">\"connection.driver_class\"</span><span style=\"color: #339933;\">&gt;</span>driverClassName<span style=\"color: #339933;\">&lt;/</span>property<span style=\"color: #339933;\">&gt;</span>\n",
    "  <span style=\"color: #339933;\">&lt;</span>property name<span style=\"color: #339933;\">=</span><span style=\"color: #0000ff;\">\"connection.url\"</span><span style=\"color: #339933;\">&gt;</span>jdbcConnectionURL<span style=\"color: #339933;\">&lt;/</span>property<span style=\"color: #339933;\">&gt;</span>\n",
    "  <span style=\"color: #339933;\">&lt;</span>property name<span style=\"color: #339933;\">=</span><span style=\"color: #0000ff;\">\"connection.user\"</span><span style=\"color: #339933;\">&gt;</span>databaseUsername<span style=\"color: #339933;\">&lt;/</span>property<span style=\"color: #339933;\">&gt;</span>\n",
    "  <span style=\"color: #339933;\">&lt;</span>property name<span style=\"color: #339933;\">=</span><span style=\"color: #0000ff;\">\"connection.password\"</span><span style=\"color: #339933;\">&gt;</span>databasePassword<span style=\"color: #339933;\">&lt;/</span>property<span style=\"color: #339933;\">&gt;</span>\n",
    "&nbsp;\n",
    "  <span style=\"color: #666666; font-style: italic;\">// Hibernate Properties</span>\n",
    "  <span style=\"color: #339933;\">&lt;</span>property name<span style=\"color: #339933;\">=</span><span style=\"color: #0000ff;\">\"show_sql\"</span><span style=\"color: #339933;\">&gt;</span><span style=\"color: #000066; font-weight: bold;\">true</span><span style=\"color: #339933;\">/</span>false<span style=\"color: #339933;\">&lt;/</span>property<span style=\"color: #339933;\">&gt;</span>\n",
    "  <span style=\"color: #339933;\">&lt;</span>property name<span style=\"color: #339933;\">=</span><span style=\"color: #0000ff;\">\"dialet\"</span><span style=\"color: #339933;\">&gt;</span>databaseDialetClass<span style=\"color: #339933;\">&lt;/</span>property<span style=\"color: #339933;\">&gt;</span>\n",
    "  <span style=\"color: #339933;\">&lt;</span>property name<span style=\"color: #339933;\">=</span><span style=\"color: #0000ff;\">\"hbm2ddl.auto\"</span><span style=\"color: #339933;\">&gt;</span>like create<span style=\"color: #339933;\">/</span>update<span style=\"color: #339933;\">&lt;/</span>property<span style=\"color: #339933;\">&gt;</span>\n",
    "&nbsp;\n",
    "  <span style=\"color: #666666; font-style: italic;\">// Mapping files entries</span>\n",
    "  <span style=\"color: #339933;\">&lt;</span>mapping resource<span style=\"color: #339933;\">=</span><span style=\"color: #0000ff;\">\"mappingFile1.xml\"</span> <span style=\"color: #339933;\">/&gt;</span>\n",
    "  <span style=\"color: #339933;\">&lt;</span>mapping resource<span style=\"color: #339933;\">=</span><span style=\"color: #0000ff;\">\"mappingFile2.xml\"</span> <span style=\"color: #339933;\">/&gt;</span>\n",
    "&nbsp;\n",
    " <span style=\"color: #339933;\">&lt;/</span>session<span style=\"color: #339933;\">-</span>factory<span style=\"color: #339933;\">&gt;</span>\n",
    "<span style=\"color: #339933;\">&lt;/</span>hibernate<span style=\"color: #339933;\">-</span>configuration<span style=\"color: #339933;\">&gt;</span></pre>"
   ]
  }
 ],
 "metadata": {
  "kernelspec": {
   "display_name": "Java",
   "language": "java",
   "name": "java"
  },
  "language_info": {
   "codemirror_mode": "text/x-java",
   "file_extension": ".java",
   "mimetype": "",
   "name": "Java",
   "nbconverter_exporter": "",
   "version": "1.8.0_121"
  },
  "toc": {
   "base_numbering": 1,
   "nav_menu": {},
   "number_sections": false,
   "sideBar": false,
   "skip_h1_title": false,
   "title_cell": "Table of Contents",
   "title_sidebar": "Contents",
   "toc_cell": false,
   "toc_position": {},
   "toc_section_display": false,
   "toc_window_display": false
  }
 },
 "nbformat": 4,
 "nbformat_minor": 5
}
